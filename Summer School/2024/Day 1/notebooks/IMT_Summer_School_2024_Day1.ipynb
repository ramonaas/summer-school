{
  "cells": [
    {
      "cell_type": "markdown",
      "metadata": {
        "id": "aozIDblJgRjb"
      },
      "source": [
        "<CENTER>\n",
        "<img src=\"../../../../media/summer_school_banner.png\"\n",
        "WIDTH=900 HEIGHT=450>\n",
        "</CENTER>"
      ]
    },
    {
      "cell_type": "markdown",
      "metadata": {
        "id": "UyF1-cXHgRjm"
      },
      "source": [
        "<CENTER>\n",
        "<p><font size=\"7\"><b>IMT Summer School 2024</b></font></p>\n",
        "<p><font size=\"5\">Dynamic resource allocation problems in communication networks</font></p>\n",
        "<p><font size=\"5\"><b>June 25-27: </b>Day 1 - <i>Resource allocation problems & Restless Bandit</i></font></p>\n",
        "</CENTER>\n",
        "\n",
        "**Usefull links:**\n",
        "\n",
        "- Summer school [website](https://sites.google.com/view/alexandre-reiffers/courses/dynamic-resource-allocation-problems-in-communication-networks).\n",
        "- Organized by the team of the [RAMONaaS project](https://sites.google.com/view/ramonaas/home) at IMT Atlantique in Brest, France.\n",
        "- GitHub [repository](https://github.com/ramonaas/summer-school)\n",
        "- Introduction to Numpy [here](https://github.com/brain-bzh/introduction-to-ai/blob/main/session1/lab/TP0.ipynb), and a more thorough overview [here](https://www.w3schools.com/python/numpy/default.asp).\n",
        "- Solve convex problems using the [CVXPY library](https://www.cvxpy.org/).\n",
        "\n",
        "\n",
        "<RIGHT>\n",
        "<div style=\"text-align: right\">\n",
        "<img\n",
        "src=\"https://www.imt-atlantique.fr/sites/default/files/Images/Ecole/charte-graphique/IMT_Atlantique_logo_RVB_Baseline_400x272.jpg\"\n",
        "width=\"100\" height=\"68\">\n",
        "</div>\n",
        "</RIGHT>\n",
        "\n",
        "----------------------------\n",
        "----------------------------"
      ]
    },
    {
      "cell_type": "markdown",
      "metadata": {
        "id": "XJ3vFRHLgRjn"
      },
      "source": [
        "# Introduction\n",
        "\n",
        "In this lab session, we will explore how to model resource allocation problems in communication networks using Markov Chains. We will also delve into the concept of Restless Bandit problems and their applications.\n",
        "\n",
        "**Topics Covered:**\n",
        "1. Markov Chains and Queuing Systems\n",
        "4. Solving MDPs with Linear Programming\n",
        "5. Restless Bandit Problem\n",
        "\n",
        "**How to Cite:**\n",
        "\n",
        "```\n",
        "Lucas Lopes and Alexandre Reiffers. (2024). \"RAMONaaS Summer School 2024 - Day 1: Resource Allocation Problems & Restless Bandit\". Retrieved from https://github.com/ramonaas/summer-school\n",
        "```"
      ]
    },
    {
      "cell_type": "markdown",
      "metadata": {
        "id": "LYFcXTvCgRjn"
      },
      "source": [
        "# Markov Chain\n",
        "> Objective: Modeling a resource allocation problem as a Markov Chain"
      ]
    },
    {
      "cell_type": "markdown",
      "metadata": {
        "id": "11Wm5XwFgRjn"
      },
      "source": [
        "## Queuing system\n",
        "> Model: Access control for one queue\n",
        "\n",
        "<!-- <RIGHT>\n",
        "<div style=\"text-align: right\">\n",
        "<img\n",
        "src=\"/Users/lucas/Code/lp-learner-dev/media/images/illustrations/queue_jobs.webp\"\n",
        "width=\"100\" height=\"100\">\n",
        "</div>\n",
        "</RIGHT> -->"
      ]
    },
    {
      "cell_type": "markdown",
      "metadata": {
        "id": "CFMyeDWtgRjn"
      },
      "source": [
        "### Buffer size\n",
        "\n",
        "A queue has a possible length of $\\{0,\\ldots,K\\}$.\n",
        "\n",
        "> Note: It's a finite queue with $K+1$ possible length of jobs."
      ]
    },
    {
      "cell_type": "markdown",
      "metadata": {
        "id": "fd6ItkHxgRjn"
      },
      "source": [
        "### Job arrivals\n",
        "\n",
        "At each instant $t=0,\\ldots,T-1$, a job arrives to be processed by a data center.\n",
        "> Note: It's a finite horizon of $T$ arrivals."
      ]
    },
    {
      "cell_type": "markdown",
      "metadata": {
        "id": "vjaeB2wLgRjn"
      },
      "source": [
        "### System state\n",
        "\n",
        "We denote $S(t)$ as the size of the queue at instant $t$.\n",
        "\n",
        "> Note: the *state* at each *time* tracks the system evolution."
      ]
    },
    {
      "cell_type": "markdown",
      "metadata": {
        "id": "zEW1HL57gRjn"
      },
      "source": [
        "### Decision-making action\n",
        "\n",
        "We denote $A(t)$ as the decision of the scheduler of accepting ($A(t)=1$) or not ($A(t)=0$) a job in the queue at instant $t$.\n",
        "\n",
        "> Note: If the job is accepted then it enters in tail of the queue."
      ]
    },
    {
      "cell_type": "markdown",
      "metadata": {
        "id": "OUDjXzaNgRjn"
      },
      "source": [
        "## Transition probability"
      ]
    },
    {
      "cell_type": "markdown",
      "metadata": {
        "id": "1sYDDsnugRjn"
      },
      "source": [
        "### System dynamics\n",
        "\n",
        "We assume that, between two job arrivals, the number of jobs processed follow a *Binomial distribution* with parameters:\n",
        "\n",
        "- $n:=$ number of jobs waiting to be processed in the queue **+** the possible new accepted job.\n",
        "- $q\\in[0,1]:=$ probability that a job is processed.\n",
        "\n",
        "> Note: at a given instant $t$, $n := S(t) + A(t)$"
      ]
    },
    {
      "cell_type": "markdown",
      "metadata": {
        "id": "90fu6Ra2gRjn"
      },
      "source": [
        "#### Probability mass function\n",
        "Just to recall, the PMF is:\n",
        "\n",
        "$$\n",
        "\\text{Pr}(k;n,q) = \\binom{n}{k} q^{k} (1-q)^{n-k}\n",
        "$$\n",
        "\n",
        "where:\n",
        "- $\\binom{n}{k} = \\frac{n!}{k!(n-k)!}$ is the possible number of combinations of having $k$ success in $n$ trials.\n",
        "- $q^{k}$ is the probability of $k$ success where each indepent success had probability $q$.\n",
        "- $(1-q)^{n-k}$ is the probability of $n-k$ failures where each indepent failure had probability $(1-q)$.\n",
        "\n",
        "> Note: The binomial distribution is the discrete probability distribution of $k$ successes in a sequence of $n$ independent trials with probability of success $q$."
      ]
    },
    {
      "cell_type": "markdown",
      "metadata": {
        "id": "ExSbwqUngRjn"
      },
      "source": [
        "### Transitioning to a next state\n",
        "\n",
        "We denote\n",
        "\n",
        "$\\mathbb{P}(S(t+1)=y|S(t)=x,\\;A(t)=a)$\n",
        "\n",
        "as the probiblity of the next state $S(t+1)$ be $y$, knowing that:\n",
        "- the current state $S(t)$ is $x$; and\n",
        "- the action taken $A(t)$ was $a$.\n",
        "\n",
        "> Note: Because of the Markovian property, knowing the current state is enough to get the probability for the next state."
      ]
    },
    {
      "cell_type": "markdown",
      "metadata": {
        "id": "MxnbJ-j4gRjo"
      },
      "source": [
        "#### w.r.t Processed jobs\n",
        "\n",
        "To calculate the transition probability for $s\\in\\{0,\\ldots,K\\}$:\n",
        "\n",
        "$$\n",
        "\\mathbb{P}(S(t+1)=s+a-k|S(t)=s,\\;A(t)=a):= I\\{k\\leq a+s\\}\\binom{a+s}{k}q^{k}(1-q)^{a+s-k}\n",
        "$$\n",
        "\n",
        "> Note: $k$ is the number of processed jobs."
      ]
    },
    {
      "cell_type": "markdown",
      "metadata": {
        "id": "HuNSPIb-gRjo"
      },
      "source": [
        "#### w.r.t Remaining jobs\n",
        "\n",
        "Therefore, we can derive the probability of the next have $s'$ remaining jobs:\n",
        "\n",
        "$$\n",
        "\\mathbb{P}(S(t+1)=s'|S(t)=s,\\;A(t)=a):= I\\{s'\\leq a+s\\}\\binom{a+s}{s'}q^{a+s-s'}(1-q)^{s'}.\n",
        "$$\n",
        "\n",
        "> Note: $s'$ is the number of jobs left in the queue on the next state."
      ]
    },
    {
      "cell_type": "markdown",
      "metadata": {
        "id": "NLMwTp8OgRjo"
      },
      "source": [
        "### Function implementation"
      ]
    },
    {
      "cell_type": "markdown",
      "metadata": {
        "id": "xWtG1lfugRjo"
      },
      "source": [
        "#### Instantanous MDP"
      ]
    },
    {
      "cell_type": "code",
      "execution_count": null,
      "metadata": {
        "id": "gm4RAQaXgRjo"
      },
      "outputs": [],
      "source": [
        "from scipy.stats import binom\n",
        "\n",
        "def inst_MDP(s_,s,a,q,K):  # probability of transitioning to s_ given s,a\n",
        "  p = 0\n",
        "  on_buffer_limit = (s+a <= K)  # on buffer limit\n",
        "  no_extra_jobs = (s_ <= s+a)  # the next state s_ can not have more jobs than the current state s+a\n",
        "  if on_buffer_limit and no_extra_jobs:\n",
        "    p = binom.pmf(int(s_), int(a+s), 1-q)  # probability of s_ failures in a+s trials with failure rate (1-q) where q is the probability of success\n",
        "  return p # probability of transitioning to s_"
      ]
    },
    {
      "cell_type": "markdown",
      "metadata": {
        "id": "KEYo5i_kgRjo"
      },
      "source": [
        "#### P matrix\n",
        "\n",
        "Let us denote $p_{ss'}^a:=\\mathbb{P}(S(t+1)=s'|S(t)=s,\\;A(t)=a)$."
      ]
    },
    {
      "cell_type": "code",
      "execution_count": null,
      "metadata": {
        "id": "PZHyu-glgRjo"
      },
      "outputs": [],
      "source": [
        "import numpy as np\n",
        "\n",
        "def P_matrix(q=0.2, K=10):  # P[s,s_,a] = inst_MDP(s_,s,a,q,K)\n",
        "  return np.array([[[inst_MDP(s_,s,a,q,K) for a in range(2)] for s in range(K+1)] for s_ in range(K+1)])"
      ]
    },
    {
      "cell_type": "markdown",
      "metadata": {
        "id": "7o60MTRfgRjp"
      },
      "source": [
        "### Visualizing the P matrix"
      ]
    },
    {
      "cell_type": "markdown",
      "metadata": {
        "id": "v-PpZKaQgRjp"
      },
      "source": [
        "#### Plot function"
      ]
    },
    {
      "cell_type": "code",
      "execution_count": null,
      "metadata": {
        "id": "rNGg0N1SgRjp"
      },
      "outputs": [],
      "source": [
        "import plotly\n",
        "import plotly.graph_objects as go\n",
        "from plotly.subplots import make_subplots\n",
        "\n",
        "def heatmap_animation(Ps, vals, colorscale='deep', xaxis_title='Current State', yaxis_title='Next State', colorbar_title='Probability', use_vals_as_ticks=False):\n",
        "  # Create the frames for the animation\n",
        "  frames = []\n",
        "  for idx, P in enumerate(Ps):\n",
        "    # Create the heatmap traces for each frame\n",
        "    traces = [go.Heatmap(z=P[:,:,I], name=f'P_{I}', showscale=False, coloraxis='coloraxis') for I in range(2)]\n",
        "    # Create the frame for the current frame index\n",
        "    frame = go.Frame(data=traces, name=f'Frame {idx}')\n",
        "    frames.append(frame)\n",
        "  # Create subplots with 1 row and 2 columns\n",
        "  fig = make_subplots(rows=1, cols=2, subplot_titles=['Giving the action was Rejection', 'Giving the action was Acceptance'])\n",
        "  # Add the traces to the subplots\n",
        "  yaxis_ticks = [str(v) for v in vals] if use_vals_as_ticks else None\n",
        "  for i in range(2):\n",
        "    fig.add_trace(go.Heatmap(z=frames[0].data[i].z, y=yaxis_ticks, name=f'P_{i}', showscale=False, coloraxis='coloraxis'), row=1, col=i+1)\n",
        "  # Create the animation figure\n",
        "  fig.update(frames=frames)\n",
        "  # Update the layout with sliders\n",
        "  fig.update_layout(\n",
        "    sliders=[{\n",
        "      'active': 0,\n",
        "      'currentvalue': {'prefix': 'q = '},\n",
        "      'pad': {'t': 50},\n",
        "      'steps': [{'args': [[f'Frame {idx}']], 'label': f'{vals[idx]}', 'method': 'animate'} for idx in range(len(frames))]}],\n",
        "    xaxis=dict(title=xaxis_title),\n",
        "    yaxis=dict(title=yaxis_title),\n",
        "    title=None,  # Remove the main title\n",
        "    coloraxis=dict(colorbar=dict(title=colorbar_title), colorscale=colorscale))\n",
        "  # Update the axis labels and title for each heatmap\n",
        "  for i in range(2):\n",
        "    fig.update_xaxes(title_text=xaxis_title, row=1, col=i+1, ticktext=vals) # tickvals=vals, ticktext=vals)\n",
        "  fig.update_yaxes(title_text=yaxis_title, row=1, col=1)\n",
        "  return fig"
      ]
    },
    {
      "cell_type": "markdown",
      "metadata": {
        "id": "fjZUFFv1gRjp"
      },
      "source": [
        "#### Plotting"
      ]
    },
    {
      "cell_type": "code",
      "execution_count": null,
      "metadata": {
        "colab": {
          "base_uri": "https://localhost:8080/",
          "height": 542
        },
        "id": "WDMjofzGgRjp",
        "outputId": "e0112800-6278-4b96-d308-b2ac4fff6a95"
      },
      "outputs": [
        {
          "data": {
            "text/html": [
              "<html>\n",
              "<head><meta charset=\"utf-8\" /></head>\n",
              "<body>\n",
              "    <div>            <script src=\"https://cdnjs.cloudflare.com/ajax/libs/mathjax/2.7.5/MathJax.js?config=TeX-AMS-MML_SVG\"></script><script type=\"text/javascript\">if (window.MathJax && window.MathJax.Hub && window.MathJax.Hub.Config) {window.MathJax.Hub.Config({SVG: {font: \"STIX-Web\"}});}</script>                <script type=\"text/javascript\">window.PlotlyConfig = {MathJaxConfig: 'local'};</script>\n",
              "        <script charset=\"utf-8\" src=\"https://cdn.plot.ly/plotly-2.24.1.min.js\"></script>                <div id=\"4a440613-1ca4-496b-8027-280fbdfc1a83\" class=\"plotly-graph-div\" style=\"height:525px; width:100%;\"></div>            <script type=\"text/javascript\">                                    window.PLOTLYENV=window.PLOTLYENV || {};                                    if (document.getElementById(\"4a440613-1ca4-496b-8027-280fbdfc1a83\")) {                    Plotly.newPlot(                        \"4a440613-1ca4-496b-8027-280fbdfc1a83\",                        [{\"coloraxis\":\"coloraxis\",\"name\":\"P_0\",\"showscale\":false,\"z\":[[1.0,0.10000000000000003,0.009999999999999993,0.0009999999999999996,9.999999999999987e-05,9.99999999999999e-06,9.999999999999983e-07,9.99999999999999e-08,9.999999999999987e-09,9.999999999999982e-10,9.999999999999977e-11],[0.0,0.9,0.17999999999999997,0.027,0.003599999999999998,0.0004499999999999999,5.399999999999995e-05,6.299999999999996e-06,7.199999999999989e-07,8.099999999999992e-08,8.999999999999978e-09],[0.0,0.0,0.81,0.24299999999999994,0.048599999999999983,0.008099999999999996,0.0012149999999999984,0.00017009999999999996,2.267999999999998e-05,2.915999999999998e-06,3.6449999999999943e-07],[0.0,0.0,0.0,0.7290000000000001,0.29159999999999997,0.07289999999999994,0.014579999999999984,0.002551499999999997,0.00040823999999999976,6.123599999999991e-05,8.747999999999991e-06],[0.0,0.0,0.0,0.0,0.6561,0.3280499999999999,0.09841499999999995,0.022963499999999977,0.004592699999999998,0.0008266859999999994,0.00013778099999999974],[0.0,0.0,0.0,0.0,0.0,0.5904900000000001,0.354294,0.1240029,0.03306743999999999,0.007440173999999999,0.0014880347999999982],[0.0,0.0,0.0,0.0,0.0,0.0,0.531441,0.3720086999999998,0.1488034799999999,0.04464104399999997,0.011160260999999996],[0.0,0.0,0.0,0.0,0.0,0.0,0.0,0.4782969000000001,0.38263752000000006,0.17218688399999987,0.05739562799999997],[0.0,0.0,0.0,0.0,0.0,0.0,0.0,0.0,0.4304672100000001,0.38742048899999987,0.1937102444999998],[0.0,0.0,0.0,0.0,0.0,0.0,0.0,0.0,0.0,0.3874204890000001,0.38742048899999976],[0.0,0.0,0.0,0.0,0.0,0.0,0.0,0.0,0.0,0.0,0.3486784401000001]],\"type\":\"heatmap\",\"xaxis\":\"x\",\"yaxis\":\"y\"},{\"coloraxis\":\"coloraxis\",\"name\":\"P_1\",\"showscale\":false,\"z\":[[0.10000000000000003,0.009999999999999993,0.0009999999999999996,9.999999999999987e-05,9.99999999999999e-06,9.999999999999983e-07,9.99999999999999e-08,9.999999999999987e-09,9.999999999999982e-10,9.999999999999977e-11,0.0],[0.9,0.17999999999999997,0.027,0.003599999999999998,0.0004499999999999999,5.399999999999995e-05,6.299999999999996e-06,7.199999999999989e-07,8.099999999999992e-08,8.999999999999978e-09,0.0],[0.0,0.81,0.24299999999999994,0.048599999999999983,0.008099999999999996,0.0012149999999999984,0.00017009999999999996,2.267999999999998e-05,2.915999999999998e-06,3.6449999999999943e-07,0.0],[0.0,0.0,0.7290000000000001,0.29159999999999997,0.07289999999999994,0.014579999999999984,0.002551499999999997,0.00040823999999999976,6.123599999999991e-05,8.747999999999991e-06,0.0],[0.0,0.0,0.0,0.6561,0.3280499999999999,0.09841499999999995,0.022963499999999977,0.004592699999999998,0.0008266859999999994,0.00013778099999999974,0.0],[0.0,0.0,0.0,0.0,0.5904900000000001,0.354294,0.1240029,0.03306743999999999,0.007440173999999999,0.0014880347999999982,0.0],[0.0,0.0,0.0,0.0,0.0,0.531441,0.3720086999999998,0.1488034799999999,0.04464104399999997,0.011160260999999996,0.0],[0.0,0.0,0.0,0.0,0.0,0.0,0.4782969000000001,0.38263752000000006,0.17218688399999987,0.05739562799999997,0.0],[0.0,0.0,0.0,0.0,0.0,0.0,0.0,0.4304672100000001,0.38742048899999987,0.1937102444999998,0.0],[0.0,0.0,0.0,0.0,0.0,0.0,0.0,0.0,0.3874204890000001,0.38742048899999976,0.0],[0.0,0.0,0.0,0.0,0.0,0.0,0.0,0.0,0.0,0.3486784401000001,0.0]],\"type\":\"heatmap\",\"xaxis\":\"x2\",\"yaxis\":\"y2\"}],                        {\"template\":{\"data\":{\"histogram2dcontour\":[{\"type\":\"histogram2dcontour\",\"colorbar\":{\"outlinewidth\":0,\"ticks\":\"\"},\"colorscale\":[[0.0,\"#0d0887\"],[0.1111111111111111,\"#46039f\"],[0.2222222222222222,\"#7201a8\"],[0.3333333333333333,\"#9c179e\"],[0.4444444444444444,\"#bd3786\"],[0.5555555555555556,\"#d8576b\"],[0.6666666666666666,\"#ed7953\"],[0.7777777777777778,\"#fb9f3a\"],[0.8888888888888888,\"#fdca26\"],[1.0,\"#f0f921\"]]}],\"choropleth\":[{\"type\":\"choropleth\",\"colorbar\":{\"outlinewidth\":0,\"ticks\":\"\"}}],\"histogram2d\":[{\"type\":\"histogram2d\",\"colorbar\":{\"outlinewidth\":0,\"ticks\":\"\"},\"colorscale\":[[0.0,\"#0d0887\"],[0.1111111111111111,\"#46039f\"],[0.2222222222222222,\"#7201a8\"],[0.3333333333333333,\"#9c179e\"],[0.4444444444444444,\"#bd3786\"],[0.5555555555555556,\"#d8576b\"],[0.6666666666666666,\"#ed7953\"],[0.7777777777777778,\"#fb9f3a\"],[0.8888888888888888,\"#fdca26\"],[1.0,\"#f0f921\"]]}],\"heatmap\":[{\"type\":\"heatmap\",\"colorbar\":{\"outlinewidth\":0,\"ticks\":\"\"},\"colorscale\":[[0.0,\"#0d0887\"],[0.1111111111111111,\"#46039f\"],[0.2222222222222222,\"#7201a8\"],[0.3333333333333333,\"#9c179e\"],[0.4444444444444444,\"#bd3786\"],[0.5555555555555556,\"#d8576b\"],[0.6666666666666666,\"#ed7953\"],[0.7777777777777778,\"#fb9f3a\"],[0.8888888888888888,\"#fdca26\"],[1.0,\"#f0f921\"]]}],\"heatmapgl\":[{\"type\":\"heatmapgl\",\"colorbar\":{\"outlinewidth\":0,\"ticks\":\"\"},\"colorscale\":[[0.0,\"#0d0887\"],[0.1111111111111111,\"#46039f\"],[0.2222222222222222,\"#7201a8\"],[0.3333333333333333,\"#9c179e\"],[0.4444444444444444,\"#bd3786\"],[0.5555555555555556,\"#d8576b\"],[0.6666666666666666,\"#ed7953\"],[0.7777777777777778,\"#fb9f3a\"],[0.8888888888888888,\"#fdca26\"],[1.0,\"#f0f921\"]]}],\"contourcarpet\":[{\"type\":\"contourcarpet\",\"colorbar\":{\"outlinewidth\":0,\"ticks\":\"\"}}],\"contour\":[{\"type\":\"contour\",\"colorbar\":{\"outlinewidth\":0,\"ticks\":\"\"},\"colorscale\":[[0.0,\"#0d0887\"],[0.1111111111111111,\"#46039f\"],[0.2222222222222222,\"#7201a8\"],[0.3333333333333333,\"#9c179e\"],[0.4444444444444444,\"#bd3786\"],[0.5555555555555556,\"#d8576b\"],[0.6666666666666666,\"#ed7953\"],[0.7777777777777778,\"#fb9f3a\"],[0.8888888888888888,\"#fdca26\"],[1.0,\"#f0f921\"]]}],\"surface\":[{\"type\":\"surface\",\"colorbar\":{\"outlinewidth\":0,\"ticks\":\"\"},\"colorscale\":[[0.0,\"#0d0887\"],[0.1111111111111111,\"#46039f\"],[0.2222222222222222,\"#7201a8\"],[0.3333333333333333,\"#9c179e\"],[0.4444444444444444,\"#bd3786\"],[0.5555555555555556,\"#d8576b\"],[0.6666666666666666,\"#ed7953\"],[0.7777777777777778,\"#fb9f3a\"],[0.8888888888888888,\"#fdca26\"],[1.0,\"#f0f921\"]]}],\"mesh3d\":[{\"type\":\"mesh3d\",\"colorbar\":{\"outlinewidth\":0,\"ticks\":\"\"}}],\"scatter\":[{\"fillpattern\":{\"fillmode\":\"overlay\",\"size\":10,\"solidity\":0.2},\"type\":\"scatter\"}],\"parcoords\":[{\"type\":\"parcoords\",\"line\":{\"colorbar\":{\"outlinewidth\":0,\"ticks\":\"\"}}}],\"scatterpolargl\":[{\"type\":\"scatterpolargl\",\"marker\":{\"colorbar\":{\"outlinewidth\":0,\"ticks\":\"\"}}}],\"bar\":[{\"error_x\":{\"color\":\"#2a3f5f\"},\"error_y\":{\"color\":\"#2a3f5f\"},\"marker\":{\"line\":{\"color\":\"#E5ECF6\",\"width\":0.5},\"pattern\":{\"fillmode\":\"overlay\",\"size\":10,\"solidity\":0.2}},\"type\":\"bar\"}],\"scattergeo\":[{\"type\":\"scattergeo\",\"marker\":{\"colorbar\":{\"outlinewidth\":0,\"ticks\":\"\"}}}],\"scatterpolar\":[{\"type\":\"scatterpolar\",\"marker\":{\"colorbar\":{\"outlinewidth\":0,\"ticks\":\"\"}}}],\"histogram\":[{\"marker\":{\"pattern\":{\"fillmode\":\"overlay\",\"size\":10,\"solidity\":0.2}},\"type\":\"histogram\"}],\"scattergl\":[{\"type\":\"scattergl\",\"marker\":{\"colorbar\":{\"outlinewidth\":0,\"ticks\":\"\"}}}],\"scatter3d\":[{\"type\":\"scatter3d\",\"line\":{\"colorbar\":{\"outlinewidth\":0,\"ticks\":\"\"}},\"marker\":{\"colorbar\":{\"outlinewidth\":0,\"ticks\":\"\"}}}],\"scattermapbox\":[{\"type\":\"scattermapbox\",\"marker\":{\"colorbar\":{\"outlinewidth\":0,\"ticks\":\"\"}}}],\"scatterternary\":[{\"type\":\"scatterternary\",\"marker\":{\"colorbar\":{\"outlinewidth\":0,\"ticks\":\"\"}}}],\"scattercarpet\":[{\"type\":\"scattercarpet\",\"marker\":{\"colorbar\":{\"outlinewidth\":0,\"ticks\":\"\"}}}],\"carpet\":[{\"aaxis\":{\"endlinecolor\":\"#2a3f5f\",\"gridcolor\":\"white\",\"linecolor\":\"white\",\"minorgridcolor\":\"white\",\"startlinecolor\":\"#2a3f5f\"},\"baxis\":{\"endlinecolor\":\"#2a3f5f\",\"gridcolor\":\"white\",\"linecolor\":\"white\",\"minorgridcolor\":\"white\",\"startlinecolor\":\"#2a3f5f\"},\"type\":\"carpet\"}],\"table\":[{\"cells\":{\"fill\":{\"color\":\"#EBF0F8\"},\"line\":{\"color\":\"white\"}},\"header\":{\"fill\":{\"color\":\"#C8D4E3\"},\"line\":{\"color\":\"white\"}},\"type\":\"table\"}],\"barpolar\":[{\"marker\":{\"line\":{\"color\":\"#E5ECF6\",\"width\":0.5},\"pattern\":{\"fillmode\":\"overlay\",\"size\":10,\"solidity\":0.2}},\"type\":\"barpolar\"}],\"pie\":[{\"automargin\":true,\"type\":\"pie\"}]},\"layout\":{\"autotypenumbers\":\"strict\",\"colorway\":[\"#636efa\",\"#EF553B\",\"#00cc96\",\"#ab63fa\",\"#FFA15A\",\"#19d3f3\",\"#FF6692\",\"#B6E880\",\"#FF97FF\",\"#FECB52\"],\"font\":{\"color\":\"#2a3f5f\"},\"hovermode\":\"closest\",\"hoverlabel\":{\"align\":\"left\"},\"paper_bgcolor\":\"white\",\"plot_bgcolor\":\"#E5ECF6\",\"polar\":{\"bgcolor\":\"#E5ECF6\",\"angularaxis\":{\"gridcolor\":\"white\",\"linecolor\":\"white\",\"ticks\":\"\"},\"radialaxis\":{\"gridcolor\":\"white\",\"linecolor\":\"white\",\"ticks\":\"\"}},\"ternary\":{\"bgcolor\":\"#E5ECF6\",\"aaxis\":{\"gridcolor\":\"white\",\"linecolor\":\"white\",\"ticks\":\"\"},\"baxis\":{\"gridcolor\":\"white\",\"linecolor\":\"white\",\"ticks\":\"\"},\"caxis\":{\"gridcolor\":\"white\",\"linecolor\":\"white\",\"ticks\":\"\"}},\"coloraxis\":{\"colorbar\":{\"outlinewidth\":0,\"ticks\":\"\"}},\"colorscale\":{\"sequential\":[[0.0,\"#0d0887\"],[0.1111111111111111,\"#46039f\"],[0.2222222222222222,\"#7201a8\"],[0.3333333333333333,\"#9c179e\"],[0.4444444444444444,\"#bd3786\"],[0.5555555555555556,\"#d8576b\"],[0.6666666666666666,\"#ed7953\"],[0.7777777777777778,\"#fb9f3a\"],[0.8888888888888888,\"#fdca26\"],[1.0,\"#f0f921\"]],\"sequentialminus\":[[0.0,\"#0d0887\"],[0.1111111111111111,\"#46039f\"],[0.2222222222222222,\"#7201a8\"],[0.3333333333333333,\"#9c179e\"],[0.4444444444444444,\"#bd3786\"],[0.5555555555555556,\"#d8576b\"],[0.6666666666666666,\"#ed7953\"],[0.7777777777777778,\"#fb9f3a\"],[0.8888888888888888,\"#fdca26\"],[1.0,\"#f0f921\"]],\"diverging\":[[0,\"#8e0152\"],[0.1,\"#c51b7d\"],[0.2,\"#de77ae\"],[0.3,\"#f1b6da\"],[0.4,\"#fde0ef\"],[0.5,\"#f7f7f7\"],[0.6,\"#e6f5d0\"],[0.7,\"#b8e186\"],[0.8,\"#7fbc41\"],[0.9,\"#4d9221\"],[1,\"#276419\"]]},\"xaxis\":{\"gridcolor\":\"white\",\"linecolor\":\"white\",\"ticks\":\"\",\"title\":{\"standoff\":15},\"zerolinecolor\":\"white\",\"automargin\":true,\"zerolinewidth\":2},\"yaxis\":{\"gridcolor\":\"white\",\"linecolor\":\"white\",\"ticks\":\"\",\"title\":{\"standoff\":15},\"zerolinecolor\":\"white\",\"automargin\":true,\"zerolinewidth\":2},\"scene\":{\"xaxis\":{\"backgroundcolor\":\"#E5ECF6\",\"gridcolor\":\"white\",\"linecolor\":\"white\",\"showbackground\":true,\"ticks\":\"\",\"zerolinecolor\":\"white\",\"gridwidth\":2},\"yaxis\":{\"backgroundcolor\":\"#E5ECF6\",\"gridcolor\":\"white\",\"linecolor\":\"white\",\"showbackground\":true,\"ticks\":\"\",\"zerolinecolor\":\"white\",\"gridwidth\":2},\"zaxis\":{\"backgroundcolor\":\"#E5ECF6\",\"gridcolor\":\"white\",\"linecolor\":\"white\",\"showbackground\":true,\"ticks\":\"\",\"zerolinecolor\":\"white\",\"gridwidth\":2}},\"shapedefaults\":{\"line\":{\"color\":\"#2a3f5f\"}},\"annotationdefaults\":{\"arrowcolor\":\"#2a3f5f\",\"arrowhead\":0,\"arrowwidth\":1},\"geo\":{\"bgcolor\":\"white\",\"landcolor\":\"#E5ECF6\",\"subunitcolor\":\"white\",\"showland\":true,\"showlakes\":true,\"lakecolor\":\"white\"},\"title\":{\"x\":0.05},\"mapbox\":{\"style\":\"light\"}}},\"xaxis\":{\"anchor\":\"y\",\"domain\":[0.0,0.45],\"title\":{\"text\":\"Current State\"},\"ticktext\":[0.1,0.2,0.3,0.4,0.5,0.6,0.7,0.8,0.9,1.0]},\"yaxis\":{\"anchor\":\"x\",\"domain\":[0.0,1.0],\"title\":{\"text\":\"Next State\"}},\"xaxis2\":{\"anchor\":\"y2\",\"domain\":[0.55,1.0],\"title\":{\"text\":\"Current State\"},\"ticktext\":[0.1,0.2,0.3,0.4,0.5,0.6,0.7,0.8,0.9,1.0]},\"yaxis2\":{\"anchor\":\"x2\",\"domain\":[0.0,1.0]},\"annotations\":[{\"font\":{\"size\":16},\"showarrow\":false,\"text\":\"Giving the action was Rejection\",\"x\":0.225,\"xanchor\":\"center\",\"xref\":\"paper\",\"y\":1.0,\"yanchor\":\"bottom\",\"yref\":\"paper\"},{\"font\":{\"size\":16},\"showarrow\":false,\"text\":\"Giving the action was Acceptance\",\"x\":0.775,\"xanchor\":\"center\",\"xref\":\"paper\",\"y\":1.0,\"yanchor\":\"bottom\",\"yref\":\"paper\"}],\"coloraxis\":{\"colorbar\":{\"title\":{\"text\":\"Probability\"}},\"colorscale\":[[0.0,\"rgb(3, 5, 18)\"],[0.09090909090909091,\"rgb(25, 25, 51)\"],[0.18181818181818182,\"rgb(44, 42, 87)\"],[0.2727272727272727,\"rgb(58, 60, 125)\"],[0.36363636363636365,\"rgb(62, 83, 160)\"],[0.45454545454545453,\"rgb(62, 109, 178)\"],[0.5454545454545454,\"rgb(72, 134, 187)\"],[0.6363636363636364,\"rgb(89, 159, 196)\"],[0.7272727272727273,\"rgb(114, 184, 205)\"],[0.8181818181818182,\"rgb(149, 207, 216)\"],[0.9090909090909091,\"rgb(192, 229, 232)\"],[1.0,\"rgb(234, 252, 253)\"]]},\"sliders\":[{\"active\":0,\"currentvalue\":{\"prefix\":\"q = \"},\"pad\":{\"t\":50},\"steps\":[{\"args\":[[\"Frame 0\"]],\"label\":\"0.1\",\"method\":\"animate\"},{\"args\":[[\"Frame 1\"]],\"label\":\"0.2\",\"method\":\"animate\"},{\"args\":[[\"Frame 2\"]],\"label\":\"0.3\",\"method\":\"animate\"},{\"args\":[[\"Frame 3\"]],\"label\":\"0.4\",\"method\":\"animate\"},{\"args\":[[\"Frame 4\"]],\"label\":\"0.5\",\"method\":\"animate\"},{\"args\":[[\"Frame 5\"]],\"label\":\"0.6\",\"method\":\"animate\"},{\"args\":[[\"Frame 6\"]],\"label\":\"0.7\",\"method\":\"animate\"},{\"args\":[[\"Frame 7\"]],\"label\":\"0.8\",\"method\":\"animate\"},{\"args\":[[\"Frame 8\"]],\"label\":\"0.9\",\"method\":\"animate\"},{\"args\":[[\"Frame 9\"]],\"label\":\"1.0\",\"method\":\"animate\"}]}],\"title\":{}},                        {\"responsive\": true}                    ).then(function(){\n",
              "                            Plotly.addFrames('4a440613-1ca4-496b-8027-280fbdfc1a83', [{\"data\":[{\"coloraxis\":\"coloraxis\",\"name\":\"P_0\",\"showscale\":false,\"z\":[[1.0,0.10000000000000003,0.009999999999999993,0.0009999999999999996,9.999999999999987e-05,9.99999999999999e-06,9.999999999999983e-07,9.99999999999999e-08,9.999999999999987e-09,9.999999999999982e-10,9.999999999999977e-11],[0.0,0.9,0.17999999999999997,0.027,0.003599999999999998,0.0004499999999999999,5.399999999999995e-05,6.299999999999996e-06,7.199999999999989e-07,8.099999999999992e-08,8.999999999999978e-09],[0.0,0.0,0.81,0.24299999999999994,0.048599999999999983,0.008099999999999996,0.0012149999999999984,0.00017009999999999996,2.267999999999998e-05,2.915999999999998e-06,3.6449999999999943e-07],[0.0,0.0,0.0,0.7290000000000001,0.29159999999999997,0.07289999999999994,0.014579999999999984,0.002551499999999997,0.00040823999999999976,6.123599999999991e-05,8.747999999999991e-06],[0.0,0.0,0.0,0.0,0.6561,0.3280499999999999,0.09841499999999995,0.022963499999999977,0.004592699999999998,0.0008266859999999994,0.00013778099999999974],[0.0,0.0,0.0,0.0,0.0,0.5904900000000001,0.354294,0.1240029,0.03306743999999999,0.007440173999999999,0.0014880347999999982],[0.0,0.0,0.0,0.0,0.0,0.0,0.531441,0.3720086999999998,0.1488034799999999,0.04464104399999997,0.011160260999999996],[0.0,0.0,0.0,0.0,0.0,0.0,0.0,0.4782969000000001,0.38263752000000006,0.17218688399999987,0.05739562799999997],[0.0,0.0,0.0,0.0,0.0,0.0,0.0,0.0,0.4304672100000001,0.38742048899999987,0.1937102444999998],[0.0,0.0,0.0,0.0,0.0,0.0,0.0,0.0,0.0,0.3874204890000001,0.38742048899999976],[0.0,0.0,0.0,0.0,0.0,0.0,0.0,0.0,0.0,0.0,0.3486784401000001]],\"type\":\"heatmap\"},{\"coloraxis\":\"coloraxis\",\"name\":\"P_1\",\"showscale\":false,\"z\":[[0.10000000000000003,0.009999999999999993,0.0009999999999999996,9.999999999999987e-05,9.99999999999999e-06,9.999999999999983e-07,9.99999999999999e-08,9.999999999999987e-09,9.999999999999982e-10,9.999999999999977e-11,0.0],[0.9,0.17999999999999997,0.027,0.003599999999999998,0.0004499999999999999,5.399999999999995e-05,6.299999999999996e-06,7.199999999999989e-07,8.099999999999992e-08,8.999999999999978e-09,0.0],[0.0,0.81,0.24299999999999994,0.048599999999999983,0.008099999999999996,0.0012149999999999984,0.00017009999999999996,2.267999999999998e-05,2.915999999999998e-06,3.6449999999999943e-07,0.0],[0.0,0.0,0.7290000000000001,0.29159999999999997,0.07289999999999994,0.014579999999999984,0.002551499999999997,0.00040823999999999976,6.123599999999991e-05,8.747999999999991e-06,0.0],[0.0,0.0,0.0,0.6561,0.3280499999999999,0.09841499999999995,0.022963499999999977,0.004592699999999998,0.0008266859999999994,0.00013778099999999974,0.0],[0.0,0.0,0.0,0.0,0.5904900000000001,0.354294,0.1240029,0.03306743999999999,0.007440173999999999,0.0014880347999999982,0.0],[0.0,0.0,0.0,0.0,0.0,0.531441,0.3720086999999998,0.1488034799999999,0.04464104399999997,0.011160260999999996,0.0],[0.0,0.0,0.0,0.0,0.0,0.0,0.4782969000000001,0.38263752000000006,0.17218688399999987,0.05739562799999997,0.0],[0.0,0.0,0.0,0.0,0.0,0.0,0.0,0.4304672100000001,0.38742048899999987,0.1937102444999998,0.0],[0.0,0.0,0.0,0.0,0.0,0.0,0.0,0.0,0.3874204890000001,0.38742048899999976,0.0],[0.0,0.0,0.0,0.0,0.0,0.0,0.0,0.0,0.0,0.3486784401000001,0.0]],\"type\":\"heatmap\"}],\"name\":\"Frame 0\"},{\"data\":[{\"coloraxis\":\"coloraxis\",\"name\":\"P_0\",\"showscale\":false,\"z\":[[1.0,0.2,0.03999999999999996,0.007999999999999997,0.001599999999999998,0.00031999999999999976,6.399999999999988e-05,1.2799999999999988e-05,2.5599999999999967e-06,5.119999999999992e-07,1.023999999999998e-07],[0.0,0.8,0.32,0.09600000000000006,0.025599999999999977,0.006399999999999999,0.0015359999999999992,0.0003583999999999998,8.191999999999991e-05,1.8431999999999985e-05,4.095999999999988e-06],[0.0,0.0,0.6400000000000001,0.384,0.1535999999999999,0.051199999999999975,0.015359999999999988,0.004300799999999998,0.0011468799999999988,0.00029491199999999993,7.372799999999989e-05],[0.0,0.0,0.0,0.5120000000000001,0.4096000000000001,0.20479999999999995,0.08191999999999995,0.02867199999999997,0.009175039999999995,0.0027525119999999973,0.0007864319999999988],[0.0,0.0,0.0,0.0,0.4096000000000001,0.40959999999999996,0.24575999999999992,0.11468799999999987,0.04587519999999999,0.01651507199999999,0.005505023999999991],[0.0,0.0,0.0,0.0,0.0,0.3276800000000001,0.39321600000000007,0.2752512000000001,0.1468006399999999,0.06606028799999995,0.026424115199999956],[0.0,0.0,0.0,0.0,0.0,0.0,0.2621440000000001,0.3670016,0.2936012799999999,0.17616076799999997,0.08808038399999985],[0.0,0.0,0.0,0.0,0.0,0.0,0.0,0.20971520000000007,0.3355443200000001,0.30198988800000015,0.20132659199999978],[0.0,0.0,0.0,0.0,0.0,0.0,0.0,0.0,0.1677721600000001,0.30198988800000004,0.30198988799999993],[0.0,0.0,0.0,0.0,0.0,0.0,0.0,0.0,0.0,0.13421772800000006,0.26843545599999996],[0.0,0.0,0.0,0.0,0.0,0.0,0.0,0.0,0.0,0.0,0.10737418240000006]],\"type\":\"heatmap\"},{\"coloraxis\":\"coloraxis\",\"name\":\"P_1\",\"showscale\":false,\"z\":[[0.2,0.03999999999999996,0.007999999999999997,0.001599999999999998,0.00031999999999999976,6.399999999999988e-05,1.2799999999999988e-05,2.5599999999999967e-06,5.119999999999992e-07,1.023999999999998e-07,0.0],[0.8,0.32,0.09600000000000006,0.025599999999999977,0.006399999999999999,0.0015359999999999992,0.0003583999999999998,8.191999999999991e-05,1.8431999999999985e-05,4.095999999999988e-06,0.0],[0.0,0.6400000000000001,0.384,0.1535999999999999,0.051199999999999975,0.015359999999999988,0.004300799999999998,0.0011468799999999988,0.00029491199999999993,7.372799999999989e-05,0.0],[0.0,0.0,0.5120000000000001,0.4096000000000001,0.20479999999999995,0.08191999999999995,0.02867199999999997,0.009175039999999995,0.0027525119999999973,0.0007864319999999988,0.0],[0.0,0.0,0.0,0.4096000000000001,0.40959999999999996,0.24575999999999992,0.11468799999999987,0.04587519999999999,0.01651507199999999,0.005505023999999991,0.0],[0.0,0.0,0.0,0.0,0.3276800000000001,0.39321600000000007,0.2752512000000001,0.1468006399999999,0.06606028799999995,0.026424115199999956,0.0],[0.0,0.0,0.0,0.0,0.0,0.2621440000000001,0.3670016,0.2936012799999999,0.17616076799999997,0.08808038399999985,0.0],[0.0,0.0,0.0,0.0,0.0,0.0,0.20971520000000007,0.3355443200000001,0.30198988800000015,0.20132659199999978,0.0],[0.0,0.0,0.0,0.0,0.0,0.0,0.0,0.1677721600000001,0.30198988800000004,0.30198988799999993,0.0],[0.0,0.0,0.0,0.0,0.0,0.0,0.0,0.0,0.13421772800000006,0.26843545599999996,0.0],[0.0,0.0,0.0,0.0,0.0,0.0,0.0,0.0,0.0,0.10737418240000006,0.0]],\"type\":\"heatmap\"}],\"name\":\"Frame 1\"},{\"data\":[{\"coloraxis\":\"coloraxis\",\"name\":\"P_0\",\"showscale\":false,\"z\":[[1.0,0.30000000000000004,0.09000000000000002,0.027000000000000007,0.008100000000000007,0.0024300000000000003,0.0007289999999999997,0.00021870000000000055,6.561000000000014e-05,1.9683000000000015e-05,5.904900000000009e-06],[0.0,0.7,0.42000000000000015,0.18899999999999997,0.07560000000000007,0.02834999999999999,0.010206000000000002,0.0035721000000000034,0.001224720000000001,0.00041334300000000037,0.0001377810000000001],[0.0,0.0,0.48999999999999994,0.4409999999999998,0.26460000000000006,0.1323,0.059535,0.02500470000000003,0.010001880000000008,0.0038578680000000026,0.0014467005000000004],[0.0,0.0,0.0,0.3429999999999999,0.41160000000000024,0.30869999999999986,0.18521999999999988,0.0972405000000001,0.04667544000000003,0.021003948,0.009001692000000004],[0.0,0.0,0.0,0.0,0.24009999999999995,0.36014999999999997,0.3241349999999999,0.22689449999999997,0.13613670000000017,0.07351381799999998,0.036756909000000025],[0.0,0.0,0.0,0.0,0.0,0.16806999999999994,0.3025259999999998,0.3176523000000003,0.25412184000000004,0.1715322420000001,0.10291934519999998],[0.0,0.0,0.0,0.0,0.0,0.0,0.11764899999999996,0.24706290000000009,0.29647548,0.26682793200000016,0.200120949],[0.0,0.0,0.0,0.0,0.0,0.0,0.0,0.08235429999999996,0.19765032000000016,0.26682793199999966,0.26682793200000005],[0.0,0.0,0.0,0.0,0.0,0.0,0.0,0.0,0.05764800999999997,0.1556496269999999,0.23347444050000013],[0.0,0.0,0.0,0.0,0.0,0.0,0.0,0.0,0.0,0.04035360699999998,0.12106082099999994],[0.0,0.0,0.0,0.0,0.0,0.0,0.0,0.0,0.0,0.0,0.028247524899999984]],\"type\":\"heatmap\"},{\"coloraxis\":\"coloraxis\",\"name\":\"P_1\",\"showscale\":false,\"z\":[[0.30000000000000004,0.09000000000000002,0.027000000000000007,0.008100000000000007,0.0024300000000000003,0.0007289999999999997,0.00021870000000000055,6.561000000000014e-05,1.9683000000000015e-05,5.904900000000009e-06,0.0],[0.7,0.42000000000000015,0.18899999999999997,0.07560000000000007,0.02834999999999999,0.010206000000000002,0.0035721000000000034,0.001224720000000001,0.00041334300000000037,0.0001377810000000001,0.0],[0.0,0.48999999999999994,0.4409999999999998,0.26460000000000006,0.1323,0.059535,0.02500470000000003,0.010001880000000008,0.0038578680000000026,0.0014467005000000004,0.0],[0.0,0.0,0.3429999999999999,0.41160000000000024,0.30869999999999986,0.18521999999999988,0.0972405000000001,0.04667544000000003,0.021003948,0.009001692000000004,0.0],[0.0,0.0,0.0,0.24009999999999995,0.36014999999999997,0.3241349999999999,0.22689449999999997,0.13613670000000017,0.07351381799999998,0.036756909000000025,0.0],[0.0,0.0,0.0,0.0,0.16806999999999994,0.3025259999999998,0.3176523000000003,0.25412184000000004,0.1715322420000001,0.10291934519999998,0.0],[0.0,0.0,0.0,0.0,0.0,0.11764899999999996,0.24706290000000009,0.29647548,0.26682793200000016,0.200120949,0.0],[0.0,0.0,0.0,0.0,0.0,0.0,0.08235429999999996,0.19765032000000016,0.26682793199999966,0.26682793200000005,0.0],[0.0,0.0,0.0,0.0,0.0,0.0,0.0,0.05764800999999997,0.1556496269999999,0.23347444050000013,0.0],[0.0,0.0,0.0,0.0,0.0,0.0,0.0,0.0,0.04035360699999998,0.12106082099999994,0.0],[0.0,0.0,0.0,0.0,0.0,0.0,0.0,0.0,0.0,0.028247524899999984,0.0]],\"type\":\"heatmap\"}],\"name\":\"Frame 2\"},{\"data\":[{\"coloraxis\":\"coloraxis\",\"name\":\"P_0\",\"showscale\":false,\"z\":[[1.0,0.4000000000000001,0.16,0.06400000000000003,0.025599999999999994,0.010239999999999994,0.004096000000000003,0.0016384000000000004,0.0006553600000000008,0.00026214400000000023,0.00010485760000000003],[0.0,0.6,0.48000000000000015,0.2880000000000001,0.15359999999999996,0.0768,0.03686400000000002,0.01720320000000001,0.007864320000000006,0.0035389440000000044,0.001572863999999999],[0.0,0.0,0.36,0.43199999999999994,0.3456,0.23040000000000002,0.1382400000000001,0.07741439999999988,0.04128768,0.021233664000000027,0.010616832000000003],[0.0,0.0,0.0,0.21599999999999997,0.3456000000000001,0.3455999999999997,0.2764800000000001,0.19353599999999999,0.12386304000000004,0.07431782400000002,0.042467327999999964],[0.0,0.0,0.0,0.0,0.1296,0.2592000000000001,0.3110400000000001,0.29030399999999995,0.23224319999999998,0.16721510400000014,0.11147673600000009],[0.0,0.0,0.0,0.0,0.0,0.07775999999999998,0.1866240000000001,0.26127360000000005,0.27869183999999986,0.2508226559999999,0.20065812479999992],[0.0,0.0,0.0,0.0,0.0,0.0,0.04665599999999999,0.13063680000000003,0.20901888000000002,0.2508226560000001,0.2508226559999998],[0.0,0.0,0.0,0.0,0.0,0.0,0.0,0.027993599999999993,0.08957951999999998,0.161243136,0.21499084799999976],[0.0,0.0,0.0,0.0,0.0,0.0,0.0,0.0,0.016796159999999994,0.060466175999999996,0.12093235199999987],[0.0,0.0,0.0,0.0,0.0,0.0,0.0,0.0,0.0,0.010077695999999997,0.040310783999999975],[0.0,0.0,0.0,0.0,0.0,0.0,0.0,0.0,0.0,0.0,0.006046617599999997]],\"type\":\"heatmap\"},{\"coloraxis\":\"coloraxis\",\"name\":\"P_1\",\"showscale\":false,\"z\":[[0.4000000000000001,0.16,0.06400000000000003,0.025599999999999994,0.010239999999999994,0.004096000000000003,0.0016384000000000004,0.0006553600000000008,0.00026214400000000023,0.00010485760000000003,0.0],[0.6,0.48000000000000015,0.2880000000000001,0.15359999999999996,0.0768,0.03686400000000002,0.01720320000000001,0.007864320000000006,0.0035389440000000044,0.001572863999999999,0.0],[0.0,0.36,0.43199999999999994,0.3456,0.23040000000000002,0.1382400000000001,0.07741439999999988,0.04128768,0.021233664000000027,0.010616832000000003,0.0],[0.0,0.0,0.21599999999999997,0.3456000000000001,0.3455999999999997,0.2764800000000001,0.19353599999999999,0.12386304000000004,0.07431782400000002,0.042467327999999964,0.0],[0.0,0.0,0.0,0.1296,0.2592000000000001,0.3110400000000001,0.29030399999999995,0.23224319999999998,0.16721510400000014,0.11147673600000009,0.0],[0.0,0.0,0.0,0.0,0.07775999999999998,0.1866240000000001,0.26127360000000005,0.27869183999999986,0.2508226559999999,0.20065812479999992,0.0],[0.0,0.0,0.0,0.0,0.0,0.04665599999999999,0.13063680000000003,0.20901888000000002,0.2508226560000001,0.2508226559999998,0.0],[0.0,0.0,0.0,0.0,0.0,0.0,0.027993599999999993,0.08957951999999998,0.161243136,0.21499084799999976,0.0],[0.0,0.0,0.0,0.0,0.0,0.0,0.0,0.016796159999999994,0.060466175999999996,0.12093235199999987,0.0],[0.0,0.0,0.0,0.0,0.0,0.0,0.0,0.0,0.010077695999999997,0.040310783999999975,0.0],[0.0,0.0,0.0,0.0,0.0,0.0,0.0,0.0,0.0,0.006046617599999997,0.0]],\"type\":\"heatmap\"}],\"name\":\"Frame 3\"},{\"data\":[{\"coloraxis\":\"coloraxis\",\"name\":\"P_0\",\"showscale\":false,\"z\":[[1.0,0.5000000000000001,0.24999999999999997,0.12499999999999999,0.06250000000000001,0.031249999999999976,0.01562500000000012,0.007812499999999949,0.003906250000000007,0.0019531250000000004,0.0009765624999999989],[0.0,0.5,0.5000000000000002,0.3750000000000001,0.25,0.15624999999999997,0.09375000000000003,0.054687499999999986,0.031249999999999983,0.01757812499999997,0.009765625000000002],[0.0,0.0,0.25,0.3750000000000001,0.375,0.31249999999999983,0.23437500000000003,0.16406250000000003,0.10937500000000004,0.07031250000000001,0.04394531250000004],[0.0,0.0,0.0,0.125,0.25000000000000006,0.31249999999999983,0.31249999999999983,0.2734374999999999,0.21874999999999992,0.16406250000000006,0.1171875],[0.0,0.0,0.0,0.0,0.0625,0.15625,0.234375,0.27343749999999983,0.27343749999999994,0.24609374999999983,0.2050781249999999],[0.0,0.0,0.0,0.0,0.0,0.03125,0.09375000000000003,0.16406250000000003,0.2187499999999999,0.24609374999999992,0.24609375000000003],[0.0,0.0,0.0,0.0,0.0,0.0,0.015625,0.054687499999999986,0.10937500000000004,0.16406250000000003,0.2050781249999999],[0.0,0.0,0.0,0.0,0.0,0.0,0.0,0.0078125,0.031249999999999983,0.07031250000000003,0.11718749999999999],[0.0,0.0,0.0,0.0,0.0,0.0,0.0,0.0,0.00390625,0.017578124999999965,0.04394531250000004],[0.0,0.0,0.0,0.0,0.0,0.0,0.0,0.0,0.0,0.001953125,0.009765625000000002],[0.0,0.0,0.0,0.0,0.0,0.0,0.0,0.0,0.0,0.0,0.0009765625]],\"type\":\"heatmap\"},{\"coloraxis\":\"coloraxis\",\"name\":\"P_1\",\"showscale\":false,\"z\":[[0.5000000000000001,0.24999999999999997,0.12499999999999999,0.06250000000000001,0.031249999999999976,0.01562500000000012,0.007812499999999949,0.003906250000000007,0.0019531250000000004,0.0009765624999999989,0.0],[0.5,0.5000000000000002,0.3750000000000001,0.25,0.15624999999999997,0.09375000000000003,0.054687499999999986,0.031249999999999983,0.01757812499999997,0.009765625000000002,0.0],[0.0,0.25,0.3750000000000001,0.375,0.31249999999999983,0.23437500000000003,0.16406250000000003,0.10937500000000004,0.07031250000000001,0.04394531250000004,0.0],[0.0,0.0,0.125,0.25000000000000006,0.31249999999999983,0.31249999999999983,0.2734374999999999,0.21874999999999992,0.16406250000000006,0.1171875,0.0],[0.0,0.0,0.0,0.0625,0.15625,0.234375,0.27343749999999983,0.27343749999999994,0.24609374999999983,0.2050781249999999,0.0],[0.0,0.0,0.0,0.0,0.03125,0.09375000000000003,0.16406250000000003,0.2187499999999999,0.24609374999999992,0.24609375000000003,0.0],[0.0,0.0,0.0,0.0,0.0,0.015625,0.054687499999999986,0.10937500000000004,0.16406250000000003,0.2050781249999999,0.0],[0.0,0.0,0.0,0.0,0.0,0.0,0.0078125,0.031249999999999983,0.07031250000000003,0.11718749999999999,0.0],[0.0,0.0,0.0,0.0,0.0,0.0,0.0,0.00390625,0.017578124999999965,0.04394531250000004,0.0],[0.0,0.0,0.0,0.0,0.0,0.0,0.0,0.0,0.001953125,0.009765625000000002,0.0],[0.0,0.0,0.0,0.0,0.0,0.0,0.0,0.0,0.0,0.0009765625,0.0]],\"type\":\"heatmap\"}],\"name\":\"Frame 4\"},{\"data\":[{\"coloraxis\":\"coloraxis\",\"name\":\"P_0\",\"showscale\":false,\"z\":[[1.0,0.6,0.36000000000000004,0.21599999999999991,0.1296000000000001,0.07775999999999994,0.04665599999999999,0.027993599999999997,0.016796160000000015,0.010077695999999919,0.0060466175999999185],[0.0,0.4,0.48000000000000015,0.43199999999999994,0.3456,0.2592000000000001,0.1866240000000001,0.13063680000000003,0.08957951999999997,0.060466175999999996,0.040310783999999975],[0.0,0.0,0.16000000000000003,0.2880000000000001,0.3456,0.34559999999999974,0.3110400000000002,0.26127360000000005,0.20901888000000002,0.161243136,0.12093235199999991],[0.0,0.0,0.0,0.06400000000000002,0.15360000000000001,0.23039999999999994,0.2764800000000001,0.290304,0.2786918399999999,0.2508226560000001,0.21499084799999976],[0.0,0.0,0.0,0.0,0.025600000000000005,0.0768,0.13824000000000009,0.19353599999999996,0.23224320000000004,0.25082265599999987,0.25082265599999987],[0.0,0.0,0.0,0.0,0.0,0.010240000000000003,0.03686400000000002,0.07741439999999988,0.12386304000000001,0.16721510400000017,0.20065812479999992],[0.0,0.0,0.0,0.0,0.0,0.0,0.0040960000000000015,0.01720320000000001,0.04128768,0.074317824,0.11147673600000006],[0.0,0.0,0.0,0.0,0.0,0.0,0.0,0.0016384000000000006,0.007864320000000006,0.021233664000000027,0.04246732799999996],[0.0,0.0,0.0,0.0,0.0,0.0,0.0,0.0,0.0006553600000000003,0.0035389440000000044,0.010616832000000001],[0.0,0.0,0.0,0.0,0.0,0.0,0.0,0.0,0.0,0.0002621440000000001,0.001572863999999999],[0.0,0.0,0.0,0.0,0.0,0.0,0.0,0.0,0.0,0.0,0.00010485760000000006]],\"type\":\"heatmap\"},{\"coloraxis\":\"coloraxis\",\"name\":\"P_1\",\"showscale\":false,\"z\":[[0.6,0.36000000000000004,0.21599999999999991,0.1296000000000001,0.07775999999999994,0.04665599999999999,0.027993599999999997,0.016796160000000015,0.010077695999999919,0.0060466175999999185,0.0],[0.4,0.48000000000000015,0.43199999999999994,0.3456,0.2592000000000001,0.1866240000000001,0.13063680000000003,0.08957951999999997,0.060466175999999996,0.040310783999999975,0.0],[0.0,0.16000000000000003,0.2880000000000001,0.3456,0.34559999999999974,0.3110400000000002,0.26127360000000005,0.20901888000000002,0.161243136,0.12093235199999991,0.0],[0.0,0.0,0.06400000000000002,0.15360000000000001,0.23039999999999994,0.2764800000000001,0.290304,0.2786918399999999,0.2508226560000001,0.21499084799999976,0.0],[0.0,0.0,0.0,0.025600000000000005,0.0768,0.13824000000000009,0.19353599999999996,0.23224320000000004,0.25082265599999987,0.25082265599999987,0.0],[0.0,0.0,0.0,0.0,0.010240000000000003,0.03686400000000002,0.07741439999999988,0.12386304000000001,0.16721510400000017,0.20065812479999992,0.0],[0.0,0.0,0.0,0.0,0.0,0.0040960000000000015,0.01720320000000001,0.04128768,0.074317824,0.11147673600000006,0.0],[0.0,0.0,0.0,0.0,0.0,0.0,0.0016384000000000006,0.007864320000000006,0.021233664000000027,0.04246732799999996,0.0],[0.0,0.0,0.0,0.0,0.0,0.0,0.0,0.0006553600000000003,0.0035389440000000044,0.010616832000000001,0.0],[0.0,0.0,0.0,0.0,0.0,0.0,0.0,0.0,0.0002621440000000001,0.001572863999999999,0.0],[0.0,0.0,0.0,0.0,0.0,0.0,0.0,0.0,0.0,0.00010485760000000006,0.0]],\"type\":\"heatmap\"}],\"name\":\"Frame 5\"},{\"data\":[{\"coloraxis\":\"coloraxis\",\"name\":\"P_0\",\"showscale\":false,\"z\":[[1.0,0.7000000000000002,0.4900000000000002,0.34299999999999997,0.24010000000000012,0.16807000000000002,0.11764899999999992,0.08235430000000007,0.05764800999999997,0.040353606999999944,0.0282475249],[0.0,0.30000000000000004,0.42000000000000015,0.44099999999999984,0.41160000000000013,0.36015000000000014,0.30252599999999974,0.2470629000000002,0.19765032000000016,0.15564962699999993,0.12106082099999997],[0.0,0.0,0.09000000000000002,0.18899999999999995,0.26460000000000006,0.3086999999999998,0.3241349999999999,0.3176523000000004,0.29647548,0.26682793199999966,0.23347444050000019],[0.0,0.0,0.0,0.027000000000000014,0.07560000000000008,0.1323,0.18521999999999986,0.22689450000000005,0.25412184,0.26682793200000016,0.266827932],[0.0,0.0,0.0,0.0,0.008100000000000005,0.028349999999999986,0.059535,0.09724050000000008,0.13613670000000017,0.1715322420000001,0.20012094900000002],[0.0,0.0,0.0,0.0,0.0,0.0024300000000000016,0.010206000000000002,0.025004700000000026,0.04667544000000003,0.07351381800000001,0.10291934519999998],[0.0,0.0,0.0,0.0,0.0,0.0,0.0007290000000000007,0.0035721000000000025,0.010001880000000008,0.021003948000000005,0.03675690900000002],[0.0,0.0,0.0,0.0,0.0,0.0,0.0,0.00021870000000000022,0.001224720000000001,0.0038578680000000017,0.009001692000000004],[0.0,0.0,0.0,0.0,0.0,0.0,0.0,0.0,6.561000000000007e-05,0.00041334300000000037,0.0014467005],[0.0,0.0,0.0,0.0,0.0,0.0,0.0,0.0,0.0,1.9683000000000025e-05,0.0001377810000000001],[0.0,0.0,0.0,0.0,0.0,0.0,0.0,0.0,0.0,0.0,5.9049000000000085e-06]],\"type\":\"heatmap\"},{\"coloraxis\":\"coloraxis\",\"name\":\"P_1\",\"showscale\":false,\"z\":[[0.7000000000000002,0.4900000000000002,0.34299999999999997,0.24010000000000012,0.16807000000000002,0.11764899999999992,0.08235430000000007,0.05764800999999997,0.040353606999999944,0.0282475249,0.0],[0.30000000000000004,0.42000000000000015,0.44099999999999984,0.41160000000000013,0.36015000000000014,0.30252599999999974,0.2470629000000002,0.19765032000000016,0.15564962699999993,0.12106082099999997,0.0],[0.0,0.09000000000000002,0.18899999999999995,0.26460000000000006,0.3086999999999998,0.3241349999999999,0.3176523000000004,0.29647548,0.26682793199999966,0.23347444050000019,0.0],[0.0,0.0,0.027000000000000014,0.07560000000000008,0.1323,0.18521999999999986,0.22689450000000005,0.25412184,0.26682793200000016,0.266827932,0.0],[0.0,0.0,0.0,0.008100000000000005,0.028349999999999986,0.059535,0.09724050000000008,0.13613670000000017,0.1715322420000001,0.20012094900000002,0.0],[0.0,0.0,0.0,0.0,0.0024300000000000016,0.010206000000000002,0.025004700000000026,0.04667544000000003,0.07351381800000001,0.10291934519999998,0.0],[0.0,0.0,0.0,0.0,0.0,0.0007290000000000007,0.0035721000000000025,0.010001880000000008,0.021003948000000005,0.03675690900000002,0.0],[0.0,0.0,0.0,0.0,0.0,0.0,0.00021870000000000022,0.001224720000000001,0.0038578680000000017,0.009001692000000004,0.0],[0.0,0.0,0.0,0.0,0.0,0.0,0.0,6.561000000000007e-05,0.00041334300000000037,0.0014467005,0.0],[0.0,0.0,0.0,0.0,0.0,0.0,0.0,0.0,1.9683000000000025e-05,0.0001377810000000001,0.0],[0.0,0.0,0.0,0.0,0.0,0.0,0.0,0.0,0.0,5.9049000000000085e-06,0.0]],\"type\":\"heatmap\"}],\"name\":\"Frame 6\"},{\"data\":[{\"coloraxis\":\"coloraxis\",\"name\":\"P_0\",\"showscale\":false,\"z\":[[1.0,0.7999999999999999,0.6399999999999999,0.5120000000000002,0.4095999999999999,0.32767999999999997,0.26214400000000015,0.20971520000000002,0.16777216000000014,0.13421772800000006,0.10737418240000006],[0.0,0.19999999999999996,0.32,0.3840000000000001,0.4096,0.4096,0.3932160000000001,0.3670016,0.3355443200000001,0.3019898880000001,0.26843545599999996],[0.0,0.0,0.03999999999999998,0.09600000000000004,0.1535999999999999,0.20479999999999995,0.24575999999999995,0.2752512000000001,0.2936012799999999,0.30198988800000015,0.301989888],[0.0,0.0,0.0,0.007999999999999995,0.025599999999999984,0.051199999999999975,0.08191999999999995,0.11468799999999987,0.1468006399999999,0.17616076799999997,0.20132659199999978],[0.0,0.0,0.0,0.0,0.0015999999999999986,0.006399999999999997,0.015359999999999985,0.02867199999999997,0.04587519999999999,0.06606028799999995,0.08808038399999986],[0.0,0.0,0.0,0.0,0.0,0.00031999999999999965,0.001535999999999999,0.004300799999999999,0.009175039999999995,0.01651507199999999,0.026424115199999956],[0.0,0.0,0.0,0.0,0.0,0.0,6.399999999999992e-05,0.0003583999999999998,0.0011468799999999988,0.0027525119999999973,0.00550502399999999],[0.0,0.0,0.0,0.0,0.0,0.0,0.0,1.279999999999998e-05,8.191999999999991e-05,0.00029491199999999993,0.0007864319999999987],[0.0,0.0,0.0,0.0,0.0,0.0,0.0,0.0,2.5599999999999954e-06,1.8431999999999982e-05,7.372799999999987e-05],[0.0,0.0,0.0,0.0,0.0,0.0,0.0,0.0,0.0,5.11999999999999e-07,4.095999999999988e-06],[0.0,0.0,0.0,0.0,0.0,0.0,0.0,0.0,0.0,0.0,1.0239999999999978e-07]],\"type\":\"heatmap\"},{\"coloraxis\":\"coloraxis\",\"name\":\"P_1\",\"showscale\":false,\"z\":[[0.7999999999999999,0.6399999999999999,0.5120000000000002,0.4095999999999999,0.32767999999999997,0.26214400000000015,0.20971520000000002,0.16777216000000014,0.13421772800000006,0.10737418240000006,0.0],[0.19999999999999996,0.32,0.3840000000000001,0.4096,0.4096,0.3932160000000001,0.3670016,0.3355443200000001,0.3019898880000001,0.26843545599999996,0.0],[0.0,0.03999999999999998,0.09600000000000004,0.1535999999999999,0.20479999999999995,0.24575999999999995,0.2752512000000001,0.2936012799999999,0.30198988800000015,0.301989888,0.0],[0.0,0.0,0.007999999999999995,0.025599999999999984,0.051199999999999975,0.08191999999999995,0.11468799999999987,0.1468006399999999,0.17616076799999997,0.20132659199999978,0.0],[0.0,0.0,0.0,0.0015999999999999986,0.006399999999999997,0.015359999999999985,0.02867199999999997,0.04587519999999999,0.06606028799999995,0.08808038399999986,0.0],[0.0,0.0,0.0,0.0,0.00031999999999999965,0.001535999999999999,0.004300799999999999,0.009175039999999995,0.01651507199999999,0.026424115199999956,0.0],[0.0,0.0,0.0,0.0,0.0,6.399999999999992e-05,0.0003583999999999998,0.0011468799999999988,0.0027525119999999973,0.00550502399999999,0.0],[0.0,0.0,0.0,0.0,0.0,0.0,1.279999999999998e-05,8.191999999999991e-05,0.00029491199999999993,0.0007864319999999987,0.0],[0.0,0.0,0.0,0.0,0.0,0.0,0.0,2.5599999999999954e-06,1.8431999999999982e-05,7.372799999999987e-05,0.0],[0.0,0.0,0.0,0.0,0.0,0.0,0.0,0.0,5.11999999999999e-07,4.095999999999988e-06,0.0],[0.0,0.0,0.0,0.0,0.0,0.0,0.0,0.0,0.0,1.0239999999999978e-07,0.0]],\"type\":\"heatmap\"}],\"name\":\"Frame 7\"},{\"data\":[{\"coloraxis\":\"coloraxis\",\"name\":\"P_0\",\"showscale\":false,\"z\":[[1.0,0.9000000000000001,0.81,0.7290000000000001,0.6561,0.59049,0.5314409999999999,0.47829690000000014,0.43046721000000016,0.38742048900000003,0.3486784401],[0.0,0.09999999999999998,0.17999999999999997,0.243,0.29159999999999997,0.3280499999999999,0.35429400000000005,0.37200869999999986,0.38263752000000006,0.38742048899999987,0.38742048899999976],[0.0,0.0,0.009999999999999995,0.026999999999999993,0.048599999999999983,0.07289999999999995,0.09841499999999996,0.12400290000000001,0.14880347999999993,0.17218688399999987,0.1937102444999998],[0.0,0.0,0.0,0.0009999999999999994,0.003599999999999998,0.008099999999999994,0.014579999999999984,0.02296349999999998,0.03306743999999999,0.04464104399999997,0.057395627999999956],[0.0,0.0,0.0,0.0,9.999999999999991e-05,0.0004499999999999999,0.0012149999999999984,0.002551499999999996,0.004592699999999998,0.007440173999999999,0.011160260999999994],[0.0,0.0,0.0,0.0,0.0,9.999999999999989e-06,5.3999999999999944e-05,0.00017009999999999993,0.00040823999999999976,0.0008266859999999994,0.0014880347999999982],[0.0,0.0,0.0,0.0,0.0,0.0,9.999999999999987e-07,6.299999999999996e-06,2.267999999999998e-05,6.123599999999991e-05,0.00013778099999999977],[0.0,0.0,0.0,0.0,0.0,0.0,0.0,9.999999999999985e-08,7.199999999999989e-07,2.915999999999998e-06,8.747999999999993e-06],[0.0,0.0,0.0,0.0,0.0,0.0,0.0,0.0,9.999999999999982e-09,8.099999999999992e-08,3.6449999999999933e-07],[0.0,0.0,0.0,0.0,0.0,0.0,0.0,0.0,0.0,9.99999999999998e-10,8.999999999999978e-09],[0.0,0.0,0.0,0.0,0.0,0.0,0.0,0.0,0.0,0.0,9.999999999999978e-11]],\"type\":\"heatmap\"},{\"coloraxis\":\"coloraxis\",\"name\":\"P_1\",\"showscale\":false,\"z\":[[0.9000000000000001,0.81,0.7290000000000001,0.6561,0.59049,0.5314409999999999,0.47829690000000014,0.43046721000000016,0.38742048900000003,0.3486784401,0.0],[0.09999999999999998,0.17999999999999997,0.243,0.29159999999999997,0.3280499999999999,0.35429400000000005,0.37200869999999986,0.38263752000000006,0.38742048899999987,0.38742048899999976,0.0],[0.0,0.009999999999999995,0.026999999999999993,0.048599999999999983,0.07289999999999995,0.09841499999999996,0.12400290000000001,0.14880347999999993,0.17218688399999987,0.1937102444999998,0.0],[0.0,0.0,0.0009999999999999994,0.003599999999999998,0.008099999999999994,0.014579999999999984,0.02296349999999998,0.03306743999999999,0.04464104399999997,0.057395627999999956,0.0],[0.0,0.0,0.0,9.999999999999991e-05,0.0004499999999999999,0.0012149999999999984,0.002551499999999996,0.004592699999999998,0.007440173999999999,0.011160260999999994,0.0],[0.0,0.0,0.0,0.0,9.999999999999989e-06,5.3999999999999944e-05,0.00017009999999999993,0.00040823999999999976,0.0008266859999999994,0.0014880347999999982,0.0],[0.0,0.0,0.0,0.0,0.0,9.999999999999987e-07,6.299999999999996e-06,2.267999999999998e-05,6.123599999999991e-05,0.00013778099999999977,0.0],[0.0,0.0,0.0,0.0,0.0,0.0,9.999999999999985e-08,7.199999999999989e-07,2.915999999999998e-06,8.747999999999993e-06,0.0],[0.0,0.0,0.0,0.0,0.0,0.0,0.0,9.999999999999982e-09,8.099999999999992e-08,3.6449999999999933e-07,0.0],[0.0,0.0,0.0,0.0,0.0,0.0,0.0,0.0,9.99999999999998e-10,8.999999999999978e-09,0.0],[0.0,0.0,0.0,0.0,0.0,0.0,0.0,0.0,0.0,9.999999999999978e-11,0.0]],\"type\":\"heatmap\"}],\"name\":\"Frame 8\"},{\"data\":[{\"coloraxis\":\"coloraxis\",\"name\":\"P_0\",\"showscale\":false,\"z\":[[1.0,1.0,1.0,1.0,1.0,1.0,1.0,1.0,1.0,1.0,1.0],[0.0,0.0,0.0,0.0,0.0,0.0,0.0,0.0,0.0,0.0,0.0],[0.0,0.0,0.0,0.0,0.0,0.0,0.0,0.0,0.0,0.0,0.0],[0.0,0.0,0.0,0.0,0.0,0.0,0.0,0.0,0.0,0.0,0.0],[0.0,0.0,0.0,0.0,0.0,0.0,0.0,0.0,0.0,0.0,0.0],[0.0,0.0,0.0,0.0,0.0,0.0,0.0,0.0,0.0,0.0,0.0],[0.0,0.0,0.0,0.0,0.0,0.0,0.0,0.0,0.0,0.0,0.0],[0.0,0.0,0.0,0.0,0.0,0.0,0.0,0.0,0.0,0.0,0.0],[0.0,0.0,0.0,0.0,0.0,0.0,0.0,0.0,0.0,0.0,0.0],[0.0,0.0,0.0,0.0,0.0,0.0,0.0,0.0,0.0,0.0,0.0],[0.0,0.0,0.0,0.0,0.0,0.0,0.0,0.0,0.0,0.0,0.0]],\"type\":\"heatmap\"},{\"coloraxis\":\"coloraxis\",\"name\":\"P_1\",\"showscale\":false,\"z\":[[1.0,1.0,1.0,1.0,1.0,1.0,1.0,1.0,1.0,1.0,0.0],[0.0,0.0,0.0,0.0,0.0,0.0,0.0,0.0,0.0,0.0,0.0],[0.0,0.0,0.0,0.0,0.0,0.0,0.0,0.0,0.0,0.0,0.0],[0.0,0.0,0.0,0.0,0.0,0.0,0.0,0.0,0.0,0.0,0.0],[0.0,0.0,0.0,0.0,0.0,0.0,0.0,0.0,0.0,0.0,0.0],[0.0,0.0,0.0,0.0,0.0,0.0,0.0,0.0,0.0,0.0,0.0],[0.0,0.0,0.0,0.0,0.0,0.0,0.0,0.0,0.0,0.0,0.0],[0.0,0.0,0.0,0.0,0.0,0.0,0.0,0.0,0.0,0.0,0.0],[0.0,0.0,0.0,0.0,0.0,0.0,0.0,0.0,0.0,0.0,0.0],[0.0,0.0,0.0,0.0,0.0,0.0,0.0,0.0,0.0,0.0,0.0],[0.0,0.0,0.0,0.0,0.0,0.0,0.0,0.0,0.0,0.0,0.0]],\"type\":\"heatmap\"}],\"name\":\"Frame 9\"}]);\n",
              "                        }).then(function(){\n",
              "                            \n",
              "var gd = document.getElementById('4a440613-1ca4-496b-8027-280fbdfc1a83');\n",
              "var x = new MutationObserver(function (mutations, observer) {{\n",
              "        var display = window.getComputedStyle(gd).display;\n",
              "        if (!display || display === 'none') {{\n",
              "            console.log([gd, 'removed!']);\n",
              "            Plotly.purge(gd);\n",
              "            observer.disconnect();\n",
              "        }}\n",
              "}});\n",
              "\n",
              "// Listen for the removal of the full notebook cells\n",
              "var notebookContainer = gd.closest('#notebook-container');\n",
              "if (notebookContainer) {{\n",
              "    x.observe(notebookContainer, {childList: true});\n",
              "}}\n",
              "\n",
              "// Listen for the clearing of the current output cell\n",
              "var outputEl = gd.closest('.output');\n",
              "if (outputEl) {{\n",
              "    x.observe(outputEl, {childList: true});\n",
              "}}\n",
              "\n",
              "                        })                };                            </script>        </div>\n",
              "</body>\n",
              "</html>"
            ]
          },
          "metadata": {},
          "output_type": "display_data"
        }
      ],
      "source": [
        "# Create the transition matrices for different q values\n",
        "qs = np.round(np.linspace(0, 1, 11)[1:], 2) # list of rounded q values\n",
        "Ps = [P_matrix(q) for q in qs]  # list of transition matrices for different q values\n",
        "fig_p = heatmap_animation(Ps, qs, colorscale='ice')  # create the animation figure\n",
        "fig_p.show()"
      ]
    },
    {
      "cell_type": "markdown",
      "metadata": {
        "id": "OJc5TUjggRjp"
      },
      "source": [
        "## Cost function"
      ]
    },
    {
      "cell_type": "markdown",
      "metadata": {
        "id": "7AUWABYygRjp"
      },
      "source": [
        "### Incentives"
      ]
    },
    {
      "cell_type": "markdown",
      "metadata": {
        "id": "kvDRLtSggRjp"
      },
      "source": [
        "#### Incentive for accepting jobs\n",
        "\n",
        "We define $-\\gamma$ as an instantaneous decrease on cost for incentive the scheduler to accepting a job.\n",
        "\n",
        "> Note: If the action is reject, therefore the cost will not decrease, however, if the action is accept, the cost will decrease in function of $\\gamma$"
      ]
    },
    {
      "cell_type": "markdown",
      "metadata": {
        "id": "P-I7DZQPgRjp"
      },
      "source": [
        "#### Incentive for processing jobs\n",
        "\n",
        "The scheduler faces a storage cost caused by the length of the queue.\n",
        "We assume that the cost has the following three property:\n",
        "\n",
        "- Equal to $0$ when $S(t)=0$;\n",
        "- Increasing in $S(t)$;\n",
        "- Quadratic in $S(t)$.\n",
        "\n",
        "> Remark: We can actually take the energy cost depending of $S(t)+A(t)$ and not just depending on $S(t)$."
      ]
    },
    {
      "cell_type": "markdown",
      "metadata": {
        "id": "JXn_4WopgRjq"
      },
      "source": [
        "### Formulating the cost\n",
        "\n",
        "$$\n",
        "C(S(t),A(t)):=S(t)^2-\\gamma A(t).\n",
        "$$\n",
        "\n",
        "> Note: This is an instantaneous cost that the scheduler is facing."
      ]
    },
    {
      "cell_type": "markdown",
      "metadata": {
        "id": "ab1H9iDWgRjq"
      },
      "source": [
        "### Function implementation"
      ]
    },
    {
      "cell_type": "code",
      "execution_count": null,
      "metadata": {
        "id": "gylyjIPegRjq"
      },
      "outputs": [],
      "source": [
        "def cost(s,a,gamma):\n",
        "  return s**2 - gamma*a"
      ]
    },
    {
      "cell_type": "markdown",
      "metadata": {
        "id": "9AeWN4t8gRjq"
      },
      "source": [
        "#### Cost Matrix"
      ]
    },
    {
      "cell_type": "code",
      "execution_count": null,
      "metadata": {
        "id": "r0mho7XPgRjq"
      },
      "outputs": [],
      "source": [
        "def costs_matrix(gammas, K=10):\n",
        "  costs = np.zeros((K+1, len(gammas), 2))\n",
        "  for s in range(K+1):\n",
        "    for idx, gamma in enumerate(gammas):\n",
        "      for a in range(2):\n",
        "        costs[idx,s,a] = cost(s,a,gamma)\n",
        "  return costs"
      ]
    },
    {
      "cell_type": "markdown",
      "metadata": {
        "id": "gFs_2zgtgRjq"
      },
      "source": [
        "### Visualizing the Cost\n",
        "\n",
        "Let's use a heatmap to visualize the costs for different values of $\\gamma$."
      ]
    },
    {
      "cell_type": "markdown",
      "metadata": {
        "id": "pIHgKvNzgRjq"
      },
      "source": [
        "#### Plotting"
      ]
    },
    {
      "cell_type": "code",
      "execution_count": null,
      "metadata": {
        "colab": {
          "base_uri": "https://localhost:8080/",
          "height": 542
        },
        "id": "ebYbqtwIgRjq",
        "outputId": "e42d8183-70ff-4bae-b271-0de3dffe6139"
      },
      "outputs": [
        {
          "data": {
            "text/html": [
              "<html>\n",
              "<head><meta charset=\"utf-8\" /></head>\n",
              "<body>\n",
              "    <div>            <script src=\"https://cdnjs.cloudflare.com/ajax/libs/mathjax/2.7.5/MathJax.js?config=TeX-AMS-MML_SVG\"></script><script type=\"text/javascript\">if (window.MathJax && window.MathJax.Hub && window.MathJax.Hub.Config) {window.MathJax.Hub.Config({SVG: {font: \"STIX-Web\"}});}</script>                <script type=\"text/javascript\">window.PlotlyConfig = {MathJaxConfig: 'local'};</script>\n",
              "        <script charset=\"utf-8\" src=\"https://cdn.plot.ly/plotly-2.24.1.min.js\"></script>                <div id=\"bb05eaaf-0e6c-466f-b825-b25cbd22545d\" class=\"plotly-graph-div\" style=\"height:525px; width:100%;\"></div>            <script type=\"text/javascript\">                                    window.PLOTLYENV=window.PLOTLYENV || {};                                    if (document.getElementById(\"bb05eaaf-0e6c-466f-b825-b25cbd22545d\")) {                    Plotly.newPlot(                        \"bb05eaaf-0e6c-466f-b825-b25cbd22545d\",                        [{\"coloraxis\":\"coloraxis\",\"name\":\"P_0\",\"showscale\":false,\"y\":[\"9.09\",\"18.18\",\"27.27\",\"36.36\",\"45.45\",\"54.55\",\"63.64\",\"72.73\",\"81.82\",\"90.91\",\"100.0\"],\"z\":[[0.0,1.0,4.0,9.0,16.0,25.0,36.0,49.0,64.0,81.0,100.0],[0.0,1.0,4.0,9.0,16.0,25.0,36.0,49.0,64.0,81.0,100.0],[0.0,1.0,4.0,9.0,16.0,25.0,36.0,49.0,64.0,81.0,100.0],[0.0,1.0,4.0,9.0,16.0,25.0,36.0,49.0,64.0,81.0,100.0],[0.0,1.0,4.0,9.0,16.0,25.0,36.0,49.0,64.0,81.0,100.0],[0.0,1.0,4.0,9.0,16.0,25.0,36.0,49.0,64.0,81.0,100.0],[0.0,1.0,4.0,9.0,16.0,25.0,36.0,49.0,64.0,81.0,100.0],[0.0,1.0,4.0,9.0,16.0,25.0,36.0,49.0,64.0,81.0,100.0],[0.0,1.0,4.0,9.0,16.0,25.0,36.0,49.0,64.0,81.0,100.0],[0.0,1.0,4.0,9.0,16.0,25.0,36.0,49.0,64.0,81.0,100.0],[0.0,1.0,4.0,9.0,16.0,25.0,36.0,49.0,64.0,81.0,100.0]],\"type\":\"heatmap\",\"xaxis\":\"x\",\"yaxis\":\"y\"},{\"coloraxis\":\"coloraxis\",\"name\":\"P_1\",\"showscale\":false,\"y\":[\"9.09\",\"18.18\",\"27.27\",\"36.36\",\"45.45\",\"54.55\",\"63.64\",\"72.73\",\"81.82\",\"90.91\",\"100.0\"],\"z\":[[-9.09,-8.09,-5.09,-0.08999999999999986,6.91,15.91,26.91,39.91,54.91,71.91,90.91],[-18.18,-17.18,-14.18,-9.18,-2.1799999999999997,6.82,17.82,30.82,45.82,62.82,81.82],[-27.27,-26.27,-23.27,-18.27,-11.27,-2.2699999999999996,8.73,21.73,36.730000000000004,53.730000000000004,72.73],[-36.36,-35.36,-32.36,-27.36,-20.36,-11.36,-0.35999999999999943,12.64,27.64,44.64,63.64],[-45.45,-44.45,-41.45,-36.45,-29.450000000000003,-20.450000000000003,-9.450000000000003,3.549999999999997,18.549999999999997,35.55,54.55],[-54.55,-53.55,-50.55,-45.55,-38.55,-29.549999999999997,-18.549999999999997,-5.549999999999997,9.450000000000003,26.450000000000003,45.45],[-63.64,-62.64,-59.64,-54.64,-47.64,-38.64,-27.64,-14.64,0.35999999999999943,17.36,36.36],[-72.73,-71.73,-68.73,-63.730000000000004,-56.730000000000004,-47.730000000000004,-36.730000000000004,-23.730000000000004,-8.730000000000004,8.269999999999996,27.269999999999996],[-81.82,-80.82,-77.82,-72.82,-65.82,-56.81999999999999,-45.81999999999999,-32.81999999999999,-17.819999999999993,-0.8199999999999932,18.180000000000007],[-90.91,-89.91,-86.91,-81.91,-74.91,-65.91,-54.91,-41.91,-26.909999999999997,-9.909999999999997,9.090000000000003],[-100.0,-99.0,-96.0,-91.0,-84.0,-75.0,-64.0,-51.0,-36.0,-19.0,0.0]],\"type\":\"heatmap\",\"xaxis\":\"x2\",\"yaxis\":\"y2\"}],                        {\"template\":{\"data\":{\"histogram2dcontour\":[{\"type\":\"histogram2dcontour\",\"colorbar\":{\"outlinewidth\":0,\"ticks\":\"\"},\"colorscale\":[[0.0,\"#0d0887\"],[0.1111111111111111,\"#46039f\"],[0.2222222222222222,\"#7201a8\"],[0.3333333333333333,\"#9c179e\"],[0.4444444444444444,\"#bd3786\"],[0.5555555555555556,\"#d8576b\"],[0.6666666666666666,\"#ed7953\"],[0.7777777777777778,\"#fb9f3a\"],[0.8888888888888888,\"#fdca26\"],[1.0,\"#f0f921\"]]}],\"choropleth\":[{\"type\":\"choropleth\",\"colorbar\":{\"outlinewidth\":0,\"ticks\":\"\"}}],\"histogram2d\":[{\"type\":\"histogram2d\",\"colorbar\":{\"outlinewidth\":0,\"ticks\":\"\"},\"colorscale\":[[0.0,\"#0d0887\"],[0.1111111111111111,\"#46039f\"],[0.2222222222222222,\"#7201a8\"],[0.3333333333333333,\"#9c179e\"],[0.4444444444444444,\"#bd3786\"],[0.5555555555555556,\"#d8576b\"],[0.6666666666666666,\"#ed7953\"],[0.7777777777777778,\"#fb9f3a\"],[0.8888888888888888,\"#fdca26\"],[1.0,\"#f0f921\"]]}],\"heatmap\":[{\"type\":\"heatmap\",\"colorbar\":{\"outlinewidth\":0,\"ticks\":\"\"},\"colorscale\":[[0.0,\"#0d0887\"],[0.1111111111111111,\"#46039f\"],[0.2222222222222222,\"#7201a8\"],[0.3333333333333333,\"#9c179e\"],[0.4444444444444444,\"#bd3786\"],[0.5555555555555556,\"#d8576b\"],[0.6666666666666666,\"#ed7953\"],[0.7777777777777778,\"#fb9f3a\"],[0.8888888888888888,\"#fdca26\"],[1.0,\"#f0f921\"]]}],\"heatmapgl\":[{\"type\":\"heatmapgl\",\"colorbar\":{\"outlinewidth\":0,\"ticks\":\"\"},\"colorscale\":[[0.0,\"#0d0887\"],[0.1111111111111111,\"#46039f\"],[0.2222222222222222,\"#7201a8\"],[0.3333333333333333,\"#9c179e\"],[0.4444444444444444,\"#bd3786\"],[0.5555555555555556,\"#d8576b\"],[0.6666666666666666,\"#ed7953\"],[0.7777777777777778,\"#fb9f3a\"],[0.8888888888888888,\"#fdca26\"],[1.0,\"#f0f921\"]]}],\"contourcarpet\":[{\"type\":\"contourcarpet\",\"colorbar\":{\"outlinewidth\":0,\"ticks\":\"\"}}],\"contour\":[{\"type\":\"contour\",\"colorbar\":{\"outlinewidth\":0,\"ticks\":\"\"},\"colorscale\":[[0.0,\"#0d0887\"],[0.1111111111111111,\"#46039f\"],[0.2222222222222222,\"#7201a8\"],[0.3333333333333333,\"#9c179e\"],[0.4444444444444444,\"#bd3786\"],[0.5555555555555556,\"#d8576b\"],[0.6666666666666666,\"#ed7953\"],[0.7777777777777778,\"#fb9f3a\"],[0.8888888888888888,\"#fdca26\"],[1.0,\"#f0f921\"]]}],\"surface\":[{\"type\":\"surface\",\"colorbar\":{\"outlinewidth\":0,\"ticks\":\"\"},\"colorscale\":[[0.0,\"#0d0887\"],[0.1111111111111111,\"#46039f\"],[0.2222222222222222,\"#7201a8\"],[0.3333333333333333,\"#9c179e\"],[0.4444444444444444,\"#bd3786\"],[0.5555555555555556,\"#d8576b\"],[0.6666666666666666,\"#ed7953\"],[0.7777777777777778,\"#fb9f3a\"],[0.8888888888888888,\"#fdca26\"],[1.0,\"#f0f921\"]]}],\"mesh3d\":[{\"type\":\"mesh3d\",\"colorbar\":{\"outlinewidth\":0,\"ticks\":\"\"}}],\"scatter\":[{\"fillpattern\":{\"fillmode\":\"overlay\",\"size\":10,\"solidity\":0.2},\"type\":\"scatter\"}],\"parcoords\":[{\"type\":\"parcoords\",\"line\":{\"colorbar\":{\"outlinewidth\":0,\"ticks\":\"\"}}}],\"scatterpolargl\":[{\"type\":\"scatterpolargl\",\"marker\":{\"colorbar\":{\"outlinewidth\":0,\"ticks\":\"\"}}}],\"bar\":[{\"error_x\":{\"color\":\"#2a3f5f\"},\"error_y\":{\"color\":\"#2a3f5f\"},\"marker\":{\"line\":{\"color\":\"#E5ECF6\",\"width\":0.5},\"pattern\":{\"fillmode\":\"overlay\",\"size\":10,\"solidity\":0.2}},\"type\":\"bar\"}],\"scattergeo\":[{\"type\":\"scattergeo\",\"marker\":{\"colorbar\":{\"outlinewidth\":0,\"ticks\":\"\"}}}],\"scatterpolar\":[{\"type\":\"scatterpolar\",\"marker\":{\"colorbar\":{\"outlinewidth\":0,\"ticks\":\"\"}}}],\"histogram\":[{\"marker\":{\"pattern\":{\"fillmode\":\"overlay\",\"size\":10,\"solidity\":0.2}},\"type\":\"histogram\"}],\"scattergl\":[{\"type\":\"scattergl\",\"marker\":{\"colorbar\":{\"outlinewidth\":0,\"ticks\":\"\"}}}],\"scatter3d\":[{\"type\":\"scatter3d\",\"line\":{\"colorbar\":{\"outlinewidth\":0,\"ticks\":\"\"}},\"marker\":{\"colorbar\":{\"outlinewidth\":0,\"ticks\":\"\"}}}],\"scattermapbox\":[{\"type\":\"scattermapbox\",\"marker\":{\"colorbar\":{\"outlinewidth\":0,\"ticks\":\"\"}}}],\"scatterternary\":[{\"type\":\"scatterternary\",\"marker\":{\"colorbar\":{\"outlinewidth\":0,\"ticks\":\"\"}}}],\"scattercarpet\":[{\"type\":\"scattercarpet\",\"marker\":{\"colorbar\":{\"outlinewidth\":0,\"ticks\":\"\"}}}],\"carpet\":[{\"aaxis\":{\"endlinecolor\":\"#2a3f5f\",\"gridcolor\":\"white\",\"linecolor\":\"white\",\"minorgridcolor\":\"white\",\"startlinecolor\":\"#2a3f5f\"},\"baxis\":{\"endlinecolor\":\"#2a3f5f\",\"gridcolor\":\"white\",\"linecolor\":\"white\",\"minorgridcolor\":\"white\",\"startlinecolor\":\"#2a3f5f\"},\"type\":\"carpet\"}],\"table\":[{\"cells\":{\"fill\":{\"color\":\"#EBF0F8\"},\"line\":{\"color\":\"white\"}},\"header\":{\"fill\":{\"color\":\"#C8D4E3\"},\"line\":{\"color\":\"white\"}},\"type\":\"table\"}],\"barpolar\":[{\"marker\":{\"line\":{\"color\":\"#E5ECF6\",\"width\":0.5},\"pattern\":{\"fillmode\":\"overlay\",\"size\":10,\"solidity\":0.2}},\"type\":\"barpolar\"}],\"pie\":[{\"automargin\":true,\"type\":\"pie\"}]},\"layout\":{\"autotypenumbers\":\"strict\",\"colorway\":[\"#636efa\",\"#EF553B\",\"#00cc96\",\"#ab63fa\",\"#FFA15A\",\"#19d3f3\",\"#FF6692\",\"#B6E880\",\"#FF97FF\",\"#FECB52\"],\"font\":{\"color\":\"#2a3f5f\"},\"hovermode\":\"closest\",\"hoverlabel\":{\"align\":\"left\"},\"paper_bgcolor\":\"white\",\"plot_bgcolor\":\"#E5ECF6\",\"polar\":{\"bgcolor\":\"#E5ECF6\",\"angularaxis\":{\"gridcolor\":\"white\",\"linecolor\":\"white\",\"ticks\":\"\"},\"radialaxis\":{\"gridcolor\":\"white\",\"linecolor\":\"white\",\"ticks\":\"\"}},\"ternary\":{\"bgcolor\":\"#E5ECF6\",\"aaxis\":{\"gridcolor\":\"white\",\"linecolor\":\"white\",\"ticks\":\"\"},\"baxis\":{\"gridcolor\":\"white\",\"linecolor\":\"white\",\"ticks\":\"\"},\"caxis\":{\"gridcolor\":\"white\",\"linecolor\":\"white\",\"ticks\":\"\"}},\"coloraxis\":{\"colorbar\":{\"outlinewidth\":0,\"ticks\":\"\"}},\"colorscale\":{\"sequential\":[[0.0,\"#0d0887\"],[0.1111111111111111,\"#46039f\"],[0.2222222222222222,\"#7201a8\"],[0.3333333333333333,\"#9c179e\"],[0.4444444444444444,\"#bd3786\"],[0.5555555555555556,\"#d8576b\"],[0.6666666666666666,\"#ed7953\"],[0.7777777777777778,\"#fb9f3a\"],[0.8888888888888888,\"#fdca26\"],[1.0,\"#f0f921\"]],\"sequentialminus\":[[0.0,\"#0d0887\"],[0.1111111111111111,\"#46039f\"],[0.2222222222222222,\"#7201a8\"],[0.3333333333333333,\"#9c179e\"],[0.4444444444444444,\"#bd3786\"],[0.5555555555555556,\"#d8576b\"],[0.6666666666666666,\"#ed7953\"],[0.7777777777777778,\"#fb9f3a\"],[0.8888888888888888,\"#fdca26\"],[1.0,\"#f0f921\"]],\"diverging\":[[0,\"#8e0152\"],[0.1,\"#c51b7d\"],[0.2,\"#de77ae\"],[0.3,\"#f1b6da\"],[0.4,\"#fde0ef\"],[0.5,\"#f7f7f7\"],[0.6,\"#e6f5d0\"],[0.7,\"#b8e186\"],[0.8,\"#7fbc41\"],[0.9,\"#4d9221\"],[1,\"#276419\"]]},\"xaxis\":{\"gridcolor\":\"white\",\"linecolor\":\"white\",\"ticks\":\"\",\"title\":{\"standoff\":15},\"zerolinecolor\":\"white\",\"automargin\":true,\"zerolinewidth\":2},\"yaxis\":{\"gridcolor\":\"white\",\"linecolor\":\"white\",\"ticks\":\"\",\"title\":{\"standoff\":15},\"zerolinecolor\":\"white\",\"automargin\":true,\"zerolinewidth\":2},\"scene\":{\"xaxis\":{\"backgroundcolor\":\"#E5ECF6\",\"gridcolor\":\"white\",\"linecolor\":\"white\",\"showbackground\":true,\"ticks\":\"\",\"zerolinecolor\":\"white\",\"gridwidth\":2},\"yaxis\":{\"backgroundcolor\":\"#E5ECF6\",\"gridcolor\":\"white\",\"linecolor\":\"white\",\"showbackground\":true,\"ticks\":\"\",\"zerolinecolor\":\"white\",\"gridwidth\":2},\"zaxis\":{\"backgroundcolor\":\"#E5ECF6\",\"gridcolor\":\"white\",\"linecolor\":\"white\",\"showbackground\":true,\"ticks\":\"\",\"zerolinecolor\":\"white\",\"gridwidth\":2}},\"shapedefaults\":{\"line\":{\"color\":\"#2a3f5f\"}},\"annotationdefaults\":{\"arrowcolor\":\"#2a3f5f\",\"arrowhead\":0,\"arrowwidth\":1},\"geo\":{\"bgcolor\":\"white\",\"landcolor\":\"#E5ECF6\",\"subunitcolor\":\"white\",\"showland\":true,\"showlakes\":true,\"lakecolor\":\"white\"},\"title\":{\"x\":0.05},\"mapbox\":{\"style\":\"light\"}}},\"xaxis\":{\"anchor\":\"y\",\"domain\":[0.0,0.45],\"title\":{\"text\":\"Current State\"},\"ticktext\":[9.09,18.18,27.27,36.36,45.45,54.55,63.64,72.73,81.82,90.91,100.0]},\"yaxis\":{\"anchor\":\"x\",\"domain\":[0.0,1.0],\"title\":{\"text\":\"Cost decrease for acceptance\"}},\"xaxis2\":{\"anchor\":\"y2\",\"domain\":[0.55,1.0],\"title\":{\"text\":\"Current State\"},\"ticktext\":[9.09,18.18,27.27,36.36,45.45,54.55,63.64,72.73,81.82,90.91,100.0]},\"yaxis2\":{\"anchor\":\"x2\",\"domain\":[0.0,1.0]},\"annotations\":[{\"font\":{\"size\":16},\"showarrow\":false,\"text\":\"Giving the action was Rejection\",\"x\":0.225,\"xanchor\":\"center\",\"xref\":\"paper\",\"y\":1.0,\"yanchor\":\"bottom\",\"yref\":\"paper\"},{\"font\":{\"size\":16},\"showarrow\":false,\"text\":\"Giving the action was Acceptance\",\"x\":0.775,\"xanchor\":\"center\",\"xref\":\"paper\",\"y\":1.0,\"yanchor\":\"bottom\",\"yref\":\"paper\"}],\"coloraxis\":{\"colorbar\":{\"title\":{\"text\":\"Cost\"}},\"colorscale\":[[0.0,\"rgb(230, 240, 240)\"],[0.09090909090909091,\"rgb(191, 221, 229)\"],[0.18181818181818182,\"rgb(156, 201, 226)\"],[0.2727272727272727,\"rgb(129, 180, 227)\"],[0.36363636363636365,\"rgb(115, 154, 228)\"],[0.45454545454545453,\"rgb(117, 127, 221)\"],[0.5454545454545454,\"rgb(120, 100, 202)\"],[0.6363636363636364,\"rgb(119, 74, 175)\"],[0.7272727272727273,\"rgb(113, 50, 141)\"],[0.8181818181818182,\"rgb(100, 31, 104)\"],[0.9090909090909091,\"rgb(80, 20, 66)\"],[1.0,\"rgb(54, 14, 36)\"]]},\"sliders\":[{\"active\":0,\"currentvalue\":{\"prefix\":\"q = \"},\"pad\":{\"t\":50},\"steps\":[{\"args\":[[\"Frame 0\"]],\"label\":\"9.09\",\"method\":\"animate\"}]}],\"title\":{}},                        {\"responsive\": true}                    ).then(function(){\n",
              "                            Plotly.addFrames('bb05eaaf-0e6c-466f-b825-b25cbd22545d', [{\"data\":[{\"coloraxis\":\"coloraxis\",\"name\":\"P_0\",\"showscale\":false,\"z\":[[0.0,1.0,4.0,9.0,16.0,25.0,36.0,49.0,64.0,81.0,100.0],[0.0,1.0,4.0,9.0,16.0,25.0,36.0,49.0,64.0,81.0,100.0],[0.0,1.0,4.0,9.0,16.0,25.0,36.0,49.0,64.0,81.0,100.0],[0.0,1.0,4.0,9.0,16.0,25.0,36.0,49.0,64.0,81.0,100.0],[0.0,1.0,4.0,9.0,16.0,25.0,36.0,49.0,64.0,81.0,100.0],[0.0,1.0,4.0,9.0,16.0,25.0,36.0,49.0,64.0,81.0,100.0],[0.0,1.0,4.0,9.0,16.0,25.0,36.0,49.0,64.0,81.0,100.0],[0.0,1.0,4.0,9.0,16.0,25.0,36.0,49.0,64.0,81.0,100.0],[0.0,1.0,4.0,9.0,16.0,25.0,36.0,49.0,64.0,81.0,100.0],[0.0,1.0,4.0,9.0,16.0,25.0,36.0,49.0,64.0,81.0,100.0],[0.0,1.0,4.0,9.0,16.0,25.0,36.0,49.0,64.0,81.0,100.0]],\"type\":\"heatmap\"},{\"coloraxis\":\"coloraxis\",\"name\":\"P_1\",\"showscale\":false,\"z\":[[-9.09,-8.09,-5.09,-0.08999999999999986,6.91,15.91,26.91,39.91,54.91,71.91,90.91],[-18.18,-17.18,-14.18,-9.18,-2.1799999999999997,6.82,17.82,30.82,45.82,62.82,81.82],[-27.27,-26.27,-23.27,-18.27,-11.27,-2.2699999999999996,8.73,21.73,36.730000000000004,53.730000000000004,72.73],[-36.36,-35.36,-32.36,-27.36,-20.36,-11.36,-0.35999999999999943,12.64,27.64,44.64,63.64],[-45.45,-44.45,-41.45,-36.45,-29.450000000000003,-20.450000000000003,-9.450000000000003,3.549999999999997,18.549999999999997,35.55,54.55],[-54.55,-53.55,-50.55,-45.55,-38.55,-29.549999999999997,-18.549999999999997,-5.549999999999997,9.450000000000003,26.450000000000003,45.45],[-63.64,-62.64,-59.64,-54.64,-47.64,-38.64,-27.64,-14.64,0.35999999999999943,17.36,36.36],[-72.73,-71.73,-68.73,-63.730000000000004,-56.730000000000004,-47.730000000000004,-36.730000000000004,-23.730000000000004,-8.730000000000004,8.269999999999996,27.269999999999996],[-81.82,-80.82,-77.82,-72.82,-65.82,-56.81999999999999,-45.81999999999999,-32.81999999999999,-17.819999999999993,-0.8199999999999932,18.180000000000007],[-90.91,-89.91,-86.91,-81.91,-74.91,-65.91,-54.91,-41.91,-26.909999999999997,-9.909999999999997,9.090000000000003],[-100.0,-99.0,-96.0,-91.0,-84.0,-75.0,-64.0,-51.0,-36.0,-19.0,0.0]],\"type\":\"heatmap\"}],\"name\":\"Frame 0\"}]);\n",
              "                        }).then(function(){\n",
              "                            \n",
              "var gd = document.getElementById('bb05eaaf-0e6c-466f-b825-b25cbd22545d');\n",
              "var x = new MutationObserver(function (mutations, observer) {{\n",
              "        var display = window.getComputedStyle(gd).display;\n",
              "        if (!display || display === 'none') {{\n",
              "            console.log([gd, 'removed!']);\n",
              "            Plotly.purge(gd);\n",
              "            observer.disconnect();\n",
              "        }}\n",
              "}});\n",
              "\n",
              "// Listen for the removal of the full notebook cells\n",
              "var notebookContainer = gd.closest('#notebook-container');\n",
              "if (notebookContainer) {{\n",
              "    x.observe(notebookContainer, {childList: true});\n",
              "}}\n",
              "\n",
              "// Listen for the clearing of the current output cell\n",
              "var outputEl = gd.closest('.output');\n",
              "if (outputEl) {{\n",
              "    x.observe(outputEl, {childList: true});\n",
              "}}\n",
              "\n",
              "                        })                };                            </script>        </div>\n",
              "</body>\n",
              "</html>"
            ]
          },
          "metadata": {},
          "output_type": "display_data"
        }
      ],
      "source": [
        "# Create the transition matrices for different q values\n",
        "gammas = np.round(np.linspace(0, 100, 10+2)[1:], 2) # list of rounded q values\n",
        "costs = costs_matrix(gammas)  # list of transition matrices for different q values\n",
        "fig_cost = heatmap_animation([costs], gammas, colorscale='dense', yaxis_title='Cost decrease for acceptance', colorbar_title='Cost', use_vals_as_ticks=True)  # create the animation figure\n",
        "fig_cost.show()"
      ]
    },
    {
      "cell_type": "markdown",
      "metadata": {
        "id": "vldTDbmngRjq"
      },
      "source": [
        "## Parameters setting\n",
        "\n",
        "Let's set the parameters for our system that will be used in the rest of the notebook."
      ]
    },
    {
      "cell_type": "code",
      "execution_count": null,
      "metadata": {
        "id": "NA212WkggRjq"
      },
      "outputs": [],
      "source": [
        "K = 10\n",
        "T = 50\n",
        "q = 5e-2\n",
        "gamma = 1\n",
        "budget = 0.5"
      ]
    },
    {
      "cell_type": "markdown",
      "metadata": {
        "id": "AAWNq4GdgRjw"
      },
      "source": [
        "## Trajectory simulation"
      ]
    },
    {
      "cell_type": "markdown",
      "metadata": {
        "id": "hDieOlI7gRjw"
      },
      "source": [
        "### Next state simulation\n",
        "\n",
        "We can use the following algorithm to simulate the next state $ \\hat{S}(t+1) $ such that the probability $ \\mathbb{P}(\\hat{S}(t+1)= s' \\mid S(t)=s,\\;A(t)=a) $ equals the given transition probability $ p_{ss'}^a = \\mathbb{P}(S(t+1) = s' \\mid S(t) = s, A(t) = a)$:\n",
        "\n",
        "1. Generate a uniform random variable $ U \\sim \\text{Unif}([0, 1]) $.\n",
        "2. Define the next state $ \\hat{S}(t+1) $ as $ s' $ if $ \\sum_{s''=0}^{s'-1} p_{ss''}^a \\leq U < \\sum_{s''=0}^{s'} p_{ss''}^a $.\n",
        "\n",
        "> Note: the actual transition probabilities $p_{ss'}^a$ determines the partition of the interval $[0,1]$ in $K+1$ regions, one for each possible next state. The corresponding region where $U$ falls will map to each next state the simulation will go."
      ]
    },
    {
      "cell_type": "markdown",
      "metadata": {
        "id": "L3CBTeqIgRjw"
      },
      "source": [
        "#### Proof\n",
        "\n",
        "Let's proof that $ \\mathbb{P}(\\hat{S}(t+1) = s' \\mid S(t) = s, A(t) = a) = p_{ss'}^a $\n",
        "\n",
        "1. **Partitioning the Interval**:\n",
        "   The algorithm partitions the interval $[0, 1]$ based on the cumulative probabilities.\n",
        "   \n",
        "   Define the cumulative probability $ P_{ss'}^a $ as:\n",
        "   $ P_{ss'}^a = \\sum_{s''=0}^{s'} p_{ss''}^a $\n",
        "\n",
        "   > Note: $ P_{ss'}^a$ is the cumulative sum of the transition probabilities from state $ s $ to all states up to $ s' $.\n",
        "\n",
        "2. **Defining Intervals**:\n",
        "   The condition in the algorithm, $ \\sum_{s''=0}^{s'-1} p_{ss''}^a \\leq U < \\sum_{s''=0}^{s'} p_{ss''}^a $, translates to:\n",
        "   \n",
        "   \n",
        "   $ P_{ss'-1}^a \\leq U < P_{ss'}^a $\n",
        "   where $ P_{ss'-1}^a = \\sum_{s''=0}^{s'-1} p_{ss''}^a $.\n",
        "\n",
        "   > Note: This interval is defined for each state $ s' $, ensuring that the intervals for different states are mutually exclusive and cover the entire interval $[0, 1]$.\n",
        "\n",
        "3. **Probability of Next State**:\n",
        "   Since $ U $ is uniformly distributed over $[0, 1]$, the probability that $ U $ falls within the interval $[P_{ss'-1}^a, P_{ss'}^a)$ is given by the length of this interval:\n",
        "   \n",
        "   $ \\mathbb{P}(P_{ss'-1}^a \\leq U < P_{ss'}^a) = P_{ss'}^a - P_{ss'-1}^a $\n",
        "\n",
        "   > Note: the value of $U$ is between the cumulative probabilities of $\\sum_{s''=0}^{s'-1} p_{ss''}^a$ and $\\sum_{s''=0}^{s'} p_{ss''}^a$.\n",
        "\n",
        "4. **Interval Length**:\n",
        "   The length of the interval $[P_{ss'-1}^a, P_{ss'}^a)$ is:\n",
        "   \n",
        "   $ P_{ss'}^a - P_{ss'-1}^a = \\left(\\sum_{s''=0}^{s'} p_{ss''}^a\\right) - \\left(\\sum_{s''=0}^{s'-1} p_{ss''}^a\\right) = p_{ss'}^a $\n",
        "\n",
        "   > Note: $P_{ss'}^a = P_{ss'-1}^a + p_{ss'}^a$.\n",
        "\n",
        "5. **Conclusion**:\n",
        "   Therefore, the probability that $ \\hat{S}(t+1) = s' $ given $ S(t) = s $ and $ A(t) = a $ is:\n",
        "\n",
        "   $ \\mathbb{P}(\\hat{S}(t+1) = s' \\mid S(t) = s, A(t) = a) = \\mathbb{P}(P_{ss'-1}^a \\leq U < P_{ss'}^a) = p_{ss'}^a $\n",
        "\n",
        "   > Note: the algorithm correctly simulates the next state $ \\hat{S}(t+1) $ with the desired transition probabilities $ p_{ss'}^a $."
      ]
    },
    {
      "cell_type": "markdown",
      "metadata": {
        "id": "1OPEWb35gRjw"
      },
      "source": [
        "#### Function implementation"
      ]
    },
    {
      "cell_type": "code",
      "execution_count": null,
      "metadata": {
        "id": "k8di1-17gRjw"
      },
      "outputs": [],
      "source": [
        "def simulate_next_state(s,a,q,K):\n",
        "  pxa = [inst_MDP(s_,s,a,q,K) for s_ in range(K+1)]  # Generate the actual transition probabilities for each state\n",
        "  U = np.random.uniform(0,1,1)  # Sampling\n",
        "  # Finding the next state\n",
        "  S_next = 0\n",
        "  cumulative = sum(pxa[:1])\n",
        "  while cumulative < U and S_next < K:\n",
        "    S_next += 1\n",
        "    cumulative += pxa[S_next]\n",
        "  return S_next  # Return the next state"
      ]
    },
    {
      "cell_type": "markdown",
      "metadata": {
        "id": "YAN87eoHgRjw"
      },
      "source": [
        "#### Visualizing the interval map"
      ]
    },
    {
      "cell_type": "markdown",
      "metadata": {
        "id": "uN6u6_vlgRjw"
      },
      "source": [
        "##### Plot function"
      ]
    },
    {
      "cell_type": "code",
      "execution_count": null,
      "metadata": {
        "id": "XPXRTRoBgRjw"
      },
      "outputs": [],
      "source": [
        "def barplot_animation(Ps, qs, color_palette='Prism', xaxis_title='Transition Probability', yaxis_title='Current State'):\n",
        "    color_palette = getattr(plotly.colors.qualitative, color_palette)\n",
        "    # Create frames for the animation\n",
        "    frames = []\n",
        "    for idx, P in enumerate(Ps):\n",
        "        traces = []\n",
        "        for a in range(2):  # For each action (0 and 1)\n",
        "            xs, ys, zs, colors = [], [], [], []\n",
        "            for s in range(P.shape[0]):\n",
        "                for s_ in range(P.shape[1]):\n",
        "                    xs.append(P[:, :, a][s_, s])\n",
        "                    ys.append(s)\n",
        "                    zs.append(f'State {s_}')\n",
        "                    colors.append(color_palette[s_ % len(color_palette)])\n",
        "            traces.append(go.Bar(x=xs, y=ys, orientation='h', marker=dict(color=colors), text=zs, showlegend=False))\n",
        "        frames.append(go.Frame(data=traces, name=f'Frame {idx}'))\n",
        "    # Create subplots with 1 row and 2 columns\n",
        "    fig = make_subplots(rows=1, cols=2, subplot_titles=['Giving the action was Rejection', 'Giving the action was Acceptance'])\n",
        "    # Add initial traces to the subplots\n",
        "    for a in range(2):\n",
        "        xs, ys, zs, colors = [], [], [], []\n",
        "        for s in range(Ps[0].shape[0]):\n",
        "            for s_ in range(Ps[0].shape[1]):\n",
        "                xs.append(Ps[0][:, :, a][s_, s])\n",
        "                ys.append(s)\n",
        "                zs.append(f'State {s_}')\n",
        "                colors.append(color_palette[s_ % len(color_palette)])\n",
        "        fig.add_trace(go.Bar(x=xs, y=ys, orientation='h', marker=dict(color=colors), text=zs, showlegend=False), row=1, col=a+1)\n",
        "    fig.update(frames=frames) # Update frames\n",
        "    # Update layout with sliders and axis titles\n",
        "    fig.update_layout(\n",
        "        sliders=[{\n",
        "            'active': 0,\n",
        "            'currentvalue': {'prefix': 'q = '},\n",
        "            'pad': {'t': 50},\n",
        "            'steps': [{'args': [[f'Frame {idx}']], 'label': f'{qs[idx]}', 'method': 'animate'} for idx in range(len(frames))]}],\n",
        "        xaxis=dict(title=xaxis_title),\n",
        "        yaxis=dict(title=yaxis_title),)\n",
        "    # Update the axis labels and range for each subplot\n",
        "    for a in range(2):\n",
        "        fig.update_xaxes(title_text=xaxis_title, range=[0, 1], row=1, col=a+1)\n",
        "    fig.update_yaxes(title_text=yaxis_title, row=1, col=1)\n",
        "    return fig"
      ]
    },
    {
      "cell_type": "markdown",
      "metadata": {
        "id": "USh8XaPYgRjx"
      },
      "source": [
        "##### Plotting"
      ]
    },
    {
      "cell_type": "code",
      "execution_count": null,
      "metadata": {
        "colab": {
          "base_uri": "https://localhost:8080/",
          "height": 542
        },
        "id": "2jrD0WzVgRjx",
        "outputId": "78935e62-9b98-4e05-8525-f05a92ff9f4a"
      },
      "outputs": [
        {
          "data": {
            "text/html": [
              "<html>\n",
              "<head><meta charset=\"utf-8\" /></head>\n",
              "<body>\n",
              "    <div>            <script src=\"https://cdnjs.cloudflare.com/ajax/libs/mathjax/2.7.5/MathJax.js?config=TeX-AMS-MML_SVG\"></script><script type=\"text/javascript\">if (window.MathJax && window.MathJax.Hub && window.MathJax.Hub.Config) {window.MathJax.Hub.Config({SVG: {font: \"STIX-Web\"}});}</script>                <script type=\"text/javascript\">window.PlotlyConfig = {MathJaxConfig: 'local'};</script>\n",
              "        <script charset=\"utf-8\" src=\"https://cdn.plot.ly/plotly-2.24.1.min.js\"></script>                <div id=\"d09f3280-385d-4285-bb28-b0147a1578fb\" class=\"plotly-graph-div\" style=\"height:525px; width:100%;\"></div>            <script type=\"text/javascript\">                                    window.PLOTLYENV=window.PLOTLYENV || {};                                    if (document.getElementById(\"d09f3280-385d-4285-bb28-b0147a1578fb\")) {                    Plotly.newPlot(                        \"d09f3280-385d-4285-bb28-b0147a1578fb\",                        [{\"marker\":{\"color\":[\"rgb(95, 70, 144)\",\"rgb(29, 105, 150)\",\"rgb(56, 166, 165)\",\"rgb(15, 133, 84)\",\"rgb(115, 175, 72)\",\"rgb(237, 173, 8)\",\"rgb(225, 124, 5)\",\"rgb(204, 80, 62)\",\"rgb(148, 52, 110)\",\"rgb(111, 64, 112)\",\"rgb(102, 102, 102)\",\"rgb(95, 70, 144)\",\"rgb(29, 105, 150)\",\"rgb(56, 166, 165)\",\"rgb(15, 133, 84)\",\"rgb(115, 175, 72)\",\"rgb(237, 173, 8)\",\"rgb(225, 124, 5)\",\"rgb(204, 80, 62)\",\"rgb(148, 52, 110)\",\"rgb(111, 64, 112)\",\"rgb(102, 102, 102)\",\"rgb(95, 70, 144)\",\"rgb(29, 105, 150)\",\"rgb(56, 166, 165)\",\"rgb(15, 133, 84)\",\"rgb(115, 175, 72)\",\"rgb(237, 173, 8)\",\"rgb(225, 124, 5)\",\"rgb(204, 80, 62)\",\"rgb(148, 52, 110)\",\"rgb(111, 64, 112)\",\"rgb(102, 102, 102)\",\"rgb(95, 70, 144)\",\"rgb(29, 105, 150)\",\"rgb(56, 166, 165)\",\"rgb(15, 133, 84)\",\"rgb(115, 175, 72)\",\"rgb(237, 173, 8)\",\"rgb(225, 124, 5)\",\"rgb(204, 80, 62)\",\"rgb(148, 52, 110)\",\"rgb(111, 64, 112)\",\"rgb(102, 102, 102)\",\"rgb(95, 70, 144)\",\"rgb(29, 105, 150)\",\"rgb(56, 166, 165)\",\"rgb(15, 133, 84)\",\"rgb(115, 175, 72)\",\"rgb(237, 173, 8)\",\"rgb(225, 124, 5)\",\"rgb(204, 80, 62)\",\"rgb(148, 52, 110)\",\"rgb(111, 64, 112)\",\"rgb(102, 102, 102)\",\"rgb(95, 70, 144)\",\"rgb(29, 105, 150)\",\"rgb(56, 166, 165)\",\"rgb(15, 133, 84)\",\"rgb(115, 175, 72)\",\"rgb(237, 173, 8)\",\"rgb(225, 124, 5)\",\"rgb(204, 80, 62)\",\"rgb(148, 52, 110)\",\"rgb(111, 64, 112)\",\"rgb(102, 102, 102)\",\"rgb(95, 70, 144)\",\"rgb(29, 105, 150)\",\"rgb(56, 166, 165)\",\"rgb(15, 133, 84)\",\"rgb(115, 175, 72)\",\"rgb(237, 173, 8)\",\"rgb(225, 124, 5)\",\"rgb(204, 80, 62)\",\"rgb(148, 52, 110)\",\"rgb(111, 64, 112)\",\"rgb(102, 102, 102)\",\"rgb(95, 70, 144)\",\"rgb(29, 105, 150)\",\"rgb(56, 166, 165)\",\"rgb(15, 133, 84)\",\"rgb(115, 175, 72)\",\"rgb(237, 173, 8)\",\"rgb(225, 124, 5)\",\"rgb(204, 80, 62)\",\"rgb(148, 52, 110)\",\"rgb(111, 64, 112)\",\"rgb(102, 102, 102)\",\"rgb(95, 70, 144)\",\"rgb(29, 105, 150)\",\"rgb(56, 166, 165)\",\"rgb(15, 133, 84)\",\"rgb(115, 175, 72)\",\"rgb(237, 173, 8)\",\"rgb(225, 124, 5)\",\"rgb(204, 80, 62)\",\"rgb(148, 52, 110)\",\"rgb(111, 64, 112)\",\"rgb(102, 102, 102)\",\"rgb(95, 70, 144)\",\"rgb(29, 105, 150)\",\"rgb(56, 166, 165)\",\"rgb(15, 133, 84)\",\"rgb(115, 175, 72)\",\"rgb(237, 173, 8)\",\"rgb(225, 124, 5)\",\"rgb(204, 80, 62)\",\"rgb(148, 52, 110)\",\"rgb(111, 64, 112)\",\"rgb(102, 102, 102)\",\"rgb(95, 70, 144)\",\"rgb(29, 105, 150)\",\"rgb(56, 166, 165)\",\"rgb(15, 133, 84)\",\"rgb(115, 175, 72)\",\"rgb(237, 173, 8)\",\"rgb(225, 124, 5)\",\"rgb(204, 80, 62)\",\"rgb(148, 52, 110)\",\"rgb(111, 64, 112)\",\"rgb(102, 102, 102)\"]},\"orientation\":\"h\",\"showlegend\":false,\"text\":[\"State 0\",\"State 1\",\"State 2\",\"State 3\",\"State 4\",\"State 5\",\"State 6\",\"State 7\",\"State 8\",\"State 9\",\"State 10\",\"State 0\",\"State 1\",\"State 2\",\"State 3\",\"State 4\",\"State 5\",\"State 6\",\"State 7\",\"State 8\",\"State 9\",\"State 10\",\"State 0\",\"State 1\",\"State 2\",\"State 3\",\"State 4\",\"State 5\",\"State 6\",\"State 7\",\"State 8\",\"State 9\",\"State 10\",\"State 0\",\"State 1\",\"State 2\",\"State 3\",\"State 4\",\"State 5\",\"State 6\",\"State 7\",\"State 8\",\"State 9\",\"State 10\",\"State 0\",\"State 1\",\"State 2\",\"State 3\",\"State 4\",\"State 5\",\"State 6\",\"State 7\",\"State 8\",\"State 9\",\"State 10\",\"State 0\",\"State 1\",\"State 2\",\"State 3\",\"State 4\",\"State 5\",\"State 6\",\"State 7\",\"State 8\",\"State 9\",\"State 10\",\"State 0\",\"State 1\",\"State 2\",\"State 3\",\"State 4\",\"State 5\",\"State 6\",\"State 7\",\"State 8\",\"State 9\",\"State 10\",\"State 0\",\"State 1\",\"State 2\",\"State 3\",\"State 4\",\"State 5\",\"State 6\",\"State 7\",\"State 8\",\"State 9\",\"State 10\",\"State 0\",\"State 1\",\"State 2\",\"State 3\",\"State 4\",\"State 5\",\"State 6\",\"State 7\",\"State 8\",\"State 9\",\"State 10\",\"State 0\",\"State 1\",\"State 2\",\"State 3\",\"State 4\",\"State 5\",\"State 6\",\"State 7\",\"State 8\",\"State 9\",\"State 10\",\"State 0\",\"State 1\",\"State 2\",\"State 3\",\"State 4\",\"State 5\",\"State 6\",\"State 7\",\"State 8\",\"State 9\",\"State 10\"],\"x\":[1.0,0.0,0.0,0.0,0.0,0.0,0.0,0.0,0.0,0.0,0.0,0.10000000000000003,0.9,0.0,0.0,0.0,0.0,0.0,0.0,0.0,0.0,0.0,0.009999999999999993,0.17999999999999997,0.81,0.0,0.0,0.0,0.0,0.0,0.0,0.0,0.0,0.0009999999999999996,0.027,0.24299999999999994,0.7290000000000001,0.0,0.0,0.0,0.0,0.0,0.0,0.0,9.999999999999987e-05,0.003599999999999998,0.048599999999999983,0.29159999999999997,0.6561,0.0,0.0,0.0,0.0,0.0,0.0,9.99999999999999e-06,0.0004499999999999999,0.008099999999999996,0.07289999999999994,0.3280499999999999,0.5904900000000001,0.0,0.0,0.0,0.0,0.0,9.999999999999983e-07,5.399999999999995e-05,0.0012149999999999984,0.014579999999999984,0.09841499999999995,0.354294,0.531441,0.0,0.0,0.0,0.0,9.99999999999999e-08,6.299999999999996e-06,0.00017009999999999996,0.002551499999999997,0.022963499999999977,0.1240029,0.3720086999999998,0.4782969000000001,0.0,0.0,0.0,9.999999999999987e-09,7.199999999999989e-07,2.267999999999998e-05,0.00040823999999999976,0.004592699999999998,0.03306743999999999,0.1488034799999999,0.38263752000000006,0.4304672100000001,0.0,0.0,9.999999999999982e-10,8.099999999999992e-08,2.915999999999998e-06,6.123599999999991e-05,0.0008266859999999994,0.007440173999999999,0.04464104399999997,0.17218688399999987,0.38742048899999987,0.3874204890000001,0.0,9.999999999999977e-11,8.999999999999978e-09,3.6449999999999943e-07,8.747999999999991e-06,0.00013778099999999974,0.0014880347999999982,0.011160260999999996,0.05739562799999997,0.1937102444999998,0.38742048899999976,0.3486784401000001],\"y\":[0,0,0,0,0,0,0,0,0,0,0,1,1,1,1,1,1,1,1,1,1,1,2,2,2,2,2,2,2,2,2,2,2,3,3,3,3,3,3,3,3,3,3,3,4,4,4,4,4,4,4,4,4,4,4,5,5,5,5,5,5,5,5,5,5,5,6,6,6,6,6,6,6,6,6,6,6,7,7,7,7,7,7,7,7,7,7,7,8,8,8,8,8,8,8,8,8,8,8,9,9,9,9,9,9,9,9,9,9,9,10,10,10,10,10,10,10,10,10,10,10],\"type\":\"bar\",\"xaxis\":\"x\",\"yaxis\":\"y\"},{\"marker\":{\"color\":[\"rgb(95, 70, 144)\",\"rgb(29, 105, 150)\",\"rgb(56, 166, 165)\",\"rgb(15, 133, 84)\",\"rgb(115, 175, 72)\",\"rgb(237, 173, 8)\",\"rgb(225, 124, 5)\",\"rgb(204, 80, 62)\",\"rgb(148, 52, 110)\",\"rgb(111, 64, 112)\",\"rgb(102, 102, 102)\",\"rgb(95, 70, 144)\",\"rgb(29, 105, 150)\",\"rgb(56, 166, 165)\",\"rgb(15, 133, 84)\",\"rgb(115, 175, 72)\",\"rgb(237, 173, 8)\",\"rgb(225, 124, 5)\",\"rgb(204, 80, 62)\",\"rgb(148, 52, 110)\",\"rgb(111, 64, 112)\",\"rgb(102, 102, 102)\",\"rgb(95, 70, 144)\",\"rgb(29, 105, 150)\",\"rgb(56, 166, 165)\",\"rgb(15, 133, 84)\",\"rgb(115, 175, 72)\",\"rgb(237, 173, 8)\",\"rgb(225, 124, 5)\",\"rgb(204, 80, 62)\",\"rgb(148, 52, 110)\",\"rgb(111, 64, 112)\",\"rgb(102, 102, 102)\",\"rgb(95, 70, 144)\",\"rgb(29, 105, 150)\",\"rgb(56, 166, 165)\",\"rgb(15, 133, 84)\",\"rgb(115, 175, 72)\",\"rgb(237, 173, 8)\",\"rgb(225, 124, 5)\",\"rgb(204, 80, 62)\",\"rgb(148, 52, 110)\",\"rgb(111, 64, 112)\",\"rgb(102, 102, 102)\",\"rgb(95, 70, 144)\",\"rgb(29, 105, 150)\",\"rgb(56, 166, 165)\",\"rgb(15, 133, 84)\",\"rgb(115, 175, 72)\",\"rgb(237, 173, 8)\",\"rgb(225, 124, 5)\",\"rgb(204, 80, 62)\",\"rgb(148, 52, 110)\",\"rgb(111, 64, 112)\",\"rgb(102, 102, 102)\",\"rgb(95, 70, 144)\",\"rgb(29, 105, 150)\",\"rgb(56, 166, 165)\",\"rgb(15, 133, 84)\",\"rgb(115, 175, 72)\",\"rgb(237, 173, 8)\",\"rgb(225, 124, 5)\",\"rgb(204, 80, 62)\",\"rgb(148, 52, 110)\",\"rgb(111, 64, 112)\",\"rgb(102, 102, 102)\",\"rgb(95, 70, 144)\",\"rgb(29, 105, 150)\",\"rgb(56, 166, 165)\",\"rgb(15, 133, 84)\",\"rgb(115, 175, 72)\",\"rgb(237, 173, 8)\",\"rgb(225, 124, 5)\",\"rgb(204, 80, 62)\",\"rgb(148, 52, 110)\",\"rgb(111, 64, 112)\",\"rgb(102, 102, 102)\",\"rgb(95, 70, 144)\",\"rgb(29, 105, 150)\",\"rgb(56, 166, 165)\",\"rgb(15, 133, 84)\",\"rgb(115, 175, 72)\",\"rgb(237, 173, 8)\",\"rgb(225, 124, 5)\",\"rgb(204, 80, 62)\",\"rgb(148, 52, 110)\",\"rgb(111, 64, 112)\",\"rgb(102, 102, 102)\",\"rgb(95, 70, 144)\",\"rgb(29, 105, 150)\",\"rgb(56, 166, 165)\",\"rgb(15, 133, 84)\",\"rgb(115, 175, 72)\",\"rgb(237, 173, 8)\",\"rgb(225, 124, 5)\",\"rgb(204, 80, 62)\",\"rgb(148, 52, 110)\",\"rgb(111, 64, 112)\",\"rgb(102, 102, 102)\",\"rgb(95, 70, 144)\",\"rgb(29, 105, 150)\",\"rgb(56, 166, 165)\",\"rgb(15, 133, 84)\",\"rgb(115, 175, 72)\",\"rgb(237, 173, 8)\",\"rgb(225, 124, 5)\",\"rgb(204, 80, 62)\",\"rgb(148, 52, 110)\",\"rgb(111, 64, 112)\",\"rgb(102, 102, 102)\",\"rgb(95, 70, 144)\",\"rgb(29, 105, 150)\",\"rgb(56, 166, 165)\",\"rgb(15, 133, 84)\",\"rgb(115, 175, 72)\",\"rgb(237, 173, 8)\",\"rgb(225, 124, 5)\",\"rgb(204, 80, 62)\",\"rgb(148, 52, 110)\",\"rgb(111, 64, 112)\",\"rgb(102, 102, 102)\"]},\"orientation\":\"h\",\"showlegend\":false,\"text\":[\"State 0\",\"State 1\",\"State 2\",\"State 3\",\"State 4\",\"State 5\",\"State 6\",\"State 7\",\"State 8\",\"State 9\",\"State 10\",\"State 0\",\"State 1\",\"State 2\",\"State 3\",\"State 4\",\"State 5\",\"State 6\",\"State 7\",\"State 8\",\"State 9\",\"State 10\",\"State 0\",\"State 1\",\"State 2\",\"State 3\",\"State 4\",\"State 5\",\"State 6\",\"State 7\",\"State 8\",\"State 9\",\"State 10\",\"State 0\",\"State 1\",\"State 2\",\"State 3\",\"State 4\",\"State 5\",\"State 6\",\"State 7\",\"State 8\",\"State 9\",\"State 10\",\"State 0\",\"State 1\",\"State 2\",\"State 3\",\"State 4\",\"State 5\",\"State 6\",\"State 7\",\"State 8\",\"State 9\",\"State 10\",\"State 0\",\"State 1\",\"State 2\",\"State 3\",\"State 4\",\"State 5\",\"State 6\",\"State 7\",\"State 8\",\"State 9\",\"State 10\",\"State 0\",\"State 1\",\"State 2\",\"State 3\",\"State 4\",\"State 5\",\"State 6\",\"State 7\",\"State 8\",\"State 9\",\"State 10\",\"State 0\",\"State 1\",\"State 2\",\"State 3\",\"State 4\",\"State 5\",\"State 6\",\"State 7\",\"State 8\",\"State 9\",\"State 10\",\"State 0\",\"State 1\",\"State 2\",\"State 3\",\"State 4\",\"State 5\",\"State 6\",\"State 7\",\"State 8\",\"State 9\",\"State 10\",\"State 0\",\"State 1\",\"State 2\",\"State 3\",\"State 4\",\"State 5\",\"State 6\",\"State 7\",\"State 8\",\"State 9\",\"State 10\",\"State 0\",\"State 1\",\"State 2\",\"State 3\",\"State 4\",\"State 5\",\"State 6\",\"State 7\",\"State 8\",\"State 9\",\"State 10\"],\"x\":[0.10000000000000003,0.9,0.0,0.0,0.0,0.0,0.0,0.0,0.0,0.0,0.0,0.009999999999999993,0.17999999999999997,0.81,0.0,0.0,0.0,0.0,0.0,0.0,0.0,0.0,0.0009999999999999996,0.027,0.24299999999999994,0.7290000000000001,0.0,0.0,0.0,0.0,0.0,0.0,0.0,9.999999999999987e-05,0.003599999999999998,0.048599999999999983,0.29159999999999997,0.6561,0.0,0.0,0.0,0.0,0.0,0.0,9.99999999999999e-06,0.0004499999999999999,0.008099999999999996,0.07289999999999994,0.3280499999999999,0.5904900000000001,0.0,0.0,0.0,0.0,0.0,9.999999999999983e-07,5.399999999999995e-05,0.0012149999999999984,0.014579999999999984,0.09841499999999995,0.354294,0.531441,0.0,0.0,0.0,0.0,9.99999999999999e-08,6.299999999999996e-06,0.00017009999999999996,0.002551499999999997,0.022963499999999977,0.1240029,0.3720086999999998,0.4782969000000001,0.0,0.0,0.0,9.999999999999987e-09,7.199999999999989e-07,2.267999999999998e-05,0.00040823999999999976,0.004592699999999998,0.03306743999999999,0.1488034799999999,0.38263752000000006,0.4304672100000001,0.0,0.0,9.999999999999982e-10,8.099999999999992e-08,2.915999999999998e-06,6.123599999999991e-05,0.0008266859999999994,0.007440173999999999,0.04464104399999997,0.17218688399999987,0.38742048899999987,0.3874204890000001,0.0,9.999999999999977e-11,8.999999999999978e-09,3.6449999999999943e-07,8.747999999999991e-06,0.00013778099999999974,0.0014880347999999982,0.011160260999999996,0.05739562799999997,0.1937102444999998,0.38742048899999976,0.3486784401000001,0.0,0.0,0.0,0.0,0.0,0.0,0.0,0.0,0.0,0.0,0.0],\"y\":[0,0,0,0,0,0,0,0,0,0,0,1,1,1,1,1,1,1,1,1,1,1,2,2,2,2,2,2,2,2,2,2,2,3,3,3,3,3,3,3,3,3,3,3,4,4,4,4,4,4,4,4,4,4,4,5,5,5,5,5,5,5,5,5,5,5,6,6,6,6,6,6,6,6,6,6,6,7,7,7,7,7,7,7,7,7,7,7,8,8,8,8,8,8,8,8,8,8,8,9,9,9,9,9,9,9,9,9,9,9,10,10,10,10,10,10,10,10,10,10,10],\"type\":\"bar\",\"xaxis\":\"x2\",\"yaxis\":\"y2\"}],                        {\"template\":{\"data\":{\"histogram2dcontour\":[{\"type\":\"histogram2dcontour\",\"colorbar\":{\"outlinewidth\":0,\"ticks\":\"\"},\"colorscale\":[[0.0,\"#0d0887\"],[0.1111111111111111,\"#46039f\"],[0.2222222222222222,\"#7201a8\"],[0.3333333333333333,\"#9c179e\"],[0.4444444444444444,\"#bd3786\"],[0.5555555555555556,\"#d8576b\"],[0.6666666666666666,\"#ed7953\"],[0.7777777777777778,\"#fb9f3a\"],[0.8888888888888888,\"#fdca26\"],[1.0,\"#f0f921\"]]}],\"choropleth\":[{\"type\":\"choropleth\",\"colorbar\":{\"outlinewidth\":0,\"ticks\":\"\"}}],\"histogram2d\":[{\"type\":\"histogram2d\",\"colorbar\":{\"outlinewidth\":0,\"ticks\":\"\"},\"colorscale\":[[0.0,\"#0d0887\"],[0.1111111111111111,\"#46039f\"],[0.2222222222222222,\"#7201a8\"],[0.3333333333333333,\"#9c179e\"],[0.4444444444444444,\"#bd3786\"],[0.5555555555555556,\"#d8576b\"],[0.6666666666666666,\"#ed7953\"],[0.7777777777777778,\"#fb9f3a\"],[0.8888888888888888,\"#fdca26\"],[1.0,\"#f0f921\"]]}],\"heatmap\":[{\"type\":\"heatmap\",\"colorbar\":{\"outlinewidth\":0,\"ticks\":\"\"},\"colorscale\":[[0.0,\"#0d0887\"],[0.1111111111111111,\"#46039f\"],[0.2222222222222222,\"#7201a8\"],[0.3333333333333333,\"#9c179e\"],[0.4444444444444444,\"#bd3786\"],[0.5555555555555556,\"#d8576b\"],[0.6666666666666666,\"#ed7953\"],[0.7777777777777778,\"#fb9f3a\"],[0.8888888888888888,\"#fdca26\"],[1.0,\"#f0f921\"]]}],\"heatmapgl\":[{\"type\":\"heatmapgl\",\"colorbar\":{\"outlinewidth\":0,\"ticks\":\"\"},\"colorscale\":[[0.0,\"#0d0887\"],[0.1111111111111111,\"#46039f\"],[0.2222222222222222,\"#7201a8\"],[0.3333333333333333,\"#9c179e\"],[0.4444444444444444,\"#bd3786\"],[0.5555555555555556,\"#d8576b\"],[0.6666666666666666,\"#ed7953\"],[0.7777777777777778,\"#fb9f3a\"],[0.8888888888888888,\"#fdca26\"],[1.0,\"#f0f921\"]]}],\"contourcarpet\":[{\"type\":\"contourcarpet\",\"colorbar\":{\"outlinewidth\":0,\"ticks\":\"\"}}],\"contour\":[{\"type\":\"contour\",\"colorbar\":{\"outlinewidth\":0,\"ticks\":\"\"},\"colorscale\":[[0.0,\"#0d0887\"],[0.1111111111111111,\"#46039f\"],[0.2222222222222222,\"#7201a8\"],[0.3333333333333333,\"#9c179e\"],[0.4444444444444444,\"#bd3786\"],[0.5555555555555556,\"#d8576b\"],[0.6666666666666666,\"#ed7953\"],[0.7777777777777778,\"#fb9f3a\"],[0.8888888888888888,\"#fdca26\"],[1.0,\"#f0f921\"]]}],\"surface\":[{\"type\":\"surface\",\"colorbar\":{\"outlinewidth\":0,\"ticks\":\"\"},\"colorscale\":[[0.0,\"#0d0887\"],[0.1111111111111111,\"#46039f\"],[0.2222222222222222,\"#7201a8\"],[0.3333333333333333,\"#9c179e\"],[0.4444444444444444,\"#bd3786\"],[0.5555555555555556,\"#d8576b\"],[0.6666666666666666,\"#ed7953\"],[0.7777777777777778,\"#fb9f3a\"],[0.8888888888888888,\"#fdca26\"],[1.0,\"#f0f921\"]]}],\"mesh3d\":[{\"type\":\"mesh3d\",\"colorbar\":{\"outlinewidth\":0,\"ticks\":\"\"}}],\"scatter\":[{\"fillpattern\":{\"fillmode\":\"overlay\",\"size\":10,\"solidity\":0.2},\"type\":\"scatter\"}],\"parcoords\":[{\"type\":\"parcoords\",\"line\":{\"colorbar\":{\"outlinewidth\":0,\"ticks\":\"\"}}}],\"scatterpolargl\":[{\"type\":\"scatterpolargl\",\"marker\":{\"colorbar\":{\"outlinewidth\":0,\"ticks\":\"\"}}}],\"bar\":[{\"error_x\":{\"color\":\"#2a3f5f\"},\"error_y\":{\"color\":\"#2a3f5f\"},\"marker\":{\"line\":{\"color\":\"#E5ECF6\",\"width\":0.5},\"pattern\":{\"fillmode\":\"overlay\",\"size\":10,\"solidity\":0.2}},\"type\":\"bar\"}],\"scattergeo\":[{\"type\":\"scattergeo\",\"marker\":{\"colorbar\":{\"outlinewidth\":0,\"ticks\":\"\"}}}],\"scatterpolar\":[{\"type\":\"scatterpolar\",\"marker\":{\"colorbar\":{\"outlinewidth\":0,\"ticks\":\"\"}}}],\"histogram\":[{\"marker\":{\"pattern\":{\"fillmode\":\"overlay\",\"size\":10,\"solidity\":0.2}},\"type\":\"histogram\"}],\"scattergl\":[{\"type\":\"scattergl\",\"marker\":{\"colorbar\":{\"outlinewidth\":0,\"ticks\":\"\"}}}],\"scatter3d\":[{\"type\":\"scatter3d\",\"line\":{\"colorbar\":{\"outlinewidth\":0,\"ticks\":\"\"}},\"marker\":{\"colorbar\":{\"outlinewidth\":0,\"ticks\":\"\"}}}],\"scattermapbox\":[{\"type\":\"scattermapbox\",\"marker\":{\"colorbar\":{\"outlinewidth\":0,\"ticks\":\"\"}}}],\"scatterternary\":[{\"type\":\"scatterternary\",\"marker\":{\"colorbar\":{\"outlinewidth\":0,\"ticks\":\"\"}}}],\"scattercarpet\":[{\"type\":\"scattercarpet\",\"marker\":{\"colorbar\":{\"outlinewidth\":0,\"ticks\":\"\"}}}],\"carpet\":[{\"aaxis\":{\"endlinecolor\":\"#2a3f5f\",\"gridcolor\":\"white\",\"linecolor\":\"white\",\"minorgridcolor\":\"white\",\"startlinecolor\":\"#2a3f5f\"},\"baxis\":{\"endlinecolor\":\"#2a3f5f\",\"gridcolor\":\"white\",\"linecolor\":\"white\",\"minorgridcolor\":\"white\",\"startlinecolor\":\"#2a3f5f\"},\"type\":\"carpet\"}],\"table\":[{\"cells\":{\"fill\":{\"color\":\"#EBF0F8\"},\"line\":{\"color\":\"white\"}},\"header\":{\"fill\":{\"color\":\"#C8D4E3\"},\"line\":{\"color\":\"white\"}},\"type\":\"table\"}],\"barpolar\":[{\"marker\":{\"line\":{\"color\":\"#E5ECF6\",\"width\":0.5},\"pattern\":{\"fillmode\":\"overlay\",\"size\":10,\"solidity\":0.2}},\"type\":\"barpolar\"}],\"pie\":[{\"automargin\":true,\"type\":\"pie\"}]},\"layout\":{\"autotypenumbers\":\"strict\",\"colorway\":[\"#636efa\",\"#EF553B\",\"#00cc96\",\"#ab63fa\",\"#FFA15A\",\"#19d3f3\",\"#FF6692\",\"#B6E880\",\"#FF97FF\",\"#FECB52\"],\"font\":{\"color\":\"#2a3f5f\"},\"hovermode\":\"closest\",\"hoverlabel\":{\"align\":\"left\"},\"paper_bgcolor\":\"white\",\"plot_bgcolor\":\"#E5ECF6\",\"polar\":{\"bgcolor\":\"#E5ECF6\",\"angularaxis\":{\"gridcolor\":\"white\",\"linecolor\":\"white\",\"ticks\":\"\"},\"radialaxis\":{\"gridcolor\":\"white\",\"linecolor\":\"white\",\"ticks\":\"\"}},\"ternary\":{\"bgcolor\":\"#E5ECF6\",\"aaxis\":{\"gridcolor\":\"white\",\"linecolor\":\"white\",\"ticks\":\"\"},\"baxis\":{\"gridcolor\":\"white\",\"linecolor\":\"white\",\"ticks\":\"\"},\"caxis\":{\"gridcolor\":\"white\",\"linecolor\":\"white\",\"ticks\":\"\"}},\"coloraxis\":{\"colorbar\":{\"outlinewidth\":0,\"ticks\":\"\"}},\"colorscale\":{\"sequential\":[[0.0,\"#0d0887\"],[0.1111111111111111,\"#46039f\"],[0.2222222222222222,\"#7201a8\"],[0.3333333333333333,\"#9c179e\"],[0.4444444444444444,\"#bd3786\"],[0.5555555555555556,\"#d8576b\"],[0.6666666666666666,\"#ed7953\"],[0.7777777777777778,\"#fb9f3a\"],[0.8888888888888888,\"#fdca26\"],[1.0,\"#f0f921\"]],\"sequentialminus\":[[0.0,\"#0d0887\"],[0.1111111111111111,\"#46039f\"],[0.2222222222222222,\"#7201a8\"],[0.3333333333333333,\"#9c179e\"],[0.4444444444444444,\"#bd3786\"],[0.5555555555555556,\"#d8576b\"],[0.6666666666666666,\"#ed7953\"],[0.7777777777777778,\"#fb9f3a\"],[0.8888888888888888,\"#fdca26\"],[1.0,\"#f0f921\"]],\"diverging\":[[0,\"#8e0152\"],[0.1,\"#c51b7d\"],[0.2,\"#de77ae\"],[0.3,\"#f1b6da\"],[0.4,\"#fde0ef\"],[0.5,\"#f7f7f7\"],[0.6,\"#e6f5d0\"],[0.7,\"#b8e186\"],[0.8,\"#7fbc41\"],[0.9,\"#4d9221\"],[1,\"#276419\"]]},\"xaxis\":{\"gridcolor\":\"white\",\"linecolor\":\"white\",\"ticks\":\"\",\"title\":{\"standoff\":15},\"zerolinecolor\":\"white\",\"automargin\":true,\"zerolinewidth\":2},\"yaxis\":{\"gridcolor\":\"white\",\"linecolor\":\"white\",\"ticks\":\"\",\"title\":{\"standoff\":15},\"zerolinecolor\":\"white\",\"automargin\":true,\"zerolinewidth\":2},\"scene\":{\"xaxis\":{\"backgroundcolor\":\"#E5ECF6\",\"gridcolor\":\"white\",\"linecolor\":\"white\",\"showbackground\":true,\"ticks\":\"\",\"zerolinecolor\":\"white\",\"gridwidth\":2},\"yaxis\":{\"backgroundcolor\":\"#E5ECF6\",\"gridcolor\":\"white\",\"linecolor\":\"white\",\"showbackground\":true,\"ticks\":\"\",\"zerolinecolor\":\"white\",\"gridwidth\":2},\"zaxis\":{\"backgroundcolor\":\"#E5ECF6\",\"gridcolor\":\"white\",\"linecolor\":\"white\",\"showbackground\":true,\"ticks\":\"\",\"zerolinecolor\":\"white\",\"gridwidth\":2}},\"shapedefaults\":{\"line\":{\"color\":\"#2a3f5f\"}},\"annotationdefaults\":{\"arrowcolor\":\"#2a3f5f\",\"arrowhead\":0,\"arrowwidth\":1},\"geo\":{\"bgcolor\":\"white\",\"landcolor\":\"#E5ECF6\",\"subunitcolor\":\"white\",\"showland\":true,\"showlakes\":true,\"lakecolor\":\"white\"},\"title\":{\"x\":0.05},\"mapbox\":{\"style\":\"light\"}}},\"xaxis\":{\"anchor\":\"y\",\"domain\":[0.0,0.45],\"title\":{\"text\":\"Transition Probability\"},\"range\":[0,1]},\"yaxis\":{\"anchor\":\"x\",\"domain\":[0.0,1.0],\"title\":{\"text\":\"Current State\"}},\"xaxis2\":{\"anchor\":\"y2\",\"domain\":[0.55,1.0],\"title\":{\"text\":\"Transition Probability\"},\"range\":[0,1]},\"yaxis2\":{\"anchor\":\"x2\",\"domain\":[0.0,1.0]},\"annotations\":[{\"font\":{\"size\":16},\"showarrow\":false,\"text\":\"Giving the action was Rejection\",\"x\":0.225,\"xanchor\":\"center\",\"xref\":\"paper\",\"y\":1.0,\"yanchor\":\"bottom\",\"yref\":\"paper\"},{\"font\":{\"size\":16},\"showarrow\":false,\"text\":\"Giving the action was Acceptance\",\"x\":0.775,\"xanchor\":\"center\",\"xref\":\"paper\",\"y\":1.0,\"yanchor\":\"bottom\",\"yref\":\"paper\"}],\"sliders\":[{\"active\":0,\"currentvalue\":{\"prefix\":\"q = \"},\"pad\":{\"t\":50},\"steps\":[{\"args\":[[\"Frame 0\"]],\"label\":\"0.1\",\"method\":\"animate\"},{\"args\":[[\"Frame 1\"]],\"label\":\"0.2\",\"method\":\"animate\"},{\"args\":[[\"Frame 2\"]],\"label\":\"0.3\",\"method\":\"animate\"},{\"args\":[[\"Frame 3\"]],\"label\":\"0.4\",\"method\":\"animate\"},{\"args\":[[\"Frame 4\"]],\"label\":\"0.5\",\"method\":\"animate\"},{\"args\":[[\"Frame 5\"]],\"label\":\"0.6\",\"method\":\"animate\"},{\"args\":[[\"Frame 6\"]],\"label\":\"0.7\",\"method\":\"animate\"},{\"args\":[[\"Frame 7\"]],\"label\":\"0.8\",\"method\":\"animate\"},{\"args\":[[\"Frame 8\"]],\"label\":\"0.9\",\"method\":\"animate\"},{\"args\":[[\"Frame 9\"]],\"label\":\"1.0\",\"method\":\"animate\"}]}]},                        {\"responsive\": true}                    ).then(function(){\n",
              "                            Plotly.addFrames('d09f3280-385d-4285-bb28-b0147a1578fb', [{\"data\":[{\"marker\":{\"color\":[\"rgb(95, 70, 144)\",\"rgb(29, 105, 150)\",\"rgb(56, 166, 165)\",\"rgb(15, 133, 84)\",\"rgb(115, 175, 72)\",\"rgb(237, 173, 8)\",\"rgb(225, 124, 5)\",\"rgb(204, 80, 62)\",\"rgb(148, 52, 110)\",\"rgb(111, 64, 112)\",\"rgb(102, 102, 102)\",\"rgb(95, 70, 144)\",\"rgb(29, 105, 150)\",\"rgb(56, 166, 165)\",\"rgb(15, 133, 84)\",\"rgb(115, 175, 72)\",\"rgb(237, 173, 8)\",\"rgb(225, 124, 5)\",\"rgb(204, 80, 62)\",\"rgb(148, 52, 110)\",\"rgb(111, 64, 112)\",\"rgb(102, 102, 102)\",\"rgb(95, 70, 144)\",\"rgb(29, 105, 150)\",\"rgb(56, 166, 165)\",\"rgb(15, 133, 84)\",\"rgb(115, 175, 72)\",\"rgb(237, 173, 8)\",\"rgb(225, 124, 5)\",\"rgb(204, 80, 62)\",\"rgb(148, 52, 110)\",\"rgb(111, 64, 112)\",\"rgb(102, 102, 102)\",\"rgb(95, 70, 144)\",\"rgb(29, 105, 150)\",\"rgb(56, 166, 165)\",\"rgb(15, 133, 84)\",\"rgb(115, 175, 72)\",\"rgb(237, 173, 8)\",\"rgb(225, 124, 5)\",\"rgb(204, 80, 62)\",\"rgb(148, 52, 110)\",\"rgb(111, 64, 112)\",\"rgb(102, 102, 102)\",\"rgb(95, 70, 144)\",\"rgb(29, 105, 150)\",\"rgb(56, 166, 165)\",\"rgb(15, 133, 84)\",\"rgb(115, 175, 72)\",\"rgb(237, 173, 8)\",\"rgb(225, 124, 5)\",\"rgb(204, 80, 62)\",\"rgb(148, 52, 110)\",\"rgb(111, 64, 112)\",\"rgb(102, 102, 102)\",\"rgb(95, 70, 144)\",\"rgb(29, 105, 150)\",\"rgb(56, 166, 165)\",\"rgb(15, 133, 84)\",\"rgb(115, 175, 72)\",\"rgb(237, 173, 8)\",\"rgb(225, 124, 5)\",\"rgb(204, 80, 62)\",\"rgb(148, 52, 110)\",\"rgb(111, 64, 112)\",\"rgb(102, 102, 102)\",\"rgb(95, 70, 144)\",\"rgb(29, 105, 150)\",\"rgb(56, 166, 165)\",\"rgb(15, 133, 84)\",\"rgb(115, 175, 72)\",\"rgb(237, 173, 8)\",\"rgb(225, 124, 5)\",\"rgb(204, 80, 62)\",\"rgb(148, 52, 110)\",\"rgb(111, 64, 112)\",\"rgb(102, 102, 102)\",\"rgb(95, 70, 144)\",\"rgb(29, 105, 150)\",\"rgb(56, 166, 165)\",\"rgb(15, 133, 84)\",\"rgb(115, 175, 72)\",\"rgb(237, 173, 8)\",\"rgb(225, 124, 5)\",\"rgb(204, 80, 62)\",\"rgb(148, 52, 110)\",\"rgb(111, 64, 112)\",\"rgb(102, 102, 102)\",\"rgb(95, 70, 144)\",\"rgb(29, 105, 150)\",\"rgb(56, 166, 165)\",\"rgb(15, 133, 84)\",\"rgb(115, 175, 72)\",\"rgb(237, 173, 8)\",\"rgb(225, 124, 5)\",\"rgb(204, 80, 62)\",\"rgb(148, 52, 110)\",\"rgb(111, 64, 112)\",\"rgb(102, 102, 102)\",\"rgb(95, 70, 144)\",\"rgb(29, 105, 150)\",\"rgb(56, 166, 165)\",\"rgb(15, 133, 84)\",\"rgb(115, 175, 72)\",\"rgb(237, 173, 8)\",\"rgb(225, 124, 5)\",\"rgb(204, 80, 62)\",\"rgb(148, 52, 110)\",\"rgb(111, 64, 112)\",\"rgb(102, 102, 102)\",\"rgb(95, 70, 144)\",\"rgb(29, 105, 150)\",\"rgb(56, 166, 165)\",\"rgb(15, 133, 84)\",\"rgb(115, 175, 72)\",\"rgb(237, 173, 8)\",\"rgb(225, 124, 5)\",\"rgb(204, 80, 62)\",\"rgb(148, 52, 110)\",\"rgb(111, 64, 112)\",\"rgb(102, 102, 102)\"]},\"orientation\":\"h\",\"showlegend\":false,\"text\":[\"State 0\",\"State 1\",\"State 2\",\"State 3\",\"State 4\",\"State 5\",\"State 6\",\"State 7\",\"State 8\",\"State 9\",\"State 10\",\"State 0\",\"State 1\",\"State 2\",\"State 3\",\"State 4\",\"State 5\",\"State 6\",\"State 7\",\"State 8\",\"State 9\",\"State 10\",\"State 0\",\"State 1\",\"State 2\",\"State 3\",\"State 4\",\"State 5\",\"State 6\",\"State 7\",\"State 8\",\"State 9\",\"State 10\",\"State 0\",\"State 1\",\"State 2\",\"State 3\",\"State 4\",\"State 5\",\"State 6\",\"State 7\",\"State 8\",\"State 9\",\"State 10\",\"State 0\",\"State 1\",\"State 2\",\"State 3\",\"State 4\",\"State 5\",\"State 6\",\"State 7\",\"State 8\",\"State 9\",\"State 10\",\"State 0\",\"State 1\",\"State 2\",\"State 3\",\"State 4\",\"State 5\",\"State 6\",\"State 7\",\"State 8\",\"State 9\",\"State 10\",\"State 0\",\"State 1\",\"State 2\",\"State 3\",\"State 4\",\"State 5\",\"State 6\",\"State 7\",\"State 8\",\"State 9\",\"State 10\",\"State 0\",\"State 1\",\"State 2\",\"State 3\",\"State 4\",\"State 5\",\"State 6\",\"State 7\",\"State 8\",\"State 9\",\"State 10\",\"State 0\",\"State 1\",\"State 2\",\"State 3\",\"State 4\",\"State 5\",\"State 6\",\"State 7\",\"State 8\",\"State 9\",\"State 10\",\"State 0\",\"State 1\",\"State 2\",\"State 3\",\"State 4\",\"State 5\",\"State 6\",\"State 7\",\"State 8\",\"State 9\",\"State 10\",\"State 0\",\"State 1\",\"State 2\",\"State 3\",\"State 4\",\"State 5\",\"State 6\",\"State 7\",\"State 8\",\"State 9\",\"State 10\"],\"x\":[1.0,0.0,0.0,0.0,0.0,0.0,0.0,0.0,0.0,0.0,0.0,0.10000000000000003,0.9,0.0,0.0,0.0,0.0,0.0,0.0,0.0,0.0,0.0,0.009999999999999993,0.17999999999999997,0.81,0.0,0.0,0.0,0.0,0.0,0.0,0.0,0.0,0.0009999999999999996,0.027,0.24299999999999994,0.7290000000000001,0.0,0.0,0.0,0.0,0.0,0.0,0.0,9.999999999999987e-05,0.003599999999999998,0.048599999999999983,0.29159999999999997,0.6561,0.0,0.0,0.0,0.0,0.0,0.0,9.99999999999999e-06,0.0004499999999999999,0.008099999999999996,0.07289999999999994,0.3280499999999999,0.5904900000000001,0.0,0.0,0.0,0.0,0.0,9.999999999999983e-07,5.399999999999995e-05,0.0012149999999999984,0.014579999999999984,0.09841499999999995,0.354294,0.531441,0.0,0.0,0.0,0.0,9.99999999999999e-08,6.299999999999996e-06,0.00017009999999999996,0.002551499999999997,0.022963499999999977,0.1240029,0.3720086999999998,0.4782969000000001,0.0,0.0,0.0,9.999999999999987e-09,7.199999999999989e-07,2.267999999999998e-05,0.00040823999999999976,0.004592699999999998,0.03306743999999999,0.1488034799999999,0.38263752000000006,0.4304672100000001,0.0,0.0,9.999999999999982e-10,8.099999999999992e-08,2.915999999999998e-06,6.123599999999991e-05,0.0008266859999999994,0.007440173999999999,0.04464104399999997,0.17218688399999987,0.38742048899999987,0.3874204890000001,0.0,9.999999999999977e-11,8.999999999999978e-09,3.6449999999999943e-07,8.747999999999991e-06,0.00013778099999999974,0.0014880347999999982,0.011160260999999996,0.05739562799999997,0.1937102444999998,0.38742048899999976,0.3486784401000001],\"y\":[0,0,0,0,0,0,0,0,0,0,0,1,1,1,1,1,1,1,1,1,1,1,2,2,2,2,2,2,2,2,2,2,2,3,3,3,3,3,3,3,3,3,3,3,4,4,4,4,4,4,4,4,4,4,4,5,5,5,5,5,5,5,5,5,5,5,6,6,6,6,6,6,6,6,6,6,6,7,7,7,7,7,7,7,7,7,7,7,8,8,8,8,8,8,8,8,8,8,8,9,9,9,9,9,9,9,9,9,9,9,10,10,10,10,10,10,10,10,10,10,10],\"type\":\"bar\"},{\"marker\":{\"color\":[\"rgb(95, 70, 144)\",\"rgb(29, 105, 150)\",\"rgb(56, 166, 165)\",\"rgb(15, 133, 84)\",\"rgb(115, 175, 72)\",\"rgb(237, 173, 8)\",\"rgb(225, 124, 5)\",\"rgb(204, 80, 62)\",\"rgb(148, 52, 110)\",\"rgb(111, 64, 112)\",\"rgb(102, 102, 102)\",\"rgb(95, 70, 144)\",\"rgb(29, 105, 150)\",\"rgb(56, 166, 165)\",\"rgb(15, 133, 84)\",\"rgb(115, 175, 72)\",\"rgb(237, 173, 8)\",\"rgb(225, 124, 5)\",\"rgb(204, 80, 62)\",\"rgb(148, 52, 110)\",\"rgb(111, 64, 112)\",\"rgb(102, 102, 102)\",\"rgb(95, 70, 144)\",\"rgb(29, 105, 150)\",\"rgb(56, 166, 165)\",\"rgb(15, 133, 84)\",\"rgb(115, 175, 72)\",\"rgb(237, 173, 8)\",\"rgb(225, 124, 5)\",\"rgb(204, 80, 62)\",\"rgb(148, 52, 110)\",\"rgb(111, 64, 112)\",\"rgb(102, 102, 102)\",\"rgb(95, 70, 144)\",\"rgb(29, 105, 150)\",\"rgb(56, 166, 165)\",\"rgb(15, 133, 84)\",\"rgb(115, 175, 72)\",\"rgb(237, 173, 8)\",\"rgb(225, 124, 5)\",\"rgb(204, 80, 62)\",\"rgb(148, 52, 110)\",\"rgb(111, 64, 112)\",\"rgb(102, 102, 102)\",\"rgb(95, 70, 144)\",\"rgb(29, 105, 150)\",\"rgb(56, 166, 165)\",\"rgb(15, 133, 84)\",\"rgb(115, 175, 72)\",\"rgb(237, 173, 8)\",\"rgb(225, 124, 5)\",\"rgb(204, 80, 62)\",\"rgb(148, 52, 110)\",\"rgb(111, 64, 112)\",\"rgb(102, 102, 102)\",\"rgb(95, 70, 144)\",\"rgb(29, 105, 150)\",\"rgb(56, 166, 165)\",\"rgb(15, 133, 84)\",\"rgb(115, 175, 72)\",\"rgb(237, 173, 8)\",\"rgb(225, 124, 5)\",\"rgb(204, 80, 62)\",\"rgb(148, 52, 110)\",\"rgb(111, 64, 112)\",\"rgb(102, 102, 102)\",\"rgb(95, 70, 144)\",\"rgb(29, 105, 150)\",\"rgb(56, 166, 165)\",\"rgb(15, 133, 84)\",\"rgb(115, 175, 72)\",\"rgb(237, 173, 8)\",\"rgb(225, 124, 5)\",\"rgb(204, 80, 62)\",\"rgb(148, 52, 110)\",\"rgb(111, 64, 112)\",\"rgb(102, 102, 102)\",\"rgb(95, 70, 144)\",\"rgb(29, 105, 150)\",\"rgb(56, 166, 165)\",\"rgb(15, 133, 84)\",\"rgb(115, 175, 72)\",\"rgb(237, 173, 8)\",\"rgb(225, 124, 5)\",\"rgb(204, 80, 62)\",\"rgb(148, 52, 110)\",\"rgb(111, 64, 112)\",\"rgb(102, 102, 102)\",\"rgb(95, 70, 144)\",\"rgb(29, 105, 150)\",\"rgb(56, 166, 165)\",\"rgb(15, 133, 84)\",\"rgb(115, 175, 72)\",\"rgb(237, 173, 8)\",\"rgb(225, 124, 5)\",\"rgb(204, 80, 62)\",\"rgb(148, 52, 110)\",\"rgb(111, 64, 112)\",\"rgb(102, 102, 102)\",\"rgb(95, 70, 144)\",\"rgb(29, 105, 150)\",\"rgb(56, 166, 165)\",\"rgb(15, 133, 84)\",\"rgb(115, 175, 72)\",\"rgb(237, 173, 8)\",\"rgb(225, 124, 5)\",\"rgb(204, 80, 62)\",\"rgb(148, 52, 110)\",\"rgb(111, 64, 112)\",\"rgb(102, 102, 102)\",\"rgb(95, 70, 144)\",\"rgb(29, 105, 150)\",\"rgb(56, 166, 165)\",\"rgb(15, 133, 84)\",\"rgb(115, 175, 72)\",\"rgb(237, 173, 8)\",\"rgb(225, 124, 5)\",\"rgb(204, 80, 62)\",\"rgb(148, 52, 110)\",\"rgb(111, 64, 112)\",\"rgb(102, 102, 102)\"]},\"orientation\":\"h\",\"showlegend\":false,\"text\":[\"State 0\",\"State 1\",\"State 2\",\"State 3\",\"State 4\",\"State 5\",\"State 6\",\"State 7\",\"State 8\",\"State 9\",\"State 10\",\"State 0\",\"State 1\",\"State 2\",\"State 3\",\"State 4\",\"State 5\",\"State 6\",\"State 7\",\"State 8\",\"State 9\",\"State 10\",\"State 0\",\"State 1\",\"State 2\",\"State 3\",\"State 4\",\"State 5\",\"State 6\",\"State 7\",\"State 8\",\"State 9\",\"State 10\",\"State 0\",\"State 1\",\"State 2\",\"State 3\",\"State 4\",\"State 5\",\"State 6\",\"State 7\",\"State 8\",\"State 9\",\"State 10\",\"State 0\",\"State 1\",\"State 2\",\"State 3\",\"State 4\",\"State 5\",\"State 6\",\"State 7\",\"State 8\",\"State 9\",\"State 10\",\"State 0\",\"State 1\",\"State 2\",\"State 3\",\"State 4\",\"State 5\",\"State 6\",\"State 7\",\"State 8\",\"State 9\",\"State 10\",\"State 0\",\"State 1\",\"State 2\",\"State 3\",\"State 4\",\"State 5\",\"State 6\",\"State 7\",\"State 8\",\"State 9\",\"State 10\",\"State 0\",\"State 1\",\"State 2\",\"State 3\",\"State 4\",\"State 5\",\"State 6\",\"State 7\",\"State 8\",\"State 9\",\"State 10\",\"State 0\",\"State 1\",\"State 2\",\"State 3\",\"State 4\",\"State 5\",\"State 6\",\"State 7\",\"State 8\",\"State 9\",\"State 10\",\"State 0\",\"State 1\",\"State 2\",\"State 3\",\"State 4\",\"State 5\",\"State 6\",\"State 7\",\"State 8\",\"State 9\",\"State 10\",\"State 0\",\"State 1\",\"State 2\",\"State 3\",\"State 4\",\"State 5\",\"State 6\",\"State 7\",\"State 8\",\"State 9\",\"State 10\"],\"x\":[0.10000000000000003,0.9,0.0,0.0,0.0,0.0,0.0,0.0,0.0,0.0,0.0,0.009999999999999993,0.17999999999999997,0.81,0.0,0.0,0.0,0.0,0.0,0.0,0.0,0.0,0.0009999999999999996,0.027,0.24299999999999994,0.7290000000000001,0.0,0.0,0.0,0.0,0.0,0.0,0.0,9.999999999999987e-05,0.003599999999999998,0.048599999999999983,0.29159999999999997,0.6561,0.0,0.0,0.0,0.0,0.0,0.0,9.99999999999999e-06,0.0004499999999999999,0.008099999999999996,0.07289999999999994,0.3280499999999999,0.5904900000000001,0.0,0.0,0.0,0.0,0.0,9.999999999999983e-07,5.399999999999995e-05,0.0012149999999999984,0.014579999999999984,0.09841499999999995,0.354294,0.531441,0.0,0.0,0.0,0.0,9.99999999999999e-08,6.299999999999996e-06,0.00017009999999999996,0.002551499999999997,0.022963499999999977,0.1240029,0.3720086999999998,0.4782969000000001,0.0,0.0,0.0,9.999999999999987e-09,7.199999999999989e-07,2.267999999999998e-05,0.00040823999999999976,0.004592699999999998,0.03306743999999999,0.1488034799999999,0.38263752000000006,0.4304672100000001,0.0,0.0,9.999999999999982e-10,8.099999999999992e-08,2.915999999999998e-06,6.123599999999991e-05,0.0008266859999999994,0.007440173999999999,0.04464104399999997,0.17218688399999987,0.38742048899999987,0.3874204890000001,0.0,9.999999999999977e-11,8.999999999999978e-09,3.6449999999999943e-07,8.747999999999991e-06,0.00013778099999999974,0.0014880347999999982,0.011160260999999996,0.05739562799999997,0.1937102444999998,0.38742048899999976,0.3486784401000001,0.0,0.0,0.0,0.0,0.0,0.0,0.0,0.0,0.0,0.0,0.0],\"y\":[0,0,0,0,0,0,0,0,0,0,0,1,1,1,1,1,1,1,1,1,1,1,2,2,2,2,2,2,2,2,2,2,2,3,3,3,3,3,3,3,3,3,3,3,4,4,4,4,4,4,4,4,4,4,4,5,5,5,5,5,5,5,5,5,5,5,6,6,6,6,6,6,6,6,6,6,6,7,7,7,7,7,7,7,7,7,7,7,8,8,8,8,8,8,8,8,8,8,8,9,9,9,9,9,9,9,9,9,9,9,10,10,10,10,10,10,10,10,10,10,10],\"type\":\"bar\"}],\"name\":\"Frame 0\"},{\"data\":[{\"marker\":{\"color\":[\"rgb(95, 70, 144)\",\"rgb(29, 105, 150)\",\"rgb(56, 166, 165)\",\"rgb(15, 133, 84)\",\"rgb(115, 175, 72)\",\"rgb(237, 173, 8)\",\"rgb(225, 124, 5)\",\"rgb(204, 80, 62)\",\"rgb(148, 52, 110)\",\"rgb(111, 64, 112)\",\"rgb(102, 102, 102)\",\"rgb(95, 70, 144)\",\"rgb(29, 105, 150)\",\"rgb(56, 166, 165)\",\"rgb(15, 133, 84)\",\"rgb(115, 175, 72)\",\"rgb(237, 173, 8)\",\"rgb(225, 124, 5)\",\"rgb(204, 80, 62)\",\"rgb(148, 52, 110)\",\"rgb(111, 64, 112)\",\"rgb(102, 102, 102)\",\"rgb(95, 70, 144)\",\"rgb(29, 105, 150)\",\"rgb(56, 166, 165)\",\"rgb(15, 133, 84)\",\"rgb(115, 175, 72)\",\"rgb(237, 173, 8)\",\"rgb(225, 124, 5)\",\"rgb(204, 80, 62)\",\"rgb(148, 52, 110)\",\"rgb(111, 64, 112)\",\"rgb(102, 102, 102)\",\"rgb(95, 70, 144)\",\"rgb(29, 105, 150)\",\"rgb(56, 166, 165)\",\"rgb(15, 133, 84)\",\"rgb(115, 175, 72)\",\"rgb(237, 173, 8)\",\"rgb(225, 124, 5)\",\"rgb(204, 80, 62)\",\"rgb(148, 52, 110)\",\"rgb(111, 64, 112)\",\"rgb(102, 102, 102)\",\"rgb(95, 70, 144)\",\"rgb(29, 105, 150)\",\"rgb(56, 166, 165)\",\"rgb(15, 133, 84)\",\"rgb(115, 175, 72)\",\"rgb(237, 173, 8)\",\"rgb(225, 124, 5)\",\"rgb(204, 80, 62)\",\"rgb(148, 52, 110)\",\"rgb(111, 64, 112)\",\"rgb(102, 102, 102)\",\"rgb(95, 70, 144)\",\"rgb(29, 105, 150)\",\"rgb(56, 166, 165)\",\"rgb(15, 133, 84)\",\"rgb(115, 175, 72)\",\"rgb(237, 173, 8)\",\"rgb(225, 124, 5)\",\"rgb(204, 80, 62)\",\"rgb(148, 52, 110)\",\"rgb(111, 64, 112)\",\"rgb(102, 102, 102)\",\"rgb(95, 70, 144)\",\"rgb(29, 105, 150)\",\"rgb(56, 166, 165)\",\"rgb(15, 133, 84)\",\"rgb(115, 175, 72)\",\"rgb(237, 173, 8)\",\"rgb(225, 124, 5)\",\"rgb(204, 80, 62)\",\"rgb(148, 52, 110)\",\"rgb(111, 64, 112)\",\"rgb(102, 102, 102)\",\"rgb(95, 70, 144)\",\"rgb(29, 105, 150)\",\"rgb(56, 166, 165)\",\"rgb(15, 133, 84)\",\"rgb(115, 175, 72)\",\"rgb(237, 173, 8)\",\"rgb(225, 124, 5)\",\"rgb(204, 80, 62)\",\"rgb(148, 52, 110)\",\"rgb(111, 64, 112)\",\"rgb(102, 102, 102)\",\"rgb(95, 70, 144)\",\"rgb(29, 105, 150)\",\"rgb(56, 166, 165)\",\"rgb(15, 133, 84)\",\"rgb(115, 175, 72)\",\"rgb(237, 173, 8)\",\"rgb(225, 124, 5)\",\"rgb(204, 80, 62)\",\"rgb(148, 52, 110)\",\"rgb(111, 64, 112)\",\"rgb(102, 102, 102)\",\"rgb(95, 70, 144)\",\"rgb(29, 105, 150)\",\"rgb(56, 166, 165)\",\"rgb(15, 133, 84)\",\"rgb(115, 175, 72)\",\"rgb(237, 173, 8)\",\"rgb(225, 124, 5)\",\"rgb(204, 80, 62)\",\"rgb(148, 52, 110)\",\"rgb(111, 64, 112)\",\"rgb(102, 102, 102)\",\"rgb(95, 70, 144)\",\"rgb(29, 105, 150)\",\"rgb(56, 166, 165)\",\"rgb(15, 133, 84)\",\"rgb(115, 175, 72)\",\"rgb(237, 173, 8)\",\"rgb(225, 124, 5)\",\"rgb(204, 80, 62)\",\"rgb(148, 52, 110)\",\"rgb(111, 64, 112)\",\"rgb(102, 102, 102)\"]},\"orientation\":\"h\",\"showlegend\":false,\"text\":[\"State 0\",\"State 1\",\"State 2\",\"State 3\",\"State 4\",\"State 5\",\"State 6\",\"State 7\",\"State 8\",\"State 9\",\"State 10\",\"State 0\",\"State 1\",\"State 2\",\"State 3\",\"State 4\",\"State 5\",\"State 6\",\"State 7\",\"State 8\",\"State 9\",\"State 10\",\"State 0\",\"State 1\",\"State 2\",\"State 3\",\"State 4\",\"State 5\",\"State 6\",\"State 7\",\"State 8\",\"State 9\",\"State 10\",\"State 0\",\"State 1\",\"State 2\",\"State 3\",\"State 4\",\"State 5\",\"State 6\",\"State 7\",\"State 8\",\"State 9\",\"State 10\",\"State 0\",\"State 1\",\"State 2\",\"State 3\",\"State 4\",\"State 5\",\"State 6\",\"State 7\",\"State 8\",\"State 9\",\"State 10\",\"State 0\",\"State 1\",\"State 2\",\"State 3\",\"State 4\",\"State 5\",\"State 6\",\"State 7\",\"State 8\",\"State 9\",\"State 10\",\"State 0\",\"State 1\",\"State 2\",\"State 3\",\"State 4\",\"State 5\",\"State 6\",\"State 7\",\"State 8\",\"State 9\",\"State 10\",\"State 0\",\"State 1\",\"State 2\",\"State 3\",\"State 4\",\"State 5\",\"State 6\",\"State 7\",\"State 8\",\"State 9\",\"State 10\",\"State 0\",\"State 1\",\"State 2\",\"State 3\",\"State 4\",\"State 5\",\"State 6\",\"State 7\",\"State 8\",\"State 9\",\"State 10\",\"State 0\",\"State 1\",\"State 2\",\"State 3\",\"State 4\",\"State 5\",\"State 6\",\"State 7\",\"State 8\",\"State 9\",\"State 10\",\"State 0\",\"State 1\",\"State 2\",\"State 3\",\"State 4\",\"State 5\",\"State 6\",\"State 7\",\"State 8\",\"State 9\",\"State 10\"],\"x\":[1.0,0.0,0.0,0.0,0.0,0.0,0.0,0.0,0.0,0.0,0.0,0.2,0.8,0.0,0.0,0.0,0.0,0.0,0.0,0.0,0.0,0.0,0.03999999999999996,0.32,0.6400000000000001,0.0,0.0,0.0,0.0,0.0,0.0,0.0,0.0,0.007999999999999997,0.09600000000000006,0.384,0.5120000000000001,0.0,0.0,0.0,0.0,0.0,0.0,0.0,0.001599999999999998,0.025599999999999977,0.1535999999999999,0.4096000000000001,0.4096000000000001,0.0,0.0,0.0,0.0,0.0,0.0,0.00031999999999999976,0.006399999999999999,0.051199999999999975,0.20479999999999995,0.40959999999999996,0.3276800000000001,0.0,0.0,0.0,0.0,0.0,6.399999999999988e-05,0.0015359999999999992,0.015359999999999988,0.08191999999999995,0.24575999999999992,0.39321600000000007,0.2621440000000001,0.0,0.0,0.0,0.0,1.2799999999999988e-05,0.0003583999999999998,0.004300799999999998,0.02867199999999997,0.11468799999999987,0.2752512000000001,0.3670016,0.20971520000000007,0.0,0.0,0.0,2.5599999999999967e-06,8.191999999999991e-05,0.0011468799999999988,0.009175039999999995,0.04587519999999999,0.1468006399999999,0.2936012799999999,0.3355443200000001,0.1677721600000001,0.0,0.0,5.119999999999992e-07,1.8431999999999985e-05,0.00029491199999999993,0.0027525119999999973,0.01651507199999999,0.06606028799999995,0.17616076799999997,0.30198988800000015,0.30198988800000004,0.13421772800000006,0.0,1.023999999999998e-07,4.095999999999988e-06,7.372799999999989e-05,0.0007864319999999988,0.005505023999999991,0.026424115199999956,0.08808038399999985,0.20132659199999978,0.30198988799999993,0.26843545599999996,0.10737418240000006],\"y\":[0,0,0,0,0,0,0,0,0,0,0,1,1,1,1,1,1,1,1,1,1,1,2,2,2,2,2,2,2,2,2,2,2,3,3,3,3,3,3,3,3,3,3,3,4,4,4,4,4,4,4,4,4,4,4,5,5,5,5,5,5,5,5,5,5,5,6,6,6,6,6,6,6,6,6,6,6,7,7,7,7,7,7,7,7,7,7,7,8,8,8,8,8,8,8,8,8,8,8,9,9,9,9,9,9,9,9,9,9,9,10,10,10,10,10,10,10,10,10,10,10],\"type\":\"bar\"},{\"marker\":{\"color\":[\"rgb(95, 70, 144)\",\"rgb(29, 105, 150)\",\"rgb(56, 166, 165)\",\"rgb(15, 133, 84)\",\"rgb(115, 175, 72)\",\"rgb(237, 173, 8)\",\"rgb(225, 124, 5)\",\"rgb(204, 80, 62)\",\"rgb(148, 52, 110)\",\"rgb(111, 64, 112)\",\"rgb(102, 102, 102)\",\"rgb(95, 70, 144)\",\"rgb(29, 105, 150)\",\"rgb(56, 166, 165)\",\"rgb(15, 133, 84)\",\"rgb(115, 175, 72)\",\"rgb(237, 173, 8)\",\"rgb(225, 124, 5)\",\"rgb(204, 80, 62)\",\"rgb(148, 52, 110)\",\"rgb(111, 64, 112)\",\"rgb(102, 102, 102)\",\"rgb(95, 70, 144)\",\"rgb(29, 105, 150)\",\"rgb(56, 166, 165)\",\"rgb(15, 133, 84)\",\"rgb(115, 175, 72)\",\"rgb(237, 173, 8)\",\"rgb(225, 124, 5)\",\"rgb(204, 80, 62)\",\"rgb(148, 52, 110)\",\"rgb(111, 64, 112)\",\"rgb(102, 102, 102)\",\"rgb(95, 70, 144)\",\"rgb(29, 105, 150)\",\"rgb(56, 166, 165)\",\"rgb(15, 133, 84)\",\"rgb(115, 175, 72)\",\"rgb(237, 173, 8)\",\"rgb(225, 124, 5)\",\"rgb(204, 80, 62)\",\"rgb(148, 52, 110)\",\"rgb(111, 64, 112)\",\"rgb(102, 102, 102)\",\"rgb(95, 70, 144)\",\"rgb(29, 105, 150)\",\"rgb(56, 166, 165)\",\"rgb(15, 133, 84)\",\"rgb(115, 175, 72)\",\"rgb(237, 173, 8)\",\"rgb(225, 124, 5)\",\"rgb(204, 80, 62)\",\"rgb(148, 52, 110)\",\"rgb(111, 64, 112)\",\"rgb(102, 102, 102)\",\"rgb(95, 70, 144)\",\"rgb(29, 105, 150)\",\"rgb(56, 166, 165)\",\"rgb(15, 133, 84)\",\"rgb(115, 175, 72)\",\"rgb(237, 173, 8)\",\"rgb(225, 124, 5)\",\"rgb(204, 80, 62)\",\"rgb(148, 52, 110)\",\"rgb(111, 64, 112)\",\"rgb(102, 102, 102)\",\"rgb(95, 70, 144)\",\"rgb(29, 105, 150)\",\"rgb(56, 166, 165)\",\"rgb(15, 133, 84)\",\"rgb(115, 175, 72)\",\"rgb(237, 173, 8)\",\"rgb(225, 124, 5)\",\"rgb(204, 80, 62)\",\"rgb(148, 52, 110)\",\"rgb(111, 64, 112)\",\"rgb(102, 102, 102)\",\"rgb(95, 70, 144)\",\"rgb(29, 105, 150)\",\"rgb(56, 166, 165)\",\"rgb(15, 133, 84)\",\"rgb(115, 175, 72)\",\"rgb(237, 173, 8)\",\"rgb(225, 124, 5)\",\"rgb(204, 80, 62)\",\"rgb(148, 52, 110)\",\"rgb(111, 64, 112)\",\"rgb(102, 102, 102)\",\"rgb(95, 70, 144)\",\"rgb(29, 105, 150)\",\"rgb(56, 166, 165)\",\"rgb(15, 133, 84)\",\"rgb(115, 175, 72)\",\"rgb(237, 173, 8)\",\"rgb(225, 124, 5)\",\"rgb(204, 80, 62)\",\"rgb(148, 52, 110)\",\"rgb(111, 64, 112)\",\"rgb(102, 102, 102)\",\"rgb(95, 70, 144)\",\"rgb(29, 105, 150)\",\"rgb(56, 166, 165)\",\"rgb(15, 133, 84)\",\"rgb(115, 175, 72)\",\"rgb(237, 173, 8)\",\"rgb(225, 124, 5)\",\"rgb(204, 80, 62)\",\"rgb(148, 52, 110)\",\"rgb(111, 64, 112)\",\"rgb(102, 102, 102)\",\"rgb(95, 70, 144)\",\"rgb(29, 105, 150)\",\"rgb(56, 166, 165)\",\"rgb(15, 133, 84)\",\"rgb(115, 175, 72)\",\"rgb(237, 173, 8)\",\"rgb(225, 124, 5)\",\"rgb(204, 80, 62)\",\"rgb(148, 52, 110)\",\"rgb(111, 64, 112)\",\"rgb(102, 102, 102)\"]},\"orientation\":\"h\",\"showlegend\":false,\"text\":[\"State 0\",\"State 1\",\"State 2\",\"State 3\",\"State 4\",\"State 5\",\"State 6\",\"State 7\",\"State 8\",\"State 9\",\"State 10\",\"State 0\",\"State 1\",\"State 2\",\"State 3\",\"State 4\",\"State 5\",\"State 6\",\"State 7\",\"State 8\",\"State 9\",\"State 10\",\"State 0\",\"State 1\",\"State 2\",\"State 3\",\"State 4\",\"State 5\",\"State 6\",\"State 7\",\"State 8\",\"State 9\",\"State 10\",\"State 0\",\"State 1\",\"State 2\",\"State 3\",\"State 4\",\"State 5\",\"State 6\",\"State 7\",\"State 8\",\"State 9\",\"State 10\",\"State 0\",\"State 1\",\"State 2\",\"State 3\",\"State 4\",\"State 5\",\"State 6\",\"State 7\",\"State 8\",\"State 9\",\"State 10\",\"State 0\",\"State 1\",\"State 2\",\"State 3\",\"State 4\",\"State 5\",\"State 6\",\"State 7\",\"State 8\",\"State 9\",\"State 10\",\"State 0\",\"State 1\",\"State 2\",\"State 3\",\"State 4\",\"State 5\",\"State 6\",\"State 7\",\"State 8\",\"State 9\",\"State 10\",\"State 0\",\"State 1\",\"State 2\",\"State 3\",\"State 4\",\"State 5\",\"State 6\",\"State 7\",\"State 8\",\"State 9\",\"State 10\",\"State 0\",\"State 1\",\"State 2\",\"State 3\",\"State 4\",\"State 5\",\"State 6\",\"State 7\",\"State 8\",\"State 9\",\"State 10\",\"State 0\",\"State 1\",\"State 2\",\"State 3\",\"State 4\",\"State 5\",\"State 6\",\"State 7\",\"State 8\",\"State 9\",\"State 10\",\"State 0\",\"State 1\",\"State 2\",\"State 3\",\"State 4\",\"State 5\",\"State 6\",\"State 7\",\"State 8\",\"State 9\",\"State 10\"],\"x\":[0.2,0.8,0.0,0.0,0.0,0.0,0.0,0.0,0.0,0.0,0.0,0.03999999999999996,0.32,0.6400000000000001,0.0,0.0,0.0,0.0,0.0,0.0,0.0,0.0,0.007999999999999997,0.09600000000000006,0.384,0.5120000000000001,0.0,0.0,0.0,0.0,0.0,0.0,0.0,0.001599999999999998,0.025599999999999977,0.1535999999999999,0.4096000000000001,0.4096000000000001,0.0,0.0,0.0,0.0,0.0,0.0,0.00031999999999999976,0.006399999999999999,0.051199999999999975,0.20479999999999995,0.40959999999999996,0.3276800000000001,0.0,0.0,0.0,0.0,0.0,6.399999999999988e-05,0.0015359999999999992,0.015359999999999988,0.08191999999999995,0.24575999999999992,0.39321600000000007,0.2621440000000001,0.0,0.0,0.0,0.0,1.2799999999999988e-05,0.0003583999999999998,0.004300799999999998,0.02867199999999997,0.11468799999999987,0.2752512000000001,0.3670016,0.20971520000000007,0.0,0.0,0.0,2.5599999999999967e-06,8.191999999999991e-05,0.0011468799999999988,0.009175039999999995,0.04587519999999999,0.1468006399999999,0.2936012799999999,0.3355443200000001,0.1677721600000001,0.0,0.0,5.119999999999992e-07,1.8431999999999985e-05,0.00029491199999999993,0.0027525119999999973,0.01651507199999999,0.06606028799999995,0.17616076799999997,0.30198988800000015,0.30198988800000004,0.13421772800000006,0.0,1.023999999999998e-07,4.095999999999988e-06,7.372799999999989e-05,0.0007864319999999988,0.005505023999999991,0.026424115199999956,0.08808038399999985,0.20132659199999978,0.30198988799999993,0.26843545599999996,0.10737418240000006,0.0,0.0,0.0,0.0,0.0,0.0,0.0,0.0,0.0,0.0,0.0],\"y\":[0,0,0,0,0,0,0,0,0,0,0,1,1,1,1,1,1,1,1,1,1,1,2,2,2,2,2,2,2,2,2,2,2,3,3,3,3,3,3,3,3,3,3,3,4,4,4,4,4,4,4,4,4,4,4,5,5,5,5,5,5,5,5,5,5,5,6,6,6,6,6,6,6,6,6,6,6,7,7,7,7,7,7,7,7,7,7,7,8,8,8,8,8,8,8,8,8,8,8,9,9,9,9,9,9,9,9,9,9,9,10,10,10,10,10,10,10,10,10,10,10],\"type\":\"bar\"}],\"name\":\"Frame 1\"},{\"data\":[{\"marker\":{\"color\":[\"rgb(95, 70, 144)\",\"rgb(29, 105, 150)\",\"rgb(56, 166, 165)\",\"rgb(15, 133, 84)\",\"rgb(115, 175, 72)\",\"rgb(237, 173, 8)\",\"rgb(225, 124, 5)\",\"rgb(204, 80, 62)\",\"rgb(148, 52, 110)\",\"rgb(111, 64, 112)\",\"rgb(102, 102, 102)\",\"rgb(95, 70, 144)\",\"rgb(29, 105, 150)\",\"rgb(56, 166, 165)\",\"rgb(15, 133, 84)\",\"rgb(115, 175, 72)\",\"rgb(237, 173, 8)\",\"rgb(225, 124, 5)\",\"rgb(204, 80, 62)\",\"rgb(148, 52, 110)\",\"rgb(111, 64, 112)\",\"rgb(102, 102, 102)\",\"rgb(95, 70, 144)\",\"rgb(29, 105, 150)\",\"rgb(56, 166, 165)\",\"rgb(15, 133, 84)\",\"rgb(115, 175, 72)\",\"rgb(237, 173, 8)\",\"rgb(225, 124, 5)\",\"rgb(204, 80, 62)\",\"rgb(148, 52, 110)\",\"rgb(111, 64, 112)\",\"rgb(102, 102, 102)\",\"rgb(95, 70, 144)\",\"rgb(29, 105, 150)\",\"rgb(56, 166, 165)\",\"rgb(15, 133, 84)\",\"rgb(115, 175, 72)\",\"rgb(237, 173, 8)\",\"rgb(225, 124, 5)\",\"rgb(204, 80, 62)\",\"rgb(148, 52, 110)\",\"rgb(111, 64, 112)\",\"rgb(102, 102, 102)\",\"rgb(95, 70, 144)\",\"rgb(29, 105, 150)\",\"rgb(56, 166, 165)\",\"rgb(15, 133, 84)\",\"rgb(115, 175, 72)\",\"rgb(237, 173, 8)\",\"rgb(225, 124, 5)\",\"rgb(204, 80, 62)\",\"rgb(148, 52, 110)\",\"rgb(111, 64, 112)\",\"rgb(102, 102, 102)\",\"rgb(95, 70, 144)\",\"rgb(29, 105, 150)\",\"rgb(56, 166, 165)\",\"rgb(15, 133, 84)\",\"rgb(115, 175, 72)\",\"rgb(237, 173, 8)\",\"rgb(225, 124, 5)\",\"rgb(204, 80, 62)\",\"rgb(148, 52, 110)\",\"rgb(111, 64, 112)\",\"rgb(102, 102, 102)\",\"rgb(95, 70, 144)\",\"rgb(29, 105, 150)\",\"rgb(56, 166, 165)\",\"rgb(15, 133, 84)\",\"rgb(115, 175, 72)\",\"rgb(237, 173, 8)\",\"rgb(225, 124, 5)\",\"rgb(204, 80, 62)\",\"rgb(148, 52, 110)\",\"rgb(111, 64, 112)\",\"rgb(102, 102, 102)\",\"rgb(95, 70, 144)\",\"rgb(29, 105, 150)\",\"rgb(56, 166, 165)\",\"rgb(15, 133, 84)\",\"rgb(115, 175, 72)\",\"rgb(237, 173, 8)\",\"rgb(225, 124, 5)\",\"rgb(204, 80, 62)\",\"rgb(148, 52, 110)\",\"rgb(111, 64, 112)\",\"rgb(102, 102, 102)\",\"rgb(95, 70, 144)\",\"rgb(29, 105, 150)\",\"rgb(56, 166, 165)\",\"rgb(15, 133, 84)\",\"rgb(115, 175, 72)\",\"rgb(237, 173, 8)\",\"rgb(225, 124, 5)\",\"rgb(204, 80, 62)\",\"rgb(148, 52, 110)\",\"rgb(111, 64, 112)\",\"rgb(102, 102, 102)\",\"rgb(95, 70, 144)\",\"rgb(29, 105, 150)\",\"rgb(56, 166, 165)\",\"rgb(15, 133, 84)\",\"rgb(115, 175, 72)\",\"rgb(237, 173, 8)\",\"rgb(225, 124, 5)\",\"rgb(204, 80, 62)\",\"rgb(148, 52, 110)\",\"rgb(111, 64, 112)\",\"rgb(102, 102, 102)\",\"rgb(95, 70, 144)\",\"rgb(29, 105, 150)\",\"rgb(56, 166, 165)\",\"rgb(15, 133, 84)\",\"rgb(115, 175, 72)\",\"rgb(237, 173, 8)\",\"rgb(225, 124, 5)\",\"rgb(204, 80, 62)\",\"rgb(148, 52, 110)\",\"rgb(111, 64, 112)\",\"rgb(102, 102, 102)\"]},\"orientation\":\"h\",\"showlegend\":false,\"text\":[\"State 0\",\"State 1\",\"State 2\",\"State 3\",\"State 4\",\"State 5\",\"State 6\",\"State 7\",\"State 8\",\"State 9\",\"State 10\",\"State 0\",\"State 1\",\"State 2\",\"State 3\",\"State 4\",\"State 5\",\"State 6\",\"State 7\",\"State 8\",\"State 9\",\"State 10\",\"State 0\",\"State 1\",\"State 2\",\"State 3\",\"State 4\",\"State 5\",\"State 6\",\"State 7\",\"State 8\",\"State 9\",\"State 10\",\"State 0\",\"State 1\",\"State 2\",\"State 3\",\"State 4\",\"State 5\",\"State 6\",\"State 7\",\"State 8\",\"State 9\",\"State 10\",\"State 0\",\"State 1\",\"State 2\",\"State 3\",\"State 4\",\"State 5\",\"State 6\",\"State 7\",\"State 8\",\"State 9\",\"State 10\",\"State 0\",\"State 1\",\"State 2\",\"State 3\",\"State 4\",\"State 5\",\"State 6\",\"State 7\",\"State 8\",\"State 9\",\"State 10\",\"State 0\",\"State 1\",\"State 2\",\"State 3\",\"State 4\",\"State 5\",\"State 6\",\"State 7\",\"State 8\",\"State 9\",\"State 10\",\"State 0\",\"State 1\",\"State 2\",\"State 3\",\"State 4\",\"State 5\",\"State 6\",\"State 7\",\"State 8\",\"State 9\",\"State 10\",\"State 0\",\"State 1\",\"State 2\",\"State 3\",\"State 4\",\"State 5\",\"State 6\",\"State 7\",\"State 8\",\"State 9\",\"State 10\",\"State 0\",\"State 1\",\"State 2\",\"State 3\",\"State 4\",\"State 5\",\"State 6\",\"State 7\",\"State 8\",\"State 9\",\"State 10\",\"State 0\",\"State 1\",\"State 2\",\"State 3\",\"State 4\",\"State 5\",\"State 6\",\"State 7\",\"State 8\",\"State 9\",\"State 10\"],\"x\":[1.0,0.0,0.0,0.0,0.0,0.0,0.0,0.0,0.0,0.0,0.0,0.30000000000000004,0.7,0.0,0.0,0.0,0.0,0.0,0.0,0.0,0.0,0.0,0.09000000000000002,0.42000000000000015,0.48999999999999994,0.0,0.0,0.0,0.0,0.0,0.0,0.0,0.0,0.027000000000000007,0.18899999999999997,0.4409999999999998,0.3429999999999999,0.0,0.0,0.0,0.0,0.0,0.0,0.0,0.008100000000000007,0.07560000000000007,0.26460000000000006,0.41160000000000024,0.24009999999999995,0.0,0.0,0.0,0.0,0.0,0.0,0.0024300000000000003,0.02834999999999999,0.1323,0.30869999999999986,0.36014999999999997,0.16806999999999994,0.0,0.0,0.0,0.0,0.0,0.0007289999999999997,0.010206000000000002,0.059535,0.18521999999999988,0.3241349999999999,0.3025259999999998,0.11764899999999996,0.0,0.0,0.0,0.0,0.00021870000000000055,0.0035721000000000034,0.02500470000000003,0.0972405000000001,0.22689449999999997,0.3176523000000003,0.24706290000000009,0.08235429999999996,0.0,0.0,0.0,6.561000000000014e-05,0.001224720000000001,0.010001880000000008,0.04667544000000003,0.13613670000000017,0.25412184000000004,0.29647548,0.19765032000000016,0.05764800999999997,0.0,0.0,1.9683000000000015e-05,0.00041334300000000037,0.0038578680000000026,0.021003948,0.07351381799999998,0.1715322420000001,0.26682793200000016,0.26682793199999966,0.1556496269999999,0.04035360699999998,0.0,5.904900000000009e-06,0.0001377810000000001,0.0014467005000000004,0.009001692000000004,0.036756909000000025,0.10291934519999998,0.200120949,0.26682793200000005,0.23347444050000013,0.12106082099999994,0.028247524899999984],\"y\":[0,0,0,0,0,0,0,0,0,0,0,1,1,1,1,1,1,1,1,1,1,1,2,2,2,2,2,2,2,2,2,2,2,3,3,3,3,3,3,3,3,3,3,3,4,4,4,4,4,4,4,4,4,4,4,5,5,5,5,5,5,5,5,5,5,5,6,6,6,6,6,6,6,6,6,6,6,7,7,7,7,7,7,7,7,7,7,7,8,8,8,8,8,8,8,8,8,8,8,9,9,9,9,9,9,9,9,9,9,9,10,10,10,10,10,10,10,10,10,10,10],\"type\":\"bar\"},{\"marker\":{\"color\":[\"rgb(95, 70, 144)\",\"rgb(29, 105, 150)\",\"rgb(56, 166, 165)\",\"rgb(15, 133, 84)\",\"rgb(115, 175, 72)\",\"rgb(237, 173, 8)\",\"rgb(225, 124, 5)\",\"rgb(204, 80, 62)\",\"rgb(148, 52, 110)\",\"rgb(111, 64, 112)\",\"rgb(102, 102, 102)\",\"rgb(95, 70, 144)\",\"rgb(29, 105, 150)\",\"rgb(56, 166, 165)\",\"rgb(15, 133, 84)\",\"rgb(115, 175, 72)\",\"rgb(237, 173, 8)\",\"rgb(225, 124, 5)\",\"rgb(204, 80, 62)\",\"rgb(148, 52, 110)\",\"rgb(111, 64, 112)\",\"rgb(102, 102, 102)\",\"rgb(95, 70, 144)\",\"rgb(29, 105, 150)\",\"rgb(56, 166, 165)\",\"rgb(15, 133, 84)\",\"rgb(115, 175, 72)\",\"rgb(237, 173, 8)\",\"rgb(225, 124, 5)\",\"rgb(204, 80, 62)\",\"rgb(148, 52, 110)\",\"rgb(111, 64, 112)\",\"rgb(102, 102, 102)\",\"rgb(95, 70, 144)\",\"rgb(29, 105, 150)\",\"rgb(56, 166, 165)\",\"rgb(15, 133, 84)\",\"rgb(115, 175, 72)\",\"rgb(237, 173, 8)\",\"rgb(225, 124, 5)\",\"rgb(204, 80, 62)\",\"rgb(148, 52, 110)\",\"rgb(111, 64, 112)\",\"rgb(102, 102, 102)\",\"rgb(95, 70, 144)\",\"rgb(29, 105, 150)\",\"rgb(56, 166, 165)\",\"rgb(15, 133, 84)\",\"rgb(115, 175, 72)\",\"rgb(237, 173, 8)\",\"rgb(225, 124, 5)\",\"rgb(204, 80, 62)\",\"rgb(148, 52, 110)\",\"rgb(111, 64, 112)\",\"rgb(102, 102, 102)\",\"rgb(95, 70, 144)\",\"rgb(29, 105, 150)\",\"rgb(56, 166, 165)\",\"rgb(15, 133, 84)\",\"rgb(115, 175, 72)\",\"rgb(237, 173, 8)\",\"rgb(225, 124, 5)\",\"rgb(204, 80, 62)\",\"rgb(148, 52, 110)\",\"rgb(111, 64, 112)\",\"rgb(102, 102, 102)\",\"rgb(95, 70, 144)\",\"rgb(29, 105, 150)\",\"rgb(56, 166, 165)\",\"rgb(15, 133, 84)\",\"rgb(115, 175, 72)\",\"rgb(237, 173, 8)\",\"rgb(225, 124, 5)\",\"rgb(204, 80, 62)\",\"rgb(148, 52, 110)\",\"rgb(111, 64, 112)\",\"rgb(102, 102, 102)\",\"rgb(95, 70, 144)\",\"rgb(29, 105, 150)\",\"rgb(56, 166, 165)\",\"rgb(15, 133, 84)\",\"rgb(115, 175, 72)\",\"rgb(237, 173, 8)\",\"rgb(225, 124, 5)\",\"rgb(204, 80, 62)\",\"rgb(148, 52, 110)\",\"rgb(111, 64, 112)\",\"rgb(102, 102, 102)\",\"rgb(95, 70, 144)\",\"rgb(29, 105, 150)\",\"rgb(56, 166, 165)\",\"rgb(15, 133, 84)\",\"rgb(115, 175, 72)\",\"rgb(237, 173, 8)\",\"rgb(225, 124, 5)\",\"rgb(204, 80, 62)\",\"rgb(148, 52, 110)\",\"rgb(111, 64, 112)\",\"rgb(102, 102, 102)\",\"rgb(95, 70, 144)\",\"rgb(29, 105, 150)\",\"rgb(56, 166, 165)\",\"rgb(15, 133, 84)\",\"rgb(115, 175, 72)\",\"rgb(237, 173, 8)\",\"rgb(225, 124, 5)\",\"rgb(204, 80, 62)\",\"rgb(148, 52, 110)\",\"rgb(111, 64, 112)\",\"rgb(102, 102, 102)\",\"rgb(95, 70, 144)\",\"rgb(29, 105, 150)\",\"rgb(56, 166, 165)\",\"rgb(15, 133, 84)\",\"rgb(115, 175, 72)\",\"rgb(237, 173, 8)\",\"rgb(225, 124, 5)\",\"rgb(204, 80, 62)\",\"rgb(148, 52, 110)\",\"rgb(111, 64, 112)\",\"rgb(102, 102, 102)\"]},\"orientation\":\"h\",\"showlegend\":false,\"text\":[\"State 0\",\"State 1\",\"State 2\",\"State 3\",\"State 4\",\"State 5\",\"State 6\",\"State 7\",\"State 8\",\"State 9\",\"State 10\",\"State 0\",\"State 1\",\"State 2\",\"State 3\",\"State 4\",\"State 5\",\"State 6\",\"State 7\",\"State 8\",\"State 9\",\"State 10\",\"State 0\",\"State 1\",\"State 2\",\"State 3\",\"State 4\",\"State 5\",\"State 6\",\"State 7\",\"State 8\",\"State 9\",\"State 10\",\"State 0\",\"State 1\",\"State 2\",\"State 3\",\"State 4\",\"State 5\",\"State 6\",\"State 7\",\"State 8\",\"State 9\",\"State 10\",\"State 0\",\"State 1\",\"State 2\",\"State 3\",\"State 4\",\"State 5\",\"State 6\",\"State 7\",\"State 8\",\"State 9\",\"State 10\",\"State 0\",\"State 1\",\"State 2\",\"State 3\",\"State 4\",\"State 5\",\"State 6\",\"State 7\",\"State 8\",\"State 9\",\"State 10\",\"State 0\",\"State 1\",\"State 2\",\"State 3\",\"State 4\",\"State 5\",\"State 6\",\"State 7\",\"State 8\",\"State 9\",\"State 10\",\"State 0\",\"State 1\",\"State 2\",\"State 3\",\"State 4\",\"State 5\",\"State 6\",\"State 7\",\"State 8\",\"State 9\",\"State 10\",\"State 0\",\"State 1\",\"State 2\",\"State 3\",\"State 4\",\"State 5\",\"State 6\",\"State 7\",\"State 8\",\"State 9\",\"State 10\",\"State 0\",\"State 1\",\"State 2\",\"State 3\",\"State 4\",\"State 5\",\"State 6\",\"State 7\",\"State 8\",\"State 9\",\"State 10\",\"State 0\",\"State 1\",\"State 2\",\"State 3\",\"State 4\",\"State 5\",\"State 6\",\"State 7\",\"State 8\",\"State 9\",\"State 10\"],\"x\":[0.30000000000000004,0.7,0.0,0.0,0.0,0.0,0.0,0.0,0.0,0.0,0.0,0.09000000000000002,0.42000000000000015,0.48999999999999994,0.0,0.0,0.0,0.0,0.0,0.0,0.0,0.0,0.027000000000000007,0.18899999999999997,0.4409999999999998,0.3429999999999999,0.0,0.0,0.0,0.0,0.0,0.0,0.0,0.008100000000000007,0.07560000000000007,0.26460000000000006,0.41160000000000024,0.24009999999999995,0.0,0.0,0.0,0.0,0.0,0.0,0.0024300000000000003,0.02834999999999999,0.1323,0.30869999999999986,0.36014999999999997,0.16806999999999994,0.0,0.0,0.0,0.0,0.0,0.0007289999999999997,0.010206000000000002,0.059535,0.18521999999999988,0.3241349999999999,0.3025259999999998,0.11764899999999996,0.0,0.0,0.0,0.0,0.00021870000000000055,0.0035721000000000034,0.02500470000000003,0.0972405000000001,0.22689449999999997,0.3176523000000003,0.24706290000000009,0.08235429999999996,0.0,0.0,0.0,6.561000000000014e-05,0.001224720000000001,0.010001880000000008,0.04667544000000003,0.13613670000000017,0.25412184000000004,0.29647548,0.19765032000000016,0.05764800999999997,0.0,0.0,1.9683000000000015e-05,0.00041334300000000037,0.0038578680000000026,0.021003948,0.07351381799999998,0.1715322420000001,0.26682793200000016,0.26682793199999966,0.1556496269999999,0.04035360699999998,0.0,5.904900000000009e-06,0.0001377810000000001,0.0014467005000000004,0.009001692000000004,0.036756909000000025,0.10291934519999998,0.200120949,0.26682793200000005,0.23347444050000013,0.12106082099999994,0.028247524899999984,0.0,0.0,0.0,0.0,0.0,0.0,0.0,0.0,0.0,0.0,0.0],\"y\":[0,0,0,0,0,0,0,0,0,0,0,1,1,1,1,1,1,1,1,1,1,1,2,2,2,2,2,2,2,2,2,2,2,3,3,3,3,3,3,3,3,3,3,3,4,4,4,4,4,4,4,4,4,4,4,5,5,5,5,5,5,5,5,5,5,5,6,6,6,6,6,6,6,6,6,6,6,7,7,7,7,7,7,7,7,7,7,7,8,8,8,8,8,8,8,8,8,8,8,9,9,9,9,9,9,9,9,9,9,9,10,10,10,10,10,10,10,10,10,10,10],\"type\":\"bar\"}],\"name\":\"Frame 2\"},{\"data\":[{\"marker\":{\"color\":[\"rgb(95, 70, 144)\",\"rgb(29, 105, 150)\",\"rgb(56, 166, 165)\",\"rgb(15, 133, 84)\",\"rgb(115, 175, 72)\",\"rgb(237, 173, 8)\",\"rgb(225, 124, 5)\",\"rgb(204, 80, 62)\",\"rgb(148, 52, 110)\",\"rgb(111, 64, 112)\",\"rgb(102, 102, 102)\",\"rgb(95, 70, 144)\",\"rgb(29, 105, 150)\",\"rgb(56, 166, 165)\",\"rgb(15, 133, 84)\",\"rgb(115, 175, 72)\",\"rgb(237, 173, 8)\",\"rgb(225, 124, 5)\",\"rgb(204, 80, 62)\",\"rgb(148, 52, 110)\",\"rgb(111, 64, 112)\",\"rgb(102, 102, 102)\",\"rgb(95, 70, 144)\",\"rgb(29, 105, 150)\",\"rgb(56, 166, 165)\",\"rgb(15, 133, 84)\",\"rgb(115, 175, 72)\",\"rgb(237, 173, 8)\",\"rgb(225, 124, 5)\",\"rgb(204, 80, 62)\",\"rgb(148, 52, 110)\",\"rgb(111, 64, 112)\",\"rgb(102, 102, 102)\",\"rgb(95, 70, 144)\",\"rgb(29, 105, 150)\",\"rgb(56, 166, 165)\",\"rgb(15, 133, 84)\",\"rgb(115, 175, 72)\",\"rgb(237, 173, 8)\",\"rgb(225, 124, 5)\",\"rgb(204, 80, 62)\",\"rgb(148, 52, 110)\",\"rgb(111, 64, 112)\",\"rgb(102, 102, 102)\",\"rgb(95, 70, 144)\",\"rgb(29, 105, 150)\",\"rgb(56, 166, 165)\",\"rgb(15, 133, 84)\",\"rgb(115, 175, 72)\",\"rgb(237, 173, 8)\",\"rgb(225, 124, 5)\",\"rgb(204, 80, 62)\",\"rgb(148, 52, 110)\",\"rgb(111, 64, 112)\",\"rgb(102, 102, 102)\",\"rgb(95, 70, 144)\",\"rgb(29, 105, 150)\",\"rgb(56, 166, 165)\",\"rgb(15, 133, 84)\",\"rgb(115, 175, 72)\",\"rgb(237, 173, 8)\",\"rgb(225, 124, 5)\",\"rgb(204, 80, 62)\",\"rgb(148, 52, 110)\",\"rgb(111, 64, 112)\",\"rgb(102, 102, 102)\",\"rgb(95, 70, 144)\",\"rgb(29, 105, 150)\",\"rgb(56, 166, 165)\",\"rgb(15, 133, 84)\",\"rgb(115, 175, 72)\",\"rgb(237, 173, 8)\",\"rgb(225, 124, 5)\",\"rgb(204, 80, 62)\",\"rgb(148, 52, 110)\",\"rgb(111, 64, 112)\",\"rgb(102, 102, 102)\",\"rgb(95, 70, 144)\",\"rgb(29, 105, 150)\",\"rgb(56, 166, 165)\",\"rgb(15, 133, 84)\",\"rgb(115, 175, 72)\",\"rgb(237, 173, 8)\",\"rgb(225, 124, 5)\",\"rgb(204, 80, 62)\",\"rgb(148, 52, 110)\",\"rgb(111, 64, 112)\",\"rgb(102, 102, 102)\",\"rgb(95, 70, 144)\",\"rgb(29, 105, 150)\",\"rgb(56, 166, 165)\",\"rgb(15, 133, 84)\",\"rgb(115, 175, 72)\",\"rgb(237, 173, 8)\",\"rgb(225, 124, 5)\",\"rgb(204, 80, 62)\",\"rgb(148, 52, 110)\",\"rgb(111, 64, 112)\",\"rgb(102, 102, 102)\",\"rgb(95, 70, 144)\",\"rgb(29, 105, 150)\",\"rgb(56, 166, 165)\",\"rgb(15, 133, 84)\",\"rgb(115, 175, 72)\",\"rgb(237, 173, 8)\",\"rgb(225, 124, 5)\",\"rgb(204, 80, 62)\",\"rgb(148, 52, 110)\",\"rgb(111, 64, 112)\",\"rgb(102, 102, 102)\",\"rgb(95, 70, 144)\",\"rgb(29, 105, 150)\",\"rgb(56, 166, 165)\",\"rgb(15, 133, 84)\",\"rgb(115, 175, 72)\",\"rgb(237, 173, 8)\",\"rgb(225, 124, 5)\",\"rgb(204, 80, 62)\",\"rgb(148, 52, 110)\",\"rgb(111, 64, 112)\",\"rgb(102, 102, 102)\"]},\"orientation\":\"h\",\"showlegend\":false,\"text\":[\"State 0\",\"State 1\",\"State 2\",\"State 3\",\"State 4\",\"State 5\",\"State 6\",\"State 7\",\"State 8\",\"State 9\",\"State 10\",\"State 0\",\"State 1\",\"State 2\",\"State 3\",\"State 4\",\"State 5\",\"State 6\",\"State 7\",\"State 8\",\"State 9\",\"State 10\",\"State 0\",\"State 1\",\"State 2\",\"State 3\",\"State 4\",\"State 5\",\"State 6\",\"State 7\",\"State 8\",\"State 9\",\"State 10\",\"State 0\",\"State 1\",\"State 2\",\"State 3\",\"State 4\",\"State 5\",\"State 6\",\"State 7\",\"State 8\",\"State 9\",\"State 10\",\"State 0\",\"State 1\",\"State 2\",\"State 3\",\"State 4\",\"State 5\",\"State 6\",\"State 7\",\"State 8\",\"State 9\",\"State 10\",\"State 0\",\"State 1\",\"State 2\",\"State 3\",\"State 4\",\"State 5\",\"State 6\",\"State 7\",\"State 8\",\"State 9\",\"State 10\",\"State 0\",\"State 1\",\"State 2\",\"State 3\",\"State 4\",\"State 5\",\"State 6\",\"State 7\",\"State 8\",\"State 9\",\"State 10\",\"State 0\",\"State 1\",\"State 2\",\"State 3\",\"State 4\",\"State 5\",\"State 6\",\"State 7\",\"State 8\",\"State 9\",\"State 10\",\"State 0\",\"State 1\",\"State 2\",\"State 3\",\"State 4\",\"State 5\",\"State 6\",\"State 7\",\"State 8\",\"State 9\",\"State 10\",\"State 0\",\"State 1\",\"State 2\",\"State 3\",\"State 4\",\"State 5\",\"State 6\",\"State 7\",\"State 8\",\"State 9\",\"State 10\",\"State 0\",\"State 1\",\"State 2\",\"State 3\",\"State 4\",\"State 5\",\"State 6\",\"State 7\",\"State 8\",\"State 9\",\"State 10\"],\"x\":[1.0,0.0,0.0,0.0,0.0,0.0,0.0,0.0,0.0,0.0,0.0,0.4000000000000001,0.6,0.0,0.0,0.0,0.0,0.0,0.0,0.0,0.0,0.0,0.16,0.48000000000000015,0.36,0.0,0.0,0.0,0.0,0.0,0.0,0.0,0.0,0.06400000000000003,0.2880000000000001,0.43199999999999994,0.21599999999999997,0.0,0.0,0.0,0.0,0.0,0.0,0.0,0.025599999999999994,0.15359999999999996,0.3456,0.3456000000000001,0.1296,0.0,0.0,0.0,0.0,0.0,0.0,0.010239999999999994,0.0768,0.23040000000000002,0.3455999999999997,0.2592000000000001,0.07775999999999998,0.0,0.0,0.0,0.0,0.0,0.004096000000000003,0.03686400000000002,0.1382400000000001,0.2764800000000001,0.3110400000000001,0.1866240000000001,0.04665599999999999,0.0,0.0,0.0,0.0,0.0016384000000000004,0.01720320000000001,0.07741439999999988,0.19353599999999999,0.29030399999999995,0.26127360000000005,0.13063680000000003,0.027993599999999993,0.0,0.0,0.0,0.0006553600000000008,0.007864320000000006,0.04128768,0.12386304000000004,0.23224319999999998,0.27869183999999986,0.20901888000000002,0.08957951999999998,0.016796159999999994,0.0,0.0,0.00026214400000000023,0.0035389440000000044,0.021233664000000027,0.07431782400000002,0.16721510400000014,0.2508226559999999,0.2508226560000001,0.161243136,0.060466175999999996,0.010077695999999997,0.0,0.00010485760000000003,0.001572863999999999,0.010616832000000003,0.042467327999999964,0.11147673600000009,0.20065812479999992,0.2508226559999998,0.21499084799999976,0.12093235199999987,0.040310783999999975,0.006046617599999997],\"y\":[0,0,0,0,0,0,0,0,0,0,0,1,1,1,1,1,1,1,1,1,1,1,2,2,2,2,2,2,2,2,2,2,2,3,3,3,3,3,3,3,3,3,3,3,4,4,4,4,4,4,4,4,4,4,4,5,5,5,5,5,5,5,5,5,5,5,6,6,6,6,6,6,6,6,6,6,6,7,7,7,7,7,7,7,7,7,7,7,8,8,8,8,8,8,8,8,8,8,8,9,9,9,9,9,9,9,9,9,9,9,10,10,10,10,10,10,10,10,10,10,10],\"type\":\"bar\"},{\"marker\":{\"color\":[\"rgb(95, 70, 144)\",\"rgb(29, 105, 150)\",\"rgb(56, 166, 165)\",\"rgb(15, 133, 84)\",\"rgb(115, 175, 72)\",\"rgb(237, 173, 8)\",\"rgb(225, 124, 5)\",\"rgb(204, 80, 62)\",\"rgb(148, 52, 110)\",\"rgb(111, 64, 112)\",\"rgb(102, 102, 102)\",\"rgb(95, 70, 144)\",\"rgb(29, 105, 150)\",\"rgb(56, 166, 165)\",\"rgb(15, 133, 84)\",\"rgb(115, 175, 72)\",\"rgb(237, 173, 8)\",\"rgb(225, 124, 5)\",\"rgb(204, 80, 62)\",\"rgb(148, 52, 110)\",\"rgb(111, 64, 112)\",\"rgb(102, 102, 102)\",\"rgb(95, 70, 144)\",\"rgb(29, 105, 150)\",\"rgb(56, 166, 165)\",\"rgb(15, 133, 84)\",\"rgb(115, 175, 72)\",\"rgb(237, 173, 8)\",\"rgb(225, 124, 5)\",\"rgb(204, 80, 62)\",\"rgb(148, 52, 110)\",\"rgb(111, 64, 112)\",\"rgb(102, 102, 102)\",\"rgb(95, 70, 144)\",\"rgb(29, 105, 150)\",\"rgb(56, 166, 165)\",\"rgb(15, 133, 84)\",\"rgb(115, 175, 72)\",\"rgb(237, 173, 8)\",\"rgb(225, 124, 5)\",\"rgb(204, 80, 62)\",\"rgb(148, 52, 110)\",\"rgb(111, 64, 112)\",\"rgb(102, 102, 102)\",\"rgb(95, 70, 144)\",\"rgb(29, 105, 150)\",\"rgb(56, 166, 165)\",\"rgb(15, 133, 84)\",\"rgb(115, 175, 72)\",\"rgb(237, 173, 8)\",\"rgb(225, 124, 5)\",\"rgb(204, 80, 62)\",\"rgb(148, 52, 110)\",\"rgb(111, 64, 112)\",\"rgb(102, 102, 102)\",\"rgb(95, 70, 144)\",\"rgb(29, 105, 150)\",\"rgb(56, 166, 165)\",\"rgb(15, 133, 84)\",\"rgb(115, 175, 72)\",\"rgb(237, 173, 8)\",\"rgb(225, 124, 5)\",\"rgb(204, 80, 62)\",\"rgb(148, 52, 110)\",\"rgb(111, 64, 112)\",\"rgb(102, 102, 102)\",\"rgb(95, 70, 144)\",\"rgb(29, 105, 150)\",\"rgb(56, 166, 165)\",\"rgb(15, 133, 84)\",\"rgb(115, 175, 72)\",\"rgb(237, 173, 8)\",\"rgb(225, 124, 5)\",\"rgb(204, 80, 62)\",\"rgb(148, 52, 110)\",\"rgb(111, 64, 112)\",\"rgb(102, 102, 102)\",\"rgb(95, 70, 144)\",\"rgb(29, 105, 150)\",\"rgb(56, 166, 165)\",\"rgb(15, 133, 84)\",\"rgb(115, 175, 72)\",\"rgb(237, 173, 8)\",\"rgb(225, 124, 5)\",\"rgb(204, 80, 62)\",\"rgb(148, 52, 110)\",\"rgb(111, 64, 112)\",\"rgb(102, 102, 102)\",\"rgb(95, 70, 144)\",\"rgb(29, 105, 150)\",\"rgb(56, 166, 165)\",\"rgb(15, 133, 84)\",\"rgb(115, 175, 72)\",\"rgb(237, 173, 8)\",\"rgb(225, 124, 5)\",\"rgb(204, 80, 62)\",\"rgb(148, 52, 110)\",\"rgb(111, 64, 112)\",\"rgb(102, 102, 102)\",\"rgb(95, 70, 144)\",\"rgb(29, 105, 150)\",\"rgb(56, 166, 165)\",\"rgb(15, 133, 84)\",\"rgb(115, 175, 72)\",\"rgb(237, 173, 8)\",\"rgb(225, 124, 5)\",\"rgb(204, 80, 62)\",\"rgb(148, 52, 110)\",\"rgb(111, 64, 112)\",\"rgb(102, 102, 102)\",\"rgb(95, 70, 144)\",\"rgb(29, 105, 150)\",\"rgb(56, 166, 165)\",\"rgb(15, 133, 84)\",\"rgb(115, 175, 72)\",\"rgb(237, 173, 8)\",\"rgb(225, 124, 5)\",\"rgb(204, 80, 62)\",\"rgb(148, 52, 110)\",\"rgb(111, 64, 112)\",\"rgb(102, 102, 102)\"]},\"orientation\":\"h\",\"showlegend\":false,\"text\":[\"State 0\",\"State 1\",\"State 2\",\"State 3\",\"State 4\",\"State 5\",\"State 6\",\"State 7\",\"State 8\",\"State 9\",\"State 10\",\"State 0\",\"State 1\",\"State 2\",\"State 3\",\"State 4\",\"State 5\",\"State 6\",\"State 7\",\"State 8\",\"State 9\",\"State 10\",\"State 0\",\"State 1\",\"State 2\",\"State 3\",\"State 4\",\"State 5\",\"State 6\",\"State 7\",\"State 8\",\"State 9\",\"State 10\",\"State 0\",\"State 1\",\"State 2\",\"State 3\",\"State 4\",\"State 5\",\"State 6\",\"State 7\",\"State 8\",\"State 9\",\"State 10\",\"State 0\",\"State 1\",\"State 2\",\"State 3\",\"State 4\",\"State 5\",\"State 6\",\"State 7\",\"State 8\",\"State 9\",\"State 10\",\"State 0\",\"State 1\",\"State 2\",\"State 3\",\"State 4\",\"State 5\",\"State 6\",\"State 7\",\"State 8\",\"State 9\",\"State 10\",\"State 0\",\"State 1\",\"State 2\",\"State 3\",\"State 4\",\"State 5\",\"State 6\",\"State 7\",\"State 8\",\"State 9\",\"State 10\",\"State 0\",\"State 1\",\"State 2\",\"State 3\",\"State 4\",\"State 5\",\"State 6\",\"State 7\",\"State 8\",\"State 9\",\"State 10\",\"State 0\",\"State 1\",\"State 2\",\"State 3\",\"State 4\",\"State 5\",\"State 6\",\"State 7\",\"State 8\",\"State 9\",\"State 10\",\"State 0\",\"State 1\",\"State 2\",\"State 3\",\"State 4\",\"State 5\",\"State 6\",\"State 7\",\"State 8\",\"State 9\",\"State 10\",\"State 0\",\"State 1\",\"State 2\",\"State 3\",\"State 4\",\"State 5\",\"State 6\",\"State 7\",\"State 8\",\"State 9\",\"State 10\"],\"x\":[0.4000000000000001,0.6,0.0,0.0,0.0,0.0,0.0,0.0,0.0,0.0,0.0,0.16,0.48000000000000015,0.36,0.0,0.0,0.0,0.0,0.0,0.0,0.0,0.0,0.06400000000000003,0.2880000000000001,0.43199999999999994,0.21599999999999997,0.0,0.0,0.0,0.0,0.0,0.0,0.0,0.025599999999999994,0.15359999999999996,0.3456,0.3456000000000001,0.1296,0.0,0.0,0.0,0.0,0.0,0.0,0.010239999999999994,0.0768,0.23040000000000002,0.3455999999999997,0.2592000000000001,0.07775999999999998,0.0,0.0,0.0,0.0,0.0,0.004096000000000003,0.03686400000000002,0.1382400000000001,0.2764800000000001,0.3110400000000001,0.1866240000000001,0.04665599999999999,0.0,0.0,0.0,0.0,0.0016384000000000004,0.01720320000000001,0.07741439999999988,0.19353599999999999,0.29030399999999995,0.26127360000000005,0.13063680000000003,0.027993599999999993,0.0,0.0,0.0,0.0006553600000000008,0.007864320000000006,0.04128768,0.12386304000000004,0.23224319999999998,0.27869183999999986,0.20901888000000002,0.08957951999999998,0.016796159999999994,0.0,0.0,0.00026214400000000023,0.0035389440000000044,0.021233664000000027,0.07431782400000002,0.16721510400000014,0.2508226559999999,0.2508226560000001,0.161243136,0.060466175999999996,0.010077695999999997,0.0,0.00010485760000000003,0.001572863999999999,0.010616832000000003,0.042467327999999964,0.11147673600000009,0.20065812479999992,0.2508226559999998,0.21499084799999976,0.12093235199999987,0.040310783999999975,0.006046617599999997,0.0,0.0,0.0,0.0,0.0,0.0,0.0,0.0,0.0,0.0,0.0],\"y\":[0,0,0,0,0,0,0,0,0,0,0,1,1,1,1,1,1,1,1,1,1,1,2,2,2,2,2,2,2,2,2,2,2,3,3,3,3,3,3,3,3,3,3,3,4,4,4,4,4,4,4,4,4,4,4,5,5,5,5,5,5,5,5,5,5,5,6,6,6,6,6,6,6,6,6,6,6,7,7,7,7,7,7,7,7,7,7,7,8,8,8,8,8,8,8,8,8,8,8,9,9,9,9,9,9,9,9,9,9,9,10,10,10,10,10,10,10,10,10,10,10],\"type\":\"bar\"}],\"name\":\"Frame 3\"},{\"data\":[{\"marker\":{\"color\":[\"rgb(95, 70, 144)\",\"rgb(29, 105, 150)\",\"rgb(56, 166, 165)\",\"rgb(15, 133, 84)\",\"rgb(115, 175, 72)\",\"rgb(237, 173, 8)\",\"rgb(225, 124, 5)\",\"rgb(204, 80, 62)\",\"rgb(148, 52, 110)\",\"rgb(111, 64, 112)\",\"rgb(102, 102, 102)\",\"rgb(95, 70, 144)\",\"rgb(29, 105, 150)\",\"rgb(56, 166, 165)\",\"rgb(15, 133, 84)\",\"rgb(115, 175, 72)\",\"rgb(237, 173, 8)\",\"rgb(225, 124, 5)\",\"rgb(204, 80, 62)\",\"rgb(148, 52, 110)\",\"rgb(111, 64, 112)\",\"rgb(102, 102, 102)\",\"rgb(95, 70, 144)\",\"rgb(29, 105, 150)\",\"rgb(56, 166, 165)\",\"rgb(15, 133, 84)\",\"rgb(115, 175, 72)\",\"rgb(237, 173, 8)\",\"rgb(225, 124, 5)\",\"rgb(204, 80, 62)\",\"rgb(148, 52, 110)\",\"rgb(111, 64, 112)\",\"rgb(102, 102, 102)\",\"rgb(95, 70, 144)\",\"rgb(29, 105, 150)\",\"rgb(56, 166, 165)\",\"rgb(15, 133, 84)\",\"rgb(115, 175, 72)\",\"rgb(237, 173, 8)\",\"rgb(225, 124, 5)\",\"rgb(204, 80, 62)\",\"rgb(148, 52, 110)\",\"rgb(111, 64, 112)\",\"rgb(102, 102, 102)\",\"rgb(95, 70, 144)\",\"rgb(29, 105, 150)\",\"rgb(56, 166, 165)\",\"rgb(15, 133, 84)\",\"rgb(115, 175, 72)\",\"rgb(237, 173, 8)\",\"rgb(225, 124, 5)\",\"rgb(204, 80, 62)\",\"rgb(148, 52, 110)\",\"rgb(111, 64, 112)\",\"rgb(102, 102, 102)\",\"rgb(95, 70, 144)\",\"rgb(29, 105, 150)\",\"rgb(56, 166, 165)\",\"rgb(15, 133, 84)\",\"rgb(115, 175, 72)\",\"rgb(237, 173, 8)\",\"rgb(225, 124, 5)\",\"rgb(204, 80, 62)\",\"rgb(148, 52, 110)\",\"rgb(111, 64, 112)\",\"rgb(102, 102, 102)\",\"rgb(95, 70, 144)\",\"rgb(29, 105, 150)\",\"rgb(56, 166, 165)\",\"rgb(15, 133, 84)\",\"rgb(115, 175, 72)\",\"rgb(237, 173, 8)\",\"rgb(225, 124, 5)\",\"rgb(204, 80, 62)\",\"rgb(148, 52, 110)\",\"rgb(111, 64, 112)\",\"rgb(102, 102, 102)\",\"rgb(95, 70, 144)\",\"rgb(29, 105, 150)\",\"rgb(56, 166, 165)\",\"rgb(15, 133, 84)\",\"rgb(115, 175, 72)\",\"rgb(237, 173, 8)\",\"rgb(225, 124, 5)\",\"rgb(204, 80, 62)\",\"rgb(148, 52, 110)\",\"rgb(111, 64, 112)\",\"rgb(102, 102, 102)\",\"rgb(95, 70, 144)\",\"rgb(29, 105, 150)\",\"rgb(56, 166, 165)\",\"rgb(15, 133, 84)\",\"rgb(115, 175, 72)\",\"rgb(237, 173, 8)\",\"rgb(225, 124, 5)\",\"rgb(204, 80, 62)\",\"rgb(148, 52, 110)\",\"rgb(111, 64, 112)\",\"rgb(102, 102, 102)\",\"rgb(95, 70, 144)\",\"rgb(29, 105, 150)\",\"rgb(56, 166, 165)\",\"rgb(15, 133, 84)\",\"rgb(115, 175, 72)\",\"rgb(237, 173, 8)\",\"rgb(225, 124, 5)\",\"rgb(204, 80, 62)\",\"rgb(148, 52, 110)\",\"rgb(111, 64, 112)\",\"rgb(102, 102, 102)\",\"rgb(95, 70, 144)\",\"rgb(29, 105, 150)\",\"rgb(56, 166, 165)\",\"rgb(15, 133, 84)\",\"rgb(115, 175, 72)\",\"rgb(237, 173, 8)\",\"rgb(225, 124, 5)\",\"rgb(204, 80, 62)\",\"rgb(148, 52, 110)\",\"rgb(111, 64, 112)\",\"rgb(102, 102, 102)\"]},\"orientation\":\"h\",\"showlegend\":false,\"text\":[\"State 0\",\"State 1\",\"State 2\",\"State 3\",\"State 4\",\"State 5\",\"State 6\",\"State 7\",\"State 8\",\"State 9\",\"State 10\",\"State 0\",\"State 1\",\"State 2\",\"State 3\",\"State 4\",\"State 5\",\"State 6\",\"State 7\",\"State 8\",\"State 9\",\"State 10\",\"State 0\",\"State 1\",\"State 2\",\"State 3\",\"State 4\",\"State 5\",\"State 6\",\"State 7\",\"State 8\",\"State 9\",\"State 10\",\"State 0\",\"State 1\",\"State 2\",\"State 3\",\"State 4\",\"State 5\",\"State 6\",\"State 7\",\"State 8\",\"State 9\",\"State 10\",\"State 0\",\"State 1\",\"State 2\",\"State 3\",\"State 4\",\"State 5\",\"State 6\",\"State 7\",\"State 8\",\"State 9\",\"State 10\",\"State 0\",\"State 1\",\"State 2\",\"State 3\",\"State 4\",\"State 5\",\"State 6\",\"State 7\",\"State 8\",\"State 9\",\"State 10\",\"State 0\",\"State 1\",\"State 2\",\"State 3\",\"State 4\",\"State 5\",\"State 6\",\"State 7\",\"State 8\",\"State 9\",\"State 10\",\"State 0\",\"State 1\",\"State 2\",\"State 3\",\"State 4\",\"State 5\",\"State 6\",\"State 7\",\"State 8\",\"State 9\",\"State 10\",\"State 0\",\"State 1\",\"State 2\",\"State 3\",\"State 4\",\"State 5\",\"State 6\",\"State 7\",\"State 8\",\"State 9\",\"State 10\",\"State 0\",\"State 1\",\"State 2\",\"State 3\",\"State 4\",\"State 5\",\"State 6\",\"State 7\",\"State 8\",\"State 9\",\"State 10\",\"State 0\",\"State 1\",\"State 2\",\"State 3\",\"State 4\",\"State 5\",\"State 6\",\"State 7\",\"State 8\",\"State 9\",\"State 10\"],\"x\":[1.0,0.0,0.0,0.0,0.0,0.0,0.0,0.0,0.0,0.0,0.0,0.5000000000000001,0.5,0.0,0.0,0.0,0.0,0.0,0.0,0.0,0.0,0.0,0.24999999999999997,0.5000000000000002,0.25,0.0,0.0,0.0,0.0,0.0,0.0,0.0,0.0,0.12499999999999999,0.3750000000000001,0.3750000000000001,0.125,0.0,0.0,0.0,0.0,0.0,0.0,0.0,0.06250000000000001,0.25,0.375,0.25000000000000006,0.0625,0.0,0.0,0.0,0.0,0.0,0.0,0.031249999999999976,0.15624999999999997,0.31249999999999983,0.31249999999999983,0.15625,0.03125,0.0,0.0,0.0,0.0,0.0,0.01562500000000012,0.09375000000000003,0.23437500000000003,0.31249999999999983,0.234375,0.09375000000000003,0.015625,0.0,0.0,0.0,0.0,0.007812499999999949,0.054687499999999986,0.16406250000000003,0.2734374999999999,0.27343749999999983,0.16406250000000003,0.054687499999999986,0.0078125,0.0,0.0,0.0,0.003906250000000007,0.031249999999999983,0.10937500000000004,0.21874999999999992,0.27343749999999994,0.2187499999999999,0.10937500000000004,0.031249999999999983,0.00390625,0.0,0.0,0.0019531250000000004,0.01757812499999997,0.07031250000000001,0.16406250000000006,0.24609374999999983,0.24609374999999992,0.16406250000000003,0.07031250000000003,0.017578124999999965,0.001953125,0.0,0.0009765624999999989,0.009765625000000002,0.04394531250000004,0.1171875,0.2050781249999999,0.24609375000000003,0.2050781249999999,0.11718749999999999,0.04394531250000004,0.009765625000000002,0.0009765625],\"y\":[0,0,0,0,0,0,0,0,0,0,0,1,1,1,1,1,1,1,1,1,1,1,2,2,2,2,2,2,2,2,2,2,2,3,3,3,3,3,3,3,3,3,3,3,4,4,4,4,4,4,4,4,4,4,4,5,5,5,5,5,5,5,5,5,5,5,6,6,6,6,6,6,6,6,6,6,6,7,7,7,7,7,7,7,7,7,7,7,8,8,8,8,8,8,8,8,8,8,8,9,9,9,9,9,9,9,9,9,9,9,10,10,10,10,10,10,10,10,10,10,10],\"type\":\"bar\"},{\"marker\":{\"color\":[\"rgb(95, 70, 144)\",\"rgb(29, 105, 150)\",\"rgb(56, 166, 165)\",\"rgb(15, 133, 84)\",\"rgb(115, 175, 72)\",\"rgb(237, 173, 8)\",\"rgb(225, 124, 5)\",\"rgb(204, 80, 62)\",\"rgb(148, 52, 110)\",\"rgb(111, 64, 112)\",\"rgb(102, 102, 102)\",\"rgb(95, 70, 144)\",\"rgb(29, 105, 150)\",\"rgb(56, 166, 165)\",\"rgb(15, 133, 84)\",\"rgb(115, 175, 72)\",\"rgb(237, 173, 8)\",\"rgb(225, 124, 5)\",\"rgb(204, 80, 62)\",\"rgb(148, 52, 110)\",\"rgb(111, 64, 112)\",\"rgb(102, 102, 102)\",\"rgb(95, 70, 144)\",\"rgb(29, 105, 150)\",\"rgb(56, 166, 165)\",\"rgb(15, 133, 84)\",\"rgb(115, 175, 72)\",\"rgb(237, 173, 8)\",\"rgb(225, 124, 5)\",\"rgb(204, 80, 62)\",\"rgb(148, 52, 110)\",\"rgb(111, 64, 112)\",\"rgb(102, 102, 102)\",\"rgb(95, 70, 144)\",\"rgb(29, 105, 150)\",\"rgb(56, 166, 165)\",\"rgb(15, 133, 84)\",\"rgb(115, 175, 72)\",\"rgb(237, 173, 8)\",\"rgb(225, 124, 5)\",\"rgb(204, 80, 62)\",\"rgb(148, 52, 110)\",\"rgb(111, 64, 112)\",\"rgb(102, 102, 102)\",\"rgb(95, 70, 144)\",\"rgb(29, 105, 150)\",\"rgb(56, 166, 165)\",\"rgb(15, 133, 84)\",\"rgb(115, 175, 72)\",\"rgb(237, 173, 8)\",\"rgb(225, 124, 5)\",\"rgb(204, 80, 62)\",\"rgb(148, 52, 110)\",\"rgb(111, 64, 112)\",\"rgb(102, 102, 102)\",\"rgb(95, 70, 144)\",\"rgb(29, 105, 150)\",\"rgb(56, 166, 165)\",\"rgb(15, 133, 84)\",\"rgb(115, 175, 72)\",\"rgb(237, 173, 8)\",\"rgb(225, 124, 5)\",\"rgb(204, 80, 62)\",\"rgb(148, 52, 110)\",\"rgb(111, 64, 112)\",\"rgb(102, 102, 102)\",\"rgb(95, 70, 144)\",\"rgb(29, 105, 150)\",\"rgb(56, 166, 165)\",\"rgb(15, 133, 84)\",\"rgb(115, 175, 72)\",\"rgb(237, 173, 8)\",\"rgb(225, 124, 5)\",\"rgb(204, 80, 62)\",\"rgb(148, 52, 110)\",\"rgb(111, 64, 112)\",\"rgb(102, 102, 102)\",\"rgb(95, 70, 144)\",\"rgb(29, 105, 150)\",\"rgb(56, 166, 165)\",\"rgb(15, 133, 84)\",\"rgb(115, 175, 72)\",\"rgb(237, 173, 8)\",\"rgb(225, 124, 5)\",\"rgb(204, 80, 62)\",\"rgb(148, 52, 110)\",\"rgb(111, 64, 112)\",\"rgb(102, 102, 102)\",\"rgb(95, 70, 144)\",\"rgb(29, 105, 150)\",\"rgb(56, 166, 165)\",\"rgb(15, 133, 84)\",\"rgb(115, 175, 72)\",\"rgb(237, 173, 8)\",\"rgb(225, 124, 5)\",\"rgb(204, 80, 62)\",\"rgb(148, 52, 110)\",\"rgb(111, 64, 112)\",\"rgb(102, 102, 102)\",\"rgb(95, 70, 144)\",\"rgb(29, 105, 150)\",\"rgb(56, 166, 165)\",\"rgb(15, 133, 84)\",\"rgb(115, 175, 72)\",\"rgb(237, 173, 8)\",\"rgb(225, 124, 5)\",\"rgb(204, 80, 62)\",\"rgb(148, 52, 110)\",\"rgb(111, 64, 112)\",\"rgb(102, 102, 102)\",\"rgb(95, 70, 144)\",\"rgb(29, 105, 150)\",\"rgb(56, 166, 165)\",\"rgb(15, 133, 84)\",\"rgb(115, 175, 72)\",\"rgb(237, 173, 8)\",\"rgb(225, 124, 5)\",\"rgb(204, 80, 62)\",\"rgb(148, 52, 110)\",\"rgb(111, 64, 112)\",\"rgb(102, 102, 102)\"]},\"orientation\":\"h\",\"showlegend\":false,\"text\":[\"State 0\",\"State 1\",\"State 2\",\"State 3\",\"State 4\",\"State 5\",\"State 6\",\"State 7\",\"State 8\",\"State 9\",\"State 10\",\"State 0\",\"State 1\",\"State 2\",\"State 3\",\"State 4\",\"State 5\",\"State 6\",\"State 7\",\"State 8\",\"State 9\",\"State 10\",\"State 0\",\"State 1\",\"State 2\",\"State 3\",\"State 4\",\"State 5\",\"State 6\",\"State 7\",\"State 8\",\"State 9\",\"State 10\",\"State 0\",\"State 1\",\"State 2\",\"State 3\",\"State 4\",\"State 5\",\"State 6\",\"State 7\",\"State 8\",\"State 9\",\"State 10\",\"State 0\",\"State 1\",\"State 2\",\"State 3\",\"State 4\",\"State 5\",\"State 6\",\"State 7\",\"State 8\",\"State 9\",\"State 10\",\"State 0\",\"State 1\",\"State 2\",\"State 3\",\"State 4\",\"State 5\",\"State 6\",\"State 7\",\"State 8\",\"State 9\",\"State 10\",\"State 0\",\"State 1\",\"State 2\",\"State 3\",\"State 4\",\"State 5\",\"State 6\",\"State 7\",\"State 8\",\"State 9\",\"State 10\",\"State 0\",\"State 1\",\"State 2\",\"State 3\",\"State 4\",\"State 5\",\"State 6\",\"State 7\",\"State 8\",\"State 9\",\"State 10\",\"State 0\",\"State 1\",\"State 2\",\"State 3\",\"State 4\",\"State 5\",\"State 6\",\"State 7\",\"State 8\",\"State 9\",\"State 10\",\"State 0\",\"State 1\",\"State 2\",\"State 3\",\"State 4\",\"State 5\",\"State 6\",\"State 7\",\"State 8\",\"State 9\",\"State 10\",\"State 0\",\"State 1\",\"State 2\",\"State 3\",\"State 4\",\"State 5\",\"State 6\",\"State 7\",\"State 8\",\"State 9\",\"State 10\"],\"x\":[0.5000000000000001,0.5,0.0,0.0,0.0,0.0,0.0,0.0,0.0,0.0,0.0,0.24999999999999997,0.5000000000000002,0.25,0.0,0.0,0.0,0.0,0.0,0.0,0.0,0.0,0.12499999999999999,0.3750000000000001,0.3750000000000001,0.125,0.0,0.0,0.0,0.0,0.0,0.0,0.0,0.06250000000000001,0.25,0.375,0.25000000000000006,0.0625,0.0,0.0,0.0,0.0,0.0,0.0,0.031249999999999976,0.15624999999999997,0.31249999999999983,0.31249999999999983,0.15625,0.03125,0.0,0.0,0.0,0.0,0.0,0.01562500000000012,0.09375000000000003,0.23437500000000003,0.31249999999999983,0.234375,0.09375000000000003,0.015625,0.0,0.0,0.0,0.0,0.007812499999999949,0.054687499999999986,0.16406250000000003,0.2734374999999999,0.27343749999999983,0.16406250000000003,0.054687499999999986,0.0078125,0.0,0.0,0.0,0.003906250000000007,0.031249999999999983,0.10937500000000004,0.21874999999999992,0.27343749999999994,0.2187499999999999,0.10937500000000004,0.031249999999999983,0.00390625,0.0,0.0,0.0019531250000000004,0.01757812499999997,0.07031250000000001,0.16406250000000006,0.24609374999999983,0.24609374999999992,0.16406250000000003,0.07031250000000003,0.017578124999999965,0.001953125,0.0,0.0009765624999999989,0.009765625000000002,0.04394531250000004,0.1171875,0.2050781249999999,0.24609375000000003,0.2050781249999999,0.11718749999999999,0.04394531250000004,0.009765625000000002,0.0009765625,0.0,0.0,0.0,0.0,0.0,0.0,0.0,0.0,0.0,0.0,0.0],\"y\":[0,0,0,0,0,0,0,0,0,0,0,1,1,1,1,1,1,1,1,1,1,1,2,2,2,2,2,2,2,2,2,2,2,3,3,3,3,3,3,3,3,3,3,3,4,4,4,4,4,4,4,4,4,4,4,5,5,5,5,5,5,5,5,5,5,5,6,6,6,6,6,6,6,6,6,6,6,7,7,7,7,7,7,7,7,7,7,7,8,8,8,8,8,8,8,8,8,8,8,9,9,9,9,9,9,9,9,9,9,9,10,10,10,10,10,10,10,10,10,10,10],\"type\":\"bar\"}],\"name\":\"Frame 4\"},{\"data\":[{\"marker\":{\"color\":[\"rgb(95, 70, 144)\",\"rgb(29, 105, 150)\",\"rgb(56, 166, 165)\",\"rgb(15, 133, 84)\",\"rgb(115, 175, 72)\",\"rgb(237, 173, 8)\",\"rgb(225, 124, 5)\",\"rgb(204, 80, 62)\",\"rgb(148, 52, 110)\",\"rgb(111, 64, 112)\",\"rgb(102, 102, 102)\",\"rgb(95, 70, 144)\",\"rgb(29, 105, 150)\",\"rgb(56, 166, 165)\",\"rgb(15, 133, 84)\",\"rgb(115, 175, 72)\",\"rgb(237, 173, 8)\",\"rgb(225, 124, 5)\",\"rgb(204, 80, 62)\",\"rgb(148, 52, 110)\",\"rgb(111, 64, 112)\",\"rgb(102, 102, 102)\",\"rgb(95, 70, 144)\",\"rgb(29, 105, 150)\",\"rgb(56, 166, 165)\",\"rgb(15, 133, 84)\",\"rgb(115, 175, 72)\",\"rgb(237, 173, 8)\",\"rgb(225, 124, 5)\",\"rgb(204, 80, 62)\",\"rgb(148, 52, 110)\",\"rgb(111, 64, 112)\",\"rgb(102, 102, 102)\",\"rgb(95, 70, 144)\",\"rgb(29, 105, 150)\",\"rgb(56, 166, 165)\",\"rgb(15, 133, 84)\",\"rgb(115, 175, 72)\",\"rgb(237, 173, 8)\",\"rgb(225, 124, 5)\",\"rgb(204, 80, 62)\",\"rgb(148, 52, 110)\",\"rgb(111, 64, 112)\",\"rgb(102, 102, 102)\",\"rgb(95, 70, 144)\",\"rgb(29, 105, 150)\",\"rgb(56, 166, 165)\",\"rgb(15, 133, 84)\",\"rgb(115, 175, 72)\",\"rgb(237, 173, 8)\",\"rgb(225, 124, 5)\",\"rgb(204, 80, 62)\",\"rgb(148, 52, 110)\",\"rgb(111, 64, 112)\",\"rgb(102, 102, 102)\",\"rgb(95, 70, 144)\",\"rgb(29, 105, 150)\",\"rgb(56, 166, 165)\",\"rgb(15, 133, 84)\",\"rgb(115, 175, 72)\",\"rgb(237, 173, 8)\",\"rgb(225, 124, 5)\",\"rgb(204, 80, 62)\",\"rgb(148, 52, 110)\",\"rgb(111, 64, 112)\",\"rgb(102, 102, 102)\",\"rgb(95, 70, 144)\",\"rgb(29, 105, 150)\",\"rgb(56, 166, 165)\",\"rgb(15, 133, 84)\",\"rgb(115, 175, 72)\",\"rgb(237, 173, 8)\",\"rgb(225, 124, 5)\",\"rgb(204, 80, 62)\",\"rgb(148, 52, 110)\",\"rgb(111, 64, 112)\",\"rgb(102, 102, 102)\",\"rgb(95, 70, 144)\",\"rgb(29, 105, 150)\",\"rgb(56, 166, 165)\",\"rgb(15, 133, 84)\",\"rgb(115, 175, 72)\",\"rgb(237, 173, 8)\",\"rgb(225, 124, 5)\",\"rgb(204, 80, 62)\",\"rgb(148, 52, 110)\",\"rgb(111, 64, 112)\",\"rgb(102, 102, 102)\",\"rgb(95, 70, 144)\",\"rgb(29, 105, 150)\",\"rgb(56, 166, 165)\",\"rgb(15, 133, 84)\",\"rgb(115, 175, 72)\",\"rgb(237, 173, 8)\",\"rgb(225, 124, 5)\",\"rgb(204, 80, 62)\",\"rgb(148, 52, 110)\",\"rgb(111, 64, 112)\",\"rgb(102, 102, 102)\",\"rgb(95, 70, 144)\",\"rgb(29, 105, 150)\",\"rgb(56, 166, 165)\",\"rgb(15, 133, 84)\",\"rgb(115, 175, 72)\",\"rgb(237, 173, 8)\",\"rgb(225, 124, 5)\",\"rgb(204, 80, 62)\",\"rgb(148, 52, 110)\",\"rgb(111, 64, 112)\",\"rgb(102, 102, 102)\",\"rgb(95, 70, 144)\",\"rgb(29, 105, 150)\",\"rgb(56, 166, 165)\",\"rgb(15, 133, 84)\",\"rgb(115, 175, 72)\",\"rgb(237, 173, 8)\",\"rgb(225, 124, 5)\",\"rgb(204, 80, 62)\",\"rgb(148, 52, 110)\",\"rgb(111, 64, 112)\",\"rgb(102, 102, 102)\"]},\"orientation\":\"h\",\"showlegend\":false,\"text\":[\"State 0\",\"State 1\",\"State 2\",\"State 3\",\"State 4\",\"State 5\",\"State 6\",\"State 7\",\"State 8\",\"State 9\",\"State 10\",\"State 0\",\"State 1\",\"State 2\",\"State 3\",\"State 4\",\"State 5\",\"State 6\",\"State 7\",\"State 8\",\"State 9\",\"State 10\",\"State 0\",\"State 1\",\"State 2\",\"State 3\",\"State 4\",\"State 5\",\"State 6\",\"State 7\",\"State 8\",\"State 9\",\"State 10\",\"State 0\",\"State 1\",\"State 2\",\"State 3\",\"State 4\",\"State 5\",\"State 6\",\"State 7\",\"State 8\",\"State 9\",\"State 10\",\"State 0\",\"State 1\",\"State 2\",\"State 3\",\"State 4\",\"State 5\",\"State 6\",\"State 7\",\"State 8\",\"State 9\",\"State 10\",\"State 0\",\"State 1\",\"State 2\",\"State 3\",\"State 4\",\"State 5\",\"State 6\",\"State 7\",\"State 8\",\"State 9\",\"State 10\",\"State 0\",\"State 1\",\"State 2\",\"State 3\",\"State 4\",\"State 5\",\"State 6\",\"State 7\",\"State 8\",\"State 9\",\"State 10\",\"State 0\",\"State 1\",\"State 2\",\"State 3\",\"State 4\",\"State 5\",\"State 6\",\"State 7\",\"State 8\",\"State 9\",\"State 10\",\"State 0\",\"State 1\",\"State 2\",\"State 3\",\"State 4\",\"State 5\",\"State 6\",\"State 7\",\"State 8\",\"State 9\",\"State 10\",\"State 0\",\"State 1\",\"State 2\",\"State 3\",\"State 4\",\"State 5\",\"State 6\",\"State 7\",\"State 8\",\"State 9\",\"State 10\",\"State 0\",\"State 1\",\"State 2\",\"State 3\",\"State 4\",\"State 5\",\"State 6\",\"State 7\",\"State 8\",\"State 9\",\"State 10\"],\"x\":[1.0,0.0,0.0,0.0,0.0,0.0,0.0,0.0,0.0,0.0,0.0,0.6,0.4,0.0,0.0,0.0,0.0,0.0,0.0,0.0,0.0,0.0,0.36000000000000004,0.48000000000000015,0.16000000000000003,0.0,0.0,0.0,0.0,0.0,0.0,0.0,0.0,0.21599999999999991,0.43199999999999994,0.2880000000000001,0.06400000000000002,0.0,0.0,0.0,0.0,0.0,0.0,0.0,0.1296000000000001,0.3456,0.3456,0.15360000000000001,0.025600000000000005,0.0,0.0,0.0,0.0,0.0,0.0,0.07775999999999994,0.2592000000000001,0.34559999999999974,0.23039999999999994,0.0768,0.010240000000000003,0.0,0.0,0.0,0.0,0.0,0.04665599999999999,0.1866240000000001,0.3110400000000002,0.2764800000000001,0.13824000000000009,0.03686400000000002,0.0040960000000000015,0.0,0.0,0.0,0.0,0.027993599999999997,0.13063680000000003,0.26127360000000005,0.290304,0.19353599999999996,0.07741439999999988,0.01720320000000001,0.0016384000000000006,0.0,0.0,0.0,0.016796160000000015,0.08957951999999997,0.20901888000000002,0.2786918399999999,0.23224320000000004,0.12386304000000001,0.04128768,0.007864320000000006,0.0006553600000000003,0.0,0.0,0.010077695999999919,0.060466175999999996,0.161243136,0.2508226560000001,0.25082265599999987,0.16721510400000017,0.074317824,0.021233664000000027,0.0035389440000000044,0.0002621440000000001,0.0,0.0060466175999999185,0.040310783999999975,0.12093235199999991,0.21499084799999976,0.25082265599999987,0.20065812479999992,0.11147673600000006,0.04246732799999996,0.010616832000000001,0.001572863999999999,0.00010485760000000006],\"y\":[0,0,0,0,0,0,0,0,0,0,0,1,1,1,1,1,1,1,1,1,1,1,2,2,2,2,2,2,2,2,2,2,2,3,3,3,3,3,3,3,3,3,3,3,4,4,4,4,4,4,4,4,4,4,4,5,5,5,5,5,5,5,5,5,5,5,6,6,6,6,6,6,6,6,6,6,6,7,7,7,7,7,7,7,7,7,7,7,8,8,8,8,8,8,8,8,8,8,8,9,9,9,9,9,9,9,9,9,9,9,10,10,10,10,10,10,10,10,10,10,10],\"type\":\"bar\"},{\"marker\":{\"color\":[\"rgb(95, 70, 144)\",\"rgb(29, 105, 150)\",\"rgb(56, 166, 165)\",\"rgb(15, 133, 84)\",\"rgb(115, 175, 72)\",\"rgb(237, 173, 8)\",\"rgb(225, 124, 5)\",\"rgb(204, 80, 62)\",\"rgb(148, 52, 110)\",\"rgb(111, 64, 112)\",\"rgb(102, 102, 102)\",\"rgb(95, 70, 144)\",\"rgb(29, 105, 150)\",\"rgb(56, 166, 165)\",\"rgb(15, 133, 84)\",\"rgb(115, 175, 72)\",\"rgb(237, 173, 8)\",\"rgb(225, 124, 5)\",\"rgb(204, 80, 62)\",\"rgb(148, 52, 110)\",\"rgb(111, 64, 112)\",\"rgb(102, 102, 102)\",\"rgb(95, 70, 144)\",\"rgb(29, 105, 150)\",\"rgb(56, 166, 165)\",\"rgb(15, 133, 84)\",\"rgb(115, 175, 72)\",\"rgb(237, 173, 8)\",\"rgb(225, 124, 5)\",\"rgb(204, 80, 62)\",\"rgb(148, 52, 110)\",\"rgb(111, 64, 112)\",\"rgb(102, 102, 102)\",\"rgb(95, 70, 144)\",\"rgb(29, 105, 150)\",\"rgb(56, 166, 165)\",\"rgb(15, 133, 84)\",\"rgb(115, 175, 72)\",\"rgb(237, 173, 8)\",\"rgb(225, 124, 5)\",\"rgb(204, 80, 62)\",\"rgb(148, 52, 110)\",\"rgb(111, 64, 112)\",\"rgb(102, 102, 102)\",\"rgb(95, 70, 144)\",\"rgb(29, 105, 150)\",\"rgb(56, 166, 165)\",\"rgb(15, 133, 84)\",\"rgb(115, 175, 72)\",\"rgb(237, 173, 8)\",\"rgb(225, 124, 5)\",\"rgb(204, 80, 62)\",\"rgb(148, 52, 110)\",\"rgb(111, 64, 112)\",\"rgb(102, 102, 102)\",\"rgb(95, 70, 144)\",\"rgb(29, 105, 150)\",\"rgb(56, 166, 165)\",\"rgb(15, 133, 84)\",\"rgb(115, 175, 72)\",\"rgb(237, 173, 8)\",\"rgb(225, 124, 5)\",\"rgb(204, 80, 62)\",\"rgb(148, 52, 110)\",\"rgb(111, 64, 112)\",\"rgb(102, 102, 102)\",\"rgb(95, 70, 144)\",\"rgb(29, 105, 150)\",\"rgb(56, 166, 165)\",\"rgb(15, 133, 84)\",\"rgb(115, 175, 72)\",\"rgb(237, 173, 8)\",\"rgb(225, 124, 5)\",\"rgb(204, 80, 62)\",\"rgb(148, 52, 110)\",\"rgb(111, 64, 112)\",\"rgb(102, 102, 102)\",\"rgb(95, 70, 144)\",\"rgb(29, 105, 150)\",\"rgb(56, 166, 165)\",\"rgb(15, 133, 84)\",\"rgb(115, 175, 72)\",\"rgb(237, 173, 8)\",\"rgb(225, 124, 5)\",\"rgb(204, 80, 62)\",\"rgb(148, 52, 110)\",\"rgb(111, 64, 112)\",\"rgb(102, 102, 102)\",\"rgb(95, 70, 144)\",\"rgb(29, 105, 150)\",\"rgb(56, 166, 165)\",\"rgb(15, 133, 84)\",\"rgb(115, 175, 72)\",\"rgb(237, 173, 8)\",\"rgb(225, 124, 5)\",\"rgb(204, 80, 62)\",\"rgb(148, 52, 110)\",\"rgb(111, 64, 112)\",\"rgb(102, 102, 102)\",\"rgb(95, 70, 144)\",\"rgb(29, 105, 150)\",\"rgb(56, 166, 165)\",\"rgb(15, 133, 84)\",\"rgb(115, 175, 72)\",\"rgb(237, 173, 8)\",\"rgb(225, 124, 5)\",\"rgb(204, 80, 62)\",\"rgb(148, 52, 110)\",\"rgb(111, 64, 112)\",\"rgb(102, 102, 102)\",\"rgb(95, 70, 144)\",\"rgb(29, 105, 150)\",\"rgb(56, 166, 165)\",\"rgb(15, 133, 84)\",\"rgb(115, 175, 72)\",\"rgb(237, 173, 8)\",\"rgb(225, 124, 5)\",\"rgb(204, 80, 62)\",\"rgb(148, 52, 110)\",\"rgb(111, 64, 112)\",\"rgb(102, 102, 102)\"]},\"orientation\":\"h\",\"showlegend\":false,\"text\":[\"State 0\",\"State 1\",\"State 2\",\"State 3\",\"State 4\",\"State 5\",\"State 6\",\"State 7\",\"State 8\",\"State 9\",\"State 10\",\"State 0\",\"State 1\",\"State 2\",\"State 3\",\"State 4\",\"State 5\",\"State 6\",\"State 7\",\"State 8\",\"State 9\",\"State 10\",\"State 0\",\"State 1\",\"State 2\",\"State 3\",\"State 4\",\"State 5\",\"State 6\",\"State 7\",\"State 8\",\"State 9\",\"State 10\",\"State 0\",\"State 1\",\"State 2\",\"State 3\",\"State 4\",\"State 5\",\"State 6\",\"State 7\",\"State 8\",\"State 9\",\"State 10\",\"State 0\",\"State 1\",\"State 2\",\"State 3\",\"State 4\",\"State 5\",\"State 6\",\"State 7\",\"State 8\",\"State 9\",\"State 10\",\"State 0\",\"State 1\",\"State 2\",\"State 3\",\"State 4\",\"State 5\",\"State 6\",\"State 7\",\"State 8\",\"State 9\",\"State 10\",\"State 0\",\"State 1\",\"State 2\",\"State 3\",\"State 4\",\"State 5\",\"State 6\",\"State 7\",\"State 8\",\"State 9\",\"State 10\",\"State 0\",\"State 1\",\"State 2\",\"State 3\",\"State 4\",\"State 5\",\"State 6\",\"State 7\",\"State 8\",\"State 9\",\"State 10\",\"State 0\",\"State 1\",\"State 2\",\"State 3\",\"State 4\",\"State 5\",\"State 6\",\"State 7\",\"State 8\",\"State 9\",\"State 10\",\"State 0\",\"State 1\",\"State 2\",\"State 3\",\"State 4\",\"State 5\",\"State 6\",\"State 7\",\"State 8\",\"State 9\",\"State 10\",\"State 0\",\"State 1\",\"State 2\",\"State 3\",\"State 4\",\"State 5\",\"State 6\",\"State 7\",\"State 8\",\"State 9\",\"State 10\"],\"x\":[0.6,0.4,0.0,0.0,0.0,0.0,0.0,0.0,0.0,0.0,0.0,0.36000000000000004,0.48000000000000015,0.16000000000000003,0.0,0.0,0.0,0.0,0.0,0.0,0.0,0.0,0.21599999999999991,0.43199999999999994,0.2880000000000001,0.06400000000000002,0.0,0.0,0.0,0.0,0.0,0.0,0.0,0.1296000000000001,0.3456,0.3456,0.15360000000000001,0.025600000000000005,0.0,0.0,0.0,0.0,0.0,0.0,0.07775999999999994,0.2592000000000001,0.34559999999999974,0.23039999999999994,0.0768,0.010240000000000003,0.0,0.0,0.0,0.0,0.0,0.04665599999999999,0.1866240000000001,0.3110400000000002,0.2764800000000001,0.13824000000000009,0.03686400000000002,0.0040960000000000015,0.0,0.0,0.0,0.0,0.027993599999999997,0.13063680000000003,0.26127360000000005,0.290304,0.19353599999999996,0.07741439999999988,0.01720320000000001,0.0016384000000000006,0.0,0.0,0.0,0.016796160000000015,0.08957951999999997,0.20901888000000002,0.2786918399999999,0.23224320000000004,0.12386304000000001,0.04128768,0.007864320000000006,0.0006553600000000003,0.0,0.0,0.010077695999999919,0.060466175999999996,0.161243136,0.2508226560000001,0.25082265599999987,0.16721510400000017,0.074317824,0.021233664000000027,0.0035389440000000044,0.0002621440000000001,0.0,0.0060466175999999185,0.040310783999999975,0.12093235199999991,0.21499084799999976,0.25082265599999987,0.20065812479999992,0.11147673600000006,0.04246732799999996,0.010616832000000001,0.001572863999999999,0.00010485760000000006,0.0,0.0,0.0,0.0,0.0,0.0,0.0,0.0,0.0,0.0,0.0],\"y\":[0,0,0,0,0,0,0,0,0,0,0,1,1,1,1,1,1,1,1,1,1,1,2,2,2,2,2,2,2,2,2,2,2,3,3,3,3,3,3,3,3,3,3,3,4,4,4,4,4,4,4,4,4,4,4,5,5,5,5,5,5,5,5,5,5,5,6,6,6,6,6,6,6,6,6,6,6,7,7,7,7,7,7,7,7,7,7,7,8,8,8,8,8,8,8,8,8,8,8,9,9,9,9,9,9,9,9,9,9,9,10,10,10,10,10,10,10,10,10,10,10],\"type\":\"bar\"}],\"name\":\"Frame 5\"},{\"data\":[{\"marker\":{\"color\":[\"rgb(95, 70, 144)\",\"rgb(29, 105, 150)\",\"rgb(56, 166, 165)\",\"rgb(15, 133, 84)\",\"rgb(115, 175, 72)\",\"rgb(237, 173, 8)\",\"rgb(225, 124, 5)\",\"rgb(204, 80, 62)\",\"rgb(148, 52, 110)\",\"rgb(111, 64, 112)\",\"rgb(102, 102, 102)\",\"rgb(95, 70, 144)\",\"rgb(29, 105, 150)\",\"rgb(56, 166, 165)\",\"rgb(15, 133, 84)\",\"rgb(115, 175, 72)\",\"rgb(237, 173, 8)\",\"rgb(225, 124, 5)\",\"rgb(204, 80, 62)\",\"rgb(148, 52, 110)\",\"rgb(111, 64, 112)\",\"rgb(102, 102, 102)\",\"rgb(95, 70, 144)\",\"rgb(29, 105, 150)\",\"rgb(56, 166, 165)\",\"rgb(15, 133, 84)\",\"rgb(115, 175, 72)\",\"rgb(237, 173, 8)\",\"rgb(225, 124, 5)\",\"rgb(204, 80, 62)\",\"rgb(148, 52, 110)\",\"rgb(111, 64, 112)\",\"rgb(102, 102, 102)\",\"rgb(95, 70, 144)\",\"rgb(29, 105, 150)\",\"rgb(56, 166, 165)\",\"rgb(15, 133, 84)\",\"rgb(115, 175, 72)\",\"rgb(237, 173, 8)\",\"rgb(225, 124, 5)\",\"rgb(204, 80, 62)\",\"rgb(148, 52, 110)\",\"rgb(111, 64, 112)\",\"rgb(102, 102, 102)\",\"rgb(95, 70, 144)\",\"rgb(29, 105, 150)\",\"rgb(56, 166, 165)\",\"rgb(15, 133, 84)\",\"rgb(115, 175, 72)\",\"rgb(237, 173, 8)\",\"rgb(225, 124, 5)\",\"rgb(204, 80, 62)\",\"rgb(148, 52, 110)\",\"rgb(111, 64, 112)\",\"rgb(102, 102, 102)\",\"rgb(95, 70, 144)\",\"rgb(29, 105, 150)\",\"rgb(56, 166, 165)\",\"rgb(15, 133, 84)\",\"rgb(115, 175, 72)\",\"rgb(237, 173, 8)\",\"rgb(225, 124, 5)\",\"rgb(204, 80, 62)\",\"rgb(148, 52, 110)\",\"rgb(111, 64, 112)\",\"rgb(102, 102, 102)\",\"rgb(95, 70, 144)\",\"rgb(29, 105, 150)\",\"rgb(56, 166, 165)\",\"rgb(15, 133, 84)\",\"rgb(115, 175, 72)\",\"rgb(237, 173, 8)\",\"rgb(225, 124, 5)\",\"rgb(204, 80, 62)\",\"rgb(148, 52, 110)\",\"rgb(111, 64, 112)\",\"rgb(102, 102, 102)\",\"rgb(95, 70, 144)\",\"rgb(29, 105, 150)\",\"rgb(56, 166, 165)\",\"rgb(15, 133, 84)\",\"rgb(115, 175, 72)\",\"rgb(237, 173, 8)\",\"rgb(225, 124, 5)\",\"rgb(204, 80, 62)\",\"rgb(148, 52, 110)\",\"rgb(111, 64, 112)\",\"rgb(102, 102, 102)\",\"rgb(95, 70, 144)\",\"rgb(29, 105, 150)\",\"rgb(56, 166, 165)\",\"rgb(15, 133, 84)\",\"rgb(115, 175, 72)\",\"rgb(237, 173, 8)\",\"rgb(225, 124, 5)\",\"rgb(204, 80, 62)\",\"rgb(148, 52, 110)\",\"rgb(111, 64, 112)\",\"rgb(102, 102, 102)\",\"rgb(95, 70, 144)\",\"rgb(29, 105, 150)\",\"rgb(56, 166, 165)\",\"rgb(15, 133, 84)\",\"rgb(115, 175, 72)\",\"rgb(237, 173, 8)\",\"rgb(225, 124, 5)\",\"rgb(204, 80, 62)\",\"rgb(148, 52, 110)\",\"rgb(111, 64, 112)\",\"rgb(102, 102, 102)\",\"rgb(95, 70, 144)\",\"rgb(29, 105, 150)\",\"rgb(56, 166, 165)\",\"rgb(15, 133, 84)\",\"rgb(115, 175, 72)\",\"rgb(237, 173, 8)\",\"rgb(225, 124, 5)\",\"rgb(204, 80, 62)\",\"rgb(148, 52, 110)\",\"rgb(111, 64, 112)\",\"rgb(102, 102, 102)\"]},\"orientation\":\"h\",\"showlegend\":false,\"text\":[\"State 0\",\"State 1\",\"State 2\",\"State 3\",\"State 4\",\"State 5\",\"State 6\",\"State 7\",\"State 8\",\"State 9\",\"State 10\",\"State 0\",\"State 1\",\"State 2\",\"State 3\",\"State 4\",\"State 5\",\"State 6\",\"State 7\",\"State 8\",\"State 9\",\"State 10\",\"State 0\",\"State 1\",\"State 2\",\"State 3\",\"State 4\",\"State 5\",\"State 6\",\"State 7\",\"State 8\",\"State 9\",\"State 10\",\"State 0\",\"State 1\",\"State 2\",\"State 3\",\"State 4\",\"State 5\",\"State 6\",\"State 7\",\"State 8\",\"State 9\",\"State 10\",\"State 0\",\"State 1\",\"State 2\",\"State 3\",\"State 4\",\"State 5\",\"State 6\",\"State 7\",\"State 8\",\"State 9\",\"State 10\",\"State 0\",\"State 1\",\"State 2\",\"State 3\",\"State 4\",\"State 5\",\"State 6\",\"State 7\",\"State 8\",\"State 9\",\"State 10\",\"State 0\",\"State 1\",\"State 2\",\"State 3\",\"State 4\",\"State 5\",\"State 6\",\"State 7\",\"State 8\",\"State 9\",\"State 10\",\"State 0\",\"State 1\",\"State 2\",\"State 3\",\"State 4\",\"State 5\",\"State 6\",\"State 7\",\"State 8\",\"State 9\",\"State 10\",\"State 0\",\"State 1\",\"State 2\",\"State 3\",\"State 4\",\"State 5\",\"State 6\",\"State 7\",\"State 8\",\"State 9\",\"State 10\",\"State 0\",\"State 1\",\"State 2\",\"State 3\",\"State 4\",\"State 5\",\"State 6\",\"State 7\",\"State 8\",\"State 9\",\"State 10\",\"State 0\",\"State 1\",\"State 2\",\"State 3\",\"State 4\",\"State 5\",\"State 6\",\"State 7\",\"State 8\",\"State 9\",\"State 10\"],\"x\":[1.0,0.0,0.0,0.0,0.0,0.0,0.0,0.0,0.0,0.0,0.0,0.7000000000000002,0.30000000000000004,0.0,0.0,0.0,0.0,0.0,0.0,0.0,0.0,0.0,0.4900000000000002,0.42000000000000015,0.09000000000000002,0.0,0.0,0.0,0.0,0.0,0.0,0.0,0.0,0.34299999999999997,0.44099999999999984,0.18899999999999995,0.027000000000000014,0.0,0.0,0.0,0.0,0.0,0.0,0.0,0.24010000000000012,0.41160000000000013,0.26460000000000006,0.07560000000000008,0.008100000000000005,0.0,0.0,0.0,0.0,0.0,0.0,0.16807000000000002,0.36015000000000014,0.3086999999999998,0.1323,0.028349999999999986,0.0024300000000000016,0.0,0.0,0.0,0.0,0.0,0.11764899999999992,0.30252599999999974,0.3241349999999999,0.18521999999999986,0.059535,0.010206000000000002,0.0007290000000000007,0.0,0.0,0.0,0.0,0.08235430000000007,0.2470629000000002,0.3176523000000004,0.22689450000000005,0.09724050000000008,0.025004700000000026,0.0035721000000000025,0.00021870000000000022,0.0,0.0,0.0,0.05764800999999997,0.19765032000000016,0.29647548,0.25412184,0.13613670000000017,0.04667544000000003,0.010001880000000008,0.001224720000000001,6.561000000000007e-05,0.0,0.0,0.040353606999999944,0.15564962699999993,0.26682793199999966,0.26682793200000016,0.1715322420000001,0.07351381800000001,0.021003948000000005,0.0038578680000000017,0.00041334300000000037,1.9683000000000025e-05,0.0,0.0282475249,0.12106082099999997,0.23347444050000019,0.266827932,0.20012094900000002,0.10291934519999998,0.03675690900000002,0.009001692000000004,0.0014467005,0.0001377810000000001,5.9049000000000085e-06],\"y\":[0,0,0,0,0,0,0,0,0,0,0,1,1,1,1,1,1,1,1,1,1,1,2,2,2,2,2,2,2,2,2,2,2,3,3,3,3,3,3,3,3,3,3,3,4,4,4,4,4,4,4,4,4,4,4,5,5,5,5,5,5,5,5,5,5,5,6,6,6,6,6,6,6,6,6,6,6,7,7,7,7,7,7,7,7,7,7,7,8,8,8,8,8,8,8,8,8,8,8,9,9,9,9,9,9,9,9,9,9,9,10,10,10,10,10,10,10,10,10,10,10],\"type\":\"bar\"},{\"marker\":{\"color\":[\"rgb(95, 70, 144)\",\"rgb(29, 105, 150)\",\"rgb(56, 166, 165)\",\"rgb(15, 133, 84)\",\"rgb(115, 175, 72)\",\"rgb(237, 173, 8)\",\"rgb(225, 124, 5)\",\"rgb(204, 80, 62)\",\"rgb(148, 52, 110)\",\"rgb(111, 64, 112)\",\"rgb(102, 102, 102)\",\"rgb(95, 70, 144)\",\"rgb(29, 105, 150)\",\"rgb(56, 166, 165)\",\"rgb(15, 133, 84)\",\"rgb(115, 175, 72)\",\"rgb(237, 173, 8)\",\"rgb(225, 124, 5)\",\"rgb(204, 80, 62)\",\"rgb(148, 52, 110)\",\"rgb(111, 64, 112)\",\"rgb(102, 102, 102)\",\"rgb(95, 70, 144)\",\"rgb(29, 105, 150)\",\"rgb(56, 166, 165)\",\"rgb(15, 133, 84)\",\"rgb(115, 175, 72)\",\"rgb(237, 173, 8)\",\"rgb(225, 124, 5)\",\"rgb(204, 80, 62)\",\"rgb(148, 52, 110)\",\"rgb(111, 64, 112)\",\"rgb(102, 102, 102)\",\"rgb(95, 70, 144)\",\"rgb(29, 105, 150)\",\"rgb(56, 166, 165)\",\"rgb(15, 133, 84)\",\"rgb(115, 175, 72)\",\"rgb(237, 173, 8)\",\"rgb(225, 124, 5)\",\"rgb(204, 80, 62)\",\"rgb(148, 52, 110)\",\"rgb(111, 64, 112)\",\"rgb(102, 102, 102)\",\"rgb(95, 70, 144)\",\"rgb(29, 105, 150)\",\"rgb(56, 166, 165)\",\"rgb(15, 133, 84)\",\"rgb(115, 175, 72)\",\"rgb(237, 173, 8)\",\"rgb(225, 124, 5)\",\"rgb(204, 80, 62)\",\"rgb(148, 52, 110)\",\"rgb(111, 64, 112)\",\"rgb(102, 102, 102)\",\"rgb(95, 70, 144)\",\"rgb(29, 105, 150)\",\"rgb(56, 166, 165)\",\"rgb(15, 133, 84)\",\"rgb(115, 175, 72)\",\"rgb(237, 173, 8)\",\"rgb(225, 124, 5)\",\"rgb(204, 80, 62)\",\"rgb(148, 52, 110)\",\"rgb(111, 64, 112)\",\"rgb(102, 102, 102)\",\"rgb(95, 70, 144)\",\"rgb(29, 105, 150)\",\"rgb(56, 166, 165)\",\"rgb(15, 133, 84)\",\"rgb(115, 175, 72)\",\"rgb(237, 173, 8)\",\"rgb(225, 124, 5)\",\"rgb(204, 80, 62)\",\"rgb(148, 52, 110)\",\"rgb(111, 64, 112)\",\"rgb(102, 102, 102)\",\"rgb(95, 70, 144)\",\"rgb(29, 105, 150)\",\"rgb(56, 166, 165)\",\"rgb(15, 133, 84)\",\"rgb(115, 175, 72)\",\"rgb(237, 173, 8)\",\"rgb(225, 124, 5)\",\"rgb(204, 80, 62)\",\"rgb(148, 52, 110)\",\"rgb(111, 64, 112)\",\"rgb(102, 102, 102)\",\"rgb(95, 70, 144)\",\"rgb(29, 105, 150)\",\"rgb(56, 166, 165)\",\"rgb(15, 133, 84)\",\"rgb(115, 175, 72)\",\"rgb(237, 173, 8)\",\"rgb(225, 124, 5)\",\"rgb(204, 80, 62)\",\"rgb(148, 52, 110)\",\"rgb(111, 64, 112)\",\"rgb(102, 102, 102)\",\"rgb(95, 70, 144)\",\"rgb(29, 105, 150)\",\"rgb(56, 166, 165)\",\"rgb(15, 133, 84)\",\"rgb(115, 175, 72)\",\"rgb(237, 173, 8)\",\"rgb(225, 124, 5)\",\"rgb(204, 80, 62)\",\"rgb(148, 52, 110)\",\"rgb(111, 64, 112)\",\"rgb(102, 102, 102)\",\"rgb(95, 70, 144)\",\"rgb(29, 105, 150)\",\"rgb(56, 166, 165)\",\"rgb(15, 133, 84)\",\"rgb(115, 175, 72)\",\"rgb(237, 173, 8)\",\"rgb(225, 124, 5)\",\"rgb(204, 80, 62)\",\"rgb(148, 52, 110)\",\"rgb(111, 64, 112)\",\"rgb(102, 102, 102)\"]},\"orientation\":\"h\",\"showlegend\":false,\"text\":[\"State 0\",\"State 1\",\"State 2\",\"State 3\",\"State 4\",\"State 5\",\"State 6\",\"State 7\",\"State 8\",\"State 9\",\"State 10\",\"State 0\",\"State 1\",\"State 2\",\"State 3\",\"State 4\",\"State 5\",\"State 6\",\"State 7\",\"State 8\",\"State 9\",\"State 10\",\"State 0\",\"State 1\",\"State 2\",\"State 3\",\"State 4\",\"State 5\",\"State 6\",\"State 7\",\"State 8\",\"State 9\",\"State 10\",\"State 0\",\"State 1\",\"State 2\",\"State 3\",\"State 4\",\"State 5\",\"State 6\",\"State 7\",\"State 8\",\"State 9\",\"State 10\",\"State 0\",\"State 1\",\"State 2\",\"State 3\",\"State 4\",\"State 5\",\"State 6\",\"State 7\",\"State 8\",\"State 9\",\"State 10\",\"State 0\",\"State 1\",\"State 2\",\"State 3\",\"State 4\",\"State 5\",\"State 6\",\"State 7\",\"State 8\",\"State 9\",\"State 10\",\"State 0\",\"State 1\",\"State 2\",\"State 3\",\"State 4\",\"State 5\",\"State 6\",\"State 7\",\"State 8\",\"State 9\",\"State 10\",\"State 0\",\"State 1\",\"State 2\",\"State 3\",\"State 4\",\"State 5\",\"State 6\",\"State 7\",\"State 8\",\"State 9\",\"State 10\",\"State 0\",\"State 1\",\"State 2\",\"State 3\",\"State 4\",\"State 5\",\"State 6\",\"State 7\",\"State 8\",\"State 9\",\"State 10\",\"State 0\",\"State 1\",\"State 2\",\"State 3\",\"State 4\",\"State 5\",\"State 6\",\"State 7\",\"State 8\",\"State 9\",\"State 10\",\"State 0\",\"State 1\",\"State 2\",\"State 3\",\"State 4\",\"State 5\",\"State 6\",\"State 7\",\"State 8\",\"State 9\",\"State 10\"],\"x\":[0.7000000000000002,0.30000000000000004,0.0,0.0,0.0,0.0,0.0,0.0,0.0,0.0,0.0,0.4900000000000002,0.42000000000000015,0.09000000000000002,0.0,0.0,0.0,0.0,0.0,0.0,0.0,0.0,0.34299999999999997,0.44099999999999984,0.18899999999999995,0.027000000000000014,0.0,0.0,0.0,0.0,0.0,0.0,0.0,0.24010000000000012,0.41160000000000013,0.26460000000000006,0.07560000000000008,0.008100000000000005,0.0,0.0,0.0,0.0,0.0,0.0,0.16807000000000002,0.36015000000000014,0.3086999999999998,0.1323,0.028349999999999986,0.0024300000000000016,0.0,0.0,0.0,0.0,0.0,0.11764899999999992,0.30252599999999974,0.3241349999999999,0.18521999999999986,0.059535,0.010206000000000002,0.0007290000000000007,0.0,0.0,0.0,0.0,0.08235430000000007,0.2470629000000002,0.3176523000000004,0.22689450000000005,0.09724050000000008,0.025004700000000026,0.0035721000000000025,0.00021870000000000022,0.0,0.0,0.0,0.05764800999999997,0.19765032000000016,0.29647548,0.25412184,0.13613670000000017,0.04667544000000003,0.010001880000000008,0.001224720000000001,6.561000000000007e-05,0.0,0.0,0.040353606999999944,0.15564962699999993,0.26682793199999966,0.26682793200000016,0.1715322420000001,0.07351381800000001,0.021003948000000005,0.0038578680000000017,0.00041334300000000037,1.9683000000000025e-05,0.0,0.0282475249,0.12106082099999997,0.23347444050000019,0.266827932,0.20012094900000002,0.10291934519999998,0.03675690900000002,0.009001692000000004,0.0014467005,0.0001377810000000001,5.9049000000000085e-06,0.0,0.0,0.0,0.0,0.0,0.0,0.0,0.0,0.0,0.0,0.0],\"y\":[0,0,0,0,0,0,0,0,0,0,0,1,1,1,1,1,1,1,1,1,1,1,2,2,2,2,2,2,2,2,2,2,2,3,3,3,3,3,3,3,3,3,3,3,4,4,4,4,4,4,4,4,4,4,4,5,5,5,5,5,5,5,5,5,5,5,6,6,6,6,6,6,6,6,6,6,6,7,7,7,7,7,7,7,7,7,7,7,8,8,8,8,8,8,8,8,8,8,8,9,9,9,9,9,9,9,9,9,9,9,10,10,10,10,10,10,10,10,10,10,10],\"type\":\"bar\"}],\"name\":\"Frame 6\"},{\"data\":[{\"marker\":{\"color\":[\"rgb(95, 70, 144)\",\"rgb(29, 105, 150)\",\"rgb(56, 166, 165)\",\"rgb(15, 133, 84)\",\"rgb(115, 175, 72)\",\"rgb(237, 173, 8)\",\"rgb(225, 124, 5)\",\"rgb(204, 80, 62)\",\"rgb(148, 52, 110)\",\"rgb(111, 64, 112)\",\"rgb(102, 102, 102)\",\"rgb(95, 70, 144)\",\"rgb(29, 105, 150)\",\"rgb(56, 166, 165)\",\"rgb(15, 133, 84)\",\"rgb(115, 175, 72)\",\"rgb(237, 173, 8)\",\"rgb(225, 124, 5)\",\"rgb(204, 80, 62)\",\"rgb(148, 52, 110)\",\"rgb(111, 64, 112)\",\"rgb(102, 102, 102)\",\"rgb(95, 70, 144)\",\"rgb(29, 105, 150)\",\"rgb(56, 166, 165)\",\"rgb(15, 133, 84)\",\"rgb(115, 175, 72)\",\"rgb(237, 173, 8)\",\"rgb(225, 124, 5)\",\"rgb(204, 80, 62)\",\"rgb(148, 52, 110)\",\"rgb(111, 64, 112)\",\"rgb(102, 102, 102)\",\"rgb(95, 70, 144)\",\"rgb(29, 105, 150)\",\"rgb(56, 166, 165)\",\"rgb(15, 133, 84)\",\"rgb(115, 175, 72)\",\"rgb(237, 173, 8)\",\"rgb(225, 124, 5)\",\"rgb(204, 80, 62)\",\"rgb(148, 52, 110)\",\"rgb(111, 64, 112)\",\"rgb(102, 102, 102)\",\"rgb(95, 70, 144)\",\"rgb(29, 105, 150)\",\"rgb(56, 166, 165)\",\"rgb(15, 133, 84)\",\"rgb(115, 175, 72)\",\"rgb(237, 173, 8)\",\"rgb(225, 124, 5)\",\"rgb(204, 80, 62)\",\"rgb(148, 52, 110)\",\"rgb(111, 64, 112)\",\"rgb(102, 102, 102)\",\"rgb(95, 70, 144)\",\"rgb(29, 105, 150)\",\"rgb(56, 166, 165)\",\"rgb(15, 133, 84)\",\"rgb(115, 175, 72)\",\"rgb(237, 173, 8)\",\"rgb(225, 124, 5)\",\"rgb(204, 80, 62)\",\"rgb(148, 52, 110)\",\"rgb(111, 64, 112)\",\"rgb(102, 102, 102)\",\"rgb(95, 70, 144)\",\"rgb(29, 105, 150)\",\"rgb(56, 166, 165)\",\"rgb(15, 133, 84)\",\"rgb(115, 175, 72)\",\"rgb(237, 173, 8)\",\"rgb(225, 124, 5)\",\"rgb(204, 80, 62)\",\"rgb(148, 52, 110)\",\"rgb(111, 64, 112)\",\"rgb(102, 102, 102)\",\"rgb(95, 70, 144)\",\"rgb(29, 105, 150)\",\"rgb(56, 166, 165)\",\"rgb(15, 133, 84)\",\"rgb(115, 175, 72)\",\"rgb(237, 173, 8)\",\"rgb(225, 124, 5)\",\"rgb(204, 80, 62)\",\"rgb(148, 52, 110)\",\"rgb(111, 64, 112)\",\"rgb(102, 102, 102)\",\"rgb(95, 70, 144)\",\"rgb(29, 105, 150)\",\"rgb(56, 166, 165)\",\"rgb(15, 133, 84)\",\"rgb(115, 175, 72)\",\"rgb(237, 173, 8)\",\"rgb(225, 124, 5)\",\"rgb(204, 80, 62)\",\"rgb(148, 52, 110)\",\"rgb(111, 64, 112)\",\"rgb(102, 102, 102)\",\"rgb(95, 70, 144)\",\"rgb(29, 105, 150)\",\"rgb(56, 166, 165)\",\"rgb(15, 133, 84)\",\"rgb(115, 175, 72)\",\"rgb(237, 173, 8)\",\"rgb(225, 124, 5)\",\"rgb(204, 80, 62)\",\"rgb(148, 52, 110)\",\"rgb(111, 64, 112)\",\"rgb(102, 102, 102)\",\"rgb(95, 70, 144)\",\"rgb(29, 105, 150)\",\"rgb(56, 166, 165)\",\"rgb(15, 133, 84)\",\"rgb(115, 175, 72)\",\"rgb(237, 173, 8)\",\"rgb(225, 124, 5)\",\"rgb(204, 80, 62)\",\"rgb(148, 52, 110)\",\"rgb(111, 64, 112)\",\"rgb(102, 102, 102)\"]},\"orientation\":\"h\",\"showlegend\":false,\"text\":[\"State 0\",\"State 1\",\"State 2\",\"State 3\",\"State 4\",\"State 5\",\"State 6\",\"State 7\",\"State 8\",\"State 9\",\"State 10\",\"State 0\",\"State 1\",\"State 2\",\"State 3\",\"State 4\",\"State 5\",\"State 6\",\"State 7\",\"State 8\",\"State 9\",\"State 10\",\"State 0\",\"State 1\",\"State 2\",\"State 3\",\"State 4\",\"State 5\",\"State 6\",\"State 7\",\"State 8\",\"State 9\",\"State 10\",\"State 0\",\"State 1\",\"State 2\",\"State 3\",\"State 4\",\"State 5\",\"State 6\",\"State 7\",\"State 8\",\"State 9\",\"State 10\",\"State 0\",\"State 1\",\"State 2\",\"State 3\",\"State 4\",\"State 5\",\"State 6\",\"State 7\",\"State 8\",\"State 9\",\"State 10\",\"State 0\",\"State 1\",\"State 2\",\"State 3\",\"State 4\",\"State 5\",\"State 6\",\"State 7\",\"State 8\",\"State 9\",\"State 10\",\"State 0\",\"State 1\",\"State 2\",\"State 3\",\"State 4\",\"State 5\",\"State 6\",\"State 7\",\"State 8\",\"State 9\",\"State 10\",\"State 0\",\"State 1\",\"State 2\",\"State 3\",\"State 4\",\"State 5\",\"State 6\",\"State 7\",\"State 8\",\"State 9\",\"State 10\",\"State 0\",\"State 1\",\"State 2\",\"State 3\",\"State 4\",\"State 5\",\"State 6\",\"State 7\",\"State 8\",\"State 9\",\"State 10\",\"State 0\",\"State 1\",\"State 2\",\"State 3\",\"State 4\",\"State 5\",\"State 6\",\"State 7\",\"State 8\",\"State 9\",\"State 10\",\"State 0\",\"State 1\",\"State 2\",\"State 3\",\"State 4\",\"State 5\",\"State 6\",\"State 7\",\"State 8\",\"State 9\",\"State 10\"],\"x\":[1.0,0.0,0.0,0.0,0.0,0.0,0.0,0.0,0.0,0.0,0.0,0.7999999999999999,0.19999999999999996,0.0,0.0,0.0,0.0,0.0,0.0,0.0,0.0,0.0,0.6399999999999999,0.32,0.03999999999999998,0.0,0.0,0.0,0.0,0.0,0.0,0.0,0.0,0.5120000000000002,0.3840000000000001,0.09600000000000004,0.007999999999999995,0.0,0.0,0.0,0.0,0.0,0.0,0.0,0.4095999999999999,0.4096,0.1535999999999999,0.025599999999999984,0.0015999999999999986,0.0,0.0,0.0,0.0,0.0,0.0,0.32767999999999997,0.4096,0.20479999999999995,0.051199999999999975,0.006399999999999997,0.00031999999999999965,0.0,0.0,0.0,0.0,0.0,0.26214400000000015,0.3932160000000001,0.24575999999999995,0.08191999999999995,0.015359999999999985,0.001535999999999999,6.399999999999992e-05,0.0,0.0,0.0,0.0,0.20971520000000002,0.3670016,0.2752512000000001,0.11468799999999987,0.02867199999999997,0.004300799999999999,0.0003583999999999998,1.279999999999998e-05,0.0,0.0,0.0,0.16777216000000014,0.3355443200000001,0.2936012799999999,0.1468006399999999,0.04587519999999999,0.009175039999999995,0.0011468799999999988,8.191999999999991e-05,2.5599999999999954e-06,0.0,0.0,0.13421772800000006,0.3019898880000001,0.30198988800000015,0.17616076799999997,0.06606028799999995,0.01651507199999999,0.0027525119999999973,0.00029491199999999993,1.8431999999999982e-05,5.11999999999999e-07,0.0,0.10737418240000006,0.26843545599999996,0.301989888,0.20132659199999978,0.08808038399999986,0.026424115199999956,0.00550502399999999,0.0007864319999999987,7.372799999999987e-05,4.095999999999988e-06,1.0239999999999978e-07],\"y\":[0,0,0,0,0,0,0,0,0,0,0,1,1,1,1,1,1,1,1,1,1,1,2,2,2,2,2,2,2,2,2,2,2,3,3,3,3,3,3,3,3,3,3,3,4,4,4,4,4,4,4,4,4,4,4,5,5,5,5,5,5,5,5,5,5,5,6,6,6,6,6,6,6,6,6,6,6,7,7,7,7,7,7,7,7,7,7,7,8,8,8,8,8,8,8,8,8,8,8,9,9,9,9,9,9,9,9,9,9,9,10,10,10,10,10,10,10,10,10,10,10],\"type\":\"bar\"},{\"marker\":{\"color\":[\"rgb(95, 70, 144)\",\"rgb(29, 105, 150)\",\"rgb(56, 166, 165)\",\"rgb(15, 133, 84)\",\"rgb(115, 175, 72)\",\"rgb(237, 173, 8)\",\"rgb(225, 124, 5)\",\"rgb(204, 80, 62)\",\"rgb(148, 52, 110)\",\"rgb(111, 64, 112)\",\"rgb(102, 102, 102)\",\"rgb(95, 70, 144)\",\"rgb(29, 105, 150)\",\"rgb(56, 166, 165)\",\"rgb(15, 133, 84)\",\"rgb(115, 175, 72)\",\"rgb(237, 173, 8)\",\"rgb(225, 124, 5)\",\"rgb(204, 80, 62)\",\"rgb(148, 52, 110)\",\"rgb(111, 64, 112)\",\"rgb(102, 102, 102)\",\"rgb(95, 70, 144)\",\"rgb(29, 105, 150)\",\"rgb(56, 166, 165)\",\"rgb(15, 133, 84)\",\"rgb(115, 175, 72)\",\"rgb(237, 173, 8)\",\"rgb(225, 124, 5)\",\"rgb(204, 80, 62)\",\"rgb(148, 52, 110)\",\"rgb(111, 64, 112)\",\"rgb(102, 102, 102)\",\"rgb(95, 70, 144)\",\"rgb(29, 105, 150)\",\"rgb(56, 166, 165)\",\"rgb(15, 133, 84)\",\"rgb(115, 175, 72)\",\"rgb(237, 173, 8)\",\"rgb(225, 124, 5)\",\"rgb(204, 80, 62)\",\"rgb(148, 52, 110)\",\"rgb(111, 64, 112)\",\"rgb(102, 102, 102)\",\"rgb(95, 70, 144)\",\"rgb(29, 105, 150)\",\"rgb(56, 166, 165)\",\"rgb(15, 133, 84)\",\"rgb(115, 175, 72)\",\"rgb(237, 173, 8)\",\"rgb(225, 124, 5)\",\"rgb(204, 80, 62)\",\"rgb(148, 52, 110)\",\"rgb(111, 64, 112)\",\"rgb(102, 102, 102)\",\"rgb(95, 70, 144)\",\"rgb(29, 105, 150)\",\"rgb(56, 166, 165)\",\"rgb(15, 133, 84)\",\"rgb(115, 175, 72)\",\"rgb(237, 173, 8)\",\"rgb(225, 124, 5)\",\"rgb(204, 80, 62)\",\"rgb(148, 52, 110)\",\"rgb(111, 64, 112)\",\"rgb(102, 102, 102)\",\"rgb(95, 70, 144)\",\"rgb(29, 105, 150)\",\"rgb(56, 166, 165)\",\"rgb(15, 133, 84)\",\"rgb(115, 175, 72)\",\"rgb(237, 173, 8)\",\"rgb(225, 124, 5)\",\"rgb(204, 80, 62)\",\"rgb(148, 52, 110)\",\"rgb(111, 64, 112)\",\"rgb(102, 102, 102)\",\"rgb(95, 70, 144)\",\"rgb(29, 105, 150)\",\"rgb(56, 166, 165)\",\"rgb(15, 133, 84)\",\"rgb(115, 175, 72)\",\"rgb(237, 173, 8)\",\"rgb(225, 124, 5)\",\"rgb(204, 80, 62)\",\"rgb(148, 52, 110)\",\"rgb(111, 64, 112)\",\"rgb(102, 102, 102)\",\"rgb(95, 70, 144)\",\"rgb(29, 105, 150)\",\"rgb(56, 166, 165)\",\"rgb(15, 133, 84)\",\"rgb(115, 175, 72)\",\"rgb(237, 173, 8)\",\"rgb(225, 124, 5)\",\"rgb(204, 80, 62)\",\"rgb(148, 52, 110)\",\"rgb(111, 64, 112)\",\"rgb(102, 102, 102)\",\"rgb(95, 70, 144)\",\"rgb(29, 105, 150)\",\"rgb(56, 166, 165)\",\"rgb(15, 133, 84)\",\"rgb(115, 175, 72)\",\"rgb(237, 173, 8)\",\"rgb(225, 124, 5)\",\"rgb(204, 80, 62)\",\"rgb(148, 52, 110)\",\"rgb(111, 64, 112)\",\"rgb(102, 102, 102)\",\"rgb(95, 70, 144)\",\"rgb(29, 105, 150)\",\"rgb(56, 166, 165)\",\"rgb(15, 133, 84)\",\"rgb(115, 175, 72)\",\"rgb(237, 173, 8)\",\"rgb(225, 124, 5)\",\"rgb(204, 80, 62)\",\"rgb(148, 52, 110)\",\"rgb(111, 64, 112)\",\"rgb(102, 102, 102)\"]},\"orientation\":\"h\",\"showlegend\":false,\"text\":[\"State 0\",\"State 1\",\"State 2\",\"State 3\",\"State 4\",\"State 5\",\"State 6\",\"State 7\",\"State 8\",\"State 9\",\"State 10\",\"State 0\",\"State 1\",\"State 2\",\"State 3\",\"State 4\",\"State 5\",\"State 6\",\"State 7\",\"State 8\",\"State 9\",\"State 10\",\"State 0\",\"State 1\",\"State 2\",\"State 3\",\"State 4\",\"State 5\",\"State 6\",\"State 7\",\"State 8\",\"State 9\",\"State 10\",\"State 0\",\"State 1\",\"State 2\",\"State 3\",\"State 4\",\"State 5\",\"State 6\",\"State 7\",\"State 8\",\"State 9\",\"State 10\",\"State 0\",\"State 1\",\"State 2\",\"State 3\",\"State 4\",\"State 5\",\"State 6\",\"State 7\",\"State 8\",\"State 9\",\"State 10\",\"State 0\",\"State 1\",\"State 2\",\"State 3\",\"State 4\",\"State 5\",\"State 6\",\"State 7\",\"State 8\",\"State 9\",\"State 10\",\"State 0\",\"State 1\",\"State 2\",\"State 3\",\"State 4\",\"State 5\",\"State 6\",\"State 7\",\"State 8\",\"State 9\",\"State 10\",\"State 0\",\"State 1\",\"State 2\",\"State 3\",\"State 4\",\"State 5\",\"State 6\",\"State 7\",\"State 8\",\"State 9\",\"State 10\",\"State 0\",\"State 1\",\"State 2\",\"State 3\",\"State 4\",\"State 5\",\"State 6\",\"State 7\",\"State 8\",\"State 9\",\"State 10\",\"State 0\",\"State 1\",\"State 2\",\"State 3\",\"State 4\",\"State 5\",\"State 6\",\"State 7\",\"State 8\",\"State 9\",\"State 10\",\"State 0\",\"State 1\",\"State 2\",\"State 3\",\"State 4\",\"State 5\",\"State 6\",\"State 7\",\"State 8\",\"State 9\",\"State 10\"],\"x\":[0.7999999999999999,0.19999999999999996,0.0,0.0,0.0,0.0,0.0,0.0,0.0,0.0,0.0,0.6399999999999999,0.32,0.03999999999999998,0.0,0.0,0.0,0.0,0.0,0.0,0.0,0.0,0.5120000000000002,0.3840000000000001,0.09600000000000004,0.007999999999999995,0.0,0.0,0.0,0.0,0.0,0.0,0.0,0.4095999999999999,0.4096,0.1535999999999999,0.025599999999999984,0.0015999999999999986,0.0,0.0,0.0,0.0,0.0,0.0,0.32767999999999997,0.4096,0.20479999999999995,0.051199999999999975,0.006399999999999997,0.00031999999999999965,0.0,0.0,0.0,0.0,0.0,0.26214400000000015,0.3932160000000001,0.24575999999999995,0.08191999999999995,0.015359999999999985,0.001535999999999999,6.399999999999992e-05,0.0,0.0,0.0,0.0,0.20971520000000002,0.3670016,0.2752512000000001,0.11468799999999987,0.02867199999999997,0.004300799999999999,0.0003583999999999998,1.279999999999998e-05,0.0,0.0,0.0,0.16777216000000014,0.3355443200000001,0.2936012799999999,0.1468006399999999,0.04587519999999999,0.009175039999999995,0.0011468799999999988,8.191999999999991e-05,2.5599999999999954e-06,0.0,0.0,0.13421772800000006,0.3019898880000001,0.30198988800000015,0.17616076799999997,0.06606028799999995,0.01651507199999999,0.0027525119999999973,0.00029491199999999993,1.8431999999999982e-05,5.11999999999999e-07,0.0,0.10737418240000006,0.26843545599999996,0.301989888,0.20132659199999978,0.08808038399999986,0.026424115199999956,0.00550502399999999,0.0007864319999999987,7.372799999999987e-05,4.095999999999988e-06,1.0239999999999978e-07,0.0,0.0,0.0,0.0,0.0,0.0,0.0,0.0,0.0,0.0,0.0],\"y\":[0,0,0,0,0,0,0,0,0,0,0,1,1,1,1,1,1,1,1,1,1,1,2,2,2,2,2,2,2,2,2,2,2,3,3,3,3,3,3,3,3,3,3,3,4,4,4,4,4,4,4,4,4,4,4,5,5,5,5,5,5,5,5,5,5,5,6,6,6,6,6,6,6,6,6,6,6,7,7,7,7,7,7,7,7,7,7,7,8,8,8,8,8,8,8,8,8,8,8,9,9,9,9,9,9,9,9,9,9,9,10,10,10,10,10,10,10,10,10,10,10],\"type\":\"bar\"}],\"name\":\"Frame 7\"},{\"data\":[{\"marker\":{\"color\":[\"rgb(95, 70, 144)\",\"rgb(29, 105, 150)\",\"rgb(56, 166, 165)\",\"rgb(15, 133, 84)\",\"rgb(115, 175, 72)\",\"rgb(237, 173, 8)\",\"rgb(225, 124, 5)\",\"rgb(204, 80, 62)\",\"rgb(148, 52, 110)\",\"rgb(111, 64, 112)\",\"rgb(102, 102, 102)\",\"rgb(95, 70, 144)\",\"rgb(29, 105, 150)\",\"rgb(56, 166, 165)\",\"rgb(15, 133, 84)\",\"rgb(115, 175, 72)\",\"rgb(237, 173, 8)\",\"rgb(225, 124, 5)\",\"rgb(204, 80, 62)\",\"rgb(148, 52, 110)\",\"rgb(111, 64, 112)\",\"rgb(102, 102, 102)\",\"rgb(95, 70, 144)\",\"rgb(29, 105, 150)\",\"rgb(56, 166, 165)\",\"rgb(15, 133, 84)\",\"rgb(115, 175, 72)\",\"rgb(237, 173, 8)\",\"rgb(225, 124, 5)\",\"rgb(204, 80, 62)\",\"rgb(148, 52, 110)\",\"rgb(111, 64, 112)\",\"rgb(102, 102, 102)\",\"rgb(95, 70, 144)\",\"rgb(29, 105, 150)\",\"rgb(56, 166, 165)\",\"rgb(15, 133, 84)\",\"rgb(115, 175, 72)\",\"rgb(237, 173, 8)\",\"rgb(225, 124, 5)\",\"rgb(204, 80, 62)\",\"rgb(148, 52, 110)\",\"rgb(111, 64, 112)\",\"rgb(102, 102, 102)\",\"rgb(95, 70, 144)\",\"rgb(29, 105, 150)\",\"rgb(56, 166, 165)\",\"rgb(15, 133, 84)\",\"rgb(115, 175, 72)\",\"rgb(237, 173, 8)\",\"rgb(225, 124, 5)\",\"rgb(204, 80, 62)\",\"rgb(148, 52, 110)\",\"rgb(111, 64, 112)\",\"rgb(102, 102, 102)\",\"rgb(95, 70, 144)\",\"rgb(29, 105, 150)\",\"rgb(56, 166, 165)\",\"rgb(15, 133, 84)\",\"rgb(115, 175, 72)\",\"rgb(237, 173, 8)\",\"rgb(225, 124, 5)\",\"rgb(204, 80, 62)\",\"rgb(148, 52, 110)\",\"rgb(111, 64, 112)\",\"rgb(102, 102, 102)\",\"rgb(95, 70, 144)\",\"rgb(29, 105, 150)\",\"rgb(56, 166, 165)\",\"rgb(15, 133, 84)\",\"rgb(115, 175, 72)\",\"rgb(237, 173, 8)\",\"rgb(225, 124, 5)\",\"rgb(204, 80, 62)\",\"rgb(148, 52, 110)\",\"rgb(111, 64, 112)\",\"rgb(102, 102, 102)\",\"rgb(95, 70, 144)\",\"rgb(29, 105, 150)\",\"rgb(56, 166, 165)\",\"rgb(15, 133, 84)\",\"rgb(115, 175, 72)\",\"rgb(237, 173, 8)\",\"rgb(225, 124, 5)\",\"rgb(204, 80, 62)\",\"rgb(148, 52, 110)\",\"rgb(111, 64, 112)\",\"rgb(102, 102, 102)\",\"rgb(95, 70, 144)\",\"rgb(29, 105, 150)\",\"rgb(56, 166, 165)\",\"rgb(15, 133, 84)\",\"rgb(115, 175, 72)\",\"rgb(237, 173, 8)\",\"rgb(225, 124, 5)\",\"rgb(204, 80, 62)\",\"rgb(148, 52, 110)\",\"rgb(111, 64, 112)\",\"rgb(102, 102, 102)\",\"rgb(95, 70, 144)\",\"rgb(29, 105, 150)\",\"rgb(56, 166, 165)\",\"rgb(15, 133, 84)\",\"rgb(115, 175, 72)\",\"rgb(237, 173, 8)\",\"rgb(225, 124, 5)\",\"rgb(204, 80, 62)\",\"rgb(148, 52, 110)\",\"rgb(111, 64, 112)\",\"rgb(102, 102, 102)\",\"rgb(95, 70, 144)\",\"rgb(29, 105, 150)\",\"rgb(56, 166, 165)\",\"rgb(15, 133, 84)\",\"rgb(115, 175, 72)\",\"rgb(237, 173, 8)\",\"rgb(225, 124, 5)\",\"rgb(204, 80, 62)\",\"rgb(148, 52, 110)\",\"rgb(111, 64, 112)\",\"rgb(102, 102, 102)\"]},\"orientation\":\"h\",\"showlegend\":false,\"text\":[\"State 0\",\"State 1\",\"State 2\",\"State 3\",\"State 4\",\"State 5\",\"State 6\",\"State 7\",\"State 8\",\"State 9\",\"State 10\",\"State 0\",\"State 1\",\"State 2\",\"State 3\",\"State 4\",\"State 5\",\"State 6\",\"State 7\",\"State 8\",\"State 9\",\"State 10\",\"State 0\",\"State 1\",\"State 2\",\"State 3\",\"State 4\",\"State 5\",\"State 6\",\"State 7\",\"State 8\",\"State 9\",\"State 10\",\"State 0\",\"State 1\",\"State 2\",\"State 3\",\"State 4\",\"State 5\",\"State 6\",\"State 7\",\"State 8\",\"State 9\",\"State 10\",\"State 0\",\"State 1\",\"State 2\",\"State 3\",\"State 4\",\"State 5\",\"State 6\",\"State 7\",\"State 8\",\"State 9\",\"State 10\",\"State 0\",\"State 1\",\"State 2\",\"State 3\",\"State 4\",\"State 5\",\"State 6\",\"State 7\",\"State 8\",\"State 9\",\"State 10\",\"State 0\",\"State 1\",\"State 2\",\"State 3\",\"State 4\",\"State 5\",\"State 6\",\"State 7\",\"State 8\",\"State 9\",\"State 10\",\"State 0\",\"State 1\",\"State 2\",\"State 3\",\"State 4\",\"State 5\",\"State 6\",\"State 7\",\"State 8\",\"State 9\",\"State 10\",\"State 0\",\"State 1\",\"State 2\",\"State 3\",\"State 4\",\"State 5\",\"State 6\",\"State 7\",\"State 8\",\"State 9\",\"State 10\",\"State 0\",\"State 1\",\"State 2\",\"State 3\",\"State 4\",\"State 5\",\"State 6\",\"State 7\",\"State 8\",\"State 9\",\"State 10\",\"State 0\",\"State 1\",\"State 2\",\"State 3\",\"State 4\",\"State 5\",\"State 6\",\"State 7\",\"State 8\",\"State 9\",\"State 10\"],\"x\":[1.0,0.0,0.0,0.0,0.0,0.0,0.0,0.0,0.0,0.0,0.0,0.9000000000000001,0.09999999999999998,0.0,0.0,0.0,0.0,0.0,0.0,0.0,0.0,0.0,0.81,0.17999999999999997,0.009999999999999995,0.0,0.0,0.0,0.0,0.0,0.0,0.0,0.0,0.7290000000000001,0.243,0.026999999999999993,0.0009999999999999994,0.0,0.0,0.0,0.0,0.0,0.0,0.0,0.6561,0.29159999999999997,0.048599999999999983,0.003599999999999998,9.999999999999991e-05,0.0,0.0,0.0,0.0,0.0,0.0,0.59049,0.3280499999999999,0.07289999999999995,0.008099999999999994,0.0004499999999999999,9.999999999999989e-06,0.0,0.0,0.0,0.0,0.0,0.5314409999999999,0.35429400000000005,0.09841499999999996,0.014579999999999984,0.0012149999999999984,5.3999999999999944e-05,9.999999999999987e-07,0.0,0.0,0.0,0.0,0.47829690000000014,0.37200869999999986,0.12400290000000001,0.02296349999999998,0.002551499999999996,0.00017009999999999993,6.299999999999996e-06,9.999999999999985e-08,0.0,0.0,0.0,0.43046721000000016,0.38263752000000006,0.14880347999999993,0.03306743999999999,0.004592699999999998,0.00040823999999999976,2.267999999999998e-05,7.199999999999989e-07,9.999999999999982e-09,0.0,0.0,0.38742048900000003,0.38742048899999987,0.17218688399999987,0.04464104399999997,0.007440173999999999,0.0008266859999999994,6.123599999999991e-05,2.915999999999998e-06,8.099999999999992e-08,9.99999999999998e-10,0.0,0.3486784401,0.38742048899999976,0.1937102444999998,0.057395627999999956,0.011160260999999994,0.0014880347999999982,0.00013778099999999977,8.747999999999993e-06,3.6449999999999933e-07,8.999999999999978e-09,9.999999999999978e-11],\"y\":[0,0,0,0,0,0,0,0,0,0,0,1,1,1,1,1,1,1,1,1,1,1,2,2,2,2,2,2,2,2,2,2,2,3,3,3,3,3,3,3,3,3,3,3,4,4,4,4,4,4,4,4,4,4,4,5,5,5,5,5,5,5,5,5,5,5,6,6,6,6,6,6,6,6,6,6,6,7,7,7,7,7,7,7,7,7,7,7,8,8,8,8,8,8,8,8,8,8,8,9,9,9,9,9,9,9,9,9,9,9,10,10,10,10,10,10,10,10,10,10,10],\"type\":\"bar\"},{\"marker\":{\"color\":[\"rgb(95, 70, 144)\",\"rgb(29, 105, 150)\",\"rgb(56, 166, 165)\",\"rgb(15, 133, 84)\",\"rgb(115, 175, 72)\",\"rgb(237, 173, 8)\",\"rgb(225, 124, 5)\",\"rgb(204, 80, 62)\",\"rgb(148, 52, 110)\",\"rgb(111, 64, 112)\",\"rgb(102, 102, 102)\",\"rgb(95, 70, 144)\",\"rgb(29, 105, 150)\",\"rgb(56, 166, 165)\",\"rgb(15, 133, 84)\",\"rgb(115, 175, 72)\",\"rgb(237, 173, 8)\",\"rgb(225, 124, 5)\",\"rgb(204, 80, 62)\",\"rgb(148, 52, 110)\",\"rgb(111, 64, 112)\",\"rgb(102, 102, 102)\",\"rgb(95, 70, 144)\",\"rgb(29, 105, 150)\",\"rgb(56, 166, 165)\",\"rgb(15, 133, 84)\",\"rgb(115, 175, 72)\",\"rgb(237, 173, 8)\",\"rgb(225, 124, 5)\",\"rgb(204, 80, 62)\",\"rgb(148, 52, 110)\",\"rgb(111, 64, 112)\",\"rgb(102, 102, 102)\",\"rgb(95, 70, 144)\",\"rgb(29, 105, 150)\",\"rgb(56, 166, 165)\",\"rgb(15, 133, 84)\",\"rgb(115, 175, 72)\",\"rgb(237, 173, 8)\",\"rgb(225, 124, 5)\",\"rgb(204, 80, 62)\",\"rgb(148, 52, 110)\",\"rgb(111, 64, 112)\",\"rgb(102, 102, 102)\",\"rgb(95, 70, 144)\",\"rgb(29, 105, 150)\",\"rgb(56, 166, 165)\",\"rgb(15, 133, 84)\",\"rgb(115, 175, 72)\",\"rgb(237, 173, 8)\",\"rgb(225, 124, 5)\",\"rgb(204, 80, 62)\",\"rgb(148, 52, 110)\",\"rgb(111, 64, 112)\",\"rgb(102, 102, 102)\",\"rgb(95, 70, 144)\",\"rgb(29, 105, 150)\",\"rgb(56, 166, 165)\",\"rgb(15, 133, 84)\",\"rgb(115, 175, 72)\",\"rgb(237, 173, 8)\",\"rgb(225, 124, 5)\",\"rgb(204, 80, 62)\",\"rgb(148, 52, 110)\",\"rgb(111, 64, 112)\",\"rgb(102, 102, 102)\",\"rgb(95, 70, 144)\",\"rgb(29, 105, 150)\",\"rgb(56, 166, 165)\",\"rgb(15, 133, 84)\",\"rgb(115, 175, 72)\",\"rgb(237, 173, 8)\",\"rgb(225, 124, 5)\",\"rgb(204, 80, 62)\",\"rgb(148, 52, 110)\",\"rgb(111, 64, 112)\",\"rgb(102, 102, 102)\",\"rgb(95, 70, 144)\",\"rgb(29, 105, 150)\",\"rgb(56, 166, 165)\",\"rgb(15, 133, 84)\",\"rgb(115, 175, 72)\",\"rgb(237, 173, 8)\",\"rgb(225, 124, 5)\",\"rgb(204, 80, 62)\",\"rgb(148, 52, 110)\",\"rgb(111, 64, 112)\",\"rgb(102, 102, 102)\",\"rgb(95, 70, 144)\",\"rgb(29, 105, 150)\",\"rgb(56, 166, 165)\",\"rgb(15, 133, 84)\",\"rgb(115, 175, 72)\",\"rgb(237, 173, 8)\",\"rgb(225, 124, 5)\",\"rgb(204, 80, 62)\",\"rgb(148, 52, 110)\",\"rgb(111, 64, 112)\",\"rgb(102, 102, 102)\",\"rgb(95, 70, 144)\",\"rgb(29, 105, 150)\",\"rgb(56, 166, 165)\",\"rgb(15, 133, 84)\",\"rgb(115, 175, 72)\",\"rgb(237, 173, 8)\",\"rgb(225, 124, 5)\",\"rgb(204, 80, 62)\",\"rgb(148, 52, 110)\",\"rgb(111, 64, 112)\",\"rgb(102, 102, 102)\",\"rgb(95, 70, 144)\",\"rgb(29, 105, 150)\",\"rgb(56, 166, 165)\",\"rgb(15, 133, 84)\",\"rgb(115, 175, 72)\",\"rgb(237, 173, 8)\",\"rgb(225, 124, 5)\",\"rgb(204, 80, 62)\",\"rgb(148, 52, 110)\",\"rgb(111, 64, 112)\",\"rgb(102, 102, 102)\"]},\"orientation\":\"h\",\"showlegend\":false,\"text\":[\"State 0\",\"State 1\",\"State 2\",\"State 3\",\"State 4\",\"State 5\",\"State 6\",\"State 7\",\"State 8\",\"State 9\",\"State 10\",\"State 0\",\"State 1\",\"State 2\",\"State 3\",\"State 4\",\"State 5\",\"State 6\",\"State 7\",\"State 8\",\"State 9\",\"State 10\",\"State 0\",\"State 1\",\"State 2\",\"State 3\",\"State 4\",\"State 5\",\"State 6\",\"State 7\",\"State 8\",\"State 9\",\"State 10\",\"State 0\",\"State 1\",\"State 2\",\"State 3\",\"State 4\",\"State 5\",\"State 6\",\"State 7\",\"State 8\",\"State 9\",\"State 10\",\"State 0\",\"State 1\",\"State 2\",\"State 3\",\"State 4\",\"State 5\",\"State 6\",\"State 7\",\"State 8\",\"State 9\",\"State 10\",\"State 0\",\"State 1\",\"State 2\",\"State 3\",\"State 4\",\"State 5\",\"State 6\",\"State 7\",\"State 8\",\"State 9\",\"State 10\",\"State 0\",\"State 1\",\"State 2\",\"State 3\",\"State 4\",\"State 5\",\"State 6\",\"State 7\",\"State 8\",\"State 9\",\"State 10\",\"State 0\",\"State 1\",\"State 2\",\"State 3\",\"State 4\",\"State 5\",\"State 6\",\"State 7\",\"State 8\",\"State 9\",\"State 10\",\"State 0\",\"State 1\",\"State 2\",\"State 3\",\"State 4\",\"State 5\",\"State 6\",\"State 7\",\"State 8\",\"State 9\",\"State 10\",\"State 0\",\"State 1\",\"State 2\",\"State 3\",\"State 4\",\"State 5\",\"State 6\",\"State 7\",\"State 8\",\"State 9\",\"State 10\",\"State 0\",\"State 1\",\"State 2\",\"State 3\",\"State 4\",\"State 5\",\"State 6\",\"State 7\",\"State 8\",\"State 9\",\"State 10\"],\"x\":[0.9000000000000001,0.09999999999999998,0.0,0.0,0.0,0.0,0.0,0.0,0.0,0.0,0.0,0.81,0.17999999999999997,0.009999999999999995,0.0,0.0,0.0,0.0,0.0,0.0,0.0,0.0,0.7290000000000001,0.243,0.026999999999999993,0.0009999999999999994,0.0,0.0,0.0,0.0,0.0,0.0,0.0,0.6561,0.29159999999999997,0.048599999999999983,0.003599999999999998,9.999999999999991e-05,0.0,0.0,0.0,0.0,0.0,0.0,0.59049,0.3280499999999999,0.07289999999999995,0.008099999999999994,0.0004499999999999999,9.999999999999989e-06,0.0,0.0,0.0,0.0,0.0,0.5314409999999999,0.35429400000000005,0.09841499999999996,0.014579999999999984,0.0012149999999999984,5.3999999999999944e-05,9.999999999999987e-07,0.0,0.0,0.0,0.0,0.47829690000000014,0.37200869999999986,0.12400290000000001,0.02296349999999998,0.002551499999999996,0.00017009999999999993,6.299999999999996e-06,9.999999999999985e-08,0.0,0.0,0.0,0.43046721000000016,0.38263752000000006,0.14880347999999993,0.03306743999999999,0.004592699999999998,0.00040823999999999976,2.267999999999998e-05,7.199999999999989e-07,9.999999999999982e-09,0.0,0.0,0.38742048900000003,0.38742048899999987,0.17218688399999987,0.04464104399999997,0.007440173999999999,0.0008266859999999994,6.123599999999991e-05,2.915999999999998e-06,8.099999999999992e-08,9.99999999999998e-10,0.0,0.3486784401,0.38742048899999976,0.1937102444999998,0.057395627999999956,0.011160260999999994,0.0014880347999999982,0.00013778099999999977,8.747999999999993e-06,3.6449999999999933e-07,8.999999999999978e-09,9.999999999999978e-11,0.0,0.0,0.0,0.0,0.0,0.0,0.0,0.0,0.0,0.0,0.0],\"y\":[0,0,0,0,0,0,0,0,0,0,0,1,1,1,1,1,1,1,1,1,1,1,2,2,2,2,2,2,2,2,2,2,2,3,3,3,3,3,3,3,3,3,3,3,4,4,4,4,4,4,4,4,4,4,4,5,5,5,5,5,5,5,5,5,5,5,6,6,6,6,6,6,6,6,6,6,6,7,7,7,7,7,7,7,7,7,7,7,8,8,8,8,8,8,8,8,8,8,8,9,9,9,9,9,9,9,9,9,9,9,10,10,10,10,10,10,10,10,10,10,10],\"type\":\"bar\"}],\"name\":\"Frame 8\"},{\"data\":[{\"marker\":{\"color\":[\"rgb(95, 70, 144)\",\"rgb(29, 105, 150)\",\"rgb(56, 166, 165)\",\"rgb(15, 133, 84)\",\"rgb(115, 175, 72)\",\"rgb(237, 173, 8)\",\"rgb(225, 124, 5)\",\"rgb(204, 80, 62)\",\"rgb(148, 52, 110)\",\"rgb(111, 64, 112)\",\"rgb(102, 102, 102)\",\"rgb(95, 70, 144)\",\"rgb(29, 105, 150)\",\"rgb(56, 166, 165)\",\"rgb(15, 133, 84)\",\"rgb(115, 175, 72)\",\"rgb(237, 173, 8)\",\"rgb(225, 124, 5)\",\"rgb(204, 80, 62)\",\"rgb(148, 52, 110)\",\"rgb(111, 64, 112)\",\"rgb(102, 102, 102)\",\"rgb(95, 70, 144)\",\"rgb(29, 105, 150)\",\"rgb(56, 166, 165)\",\"rgb(15, 133, 84)\",\"rgb(115, 175, 72)\",\"rgb(237, 173, 8)\",\"rgb(225, 124, 5)\",\"rgb(204, 80, 62)\",\"rgb(148, 52, 110)\",\"rgb(111, 64, 112)\",\"rgb(102, 102, 102)\",\"rgb(95, 70, 144)\",\"rgb(29, 105, 150)\",\"rgb(56, 166, 165)\",\"rgb(15, 133, 84)\",\"rgb(115, 175, 72)\",\"rgb(237, 173, 8)\",\"rgb(225, 124, 5)\",\"rgb(204, 80, 62)\",\"rgb(148, 52, 110)\",\"rgb(111, 64, 112)\",\"rgb(102, 102, 102)\",\"rgb(95, 70, 144)\",\"rgb(29, 105, 150)\",\"rgb(56, 166, 165)\",\"rgb(15, 133, 84)\",\"rgb(115, 175, 72)\",\"rgb(237, 173, 8)\",\"rgb(225, 124, 5)\",\"rgb(204, 80, 62)\",\"rgb(148, 52, 110)\",\"rgb(111, 64, 112)\",\"rgb(102, 102, 102)\",\"rgb(95, 70, 144)\",\"rgb(29, 105, 150)\",\"rgb(56, 166, 165)\",\"rgb(15, 133, 84)\",\"rgb(115, 175, 72)\",\"rgb(237, 173, 8)\",\"rgb(225, 124, 5)\",\"rgb(204, 80, 62)\",\"rgb(148, 52, 110)\",\"rgb(111, 64, 112)\",\"rgb(102, 102, 102)\",\"rgb(95, 70, 144)\",\"rgb(29, 105, 150)\",\"rgb(56, 166, 165)\",\"rgb(15, 133, 84)\",\"rgb(115, 175, 72)\",\"rgb(237, 173, 8)\",\"rgb(225, 124, 5)\",\"rgb(204, 80, 62)\",\"rgb(148, 52, 110)\",\"rgb(111, 64, 112)\",\"rgb(102, 102, 102)\",\"rgb(95, 70, 144)\",\"rgb(29, 105, 150)\",\"rgb(56, 166, 165)\",\"rgb(15, 133, 84)\",\"rgb(115, 175, 72)\",\"rgb(237, 173, 8)\",\"rgb(225, 124, 5)\",\"rgb(204, 80, 62)\",\"rgb(148, 52, 110)\",\"rgb(111, 64, 112)\",\"rgb(102, 102, 102)\",\"rgb(95, 70, 144)\",\"rgb(29, 105, 150)\",\"rgb(56, 166, 165)\",\"rgb(15, 133, 84)\",\"rgb(115, 175, 72)\",\"rgb(237, 173, 8)\",\"rgb(225, 124, 5)\",\"rgb(204, 80, 62)\",\"rgb(148, 52, 110)\",\"rgb(111, 64, 112)\",\"rgb(102, 102, 102)\",\"rgb(95, 70, 144)\",\"rgb(29, 105, 150)\",\"rgb(56, 166, 165)\",\"rgb(15, 133, 84)\",\"rgb(115, 175, 72)\",\"rgb(237, 173, 8)\",\"rgb(225, 124, 5)\",\"rgb(204, 80, 62)\",\"rgb(148, 52, 110)\",\"rgb(111, 64, 112)\",\"rgb(102, 102, 102)\",\"rgb(95, 70, 144)\",\"rgb(29, 105, 150)\",\"rgb(56, 166, 165)\",\"rgb(15, 133, 84)\",\"rgb(115, 175, 72)\",\"rgb(237, 173, 8)\",\"rgb(225, 124, 5)\",\"rgb(204, 80, 62)\",\"rgb(148, 52, 110)\",\"rgb(111, 64, 112)\",\"rgb(102, 102, 102)\"]},\"orientation\":\"h\",\"showlegend\":false,\"text\":[\"State 0\",\"State 1\",\"State 2\",\"State 3\",\"State 4\",\"State 5\",\"State 6\",\"State 7\",\"State 8\",\"State 9\",\"State 10\",\"State 0\",\"State 1\",\"State 2\",\"State 3\",\"State 4\",\"State 5\",\"State 6\",\"State 7\",\"State 8\",\"State 9\",\"State 10\",\"State 0\",\"State 1\",\"State 2\",\"State 3\",\"State 4\",\"State 5\",\"State 6\",\"State 7\",\"State 8\",\"State 9\",\"State 10\",\"State 0\",\"State 1\",\"State 2\",\"State 3\",\"State 4\",\"State 5\",\"State 6\",\"State 7\",\"State 8\",\"State 9\",\"State 10\",\"State 0\",\"State 1\",\"State 2\",\"State 3\",\"State 4\",\"State 5\",\"State 6\",\"State 7\",\"State 8\",\"State 9\",\"State 10\",\"State 0\",\"State 1\",\"State 2\",\"State 3\",\"State 4\",\"State 5\",\"State 6\",\"State 7\",\"State 8\",\"State 9\",\"State 10\",\"State 0\",\"State 1\",\"State 2\",\"State 3\",\"State 4\",\"State 5\",\"State 6\",\"State 7\",\"State 8\",\"State 9\",\"State 10\",\"State 0\",\"State 1\",\"State 2\",\"State 3\",\"State 4\",\"State 5\",\"State 6\",\"State 7\",\"State 8\",\"State 9\",\"State 10\",\"State 0\",\"State 1\",\"State 2\",\"State 3\",\"State 4\",\"State 5\",\"State 6\",\"State 7\",\"State 8\",\"State 9\",\"State 10\",\"State 0\",\"State 1\",\"State 2\",\"State 3\",\"State 4\",\"State 5\",\"State 6\",\"State 7\",\"State 8\",\"State 9\",\"State 10\",\"State 0\",\"State 1\",\"State 2\",\"State 3\",\"State 4\",\"State 5\",\"State 6\",\"State 7\",\"State 8\",\"State 9\",\"State 10\"],\"x\":[1.0,0.0,0.0,0.0,0.0,0.0,0.0,0.0,0.0,0.0,0.0,1.0,0.0,0.0,0.0,0.0,0.0,0.0,0.0,0.0,0.0,0.0,1.0,0.0,0.0,0.0,0.0,0.0,0.0,0.0,0.0,0.0,0.0,1.0,0.0,0.0,0.0,0.0,0.0,0.0,0.0,0.0,0.0,0.0,1.0,0.0,0.0,0.0,0.0,0.0,0.0,0.0,0.0,0.0,0.0,1.0,0.0,0.0,0.0,0.0,0.0,0.0,0.0,0.0,0.0,0.0,1.0,0.0,0.0,0.0,0.0,0.0,0.0,0.0,0.0,0.0,0.0,1.0,0.0,0.0,0.0,0.0,0.0,0.0,0.0,0.0,0.0,0.0,1.0,0.0,0.0,0.0,0.0,0.0,0.0,0.0,0.0,0.0,0.0,1.0,0.0,0.0,0.0,0.0,0.0,0.0,0.0,0.0,0.0,0.0,1.0,0.0,0.0,0.0,0.0,0.0,0.0,0.0,0.0,0.0,0.0],\"y\":[0,0,0,0,0,0,0,0,0,0,0,1,1,1,1,1,1,1,1,1,1,1,2,2,2,2,2,2,2,2,2,2,2,3,3,3,3,3,3,3,3,3,3,3,4,4,4,4,4,4,4,4,4,4,4,5,5,5,5,5,5,5,5,5,5,5,6,6,6,6,6,6,6,6,6,6,6,7,7,7,7,7,7,7,7,7,7,7,8,8,8,8,8,8,8,8,8,8,8,9,9,9,9,9,9,9,9,9,9,9,10,10,10,10,10,10,10,10,10,10,10],\"type\":\"bar\"},{\"marker\":{\"color\":[\"rgb(95, 70, 144)\",\"rgb(29, 105, 150)\",\"rgb(56, 166, 165)\",\"rgb(15, 133, 84)\",\"rgb(115, 175, 72)\",\"rgb(237, 173, 8)\",\"rgb(225, 124, 5)\",\"rgb(204, 80, 62)\",\"rgb(148, 52, 110)\",\"rgb(111, 64, 112)\",\"rgb(102, 102, 102)\",\"rgb(95, 70, 144)\",\"rgb(29, 105, 150)\",\"rgb(56, 166, 165)\",\"rgb(15, 133, 84)\",\"rgb(115, 175, 72)\",\"rgb(237, 173, 8)\",\"rgb(225, 124, 5)\",\"rgb(204, 80, 62)\",\"rgb(148, 52, 110)\",\"rgb(111, 64, 112)\",\"rgb(102, 102, 102)\",\"rgb(95, 70, 144)\",\"rgb(29, 105, 150)\",\"rgb(56, 166, 165)\",\"rgb(15, 133, 84)\",\"rgb(115, 175, 72)\",\"rgb(237, 173, 8)\",\"rgb(225, 124, 5)\",\"rgb(204, 80, 62)\",\"rgb(148, 52, 110)\",\"rgb(111, 64, 112)\",\"rgb(102, 102, 102)\",\"rgb(95, 70, 144)\",\"rgb(29, 105, 150)\",\"rgb(56, 166, 165)\",\"rgb(15, 133, 84)\",\"rgb(115, 175, 72)\",\"rgb(237, 173, 8)\",\"rgb(225, 124, 5)\",\"rgb(204, 80, 62)\",\"rgb(148, 52, 110)\",\"rgb(111, 64, 112)\",\"rgb(102, 102, 102)\",\"rgb(95, 70, 144)\",\"rgb(29, 105, 150)\",\"rgb(56, 166, 165)\",\"rgb(15, 133, 84)\",\"rgb(115, 175, 72)\",\"rgb(237, 173, 8)\",\"rgb(225, 124, 5)\",\"rgb(204, 80, 62)\",\"rgb(148, 52, 110)\",\"rgb(111, 64, 112)\",\"rgb(102, 102, 102)\",\"rgb(95, 70, 144)\",\"rgb(29, 105, 150)\",\"rgb(56, 166, 165)\",\"rgb(15, 133, 84)\",\"rgb(115, 175, 72)\",\"rgb(237, 173, 8)\",\"rgb(225, 124, 5)\",\"rgb(204, 80, 62)\",\"rgb(148, 52, 110)\",\"rgb(111, 64, 112)\",\"rgb(102, 102, 102)\",\"rgb(95, 70, 144)\",\"rgb(29, 105, 150)\",\"rgb(56, 166, 165)\",\"rgb(15, 133, 84)\",\"rgb(115, 175, 72)\",\"rgb(237, 173, 8)\",\"rgb(225, 124, 5)\",\"rgb(204, 80, 62)\",\"rgb(148, 52, 110)\",\"rgb(111, 64, 112)\",\"rgb(102, 102, 102)\",\"rgb(95, 70, 144)\",\"rgb(29, 105, 150)\",\"rgb(56, 166, 165)\",\"rgb(15, 133, 84)\",\"rgb(115, 175, 72)\",\"rgb(237, 173, 8)\",\"rgb(225, 124, 5)\",\"rgb(204, 80, 62)\",\"rgb(148, 52, 110)\",\"rgb(111, 64, 112)\",\"rgb(102, 102, 102)\",\"rgb(95, 70, 144)\",\"rgb(29, 105, 150)\",\"rgb(56, 166, 165)\",\"rgb(15, 133, 84)\",\"rgb(115, 175, 72)\",\"rgb(237, 173, 8)\",\"rgb(225, 124, 5)\",\"rgb(204, 80, 62)\",\"rgb(148, 52, 110)\",\"rgb(111, 64, 112)\",\"rgb(102, 102, 102)\",\"rgb(95, 70, 144)\",\"rgb(29, 105, 150)\",\"rgb(56, 166, 165)\",\"rgb(15, 133, 84)\",\"rgb(115, 175, 72)\",\"rgb(237, 173, 8)\",\"rgb(225, 124, 5)\",\"rgb(204, 80, 62)\",\"rgb(148, 52, 110)\",\"rgb(111, 64, 112)\",\"rgb(102, 102, 102)\",\"rgb(95, 70, 144)\",\"rgb(29, 105, 150)\",\"rgb(56, 166, 165)\",\"rgb(15, 133, 84)\",\"rgb(115, 175, 72)\",\"rgb(237, 173, 8)\",\"rgb(225, 124, 5)\",\"rgb(204, 80, 62)\",\"rgb(148, 52, 110)\",\"rgb(111, 64, 112)\",\"rgb(102, 102, 102)\"]},\"orientation\":\"h\",\"showlegend\":false,\"text\":[\"State 0\",\"State 1\",\"State 2\",\"State 3\",\"State 4\",\"State 5\",\"State 6\",\"State 7\",\"State 8\",\"State 9\",\"State 10\",\"State 0\",\"State 1\",\"State 2\",\"State 3\",\"State 4\",\"State 5\",\"State 6\",\"State 7\",\"State 8\",\"State 9\",\"State 10\",\"State 0\",\"State 1\",\"State 2\",\"State 3\",\"State 4\",\"State 5\",\"State 6\",\"State 7\",\"State 8\",\"State 9\",\"State 10\",\"State 0\",\"State 1\",\"State 2\",\"State 3\",\"State 4\",\"State 5\",\"State 6\",\"State 7\",\"State 8\",\"State 9\",\"State 10\",\"State 0\",\"State 1\",\"State 2\",\"State 3\",\"State 4\",\"State 5\",\"State 6\",\"State 7\",\"State 8\",\"State 9\",\"State 10\",\"State 0\",\"State 1\",\"State 2\",\"State 3\",\"State 4\",\"State 5\",\"State 6\",\"State 7\",\"State 8\",\"State 9\",\"State 10\",\"State 0\",\"State 1\",\"State 2\",\"State 3\",\"State 4\",\"State 5\",\"State 6\",\"State 7\",\"State 8\",\"State 9\",\"State 10\",\"State 0\",\"State 1\",\"State 2\",\"State 3\",\"State 4\",\"State 5\",\"State 6\",\"State 7\",\"State 8\",\"State 9\",\"State 10\",\"State 0\",\"State 1\",\"State 2\",\"State 3\",\"State 4\",\"State 5\",\"State 6\",\"State 7\",\"State 8\",\"State 9\",\"State 10\",\"State 0\",\"State 1\",\"State 2\",\"State 3\",\"State 4\",\"State 5\",\"State 6\",\"State 7\",\"State 8\",\"State 9\",\"State 10\",\"State 0\",\"State 1\",\"State 2\",\"State 3\",\"State 4\",\"State 5\",\"State 6\",\"State 7\",\"State 8\",\"State 9\",\"State 10\"],\"x\":[1.0,0.0,0.0,0.0,0.0,0.0,0.0,0.0,0.0,0.0,0.0,1.0,0.0,0.0,0.0,0.0,0.0,0.0,0.0,0.0,0.0,0.0,1.0,0.0,0.0,0.0,0.0,0.0,0.0,0.0,0.0,0.0,0.0,1.0,0.0,0.0,0.0,0.0,0.0,0.0,0.0,0.0,0.0,0.0,1.0,0.0,0.0,0.0,0.0,0.0,0.0,0.0,0.0,0.0,0.0,1.0,0.0,0.0,0.0,0.0,0.0,0.0,0.0,0.0,0.0,0.0,1.0,0.0,0.0,0.0,0.0,0.0,0.0,0.0,0.0,0.0,0.0,1.0,0.0,0.0,0.0,0.0,0.0,0.0,0.0,0.0,0.0,0.0,1.0,0.0,0.0,0.0,0.0,0.0,0.0,0.0,0.0,0.0,0.0,1.0,0.0,0.0,0.0,0.0,0.0,0.0,0.0,0.0,0.0,0.0,0.0,0.0,0.0,0.0,0.0,0.0,0.0,0.0,0.0,0.0,0.0],\"y\":[0,0,0,0,0,0,0,0,0,0,0,1,1,1,1,1,1,1,1,1,1,1,2,2,2,2,2,2,2,2,2,2,2,3,3,3,3,3,3,3,3,3,3,3,4,4,4,4,4,4,4,4,4,4,4,5,5,5,5,5,5,5,5,5,5,5,6,6,6,6,6,6,6,6,6,6,6,7,7,7,7,7,7,7,7,7,7,7,8,8,8,8,8,8,8,8,8,8,8,9,9,9,9,9,9,9,9,9,9,9,10,10,10,10,10,10,10,10,10,10,10],\"type\":\"bar\"}],\"name\":\"Frame 9\"}]);\n",
              "                        }).then(function(){\n",
              "                            \n",
              "var gd = document.getElementById('d09f3280-385d-4285-bb28-b0147a1578fb');\n",
              "var x = new MutationObserver(function (mutations, observer) {{\n",
              "        var display = window.getComputedStyle(gd).display;\n",
              "        if (!display || display === 'none') {{\n",
              "            console.log([gd, 'removed!']);\n",
              "            Plotly.purge(gd);\n",
              "            observer.disconnect();\n",
              "        }}\n",
              "}});\n",
              "\n",
              "// Listen for the removal of the full notebook cells\n",
              "var notebookContainer = gd.closest('#notebook-container');\n",
              "if (notebookContainer) {{\n",
              "    x.observe(notebookContainer, {childList: true});\n",
              "}}\n",
              "\n",
              "// Listen for the clearing of the current output cell\n",
              "var outputEl = gd.closest('.output');\n",
              "if (outputEl) {{\n",
              "    x.observe(outputEl, {childList: true});\n",
              "}}\n",
              "\n",
              "                        })                };                            </script>        </div>\n",
              "</body>\n",
              "</html>"
            ]
          },
          "metadata": {},
          "output_type": "display_data"
        }
      ],
      "source": [
        "fig_map = barplot_animation(Ps, qs)\n",
        "fig_map.show()"
      ]
    },
    {
      "cell_type": "markdown",
      "metadata": {
        "id": "MDjgJL2rgRjx"
      },
      "source": [
        "### Policy trajectory\n",
        "\n",
        "The trajectory of the MDP for a given policy $\\pi$, for each time intant $t$ (assuming that $T$ is the length of the trajectory) is a function that outputs the trajectories of:\n",
        "\n",
        "- the **state** $S(t)$;\n",
        "- the **action** $A(t)$; and\n",
        "- the resulting cumulative **cost** $C(S(t),A(t))$.\n",
        "\n",
        "\n",
        "\n",
        "> Note: the policy for *finite* horizon MDP with two actions is a mapping from $S\\times T$ to $(0,1)$. Therefore, our policy depends on the state and the time as inputs."
      ]
    },
    {
      "cell_type": "markdown",
      "metadata": {
        "id": "mKKvUWYJgRjx"
      },
      "source": [
        "#### Function implementation"
      ]
    },
    {
      "cell_type": "code",
      "execution_count": null,
      "metadata": {
        "id": "xTosJNrfgRjx"
      },
      "outputs": [],
      "source": [
        "def trajectory(pi, q, gamma, K, T, seed=0):\n",
        "    np.random.seed(seed)\n",
        "    s = 0\n",
        "    state_traj = [s]\n",
        "    action_traj = []\n",
        "    cost_traj = []\n",
        "    for t in range(T):\n",
        "        a = pi[s,t]\n",
        "        c = cost(s,a,gamma)\n",
        "        s = simulate_next_state(s,a,q,K)\n",
        "        state_traj.append(s)\n",
        "        action_traj.append(a)\n",
        "        cost_traj.append(c)\n",
        "    return state_traj, action_traj, cost_traj"
      ]
    },
    {
      "cell_type": "markdown",
      "metadata": {
        "id": "ywQuUa4OgRjx"
      },
      "source": [
        "#### Visualizing the trajectory"
      ]
    },
    {
      "cell_type": "markdown",
      "metadata": {
        "id": "ouqy--EqgRjx"
      },
      "source": [
        "##### Plot function"
      ]
    },
    {
      "cell_type": "code",
      "execution_count": null,
      "metadata": {
        "id": "hKxLpW8jgRjx"
      },
      "outputs": [],
      "source": [
        "def plot_trajectory(states_list, actions_list, costs_list, policy='', color_palette='T10'):\n",
        "  color_palette = getattr(plotly.colors.qualitative, color_palette)\n",
        "  fig = make_subplots(rows=3, cols=1, subplot_titles=['Trajectory of States', 'Trajectory of Cumulative Cost', 'Trajectory of Actions'])\n",
        "  for i, states in enumerate(states_list):\n",
        "    fig.add_trace(go.Scatter(x=list(range(len(states))), y=states, mode='lines', marker=dict(color=color_palette[i]), name=f'Seed {i}', legendgroup=f'Seed {i}', showlegend=True), row=1, col=1)\n",
        "    fig.add_trace(go.Scatter(x=list(range(len(costs_list[i]))), y=costs_list[i], mode='lines', marker=dict(color=color_palette[i]), name=f'Seed {i}', legendgroup=f'Seed {i}', showlegend=False), row=2, col=1)\n",
        "  heatmap_xs, heatmap_ys, heatmap_zs = [], [], []\n",
        "  for seed in range(len(actions_list)):\n",
        "    for t in range(len(actions_list[i])):\n",
        "      heatmap_xs.append(t)\n",
        "      heatmap_ys.append(seed)\n",
        "      heatmap_zs.append(actions_list[seed][t])\n",
        "  fig.add_trace(go.Heatmap(z=heatmap_zs, x=heatmap_xs, y=heatmap_ys, name='Actions', showscale=False, colorscale='Greens', zmin=0, zmax=1, xgap=1, ygap=1), row=3, col=1)\n",
        "  fig.update_xaxes(title_text='Time instant t', row=3, col=1)\n",
        "  fig.update_yaxes(title_text='State', row=1, col=1)\n",
        "  fig.update_yaxes(title_text='Cost', row=2, col=1)\n",
        "  fig.update_yaxes(title_text='Seed', row=3, col=1)\n",
        "  avg_cumulative_cost = round(sum([costs[-1] for costs in costs_list]) / len(costs_list), 2)\n",
        "  fig.update_layout(title=f'Trajectory for Policy \"{policy}\" with an average cumulative cost of {avg_cumulative_cost}', height=700, showlegend=True)\n",
        "  return fig"
      ]
    },
    {
      "cell_type": "markdown",
      "metadata": {
        "id": "UufZjrzfgRjx"
      },
      "source": [
        "##### Test policy from different seeds"
      ]
    },
    {
      "cell_type": "code",
      "execution_count": null,
      "metadata": {
        "id": "f3_U02EQgRjx"
      },
      "outputs": [],
      "source": [
        "def test_policy_different_seeds(pi, q, gamma, K, T, n_seeds=10):\n",
        "  states_list, actions_list, costs_list = [], [], []\n",
        "  for seed in range(n_seeds):\n",
        "    states, actions, costs = trajectory(pi, q, gamma, K, T, seed)\n",
        "    cumulative_costs = [sum(costs[:t]) for t in range(1, len(costs)+1)]\n",
        "    states_list.append(states)\n",
        "    actions_list.append(actions)\n",
        "    costs_list.append(cumulative_costs)\n",
        "  return states_list, actions_list, costs_list"
      ]
    },
    {
      "cell_type": "markdown",
      "metadata": {
        "id": "_mV5ffXEgRjx"
      },
      "source": [
        "##### Run simulations for policy"
      ]
    },
    {
      "cell_type": "code",
      "execution_count": null,
      "metadata": {
        "id": "RtXnCWkngRjx"
      },
      "outputs": [],
      "source": [
        "pi = np.ones((K+1,T))\n",
        "states_list, actions_list, costs_list = test_policy_different_seeds(pi, q, gamma, K, T)"
      ]
    },
    {
      "cell_type": "markdown",
      "metadata": {
        "id": "_4puwq5bgRjx"
      },
      "source": [
        "##### Viewing the plot"
      ]
    },
    {
      "cell_type": "code",
      "execution_count": null,
      "metadata": {
        "colab": {
          "base_uri": "https://localhost:8080/",
          "height": 717
        },
        "id": "SGjk8v9KgRjy",
        "outputId": "a7f74374-23fc-4985-fc3b-68b1434b4b04"
      },
      "outputs": [
        {
          "data": {
            "text/html": [
              "<html>\n",
              "<head><meta charset=\"utf-8\" /></head>\n",
              "<body>\n",
              "    <div>            <script src=\"https://cdnjs.cloudflare.com/ajax/libs/mathjax/2.7.5/MathJax.js?config=TeX-AMS-MML_SVG\"></script><script type=\"text/javascript\">if (window.MathJax && window.MathJax.Hub && window.MathJax.Hub.Config) {window.MathJax.Hub.Config({SVG: {font: \"STIX-Web\"}});}</script>                <script type=\"text/javascript\">window.PlotlyConfig = {MathJaxConfig: 'local'};</script>\n",
              "        <script charset=\"utf-8\" src=\"https://cdn.plot.ly/plotly-2.24.1.min.js\"></script>                <div id=\"1d96f921-9880-4f55-a585-9ae9851c9d61\" class=\"plotly-graph-div\" style=\"height:700px; width:100%;\"></div>            <script type=\"text/javascript\">                                    window.PLOTLYENV=window.PLOTLYENV || {};                                    if (document.getElementById(\"1d96f921-9880-4f55-a585-9ae9851c9d61\")) {                    Plotly.newPlot(                        \"1d96f921-9880-4f55-a585-9ae9851c9d61\",                        [{\"legendgroup\":\"Seed 0\",\"marker\":{\"color\":\"#4C78A8\"},\"mode\":\"lines\",\"name\":\"Seed 0\",\"showlegend\":true,\"x\":[0,1,2,3,4,5,6,7,8,9,10,11,12,13,14,15,16,17,18,19,20,21,22,23,24,25,26,27,28,29,30,31,32,33,34,35,36,37,38,39,40,41,42,43,44,45,46,47,48,49,50],\"y\":[0,1,2,3,4,5,6,7,8,9,9,10,10,10,10,10,10,10,10,10,10,10,10,10,10,10,10,10,10,10,10,10,10,10,10,10,10,10,10,10,10,10,10,10,10,10,10,10,10,10,10],\"type\":\"scatter\",\"xaxis\":\"x\",\"yaxis\":\"y\"},{\"legendgroup\":\"Seed 0\",\"marker\":{\"color\":\"#4C78A8\"},\"mode\":\"lines\",\"name\":\"Seed 0\",\"showlegend\":false,\"x\":[0,1,2,3,4,5,6,7,8,9,10,11,12,13,14,15,16,17,18,19,20,21,22,23,24,25,26,27,28,29,30,31,32,33,34,35,36,37,38,39,40,41,42,43,44,45,46,47,48,49],\"y\":[-1.0,-1.0,2.0,10.0,25.0,49.0,84.0,132.0,195.0,275.0,355.0,454.0,553.0,652.0,751.0,850.0,949.0,1048.0,1147.0,1246.0,1345.0,1444.0,1543.0,1642.0,1741.0,1840.0,1939.0,2038.0,2137.0,2236.0,2335.0,2434.0,2533.0,2632.0,2731.0,2830.0,2929.0,3028.0,3127.0,3226.0,3325.0,3424.0,3523.0,3622.0,3721.0,3820.0,3919.0,4018.0,4117.0,4216.0],\"type\":\"scatter\",\"xaxis\":\"x2\",\"yaxis\":\"y2\"},{\"legendgroup\":\"Seed 1\",\"marker\":{\"color\":\"#F58518\"},\"mode\":\"lines\",\"name\":\"Seed 1\",\"showlegend\":true,\"x\":[0,1,2,3,4,5,6,7,8,9,10,11,12,13,14,15,16,17,18,19,20,21,22,23,24,25,26,27,28,29,30,31,32,33,34,35,36,37,38,39,40,41,42,43,44,45,46,47,48,49,50],\"y\":[0,1,2,0,1,2,2,3,4,5,6,7,8,8,9,8,9,10,10,10,10,10,10,10,10,10,10,10,10,10,10,10,10,10,10,10,10,10,10,10,10,10,10,10,10,10,10,10,10,10,10],\"type\":\"scatter\",\"xaxis\":\"x\",\"yaxis\":\"y\"},{\"legendgroup\":\"Seed 1\",\"marker\":{\"color\":\"#F58518\"},\"mode\":\"lines\",\"name\":\"Seed 1\",\"showlegend\":false,\"x\":[0,1,2,3,4,5,6,7,8,9,10,11,12,13,14,15,16,17,18,19,20,21,22,23,24,25,26,27,28,29,30,31,32,33,34,35,36,37,38,39,40,41,42,43,44,45,46,47,48,49],\"y\":[-1.0,-1.0,2.0,1.0,1.0,4.0,7.0,15.0,30.0,54.0,89.0,137.0,200.0,263.0,343.0,406.0,486.0,585.0,684.0,783.0,882.0,981.0,1080.0,1179.0,1278.0,1377.0,1476.0,1575.0,1674.0,1773.0,1872.0,1971.0,2070.0,2169.0,2268.0,2367.0,2466.0,2565.0,2664.0,2763.0,2862.0,2961.0,3060.0,3159.0,3258.0,3357.0,3456.0,3555.0,3654.0,3753.0],\"type\":\"scatter\",\"xaxis\":\"x2\",\"yaxis\":\"y2\"},{\"legendgroup\":\"Seed 2\",\"marker\":{\"color\":\"#E45756\"},\"mode\":\"lines\",\"name\":\"Seed 2\",\"showlegend\":true,\"x\":[0,1,2,3,4,5,6,7,8,9,10,11,12,13,14,15,16,17,18,19,20,21,22,23,24,25,26,27,28,29,30,31,32,33,34,35,36,37,38,39,40,41,42,43,44,45,46,47,48,49,50],\"y\":[0,1,1,2,3,4,5,5,6,6,6,7,8,8,9,9,10,10,10,10,10,10,10,10,10,10,10,10,10,10,10,10,10,10,10,10,10,10,10,10,10,10,10,10,10,10,10,10,10,10,10],\"type\":\"scatter\",\"xaxis\":\"x\",\"yaxis\":\"y\"},{\"legendgroup\":\"Seed 2\",\"marker\":{\"color\":\"#E45756\"},\"mode\":\"lines\",\"name\":\"Seed 2\",\"showlegend\":false,\"x\":[0,1,2,3,4,5,6,7,8,9,10,11,12,13,14,15,16,17,18,19,20,21,22,23,24,25,26,27,28,29,30,31,32,33,34,35,36,37,38,39,40,41,42,43,44,45,46,47,48,49],\"y\":[-1.0,-1.0,-1.0,2.0,10.0,25.0,49.0,73.0,108.0,143.0,178.0,226.0,289.0,352.0,432.0,512.0,611.0,710.0,809.0,908.0,1007.0,1106.0,1205.0,1304.0,1403.0,1502.0,1601.0,1700.0,1799.0,1898.0,1997.0,2096.0,2195.0,2294.0,2393.0,2492.0,2591.0,2690.0,2789.0,2888.0,2987.0,3086.0,3185.0,3284.0,3383.0,3482.0,3581.0,3680.0,3779.0,3878.0],\"type\":\"scatter\",\"xaxis\":\"x2\",\"yaxis\":\"y2\"},{\"legendgroup\":\"Seed 3\",\"marker\":{\"color\":\"#72B7B2\"},\"mode\":\"lines\",\"name\":\"Seed 3\",\"showlegend\":true,\"x\":[0,1,2,3,4,5,6,7,8,9,10,11,12,13,14,15,16,17,18,19,20,21,22,23,24,25,26,27,28,29,30,31,32,33,34,35,36,37,38,39,40,41,42,43,44,45,46,47,48,49,50],\"y\":[0,1,2,3,4,5,6,6,6,6,7,6,7,8,8,9,10,10,10,10,10,10,10,10,10,10,10,10,10,10,10,10,10,10,10,10,10,10,10,10,10,10,10,10,10,10,10,10,10,10,10],\"type\":\"scatter\",\"xaxis\":\"x\",\"yaxis\":\"y\"},{\"legendgroup\":\"Seed 3\",\"marker\":{\"color\":\"#72B7B2\"},\"mode\":\"lines\",\"name\":\"Seed 3\",\"showlegend\":false,\"x\":[0,1,2,3,4,5,6,7,8,9,10,11,12,13,14,15,16,17,18,19,20,21,22,23,24,25,26,27,28,29,30,31,32,33,34,35,36,37,38,39,40,41,42,43,44,45,46,47,48,49],\"y\":[-1.0,-1.0,2.0,10.0,25.0,49.0,84.0,119.0,154.0,189.0,237.0,272.0,320.0,383.0,446.0,526.0,625.0,724.0,823.0,922.0,1021.0,1120.0,1219.0,1318.0,1417.0,1516.0,1615.0,1714.0,1813.0,1912.0,2011.0,2110.0,2209.0,2308.0,2407.0,2506.0,2605.0,2704.0,2803.0,2902.0,3001.0,3100.0,3199.0,3298.0,3397.0,3496.0,3595.0,3694.0,3793.0,3892.0],\"type\":\"scatter\",\"xaxis\":\"x2\",\"yaxis\":\"y2\"},{\"legendgroup\":\"Seed 4\",\"marker\":{\"color\":\"#54A24B\"},\"mode\":\"lines\",\"name\":\"Seed 4\",\"showlegend\":true,\"x\":[0,1,2,3,4,5,6,7,8,9,10,11,12,13,14,15,16,17,18,19,20,21,22,23,24,25,26,27,28,29,30,31,32,33,34,35,36,37,38,39,40,41,42,43,44,45,46,47,48,49,50],\"y\":[0,1,2,3,4,5,5,6,5,5,6,7,7,8,9,9,10,10,10,10,10,10,10,10,10,10,10,10,10,10,10,10,10,10,10,10,10,10,10,10,10,10,10,10,10,10,10,10,10,10,10],\"type\":\"scatter\",\"xaxis\":\"x\",\"yaxis\":\"y\"},{\"legendgroup\":\"Seed 4\",\"marker\":{\"color\":\"#54A24B\"},\"mode\":\"lines\",\"name\":\"Seed 4\",\"showlegend\":false,\"x\":[0,1,2,3,4,5,6,7,8,9,10,11,12,13,14,15,16,17,18,19,20,21,22,23,24,25,26,27,28,29,30,31,32,33,34,35,36,37,38,39,40,41,42,43,44,45,46,47,48,49],\"y\":[-1.0,-1.0,2.0,10.0,25.0,49.0,73.0,108.0,132.0,156.0,191.0,239.0,287.0,350.0,430.0,510.0,609.0,708.0,807.0,906.0,1005.0,1104.0,1203.0,1302.0,1401.0,1500.0,1599.0,1698.0,1797.0,1896.0,1995.0,2094.0,2193.0,2292.0,2391.0,2490.0,2589.0,2688.0,2787.0,2886.0,2985.0,3084.0,3183.0,3282.0,3381.0,3480.0,3579.0,3678.0,3777.0,3876.0],\"type\":\"scatter\",\"xaxis\":\"x2\",\"yaxis\":\"y2\"},{\"legendgroup\":\"Seed 5\",\"marker\":{\"color\":\"#EECA3B\"},\"mode\":\"lines\",\"name\":\"Seed 5\",\"showlegend\":true,\"x\":[0,1,2,3,4,5,6,7,8,9,10,11,12,13,14,15,16,17,18,19,20,21,22,23,24,25,26,27,28,29,30,31,32,33,34,35,36,37,38,39,40,41,42,43,44,45,46,47,48,49,50],\"y\":[0,1,2,3,4,5,6,7,8,8,8,8,9,10,10,10,10,10,10,10,10,10,10,10,10,10,10,10,10,10,10,10,10,10,10,10,10,10,10,10,10,10,10,10,10,10,10,10,10,10,10],\"type\":\"scatter\",\"xaxis\":\"x\",\"yaxis\":\"y\"},{\"legendgroup\":\"Seed 5\",\"marker\":{\"color\":\"#EECA3B\"},\"mode\":\"lines\",\"name\":\"Seed 5\",\"showlegend\":false,\"x\":[0,1,2,3,4,5,6,7,8,9,10,11,12,13,14,15,16,17,18,19,20,21,22,23,24,25,26,27,28,29,30,31,32,33,34,35,36,37,38,39,40,41,42,43,44,45,46,47,48,49],\"y\":[-1.0,-1.0,2.0,10.0,25.0,49.0,84.0,132.0,195.0,258.0,321.0,384.0,464.0,563.0,662.0,761.0,860.0,959.0,1058.0,1157.0,1256.0,1355.0,1454.0,1553.0,1652.0,1751.0,1850.0,1949.0,2048.0,2147.0,2246.0,2345.0,2444.0,2543.0,2642.0,2741.0,2840.0,2939.0,3038.0,3137.0,3236.0,3335.0,3434.0,3533.0,3632.0,3731.0,3830.0,3929.0,4028.0,4127.0],\"type\":\"scatter\",\"xaxis\":\"x2\",\"yaxis\":\"y2\"},{\"legendgroup\":\"Seed 6\",\"marker\":{\"color\":\"#B279A2\"},\"mode\":\"lines\",\"name\":\"Seed 6\",\"showlegend\":true,\"x\":[0,1,2,3,4,5,6,7,8,9,10,11,12,13,14,15,16,17,18,19,20,21,22,23,24,25,26,27,28,29,30,31,32,33,34,35,36,37,38,39,40,41,42,43,44,45,46,47,48,49,50],\"y\":[0,1,2,3,3,3,4,5,6,7,8,9,10,10,10,10,10,10,10,10,10,10,10,10,10,10,10,10,10,10,10,10,10,10,10,10,10,10,10,10,10,10,10,10,10,10,10,10,10,10,10],\"type\":\"scatter\",\"xaxis\":\"x\",\"yaxis\":\"y\"},{\"legendgroup\":\"Seed 6\",\"marker\":{\"color\":\"#B279A2\"},\"mode\":\"lines\",\"name\":\"Seed 6\",\"showlegend\":false,\"x\":[0,1,2,3,4,5,6,7,8,9,10,11,12,13,14,15,16,17,18,19,20,21,22,23,24,25,26,27,28,29,30,31,32,33,34,35,36,37,38,39,40,41,42,43,44,45,46,47,48,49],\"y\":[-1.0,-1.0,2.0,10.0,18.0,26.0,41.0,65.0,100.0,148.0,211.0,291.0,390.0,489.0,588.0,687.0,786.0,885.0,984.0,1083.0,1182.0,1281.0,1380.0,1479.0,1578.0,1677.0,1776.0,1875.0,1974.0,2073.0,2172.0,2271.0,2370.0,2469.0,2568.0,2667.0,2766.0,2865.0,2964.0,3063.0,3162.0,3261.0,3360.0,3459.0,3558.0,3657.0,3756.0,3855.0,3954.0,4053.0],\"type\":\"scatter\",\"xaxis\":\"x2\",\"yaxis\":\"y2\"},{\"legendgroup\":\"Seed 7\",\"marker\":{\"color\":\"#FF9DA6\"},\"mode\":\"lines\",\"name\":\"Seed 7\",\"showlegend\":true,\"x\":[0,1,2,3,4,5,6,7,8,9,10,11,12,13,14,15,16,17,18,19,20,21,22,23,24,25,26,27,28,29,30,31,32,33,34,35,36,37,38,39,40,41,42,43,44,45,46,47,48,49,50],\"y\":[0,1,2,3,4,5,6,7,7,7,8,9,10,10,10,10,10,10,10,10,10,10,10,10,10,10,10,10,10,10,10,10,10,10,10,10,10,10,10,10,10,10,10,10,10,10,10,10,10,10,10],\"type\":\"scatter\",\"xaxis\":\"x\",\"yaxis\":\"y\"},{\"legendgroup\":\"Seed 7\",\"marker\":{\"color\":\"#FF9DA6\"},\"mode\":\"lines\",\"name\":\"Seed 7\",\"showlegend\":false,\"x\":[0,1,2,3,4,5,6,7,8,9,10,11,12,13,14,15,16,17,18,19,20,21,22,23,24,25,26,27,28,29,30,31,32,33,34,35,36,37,38,39,40,41,42,43,44,45,46,47,48,49],\"y\":[-1.0,-1.0,2.0,10.0,25.0,49.0,84.0,132.0,180.0,228.0,291.0,371.0,470.0,569.0,668.0,767.0,866.0,965.0,1064.0,1163.0,1262.0,1361.0,1460.0,1559.0,1658.0,1757.0,1856.0,1955.0,2054.0,2153.0,2252.0,2351.0,2450.0,2549.0,2648.0,2747.0,2846.0,2945.0,3044.0,3143.0,3242.0,3341.0,3440.0,3539.0,3638.0,3737.0,3836.0,3935.0,4034.0,4133.0],\"type\":\"scatter\",\"xaxis\":\"x2\",\"yaxis\":\"y2\"},{\"legendgroup\":\"Seed 8\",\"marker\":{\"color\":\"#9D755D\"},\"mode\":\"lines\",\"name\":\"Seed 8\",\"showlegend\":true,\"x\":[0,1,2,3,4,5,6,7,8,9,10,11,12,13,14,15,16,17,18,19,20,21,22,23,24,25,26,27,28,29,30,31,32,33,34,35,36,37,38,39,40,41,42,43,44,45,46,47,48,49,50],\"y\":[0,1,2,3,4,5,4,5,6,7,8,9,10,10,10,10,10,10,10,10,10,10,10,10,10,10,10,10,10,10,10,10,10,10,10,10,10,10,10,10,10,10,10,10,10,10,10,10,10,10,10],\"type\":\"scatter\",\"xaxis\":\"x\",\"yaxis\":\"y\"},{\"legendgroup\":\"Seed 8\",\"marker\":{\"color\":\"#9D755D\"},\"mode\":\"lines\",\"name\":\"Seed 8\",\"showlegend\":false,\"x\":[0,1,2,3,4,5,6,7,8,9,10,11,12,13,14,15,16,17,18,19,20,21,22,23,24,25,26,27,28,29,30,31,32,33,34,35,36,37,38,39,40,41,42,43,44,45,46,47,48,49],\"y\":[-1.0,-1.0,2.0,10.0,25.0,49.0,64.0,88.0,123.0,171.0,234.0,314.0,413.0,512.0,611.0,710.0,809.0,908.0,1007.0,1106.0,1205.0,1304.0,1403.0,1502.0,1601.0,1700.0,1799.0,1898.0,1997.0,2096.0,2195.0,2294.0,2393.0,2492.0,2591.0,2690.0,2789.0,2888.0,2987.0,3086.0,3185.0,3284.0,3383.0,3482.0,3581.0,3680.0,3779.0,3878.0,3977.0,4076.0],\"type\":\"scatter\",\"xaxis\":\"x2\",\"yaxis\":\"y2\"},{\"legendgroup\":\"Seed 9\",\"marker\":{\"color\":\"#BAB0AC\"},\"mode\":\"lines\",\"name\":\"Seed 9\",\"showlegend\":true,\"x\":[0,1,2,3,4,5,6,7,8,9,10,11,12,13,14,15,16,17,18,19,20,21,22,23,24,25,26,27,28,29,30,31,32,33,34,35,36,37,38,39,40,41,42,43,44,45,46,47,48,49,50],\"y\":[0,0,1,2,2,2,3,4,5,5,6,6,7,8,7,8,9,10,10,10,10,10,10,10,10,10,10,10,10,10,10,10,10,10,10,10,10,10,10,10,10,10,10,10,10,10,10,10,10,10,10],\"type\":\"scatter\",\"xaxis\":\"x\",\"yaxis\":\"y\"},{\"legendgroup\":\"Seed 9\",\"marker\":{\"color\":\"#BAB0AC\"},\"mode\":\"lines\",\"name\":\"Seed 9\",\"showlegend\":false,\"x\":[0,1,2,3,4,5,6,7,8,9,10,11,12,13,14,15,16,17,18,19,20,21,22,23,24,25,26,27,28,29,30,31,32,33,34,35,36,37,38,39,40,41,42,43,44,45,46,47,48,49],\"y\":[-1.0,-2.0,-2.0,1.0,4.0,7.0,15.0,30.0,54.0,78.0,113.0,148.0,196.0,259.0,307.0,370.0,450.0,549.0,648.0,747.0,846.0,945.0,1044.0,1143.0,1242.0,1341.0,1440.0,1539.0,1638.0,1737.0,1836.0,1935.0,2034.0,2133.0,2232.0,2331.0,2430.0,2529.0,2628.0,2727.0,2826.0,2925.0,3024.0,3123.0,3222.0,3321.0,3420.0,3519.0,3618.0,3717.0],\"type\":\"scatter\",\"xaxis\":\"x2\",\"yaxis\":\"y2\"},{\"colorscale\":[[0.0,\"rgb(247,252,245)\"],[0.125,\"rgb(229,245,224)\"],[0.25,\"rgb(199,233,192)\"],[0.375,\"rgb(161,217,155)\"],[0.5,\"rgb(116,196,118)\"],[0.625,\"rgb(65,171,93)\"],[0.75,\"rgb(35,139,69)\"],[0.875,\"rgb(0,109,44)\"],[1.0,\"rgb(0,68,27)\"]],\"name\":\"Actions\",\"showscale\":false,\"x\":[0,1,2,3,4,5,6,7,8,9,10,11,12,13,14,15,16,17,18,19,20,21,22,23,24,25,26,27,28,29,30,31,32,33,34,35,36,37,38,39,40,41,42,43,44,45,46,47,48,49,0,1,2,3,4,5,6,7,8,9,10,11,12,13,14,15,16,17,18,19,20,21,22,23,24,25,26,27,28,29,30,31,32,33,34,35,36,37,38,39,40,41,42,43,44,45,46,47,48,49,0,1,2,3,4,5,6,7,8,9,10,11,12,13,14,15,16,17,18,19,20,21,22,23,24,25,26,27,28,29,30,31,32,33,34,35,36,37,38,39,40,41,42,43,44,45,46,47,48,49,0,1,2,3,4,5,6,7,8,9,10,11,12,13,14,15,16,17,18,19,20,21,22,23,24,25,26,27,28,29,30,31,32,33,34,35,36,37,38,39,40,41,42,43,44,45,46,47,48,49,0,1,2,3,4,5,6,7,8,9,10,11,12,13,14,15,16,17,18,19,20,21,22,23,24,25,26,27,28,29,30,31,32,33,34,35,36,37,38,39,40,41,42,43,44,45,46,47,48,49,0,1,2,3,4,5,6,7,8,9,10,11,12,13,14,15,16,17,18,19,20,21,22,23,24,25,26,27,28,29,30,31,32,33,34,35,36,37,38,39,40,41,42,43,44,45,46,47,48,49,0,1,2,3,4,5,6,7,8,9,10,11,12,13,14,15,16,17,18,19,20,21,22,23,24,25,26,27,28,29,30,31,32,33,34,35,36,37,38,39,40,41,42,43,44,45,46,47,48,49,0,1,2,3,4,5,6,7,8,9,10,11,12,13,14,15,16,17,18,19,20,21,22,23,24,25,26,27,28,29,30,31,32,33,34,35,36,37,38,39,40,41,42,43,44,45,46,47,48,49,0,1,2,3,4,5,6,7,8,9,10,11,12,13,14,15,16,17,18,19,20,21,22,23,24,25,26,27,28,29,30,31,32,33,34,35,36,37,38,39,40,41,42,43,44,45,46,47,48,49,0,1,2,3,4,5,6,7,8,9,10,11,12,13,14,15,16,17,18,19,20,21,22,23,24,25,26,27,28,29,30,31,32,33,34,35,36,37,38,39,40,41,42,43,44,45,46,47,48,49],\"xgap\":1,\"y\":[0,0,0,0,0,0,0,0,0,0,0,0,0,0,0,0,0,0,0,0,0,0,0,0,0,0,0,0,0,0,0,0,0,0,0,0,0,0,0,0,0,0,0,0,0,0,0,0,0,0,1,1,1,1,1,1,1,1,1,1,1,1,1,1,1,1,1,1,1,1,1,1,1,1,1,1,1,1,1,1,1,1,1,1,1,1,1,1,1,1,1,1,1,1,1,1,1,1,1,1,2,2,2,2,2,2,2,2,2,2,2,2,2,2,2,2,2,2,2,2,2,2,2,2,2,2,2,2,2,2,2,2,2,2,2,2,2,2,2,2,2,2,2,2,2,2,2,2,2,2,3,3,3,3,3,3,3,3,3,3,3,3,3,3,3,3,3,3,3,3,3,3,3,3,3,3,3,3,3,3,3,3,3,3,3,3,3,3,3,3,3,3,3,3,3,3,3,3,3,3,4,4,4,4,4,4,4,4,4,4,4,4,4,4,4,4,4,4,4,4,4,4,4,4,4,4,4,4,4,4,4,4,4,4,4,4,4,4,4,4,4,4,4,4,4,4,4,4,4,4,5,5,5,5,5,5,5,5,5,5,5,5,5,5,5,5,5,5,5,5,5,5,5,5,5,5,5,5,5,5,5,5,5,5,5,5,5,5,5,5,5,5,5,5,5,5,5,5,5,5,6,6,6,6,6,6,6,6,6,6,6,6,6,6,6,6,6,6,6,6,6,6,6,6,6,6,6,6,6,6,6,6,6,6,6,6,6,6,6,6,6,6,6,6,6,6,6,6,6,6,7,7,7,7,7,7,7,7,7,7,7,7,7,7,7,7,7,7,7,7,7,7,7,7,7,7,7,7,7,7,7,7,7,7,7,7,7,7,7,7,7,7,7,7,7,7,7,7,7,7,8,8,8,8,8,8,8,8,8,8,8,8,8,8,8,8,8,8,8,8,8,8,8,8,8,8,8,8,8,8,8,8,8,8,8,8,8,8,8,8,8,8,8,8,8,8,8,8,8,8,9,9,9,9,9,9,9,9,9,9,9,9,9,9,9,9,9,9,9,9,9,9,9,9,9,9,9,9,9,9,9,9,9,9,9,9,9,9,9,9,9,9,9,9,9,9,9,9,9,9],\"ygap\":1,\"z\":[1.0,1.0,1.0,1.0,1.0,1.0,1.0,1.0,1.0,1.0,1.0,1.0,1.0,1.0,1.0,1.0,1.0,1.0,1.0,1.0,1.0,1.0,1.0,1.0,1.0,1.0,1.0,1.0,1.0,1.0,1.0,1.0,1.0,1.0,1.0,1.0,1.0,1.0,1.0,1.0,1.0,1.0,1.0,1.0,1.0,1.0,1.0,1.0,1.0,1.0,1.0,1.0,1.0,1.0,1.0,1.0,1.0,1.0,1.0,1.0,1.0,1.0,1.0,1.0,1.0,1.0,1.0,1.0,1.0,1.0,1.0,1.0,1.0,1.0,1.0,1.0,1.0,1.0,1.0,1.0,1.0,1.0,1.0,1.0,1.0,1.0,1.0,1.0,1.0,1.0,1.0,1.0,1.0,1.0,1.0,1.0,1.0,1.0,1.0,1.0,1.0,1.0,1.0,1.0,1.0,1.0,1.0,1.0,1.0,1.0,1.0,1.0,1.0,1.0,1.0,1.0,1.0,1.0,1.0,1.0,1.0,1.0,1.0,1.0,1.0,1.0,1.0,1.0,1.0,1.0,1.0,1.0,1.0,1.0,1.0,1.0,1.0,1.0,1.0,1.0,1.0,1.0,1.0,1.0,1.0,1.0,1.0,1.0,1.0,1.0,1.0,1.0,1.0,1.0,1.0,1.0,1.0,1.0,1.0,1.0,1.0,1.0,1.0,1.0,1.0,1.0,1.0,1.0,1.0,1.0,1.0,1.0,1.0,1.0,1.0,1.0,1.0,1.0,1.0,1.0,1.0,1.0,1.0,1.0,1.0,1.0,1.0,1.0,1.0,1.0,1.0,1.0,1.0,1.0,1.0,1.0,1.0,1.0,1.0,1.0,1.0,1.0,1.0,1.0,1.0,1.0,1.0,1.0,1.0,1.0,1.0,1.0,1.0,1.0,1.0,1.0,1.0,1.0,1.0,1.0,1.0,1.0,1.0,1.0,1.0,1.0,1.0,1.0,1.0,1.0,1.0,1.0,1.0,1.0,1.0,1.0,1.0,1.0,1.0,1.0,1.0,1.0,1.0,1.0,1.0,1.0,1.0,1.0,1.0,1.0,1.0,1.0,1.0,1.0,1.0,1.0,1.0,1.0,1.0,1.0,1.0,1.0,1.0,1.0,1.0,1.0,1.0,1.0,1.0,1.0,1.0,1.0,1.0,1.0,1.0,1.0,1.0,1.0,1.0,1.0,1.0,1.0,1.0,1.0,1.0,1.0,1.0,1.0,1.0,1.0,1.0,1.0,1.0,1.0,1.0,1.0,1.0,1.0,1.0,1.0,1.0,1.0,1.0,1.0,1.0,1.0,1.0,1.0,1.0,1.0,1.0,1.0,1.0,1.0,1.0,1.0,1.0,1.0,1.0,1.0,1.0,1.0,1.0,1.0,1.0,1.0,1.0,1.0,1.0,1.0,1.0,1.0,1.0,1.0,1.0,1.0,1.0,1.0,1.0,1.0,1.0,1.0,1.0,1.0,1.0,1.0,1.0,1.0,1.0,1.0,1.0,1.0,1.0,1.0,1.0,1.0,1.0,1.0,1.0,1.0,1.0,1.0,1.0,1.0,1.0,1.0,1.0,1.0,1.0,1.0,1.0,1.0,1.0,1.0,1.0,1.0,1.0,1.0,1.0,1.0,1.0,1.0,1.0,1.0,1.0,1.0,1.0,1.0,1.0,1.0,1.0,1.0,1.0,1.0,1.0,1.0,1.0,1.0,1.0,1.0,1.0,1.0,1.0,1.0,1.0,1.0,1.0,1.0,1.0,1.0,1.0,1.0,1.0,1.0,1.0,1.0,1.0,1.0,1.0,1.0,1.0,1.0,1.0,1.0,1.0,1.0,1.0,1.0,1.0,1.0,1.0,1.0,1.0,1.0,1.0,1.0,1.0,1.0,1.0,1.0,1.0,1.0,1.0,1.0,1.0,1.0,1.0,1.0,1.0,1.0,1.0,1.0,1.0,1.0,1.0,1.0,1.0,1.0,1.0,1.0,1.0,1.0,1.0,1.0,1.0,1.0,1.0,1.0,1.0,1.0,1.0,1.0,1.0,1.0,1.0,1.0,1.0,1.0,1.0,1.0,1.0,1.0,1.0,1.0,1.0,1.0,1.0,1.0,1.0,1.0,1.0,1.0,1.0,1.0,1.0,1.0,1.0,1.0,1.0,1.0],\"zmax\":1,\"zmin\":0,\"type\":\"heatmap\",\"xaxis\":\"x3\",\"yaxis\":\"y3\"}],                        {\"template\":{\"data\":{\"histogram2dcontour\":[{\"type\":\"histogram2dcontour\",\"colorbar\":{\"outlinewidth\":0,\"ticks\":\"\"},\"colorscale\":[[0.0,\"#0d0887\"],[0.1111111111111111,\"#46039f\"],[0.2222222222222222,\"#7201a8\"],[0.3333333333333333,\"#9c179e\"],[0.4444444444444444,\"#bd3786\"],[0.5555555555555556,\"#d8576b\"],[0.6666666666666666,\"#ed7953\"],[0.7777777777777778,\"#fb9f3a\"],[0.8888888888888888,\"#fdca26\"],[1.0,\"#f0f921\"]]}],\"choropleth\":[{\"type\":\"choropleth\",\"colorbar\":{\"outlinewidth\":0,\"ticks\":\"\"}}],\"histogram2d\":[{\"type\":\"histogram2d\",\"colorbar\":{\"outlinewidth\":0,\"ticks\":\"\"},\"colorscale\":[[0.0,\"#0d0887\"],[0.1111111111111111,\"#46039f\"],[0.2222222222222222,\"#7201a8\"],[0.3333333333333333,\"#9c179e\"],[0.4444444444444444,\"#bd3786\"],[0.5555555555555556,\"#d8576b\"],[0.6666666666666666,\"#ed7953\"],[0.7777777777777778,\"#fb9f3a\"],[0.8888888888888888,\"#fdca26\"],[1.0,\"#f0f921\"]]}],\"heatmap\":[{\"type\":\"heatmap\",\"colorbar\":{\"outlinewidth\":0,\"ticks\":\"\"},\"colorscale\":[[0.0,\"#0d0887\"],[0.1111111111111111,\"#46039f\"],[0.2222222222222222,\"#7201a8\"],[0.3333333333333333,\"#9c179e\"],[0.4444444444444444,\"#bd3786\"],[0.5555555555555556,\"#d8576b\"],[0.6666666666666666,\"#ed7953\"],[0.7777777777777778,\"#fb9f3a\"],[0.8888888888888888,\"#fdca26\"],[1.0,\"#f0f921\"]]}],\"heatmapgl\":[{\"type\":\"heatmapgl\",\"colorbar\":{\"outlinewidth\":0,\"ticks\":\"\"},\"colorscale\":[[0.0,\"#0d0887\"],[0.1111111111111111,\"#46039f\"],[0.2222222222222222,\"#7201a8\"],[0.3333333333333333,\"#9c179e\"],[0.4444444444444444,\"#bd3786\"],[0.5555555555555556,\"#d8576b\"],[0.6666666666666666,\"#ed7953\"],[0.7777777777777778,\"#fb9f3a\"],[0.8888888888888888,\"#fdca26\"],[1.0,\"#f0f921\"]]}],\"contourcarpet\":[{\"type\":\"contourcarpet\",\"colorbar\":{\"outlinewidth\":0,\"ticks\":\"\"}}],\"contour\":[{\"type\":\"contour\",\"colorbar\":{\"outlinewidth\":0,\"ticks\":\"\"},\"colorscale\":[[0.0,\"#0d0887\"],[0.1111111111111111,\"#46039f\"],[0.2222222222222222,\"#7201a8\"],[0.3333333333333333,\"#9c179e\"],[0.4444444444444444,\"#bd3786\"],[0.5555555555555556,\"#d8576b\"],[0.6666666666666666,\"#ed7953\"],[0.7777777777777778,\"#fb9f3a\"],[0.8888888888888888,\"#fdca26\"],[1.0,\"#f0f921\"]]}],\"surface\":[{\"type\":\"surface\",\"colorbar\":{\"outlinewidth\":0,\"ticks\":\"\"},\"colorscale\":[[0.0,\"#0d0887\"],[0.1111111111111111,\"#46039f\"],[0.2222222222222222,\"#7201a8\"],[0.3333333333333333,\"#9c179e\"],[0.4444444444444444,\"#bd3786\"],[0.5555555555555556,\"#d8576b\"],[0.6666666666666666,\"#ed7953\"],[0.7777777777777778,\"#fb9f3a\"],[0.8888888888888888,\"#fdca26\"],[1.0,\"#f0f921\"]]}],\"mesh3d\":[{\"type\":\"mesh3d\",\"colorbar\":{\"outlinewidth\":0,\"ticks\":\"\"}}],\"scatter\":[{\"fillpattern\":{\"fillmode\":\"overlay\",\"size\":10,\"solidity\":0.2},\"type\":\"scatter\"}],\"parcoords\":[{\"type\":\"parcoords\",\"line\":{\"colorbar\":{\"outlinewidth\":0,\"ticks\":\"\"}}}],\"scatterpolargl\":[{\"type\":\"scatterpolargl\",\"marker\":{\"colorbar\":{\"outlinewidth\":0,\"ticks\":\"\"}}}],\"bar\":[{\"error_x\":{\"color\":\"#2a3f5f\"},\"error_y\":{\"color\":\"#2a3f5f\"},\"marker\":{\"line\":{\"color\":\"#E5ECF6\",\"width\":0.5},\"pattern\":{\"fillmode\":\"overlay\",\"size\":10,\"solidity\":0.2}},\"type\":\"bar\"}],\"scattergeo\":[{\"type\":\"scattergeo\",\"marker\":{\"colorbar\":{\"outlinewidth\":0,\"ticks\":\"\"}}}],\"scatterpolar\":[{\"type\":\"scatterpolar\",\"marker\":{\"colorbar\":{\"outlinewidth\":0,\"ticks\":\"\"}}}],\"histogram\":[{\"marker\":{\"pattern\":{\"fillmode\":\"overlay\",\"size\":10,\"solidity\":0.2}},\"type\":\"histogram\"}],\"scattergl\":[{\"type\":\"scattergl\",\"marker\":{\"colorbar\":{\"outlinewidth\":0,\"ticks\":\"\"}}}],\"scatter3d\":[{\"type\":\"scatter3d\",\"line\":{\"colorbar\":{\"outlinewidth\":0,\"ticks\":\"\"}},\"marker\":{\"colorbar\":{\"outlinewidth\":0,\"ticks\":\"\"}}}],\"scattermapbox\":[{\"type\":\"scattermapbox\",\"marker\":{\"colorbar\":{\"outlinewidth\":0,\"ticks\":\"\"}}}],\"scatterternary\":[{\"type\":\"scatterternary\",\"marker\":{\"colorbar\":{\"outlinewidth\":0,\"ticks\":\"\"}}}],\"scattercarpet\":[{\"type\":\"scattercarpet\",\"marker\":{\"colorbar\":{\"outlinewidth\":0,\"ticks\":\"\"}}}],\"carpet\":[{\"aaxis\":{\"endlinecolor\":\"#2a3f5f\",\"gridcolor\":\"white\",\"linecolor\":\"white\",\"minorgridcolor\":\"white\",\"startlinecolor\":\"#2a3f5f\"},\"baxis\":{\"endlinecolor\":\"#2a3f5f\",\"gridcolor\":\"white\",\"linecolor\":\"white\",\"minorgridcolor\":\"white\",\"startlinecolor\":\"#2a3f5f\"},\"type\":\"carpet\"}],\"table\":[{\"cells\":{\"fill\":{\"color\":\"#EBF0F8\"},\"line\":{\"color\":\"white\"}},\"header\":{\"fill\":{\"color\":\"#C8D4E3\"},\"line\":{\"color\":\"white\"}},\"type\":\"table\"}],\"barpolar\":[{\"marker\":{\"line\":{\"color\":\"#E5ECF6\",\"width\":0.5},\"pattern\":{\"fillmode\":\"overlay\",\"size\":10,\"solidity\":0.2}},\"type\":\"barpolar\"}],\"pie\":[{\"automargin\":true,\"type\":\"pie\"}]},\"layout\":{\"autotypenumbers\":\"strict\",\"colorway\":[\"#636efa\",\"#EF553B\",\"#00cc96\",\"#ab63fa\",\"#FFA15A\",\"#19d3f3\",\"#FF6692\",\"#B6E880\",\"#FF97FF\",\"#FECB52\"],\"font\":{\"color\":\"#2a3f5f\"},\"hovermode\":\"closest\",\"hoverlabel\":{\"align\":\"left\"},\"paper_bgcolor\":\"white\",\"plot_bgcolor\":\"#E5ECF6\",\"polar\":{\"bgcolor\":\"#E5ECF6\",\"angularaxis\":{\"gridcolor\":\"white\",\"linecolor\":\"white\",\"ticks\":\"\"},\"radialaxis\":{\"gridcolor\":\"white\",\"linecolor\":\"white\",\"ticks\":\"\"}},\"ternary\":{\"bgcolor\":\"#E5ECF6\",\"aaxis\":{\"gridcolor\":\"white\",\"linecolor\":\"white\",\"ticks\":\"\"},\"baxis\":{\"gridcolor\":\"white\",\"linecolor\":\"white\",\"ticks\":\"\"},\"caxis\":{\"gridcolor\":\"white\",\"linecolor\":\"white\",\"ticks\":\"\"}},\"coloraxis\":{\"colorbar\":{\"outlinewidth\":0,\"ticks\":\"\"}},\"colorscale\":{\"sequential\":[[0.0,\"#0d0887\"],[0.1111111111111111,\"#46039f\"],[0.2222222222222222,\"#7201a8\"],[0.3333333333333333,\"#9c179e\"],[0.4444444444444444,\"#bd3786\"],[0.5555555555555556,\"#d8576b\"],[0.6666666666666666,\"#ed7953\"],[0.7777777777777778,\"#fb9f3a\"],[0.8888888888888888,\"#fdca26\"],[1.0,\"#f0f921\"]],\"sequentialminus\":[[0.0,\"#0d0887\"],[0.1111111111111111,\"#46039f\"],[0.2222222222222222,\"#7201a8\"],[0.3333333333333333,\"#9c179e\"],[0.4444444444444444,\"#bd3786\"],[0.5555555555555556,\"#d8576b\"],[0.6666666666666666,\"#ed7953\"],[0.7777777777777778,\"#fb9f3a\"],[0.8888888888888888,\"#fdca26\"],[1.0,\"#f0f921\"]],\"diverging\":[[0,\"#8e0152\"],[0.1,\"#c51b7d\"],[0.2,\"#de77ae\"],[0.3,\"#f1b6da\"],[0.4,\"#fde0ef\"],[0.5,\"#f7f7f7\"],[0.6,\"#e6f5d0\"],[0.7,\"#b8e186\"],[0.8,\"#7fbc41\"],[0.9,\"#4d9221\"],[1,\"#276419\"]]},\"xaxis\":{\"gridcolor\":\"white\",\"linecolor\":\"white\",\"ticks\":\"\",\"title\":{\"standoff\":15},\"zerolinecolor\":\"white\",\"automargin\":true,\"zerolinewidth\":2},\"yaxis\":{\"gridcolor\":\"white\",\"linecolor\":\"white\",\"ticks\":\"\",\"title\":{\"standoff\":15},\"zerolinecolor\":\"white\",\"automargin\":true,\"zerolinewidth\":2},\"scene\":{\"xaxis\":{\"backgroundcolor\":\"#E5ECF6\",\"gridcolor\":\"white\",\"linecolor\":\"white\",\"showbackground\":true,\"ticks\":\"\",\"zerolinecolor\":\"white\",\"gridwidth\":2},\"yaxis\":{\"backgroundcolor\":\"#E5ECF6\",\"gridcolor\":\"white\",\"linecolor\":\"white\",\"showbackground\":true,\"ticks\":\"\",\"zerolinecolor\":\"white\",\"gridwidth\":2},\"zaxis\":{\"backgroundcolor\":\"#E5ECF6\",\"gridcolor\":\"white\",\"linecolor\":\"white\",\"showbackground\":true,\"ticks\":\"\",\"zerolinecolor\":\"white\",\"gridwidth\":2}},\"shapedefaults\":{\"line\":{\"color\":\"#2a3f5f\"}},\"annotationdefaults\":{\"arrowcolor\":\"#2a3f5f\",\"arrowhead\":0,\"arrowwidth\":1},\"geo\":{\"bgcolor\":\"white\",\"landcolor\":\"#E5ECF6\",\"subunitcolor\":\"white\",\"showland\":true,\"showlakes\":true,\"lakecolor\":\"white\"},\"title\":{\"x\":0.05},\"mapbox\":{\"style\":\"light\"}}},\"xaxis\":{\"anchor\":\"y\",\"domain\":[0.0,1.0]},\"yaxis\":{\"anchor\":\"x\",\"domain\":[0.7777777777777778,1.0],\"title\":{\"text\":\"State\"}},\"xaxis2\":{\"anchor\":\"y2\",\"domain\":[0.0,1.0]},\"yaxis2\":{\"anchor\":\"x2\",\"domain\":[0.3888888888888889,0.6111111111111112],\"title\":{\"text\":\"Cost\"}},\"xaxis3\":{\"anchor\":\"y3\",\"domain\":[0.0,1.0],\"title\":{\"text\":\"Time instant t\"}},\"yaxis3\":{\"anchor\":\"x3\",\"domain\":[0.0,0.22222222222222224],\"title\":{\"text\":\"Seed\"}},\"annotations\":[{\"font\":{\"size\":16},\"showarrow\":false,\"text\":\"Trajectory of States\",\"x\":0.5,\"xanchor\":\"center\",\"xref\":\"paper\",\"y\":1.0,\"yanchor\":\"bottom\",\"yref\":\"paper\"},{\"font\":{\"size\":16},\"showarrow\":false,\"text\":\"Trajectory of Cumulative Cost\",\"x\":0.5,\"xanchor\":\"center\",\"xref\":\"paper\",\"y\":0.6111111111111112,\"yanchor\":\"bottom\",\"yref\":\"paper\"},{\"font\":{\"size\":16},\"showarrow\":false,\"text\":\"Trajectory of Actions\",\"x\":0.5,\"xanchor\":\"center\",\"xref\":\"paper\",\"y\":0.22222222222222224,\"yanchor\":\"bottom\",\"yref\":\"paper\"}],\"title\":{\"text\":\"Trajectory for Policy \\\"Always accept\\\" with an average cumulative cost of 3972.1\"},\"height\":700,\"showlegend\":true},                        {\"responsive\": true}                    ).then(function(){\n",
              "                            \n",
              "var gd = document.getElementById('1d96f921-9880-4f55-a585-9ae9851c9d61');\n",
              "var x = new MutationObserver(function (mutations, observer) {{\n",
              "        var display = window.getComputedStyle(gd).display;\n",
              "        if (!display || display === 'none') {{\n",
              "            console.log([gd, 'removed!']);\n",
              "            Plotly.purge(gd);\n",
              "            observer.disconnect();\n",
              "        }}\n",
              "}});\n",
              "\n",
              "// Listen for the removal of the full notebook cells\n",
              "var notebookContainer = gd.closest('#notebook-container');\n",
              "if (notebookContainer) {{\n",
              "    x.observe(notebookContainer, {childList: true});\n",
              "}}\n",
              "\n",
              "// Listen for the clearing of the current output cell\n",
              "var outputEl = gd.closest('.output');\n",
              "if (outputEl) {{\n",
              "    x.observe(outputEl, {childList: true});\n",
              "}}\n",
              "\n",
              "                        })                };                            </script>        </div>\n",
              "</body>\n",
              "</html>"
            ]
          },
          "metadata": {},
          "output_type": "display_data"
        }
      ],
      "source": [
        "fig_trj = plot_trajectory(states_list, actions_list, costs_list, policy='Always accept')\n",
        "fig_trj.show()"
      ]
    },
    {
      "cell_type": "markdown",
      "metadata": {
        "id": "eyPAiC0igRjy"
      },
      "source": [
        "----\n",
        "----"
      ]
    },
    {
      "cell_type": "markdown",
      "metadata": {
        "id": "N9vqH_G4gRjy"
      },
      "source": [
        "# Linear Programming\n",
        "> Objective: Solving the Markov Chain though Linear Programming."
      ]
    },
    {
      "cell_type": "markdown",
      "metadata": {
        "id": "2jQnX22rgRjy"
      },
      "source": [
        "## Formulating the LP\n",
        "\n",
        "> The classical LP reformulation of the MDP problem."
      ]
    },
    {
      "cell_type": "markdown",
      "metadata": {
        "id": "Z76qdbwJgRjy"
      },
      "source": [
        "$$\n",
        "\\begin{aligned}\n",
        "& \\min_{y \\geq 0} \\sum_{t=0}^{T-1} \\sum_{s,a} C_s^a y_{a,s}(t) \\\\\n",
        "& \\text{subject to:}  \\\\\n",
        "& \\quad \\quad (a) \\quad \\; y_{s,0}(t) + y_{s,1}(t) = m_s(t) \\quad \\quad \\forall t \\in [0, T-1], \\quad \\forall s \\\\\n",
        "& \\quad \\quad (b) \\quad \\; m_s(t) = \\sum_{s',a} y_{s',a}(t-1) p_{s',s}^a \\quad \\forall t \\in [1, T-1], \\quad \\forall s \\\\\n",
        "& \\quad \\quad (c) \\quad \\; m_s(0) = m_s^0 \\quad \\quad \\forall s \\\\\n",
        "\\end{aligned}\n",
        "$$"
      ]
    },
    {
      "cell_type": "markdown",
      "metadata": {
        "id": "ynzAvFGHgRjy"
      },
      "source": [
        "where:\n",
        "- $C_s^a$ is the intantaneous cost of taking action $a$ at state $s$.\n",
        "- (a) Guarantees that the mass of state $s$ at instant $t$ be splitted between $y_{s,0}(t)$ and $y_{s,1}(t)$.\n",
        "- (b) Guarantees that the mass of state $s$ at instant $t$ be respecting the transitioning probabilities of going from previous state $s'$ at instante $t-1$ to current state $s$.\n",
        "- (c) Guarantees the initial system state."
      ]
    },
    {
      "cell_type": "markdown",
      "metadata": {
        "id": "fmYIsQNtgRjy"
      },
      "source": [
        "## Solving the LP"
      ]
    },
    {
      "cell_type": "markdown",
      "metadata": {
        "id": "PMa5MvXngRjy"
      },
      "source": [
        "### CVXPY"
      ]
    },
    {
      "cell_type": "code",
      "execution_count": null,
      "metadata": {
        "id": "tkEI7_YagRjy"
      },
      "outputs": [],
      "source": [
        "import cvxpy as cp\n",
        "\n",
        "def solve_lp(K=3, T=5, q=.2, gamma=1, empty_init=True, geq_than=0, sum_up_to_one=True, budget=None):\n",
        "  # Variables\n",
        "  m  = cp.Variable((K+1, T), name='mass')\n",
        "  y0 = cp.Variable((K+1, T), name='y0')  # y0[s,t] = P(s,t) that the action is 0\n",
        "  y1 = cp.Variable((K+1, T), name='y1')  # y1[s,t] = P(s,t) that the action is 1\n",
        "  constr = []\n",
        "\n",
        "  # (a) y_{s,0}(t) + y_{s,1}(t) = m_{s}(t)  # normalization\n",
        "  for t in range(T):\n",
        "    for s in range(K+1):\n",
        "      constr += [y0[s,t] + y1[s,t] == m[s,t]]\n",
        "\n",
        "  # (b) m_{s}(t) = \\sum_{s',a} y_{s',a}(t-1) p_{s',s}^a  # transition probability\n",
        "  for t in range(1, T):\n",
        "    for s in range(K+1):\n",
        "      z = 0\n",
        "      for s_ in range(K+1):\n",
        "        p_a0 = inst_MDP(s,s_,0,q,K)\n",
        "        p_a1 = inst_MDP(s,s_,1,q,K)\n",
        "        z += p_a0 * y0[s_,t-1] + p_a1 * y1[s_,t-1]\n",
        "      constr += [m[s,t] == z]\n",
        "\n",
        "  # (c) m_{s}(0) = m^{0}_s  # initial distribution\n",
        "  if empty_init:  # all mass in state 0\n",
        "    constr += [m[0,0] == 1]\n",
        "    for s in range(1, K+1):\n",
        "      constr += [m[s,0] == 0]\n",
        "  else:  # uniform distribution\n",
        "    for s in range(K+1):\n",
        "      constr += [m[s,0] == 1/(K+1)]\n",
        "\n",
        "  # non-negative constraints and y0 + y1 \\leq 1\n",
        "  for t in range(T):\n",
        "    for s in range(K+1):\n",
        "      # y \\geq 0\n",
        "      constr += [y0[s,t] >= geq_than]\n",
        "      constr += [y1[s,t] >= geq_than]\n",
        "      # y0 + y1 \\leq 1\n",
        "      if sum_up_to_one:\n",
        "        constr += [y0[s,t] + y1[s,t] <= 1]\n",
        "\n",
        "  # Budget constraints\n",
        "  if budget is not None:\n",
        "    constr += [sum(y1[:,t]) <= budget]\n",
        "\n",
        "  # Cost function\n",
        "  Cost = 0\n",
        "  for t in range(T):\n",
        "    for s in range(K+1):\n",
        "      storage_cost = cp.power(s,2)\n",
        "      cost_action0 = (storage_cost - gamma * y1[s,t])\n",
        "      cost_action1 = (storage_cost - gamma * y0[s,t])\n",
        "      Cost += cost_action0 + cost_action1\n",
        "\n",
        "  problem = cp.Problem(cp.Minimize(Cost), constr)\n",
        "  result = problem.solve(verbose=False)\n",
        "  return {\n",
        "    'result': result,\n",
        "    'm': m.value,\n",
        "    'y0': y0.value,\n",
        "    'y1': y1.value}"
      ]
    },
    {
      "cell_type": "markdown",
      "metadata": {
        "id": "PDBAG9i5gRjy"
      },
      "source": [
        "### Solving the LP"
      ]
    },
    {
      "cell_type": "code",
      "execution_count": null,
      "metadata": {
        "id": "Ks4OaE3AgRjy"
      },
      "outputs": [],
      "source": [
        "result_opt = solve_lp(K, T, q, gamma)"
      ]
    },
    {
      "cell_type": "markdown",
      "metadata": {
        "id": "EsH9qJVYgRjy"
      },
      "source": [
        "### Obtain the desired policy from the LP\n",
        "\n",
        "Let $y^*$ be a solution of your LP. Define, for all $0\\leq t\\leq T-1$, for all $s \\in S$ and for all $a \\in A$,\n",
        "\n",
        "$$\n",
        "\\pi_t(a|s)=\\left\\{\\begin{array}{ll}\n",
        "y_s^a(t)/x_s(t),&\\text{if }x_s(t)>0,\\\\\n",
        "0&\\text{otherwise.}\n",
        "\\end{array}\\right.\n",
        "$$"
      ]
    },
    {
      "cell_type": "code",
      "execution_count": null,
      "metadata": {
        "id": "bGQN8X7WgRjy"
      },
      "outputs": [],
      "source": [
        "def get_policy(y0, y1, bool=True):\n",
        "  pi = np.zeros((K+1,T))\n",
        "  for t in range(T):\n",
        "    for s in range(K+1):\n",
        "      y0_s = y0[s,t] if y0[s,t] > 0 else 0\n",
        "      y1_s = y1[s,t] if y1[s,t] > 0 else 0\n",
        "      m_s = y0_s + y1_s\n",
        "      if bool:\n",
        "        pi[s,t] = 1 if y1_s > y0_s else 0  # chooses the action with the highest probability\n",
        "      else:\n",
        "        pi[s,t] = 0 if m_s == 0 else round(y1_s / (y0_s + y1_s), 2)\n",
        "  return pi"
      ]
    },
    {
      "cell_type": "markdown",
      "metadata": {
        "id": "PsyBEhakgRjy"
      },
      "source": [
        "## Visualizing the optimal policy"
      ]
    },
    {
      "cell_type": "markdown",
      "metadata": {
        "id": "IbWFb5x3gRjy"
      },
      "source": [
        "### Getting the Optimal Policy"
      ]
    },
    {
      "cell_type": "code",
      "execution_count": null,
      "metadata": {
        "id": "IRmfWSSBgRjz"
      },
      "outputs": [],
      "source": [
        "pi_opt = get_policy(result_opt['y0'], result_opt['y1'])\n",
        "states_list_opt, actions_list_opt, costs_list_opt = test_policy_different_seeds(pi_opt, q, gamma, K, T)"
      ]
    },
    {
      "cell_type": "markdown",
      "metadata": {
        "id": "TVWAEx2vgRjz"
      },
      "source": [
        "### Viewing the Optimal Policy"
      ]
    },
    {
      "cell_type": "code",
      "execution_count": null,
      "metadata": {
        "colab": {
          "base_uri": "https://localhost:8080/",
          "height": 717
        },
        "id": "hqRiEr63gRjz",
        "outputId": "a3255fab-17de-4dbb-c956-ce57d54aa57a"
      },
      "outputs": [
        {
          "data": {
            "text/html": [
              "<html>\n",
              "<head><meta charset=\"utf-8\" /></head>\n",
              "<body>\n",
              "    <div>            <script src=\"https://cdnjs.cloudflare.com/ajax/libs/mathjax/2.7.5/MathJax.js?config=TeX-AMS-MML_SVG\"></script><script type=\"text/javascript\">if (window.MathJax && window.MathJax.Hub && window.MathJax.Hub.Config) {window.MathJax.Hub.Config({SVG: {font: \"STIX-Web\"}});}</script>                <script type=\"text/javascript\">window.PlotlyConfig = {MathJaxConfig: 'local'};</script>\n",
              "        <script charset=\"utf-8\" src=\"https://cdn.plot.ly/plotly-2.24.1.min.js\"></script>                <div id=\"90aca786-a1bf-4ef1-b624-e345c8379742\" class=\"plotly-graph-div\" style=\"height:700px; width:100%;\"></div>            <script type=\"text/javascript\">                                    window.PLOTLYENV=window.PLOTLYENV || {};                                    if (document.getElementById(\"90aca786-a1bf-4ef1-b624-e345c8379742\")) {                    Plotly.newPlot(                        \"90aca786-a1bf-4ef1-b624-e345c8379742\",                        [{\"legendgroup\":\"Seed 0\",\"marker\":{\"color\":\"#4C78A8\"},\"mode\":\"lines\",\"name\":\"Seed 0\",\"showlegend\":true,\"x\":[0,1,2,3,4,5,6,7,8,9,10,11,12,13,14,15,16,17,18,19,20,21,22,23,24,25,26,27,28,29,30,31,32,33,34,35,36,37,38,39,40,41,42,43,44,45,46,47,48,49,50],\"y\":[0,1,2,3,4,5,6,7,8,9,9,10,10,10,10,8,8,7,8,9,10,10,10,10,10,9,9,8,8,8,8,7,7,7,7,5,5,5,5,5,5,5,5,5,4,4,4,4,3,3,3],\"type\":\"scatter\",\"xaxis\":\"x\",\"yaxis\":\"y\"},{\"legendgroup\":\"Seed 0\",\"marker\":{\"color\":\"#4C78A8\"},\"mode\":\"lines\",\"name\":\"Seed 0\",\"showlegend\":false,\"x\":[0,1,2,3,4,5,6,7,8,9,10,11,12,13,14,15,16,17,18,19,20,21,22,23,24,25,26,27,28,29,30,31,32,33,34,35,36,37,38,39,40,41,42,43,44,45,46,47,48,49],\"y\":[-1.0,-1.0,2.0,10.0,25.0,49.0,84.0,132.0,195.0,275.0,355.0,455.0,555.0,655.0,755.0,818.0,881.0,929.0,992.0,1072.0,1172.0,1272.0,1372.0,1472.0,1572.0,1653.0,1734.0,1798.0,1862.0,1926.0,1990.0,2039.0,2088.0,2137.0,2186.0,2211.0,2236.0,2261.0,2286.0,2311.0,2336.0,2361.0,2386.0,2411.0,2427.0,2443.0,2459.0,2475.0,2484.0,2493.0],\"type\":\"scatter\",\"xaxis\":\"x2\",\"yaxis\":\"y2\"},{\"legendgroup\":\"Seed 1\",\"marker\":{\"color\":\"#F58518\"},\"mode\":\"lines\",\"name\":\"Seed 1\",\"showlegend\":true,\"x\":[0,1,2,3,4,5,6,7,8,9,10,11,12,13,14,15,16,17,18,19,20,21,22,23,24,25,26,27,28,29,30,31,32,33,34,35,36,37,38,39,40,41,42,43,44,45,46,47,48,49,50],\"y\":[0,1,2,0,0,0,0,0,0,0,0,0,0,0,0,0,0,0,0,0,0,0,0,0,0,0,0,0,0,0,0,0,0,0,0,0,0,0,0,0,0,0,0,0,0,0,0,0,0,0,0],\"type\":\"scatter\",\"xaxis\":\"x\",\"yaxis\":\"y\"},{\"legendgroup\":\"Seed 1\",\"marker\":{\"color\":\"#F58518\"},\"mode\":\"lines\",\"name\":\"Seed 1\",\"showlegend\":false,\"x\":[0,1,2,3,4,5,6,7,8,9,10,11,12,13,14,15,16,17,18,19,20,21,22,23,24,25,26,27,28,29,30,31,32,33,34,35,36,37,38,39,40,41,42,43,44,45,46,47,48,49],\"y\":[-1.0,-1.0,2.0,2.0,2.0,2.0,2.0,2.0,2.0,2.0,2.0,2.0,2.0,2.0,2.0,2.0,2.0,2.0,2.0,2.0,2.0,2.0,2.0,2.0,2.0,2.0,2.0,2.0,2.0,2.0,2.0,2.0,2.0,2.0,2.0,2.0,2.0,2.0,2.0,2.0,2.0,2.0,2.0,2.0,2.0,2.0,2.0,2.0,2.0,2.0],\"type\":\"scatter\",\"xaxis\":\"x2\",\"yaxis\":\"y2\"},{\"legendgroup\":\"Seed 2\",\"marker\":{\"color\":\"#E45756\"},\"mode\":\"lines\",\"name\":\"Seed 2\",\"showlegend\":true,\"x\":[0,1,2,3,4,5,6,7,8,9,10,11,12,13,14,15,16,17,18,19,20,21,22,23,24,25,26,27,28,29,30,31,32,33,34,35,36,37,38,39,40,41,42,43,44,45,46,47,48,49,50],\"y\":[0,1,1,1,1,1,1,1,1,1,1,1,1,1,1,1,1,1,1,1,1,1,1,1,1,1,1,1,1,1,1,1,1,1,1,1,1,1,1,1,1,1,1,1,1,1,1,1,1,1,1],\"type\":\"scatter\",\"xaxis\":\"x\",\"yaxis\":\"y\"},{\"legendgroup\":\"Seed 2\",\"marker\":{\"color\":\"#E45756\"},\"mode\":\"lines\",\"name\":\"Seed 2\",\"showlegend\":false,\"x\":[0,1,2,3,4,5,6,7,8,9,10,11,12,13,14,15,16,17,18,19,20,21,22,23,24,25,26,27,28,29,30,31,32,33,34,35,36,37,38,39,40,41,42,43,44,45,46,47,48,49],\"y\":[-1.0,-1.0,0.0,1.0,2.0,3.0,4.0,5.0,6.0,7.0,8.0,9.0,10.0,11.0,12.0,13.0,14.0,15.0,16.0,17.0,18.0,19.0,20.0,21.0,22.0,23.0,24.0,25.0,26.0,27.0,28.0,29.0,30.0,31.0,32.0,33.0,34.0,35.0,36.0,37.0,38.0,39.0,40.0,41.0,42.0,43.0,44.0,45.0,46.0,47.0],\"type\":\"scatter\",\"xaxis\":\"x2\",\"yaxis\":\"y2\"},{\"legendgroup\":\"Seed 3\",\"marker\":{\"color\":\"#72B7B2\"},\"mode\":\"lines\",\"name\":\"Seed 3\",\"showlegend\":true,\"x\":[0,1,2,3,4,5,6,7,8,9,10,11,12,13,14,15,16,17,18,19,20,21,22,23,24,25,26,27,28,29,30,31,32,33,34,35,36,37,38,39,40,41,42,43,44,45,46,47,48,49,50],\"y\":[0,1,2,3,4,5,6,6,6,6,7,6,7,8,8,9,9,7,8,8,9,8,8,8,7,7,7,7,6,6,6,6,6,6,6,6,5,5,5,5,4,4,4,4,4,4,4,4,4,4,4],\"type\":\"scatter\",\"xaxis\":\"x\",\"yaxis\":\"y\"},{\"legendgroup\":\"Seed 3\",\"marker\":{\"color\":\"#72B7B2\"},\"mode\":\"lines\",\"name\":\"Seed 3\",\"showlegend\":false,\"x\":[0,1,2,3,4,5,6,7,8,9,10,11,12,13,14,15,16,17,18,19,20,21,22,23,24,25,26,27,28,29,30,31,32,33,34,35,36,37,38,39,40,41,42,43,44,45,46,47,48,49],\"y\":[-1.0,-1.0,2.0,10.0,25.0,49.0,84.0,119.0,154.0,189.0,237.0,272.0,320.0,383.0,446.0,527.0,608.0,656.0,719.0,782.0,863.0,927.0,991.0,1055.0,1104.0,1153.0,1202.0,1251.0,1287.0,1323.0,1359.0,1395.0,1431.0,1467.0,1503.0,1539.0,1564.0,1589.0,1614.0,1639.0,1655.0,1671.0,1687.0,1703.0,1719.0,1735.0,1751.0,1767.0,1783.0,1799.0],\"type\":\"scatter\",\"xaxis\":\"x2\",\"yaxis\":\"y2\"},{\"legendgroup\":\"Seed 4\",\"marker\":{\"color\":\"#54A24B\"},\"mode\":\"lines\",\"name\":\"Seed 4\",\"showlegend\":true,\"x\":[0,1,2,3,4,5,6,7,8,9,10,11,12,13,14,15,16,17,18,19,20,21,22,23,24,25,26,27,28,29,30,31,32,33,34,35,36,37,38,39,40,41,42,43,44,45,46,47,48,49,50],\"y\":[0,1,2,3,4,5,5,6,5,5,6,7,7,8,9,8,9,7,8,7,7,7,7,7,7,6,5,5,4,4,4,4,4,4,3,3,3,3,3,3,3,3,3,3,3,3,3,3,3,3,3],\"type\":\"scatter\",\"xaxis\":\"x\",\"yaxis\":\"y\"},{\"legendgroup\":\"Seed 4\",\"marker\":{\"color\":\"#54A24B\"},\"mode\":\"lines\",\"name\":\"Seed 4\",\"showlegend\":false,\"x\":[0,1,2,3,4,5,6,7,8,9,10,11,12,13,14,15,16,17,18,19,20,21,22,23,24,25,26,27,28,29,30,31,32,33,34,35,36,37,38,39,40,41,42,43,44,45,46,47,48,49],\"y\":[-1.0,-1.0,2.0,10.0,25.0,49.0,73.0,108.0,132.0,156.0,191.0,239.0,287.0,350.0,431.0,494.0,575.0,623.0,686.0,735.0,784.0,833.0,882.0,931.0,980.0,1016.0,1041.0,1066.0,1082.0,1098.0,1114.0,1130.0,1146.0,1162.0,1171.0,1180.0,1189.0,1198.0,1207.0,1216.0,1225.0,1234.0,1243.0,1252.0,1261.0,1270.0,1279.0,1288.0,1297.0,1306.0],\"type\":\"scatter\",\"xaxis\":\"x2\",\"yaxis\":\"y2\"},{\"legendgroup\":\"Seed 5\",\"marker\":{\"color\":\"#EECA3B\"},\"mode\":\"lines\",\"name\":\"Seed 5\",\"showlegend\":true,\"x\":[0,1,2,3,4,5,6,7,8,9,10,11,12,13,14,15,16,17,18,19,20,21,22,23,24,25,26,27,28,29,30,31,32,33,34,35,36,37,38,39,40,41,42,43,44,45,46,47,48,49,50],\"y\":[0,1,2,3,4,5,6,7,8,8,8,8,9,10,9,9,8,9,9,10,10,10,9,8,7,7,6,5,5,5,4,3,3,3,3,2,2,0,0,0,0,0,0,0,0,0,0,0,0,0,0],\"type\":\"scatter\",\"xaxis\":\"x\",\"yaxis\":\"y\"},{\"legendgroup\":\"Seed 5\",\"marker\":{\"color\":\"#EECA3B\"},\"mode\":\"lines\",\"name\":\"Seed 5\",\"showlegend\":false,\"x\":[0,1,2,3,4,5,6,7,8,9,10,11,12,13,14,15,16,17,18,19,20,21,22,23,24,25,26,27,28,29,30,31,32,33,34,35,36,37,38,39,40,41,42,43,44,45,46,47,48,49],\"y\":[-1.0,-1.0,2.0,10.0,25.0,49.0,84.0,132.0,195.0,258.0,321.0,384.0,464.0,564.0,645.0,726.0,789.0,869.0,949.0,1049.0,1149.0,1249.0,1330.0,1394.0,1443.0,1492.0,1528.0,1553.0,1578.0,1603.0,1619.0,1628.0,1637.0,1646.0,1655.0,1659.0,1663.0,1663.0,1663.0,1663.0,1663.0,1663.0,1663.0,1663.0,1663.0,1663.0,1663.0,1663.0,1663.0,1663.0],\"type\":\"scatter\",\"xaxis\":\"x2\",\"yaxis\":\"y2\"},{\"legendgroup\":\"Seed 6\",\"marker\":{\"color\":\"#B279A2\"},\"mode\":\"lines\",\"name\":\"Seed 6\",\"showlegend\":true,\"x\":[0,1,2,3,4,5,6,7,8,9,10,11,12,13,14,15,16,17,18,19,20,21,22,23,24,25,26,27,28,29,30,31,32,33,34,35,36,37,38,39,40,41,42,43,44,45,46,47,48,49,50],\"y\":[0,1,2,3,3,3,4,5,6,7,8,9,10,10,10,10,10,10,10,10,10,8,8,8,8,8,8,7,7,7,6,6,6,5,5,5,5,5,5,5,5,5,5,5,5,5,5,5,4,4,4],\"type\":\"scatter\",\"xaxis\":\"x\",\"yaxis\":\"y\"},{\"legendgroup\":\"Seed 6\",\"marker\":{\"color\":\"#B279A2\"},\"mode\":\"lines\",\"name\":\"Seed 6\",\"showlegend\":false,\"x\":[0,1,2,3,4,5,6,7,8,9,10,11,12,13,14,15,16,17,18,19,20,21,22,23,24,25,26,27,28,29,30,31,32,33,34,35,36,37,38,39,40,41,42,43,44,45,46,47,48,49],\"y\":[-1.0,-1.0,2.0,10.0,18.0,26.0,41.0,65.0,100.0,148.0,211.0,291.0,391.0,491.0,591.0,691.0,791.0,891.0,991.0,1091.0,1191.0,1255.0,1319.0,1383.0,1447.0,1511.0,1575.0,1624.0,1673.0,1722.0,1758.0,1794.0,1830.0,1855.0,1880.0,1905.0,1930.0,1955.0,1980.0,2005.0,2030.0,2055.0,2080.0,2105.0,2130.0,2155.0,2180.0,2205.0,2221.0,2237.0],\"type\":\"scatter\",\"xaxis\":\"x2\",\"yaxis\":\"y2\"},{\"legendgroup\":\"Seed 7\",\"marker\":{\"color\":\"#FF9DA6\"},\"mode\":\"lines\",\"name\":\"Seed 7\",\"showlegend\":true,\"x\":[0,1,2,3,4,5,6,7,8,9,10,11,12,13,14,15,16,17,18,19,20,21,22,23,24,25,26,27,28,29,30,31,32,33,34,35,36,37,38,39,40,41,42,43,44,45,46,47,48,49,50],\"y\":[0,1,2,3,4,5,6,7,7,7,8,9,10,9,8,8,9,8,9,10,8,9,9,8,8,8,7,7,7,7,7,6,6,6,6,6,6,6,6,6,6,6,6,6,6,6,6,6,6,5,5],\"type\":\"scatter\",\"xaxis\":\"x\",\"yaxis\":\"y\"},{\"legendgroup\":\"Seed 7\",\"marker\":{\"color\":\"#FF9DA6\"},\"mode\":\"lines\",\"name\":\"Seed 7\",\"showlegend\":false,\"x\":[0,1,2,3,4,5,6,7,8,9,10,11,12,13,14,15,16,17,18,19,20,21,22,23,24,25,26,27,28,29,30,31,32,33,34,35,36,37,38,39,40,41,42,43,44,45,46,47,48,49],\"y\":[-1.0,-1.0,2.0,10.0,25.0,49.0,84.0,132.0,180.0,228.0,291.0,371.0,471.0,551.0,614.0,677.0,758.0,821.0,901.0,1001.0,1064.0,1145.0,1226.0,1290.0,1354.0,1418.0,1467.0,1516.0,1565.0,1614.0,1663.0,1699.0,1735.0,1771.0,1807.0,1843.0,1879.0,1915.0,1951.0,1987.0,2023.0,2059.0,2095.0,2131.0,2167.0,2203.0,2239.0,2275.0,2311.0,2336.0],\"type\":\"scatter\",\"xaxis\":\"x2\",\"yaxis\":\"y2\"},{\"legendgroup\":\"Seed 8\",\"marker\":{\"color\":\"#9D755D\"},\"mode\":\"lines\",\"name\":\"Seed 8\",\"showlegend\":true,\"x\":[0,1,2,3,4,5,6,7,8,9,10,11,12,13,14,15,16,17,18,19,20,21,22,23,24,25,26,27,28,29,30,31,32,33,34,35,36,37,38,39,40,41,42,43,44,45,46,47,48,49,50],\"y\":[0,1,2,3,4,5,4,5,6,7,8,9,10,10,10,10,10,9,10,9,9,7,7,6,6,5,4,4,4,4,4,3,3,3,3,3,3,3,3,3,3,2,2,2,1,1,1,1,1,0,0],\"type\":\"scatter\",\"xaxis\":\"x\",\"yaxis\":\"y\"},{\"legendgroup\":\"Seed 8\",\"marker\":{\"color\":\"#9D755D\"},\"mode\":\"lines\",\"name\":\"Seed 8\",\"showlegend\":false,\"x\":[0,1,2,3,4,5,6,7,8,9,10,11,12,13,14,15,16,17,18,19,20,21,22,23,24,25,26,27,28,29,30,31,32,33,34,35,36,37,38,39,40,41,42,43,44,45,46,47,48,49],\"y\":[-1.0,-1.0,2.0,10.0,25.0,49.0,64.0,88.0,123.0,171.0,234.0,314.0,414.0,514.0,614.0,714.0,814.0,894.0,994.0,1074.0,1155.0,1204.0,1253.0,1289.0,1325.0,1350.0,1366.0,1382.0,1398.0,1414.0,1430.0,1439.0,1448.0,1457.0,1466.0,1475.0,1484.0,1493.0,1502.0,1511.0,1520.0,1524.0,1528.0,1532.0,1533.0,1534.0,1535.0,1536.0,1537.0,1537.0],\"type\":\"scatter\",\"xaxis\":\"x2\",\"yaxis\":\"y2\"},{\"legendgroup\":\"Seed 9\",\"marker\":{\"color\":\"#BAB0AC\"},\"mode\":\"lines\",\"name\":\"Seed 9\",\"showlegend\":true,\"x\":[0,1,2,3,4,5,6,7,8,9,10,11,12,13,14,15,16,17,18,19,20,21,22,23,24,25,26,27,28,29,30,31,32,33,34,35,36,37,38,39,40,41,42,43,44,45,46,47,48,49,50],\"y\":[0,0,0,0,0,0,0,0,0,0,0,0,0,0,0,0,0,0,0,0,0,0,0,0,0,0,0,0,0,0,0,0,0,0,0,0,0,0,0,0,0,0,0,0,0,0,0,0,0,0,0],\"type\":\"scatter\",\"xaxis\":\"x\",\"yaxis\":\"y\"},{\"legendgroup\":\"Seed 9\",\"marker\":{\"color\":\"#BAB0AC\"},\"mode\":\"lines\",\"name\":\"Seed 9\",\"showlegend\":false,\"x\":[0,1,2,3,4,5,6,7,8,9,10,11,12,13,14,15,16,17,18,19,20,21,22,23,24,25,26,27,28,29,30,31,32,33,34,35,36,37,38,39,40,41,42,43,44,45,46,47,48,49],\"y\":[-1.0,-1.0,-1.0,-1.0,-1.0,-1.0,-1.0,-1.0,-1.0,-1.0,-1.0,-1.0,-1.0,-1.0,-1.0,-1.0,-1.0,-1.0,-1.0,-1.0,-1.0,-1.0,-1.0,-1.0,-1.0,-1.0,-1.0,-1.0,-1.0,-1.0,-1.0,-1.0,-1.0,-1.0,-1.0,-1.0,-1.0,-1.0,-1.0,-1.0,-1.0,-1.0,-1.0,-1.0,-1.0,-1.0,-1.0,-1.0,-1.0,-1.0],\"type\":\"scatter\",\"xaxis\":\"x2\",\"yaxis\":\"y2\"},{\"colorscale\":[[0.0,\"rgb(247,252,245)\"],[0.125,\"rgb(229,245,224)\"],[0.25,\"rgb(199,233,192)\"],[0.375,\"rgb(161,217,155)\"],[0.5,\"rgb(116,196,118)\"],[0.625,\"rgb(65,171,93)\"],[0.75,\"rgb(35,139,69)\"],[0.875,\"rgb(0,109,44)\"],[1.0,\"rgb(0,68,27)\"]],\"name\":\"Actions\",\"showscale\":false,\"x\":[0,1,2,3,4,5,6,7,8,9,10,11,12,13,14,15,16,17,18,19,20,21,22,23,24,25,26,27,28,29,30,31,32,33,34,35,36,37,38,39,40,41,42,43,44,45,46,47,48,49,0,1,2,3,4,5,6,7,8,9,10,11,12,13,14,15,16,17,18,19,20,21,22,23,24,25,26,27,28,29,30,31,32,33,34,35,36,37,38,39,40,41,42,43,44,45,46,47,48,49,0,1,2,3,4,5,6,7,8,9,10,11,12,13,14,15,16,17,18,19,20,21,22,23,24,25,26,27,28,29,30,31,32,33,34,35,36,37,38,39,40,41,42,43,44,45,46,47,48,49,0,1,2,3,4,5,6,7,8,9,10,11,12,13,14,15,16,17,18,19,20,21,22,23,24,25,26,27,28,29,30,31,32,33,34,35,36,37,38,39,40,41,42,43,44,45,46,47,48,49,0,1,2,3,4,5,6,7,8,9,10,11,12,13,14,15,16,17,18,19,20,21,22,23,24,25,26,27,28,29,30,31,32,33,34,35,36,37,38,39,40,41,42,43,44,45,46,47,48,49,0,1,2,3,4,5,6,7,8,9,10,11,12,13,14,15,16,17,18,19,20,21,22,23,24,25,26,27,28,29,30,31,32,33,34,35,36,37,38,39,40,41,42,43,44,45,46,47,48,49,0,1,2,3,4,5,6,7,8,9,10,11,12,13,14,15,16,17,18,19,20,21,22,23,24,25,26,27,28,29,30,31,32,33,34,35,36,37,38,39,40,41,42,43,44,45,46,47,48,49,0,1,2,3,4,5,6,7,8,9,10,11,12,13,14,15,16,17,18,19,20,21,22,23,24,25,26,27,28,29,30,31,32,33,34,35,36,37,38,39,40,41,42,43,44,45,46,47,48,49,0,1,2,3,4,5,6,7,8,9,10,11,12,13,14,15,16,17,18,19,20,21,22,23,24,25,26,27,28,29,30,31,32,33,34,35,36,37,38,39,40,41,42,43,44,45,46,47,48,49,0,1,2,3,4,5,6,7,8,9,10,11,12,13,14,15,16,17,18,19,20,21,22,23,24,25,26,27,28,29,30,31,32,33,34,35,36,37,38,39,40,41,42,43,44,45,46,47,48,49],\"xgap\":1,\"y\":[0,0,0,0,0,0,0,0,0,0,0,0,0,0,0,0,0,0,0,0,0,0,0,0,0,0,0,0,0,0,0,0,0,0,0,0,0,0,0,0,0,0,0,0,0,0,0,0,0,0,1,1,1,1,1,1,1,1,1,1,1,1,1,1,1,1,1,1,1,1,1,1,1,1,1,1,1,1,1,1,1,1,1,1,1,1,1,1,1,1,1,1,1,1,1,1,1,1,1,1,2,2,2,2,2,2,2,2,2,2,2,2,2,2,2,2,2,2,2,2,2,2,2,2,2,2,2,2,2,2,2,2,2,2,2,2,2,2,2,2,2,2,2,2,2,2,2,2,2,2,3,3,3,3,3,3,3,3,3,3,3,3,3,3,3,3,3,3,3,3,3,3,3,3,3,3,3,3,3,3,3,3,3,3,3,3,3,3,3,3,3,3,3,3,3,3,3,3,3,3,4,4,4,4,4,4,4,4,4,4,4,4,4,4,4,4,4,4,4,4,4,4,4,4,4,4,4,4,4,4,4,4,4,4,4,4,4,4,4,4,4,4,4,4,4,4,4,4,4,4,5,5,5,5,5,5,5,5,5,5,5,5,5,5,5,5,5,5,5,5,5,5,5,5,5,5,5,5,5,5,5,5,5,5,5,5,5,5,5,5,5,5,5,5,5,5,5,5,5,5,6,6,6,6,6,6,6,6,6,6,6,6,6,6,6,6,6,6,6,6,6,6,6,6,6,6,6,6,6,6,6,6,6,6,6,6,6,6,6,6,6,6,6,6,6,6,6,6,6,6,7,7,7,7,7,7,7,7,7,7,7,7,7,7,7,7,7,7,7,7,7,7,7,7,7,7,7,7,7,7,7,7,7,7,7,7,7,7,7,7,7,7,7,7,7,7,7,7,7,7,8,8,8,8,8,8,8,8,8,8,8,8,8,8,8,8,8,8,8,8,8,8,8,8,8,8,8,8,8,8,8,8,8,8,8,8,8,8,8,8,8,8,8,8,8,8,8,8,8,8,9,9,9,9,9,9,9,9,9,9,9,9,9,9,9,9,9,9,9,9,9,9,9,9,9,9,9,9,9,9,9,9,9,9,9,9,9,9,9,9,9,9,9,9,9,9,9,9,9,9],\"ygap\":1,\"z\":[1.0,1.0,1.0,1.0,1.0,1.0,1.0,1.0,1.0,1.0,1.0,0.0,0.0,0.0,0.0,1.0,1.0,1.0,1.0,1.0,0.0,0.0,0.0,0.0,0.0,0.0,0.0,0.0,0.0,0.0,0.0,0.0,0.0,0.0,0.0,0.0,0.0,0.0,0.0,0.0,0.0,0.0,0.0,0.0,0.0,0.0,0.0,0.0,0.0,0.0,1.0,1.0,1.0,0.0,0.0,0.0,0.0,0.0,0.0,0.0,0.0,0.0,0.0,0.0,0.0,0.0,0.0,0.0,0.0,0.0,0.0,0.0,0.0,0.0,0.0,0.0,0.0,0.0,0.0,0.0,0.0,0.0,0.0,0.0,0.0,0.0,0.0,0.0,0.0,0.0,0.0,0.0,0.0,0.0,0.0,0.0,0.0,0.0,0.0,0.0,1.0,1.0,0.0,0.0,0.0,0.0,0.0,0.0,0.0,0.0,0.0,0.0,0.0,0.0,0.0,0.0,0.0,0.0,0.0,0.0,0.0,0.0,0.0,0.0,0.0,0.0,0.0,0.0,0.0,0.0,0.0,0.0,0.0,0.0,0.0,0.0,0.0,0.0,0.0,0.0,0.0,0.0,0.0,0.0,0.0,0.0,0.0,0.0,0.0,0.0,1.0,1.0,1.0,1.0,1.0,1.0,1.0,1.0,1.0,1.0,1.0,1.0,1.0,1.0,1.0,0.0,0.0,1.0,1.0,1.0,0.0,0.0,0.0,0.0,0.0,0.0,0.0,0.0,0.0,0.0,0.0,0.0,0.0,0.0,0.0,0.0,0.0,0.0,0.0,0.0,0.0,0.0,0.0,0.0,0.0,0.0,0.0,0.0,0.0,0.0,1.0,1.0,1.0,1.0,1.0,1.0,1.0,1.0,1.0,1.0,1.0,1.0,1.0,1.0,0.0,1.0,0.0,1.0,1.0,0.0,0.0,0.0,0.0,0.0,0.0,0.0,0.0,0.0,0.0,0.0,0.0,0.0,0.0,0.0,0.0,0.0,0.0,0.0,0.0,0.0,0.0,0.0,0.0,0.0,0.0,0.0,0.0,0.0,0.0,0.0,1.0,1.0,1.0,1.0,1.0,1.0,1.0,1.0,1.0,1.0,1.0,1.0,1.0,0.0,0.0,0.0,1.0,1.0,1.0,0.0,0.0,0.0,0.0,0.0,0.0,0.0,0.0,0.0,0.0,0.0,0.0,0.0,0.0,0.0,0.0,0.0,0.0,0.0,0.0,0.0,0.0,0.0,0.0,0.0,0.0,0.0,0.0,0.0,0.0,0.0,1.0,1.0,1.0,1.0,1.0,1.0,1.0,1.0,1.0,1.0,1.0,1.0,0.0,0.0,0.0,0.0,0.0,0.0,0.0,0.0,0.0,0.0,0.0,0.0,0.0,0.0,0.0,0.0,0.0,0.0,0.0,0.0,0.0,0.0,0.0,0.0,0.0,0.0,0.0,0.0,0.0,0.0,0.0,0.0,0.0,0.0,0.0,0.0,0.0,0.0,1.0,1.0,1.0,1.0,1.0,1.0,1.0,1.0,1.0,1.0,1.0,1.0,0.0,1.0,1.0,1.0,0.0,1.0,1.0,0.0,1.0,0.0,0.0,0.0,0.0,0.0,0.0,0.0,0.0,0.0,0.0,0.0,0.0,0.0,0.0,0.0,0.0,0.0,0.0,0.0,0.0,0.0,0.0,0.0,0.0,0.0,0.0,0.0,0.0,0.0,1.0,1.0,1.0,1.0,1.0,1.0,1.0,1.0,1.0,1.0,1.0,1.0,0.0,0.0,0.0,0.0,0.0,1.0,0.0,1.0,0.0,0.0,0.0,0.0,0.0,0.0,0.0,0.0,0.0,0.0,0.0,0.0,0.0,0.0,0.0,0.0,0.0,0.0,0.0,0.0,0.0,0.0,0.0,0.0,0.0,0.0,0.0,0.0,0.0,0.0,1.0,0.0,0.0,0.0,0.0,0.0,0.0,0.0,0.0,0.0,0.0,0.0,0.0,0.0,0.0,0.0,0.0,0.0,0.0,0.0,0.0,0.0,0.0,0.0,0.0,0.0,0.0,0.0,0.0,0.0,0.0,0.0,0.0,0.0,0.0,0.0,0.0,0.0,0.0,0.0,0.0,0.0,0.0,0.0,0.0,0.0,0.0,0.0,0.0,0.0],\"zmax\":1,\"zmin\":0,\"type\":\"heatmap\",\"xaxis\":\"x3\",\"yaxis\":\"y3\"}],                        {\"template\":{\"data\":{\"histogram2dcontour\":[{\"type\":\"histogram2dcontour\",\"colorbar\":{\"outlinewidth\":0,\"ticks\":\"\"},\"colorscale\":[[0.0,\"#0d0887\"],[0.1111111111111111,\"#46039f\"],[0.2222222222222222,\"#7201a8\"],[0.3333333333333333,\"#9c179e\"],[0.4444444444444444,\"#bd3786\"],[0.5555555555555556,\"#d8576b\"],[0.6666666666666666,\"#ed7953\"],[0.7777777777777778,\"#fb9f3a\"],[0.8888888888888888,\"#fdca26\"],[1.0,\"#f0f921\"]]}],\"choropleth\":[{\"type\":\"choropleth\",\"colorbar\":{\"outlinewidth\":0,\"ticks\":\"\"}}],\"histogram2d\":[{\"type\":\"histogram2d\",\"colorbar\":{\"outlinewidth\":0,\"ticks\":\"\"},\"colorscale\":[[0.0,\"#0d0887\"],[0.1111111111111111,\"#46039f\"],[0.2222222222222222,\"#7201a8\"],[0.3333333333333333,\"#9c179e\"],[0.4444444444444444,\"#bd3786\"],[0.5555555555555556,\"#d8576b\"],[0.6666666666666666,\"#ed7953\"],[0.7777777777777778,\"#fb9f3a\"],[0.8888888888888888,\"#fdca26\"],[1.0,\"#f0f921\"]]}],\"heatmap\":[{\"type\":\"heatmap\",\"colorbar\":{\"outlinewidth\":0,\"ticks\":\"\"},\"colorscale\":[[0.0,\"#0d0887\"],[0.1111111111111111,\"#46039f\"],[0.2222222222222222,\"#7201a8\"],[0.3333333333333333,\"#9c179e\"],[0.4444444444444444,\"#bd3786\"],[0.5555555555555556,\"#d8576b\"],[0.6666666666666666,\"#ed7953\"],[0.7777777777777778,\"#fb9f3a\"],[0.8888888888888888,\"#fdca26\"],[1.0,\"#f0f921\"]]}],\"heatmapgl\":[{\"type\":\"heatmapgl\",\"colorbar\":{\"outlinewidth\":0,\"ticks\":\"\"},\"colorscale\":[[0.0,\"#0d0887\"],[0.1111111111111111,\"#46039f\"],[0.2222222222222222,\"#7201a8\"],[0.3333333333333333,\"#9c179e\"],[0.4444444444444444,\"#bd3786\"],[0.5555555555555556,\"#d8576b\"],[0.6666666666666666,\"#ed7953\"],[0.7777777777777778,\"#fb9f3a\"],[0.8888888888888888,\"#fdca26\"],[1.0,\"#f0f921\"]]}],\"contourcarpet\":[{\"type\":\"contourcarpet\",\"colorbar\":{\"outlinewidth\":0,\"ticks\":\"\"}}],\"contour\":[{\"type\":\"contour\",\"colorbar\":{\"outlinewidth\":0,\"ticks\":\"\"},\"colorscale\":[[0.0,\"#0d0887\"],[0.1111111111111111,\"#46039f\"],[0.2222222222222222,\"#7201a8\"],[0.3333333333333333,\"#9c179e\"],[0.4444444444444444,\"#bd3786\"],[0.5555555555555556,\"#d8576b\"],[0.6666666666666666,\"#ed7953\"],[0.7777777777777778,\"#fb9f3a\"],[0.8888888888888888,\"#fdca26\"],[1.0,\"#f0f921\"]]}],\"surface\":[{\"type\":\"surface\",\"colorbar\":{\"outlinewidth\":0,\"ticks\":\"\"},\"colorscale\":[[0.0,\"#0d0887\"],[0.1111111111111111,\"#46039f\"],[0.2222222222222222,\"#7201a8\"],[0.3333333333333333,\"#9c179e\"],[0.4444444444444444,\"#bd3786\"],[0.5555555555555556,\"#d8576b\"],[0.6666666666666666,\"#ed7953\"],[0.7777777777777778,\"#fb9f3a\"],[0.8888888888888888,\"#fdca26\"],[1.0,\"#f0f921\"]]}],\"mesh3d\":[{\"type\":\"mesh3d\",\"colorbar\":{\"outlinewidth\":0,\"ticks\":\"\"}}],\"scatter\":[{\"fillpattern\":{\"fillmode\":\"overlay\",\"size\":10,\"solidity\":0.2},\"type\":\"scatter\"}],\"parcoords\":[{\"type\":\"parcoords\",\"line\":{\"colorbar\":{\"outlinewidth\":0,\"ticks\":\"\"}}}],\"scatterpolargl\":[{\"type\":\"scatterpolargl\",\"marker\":{\"colorbar\":{\"outlinewidth\":0,\"ticks\":\"\"}}}],\"bar\":[{\"error_x\":{\"color\":\"#2a3f5f\"},\"error_y\":{\"color\":\"#2a3f5f\"},\"marker\":{\"line\":{\"color\":\"#E5ECF6\",\"width\":0.5},\"pattern\":{\"fillmode\":\"overlay\",\"size\":10,\"solidity\":0.2}},\"type\":\"bar\"}],\"scattergeo\":[{\"type\":\"scattergeo\",\"marker\":{\"colorbar\":{\"outlinewidth\":0,\"ticks\":\"\"}}}],\"scatterpolar\":[{\"type\":\"scatterpolar\",\"marker\":{\"colorbar\":{\"outlinewidth\":0,\"ticks\":\"\"}}}],\"histogram\":[{\"marker\":{\"pattern\":{\"fillmode\":\"overlay\",\"size\":10,\"solidity\":0.2}},\"type\":\"histogram\"}],\"scattergl\":[{\"type\":\"scattergl\",\"marker\":{\"colorbar\":{\"outlinewidth\":0,\"ticks\":\"\"}}}],\"scatter3d\":[{\"type\":\"scatter3d\",\"line\":{\"colorbar\":{\"outlinewidth\":0,\"ticks\":\"\"}},\"marker\":{\"colorbar\":{\"outlinewidth\":0,\"ticks\":\"\"}}}],\"scattermapbox\":[{\"type\":\"scattermapbox\",\"marker\":{\"colorbar\":{\"outlinewidth\":0,\"ticks\":\"\"}}}],\"scatterternary\":[{\"type\":\"scatterternary\",\"marker\":{\"colorbar\":{\"outlinewidth\":0,\"ticks\":\"\"}}}],\"scattercarpet\":[{\"type\":\"scattercarpet\",\"marker\":{\"colorbar\":{\"outlinewidth\":0,\"ticks\":\"\"}}}],\"carpet\":[{\"aaxis\":{\"endlinecolor\":\"#2a3f5f\",\"gridcolor\":\"white\",\"linecolor\":\"white\",\"minorgridcolor\":\"white\",\"startlinecolor\":\"#2a3f5f\"},\"baxis\":{\"endlinecolor\":\"#2a3f5f\",\"gridcolor\":\"white\",\"linecolor\":\"white\",\"minorgridcolor\":\"white\",\"startlinecolor\":\"#2a3f5f\"},\"type\":\"carpet\"}],\"table\":[{\"cells\":{\"fill\":{\"color\":\"#EBF0F8\"},\"line\":{\"color\":\"white\"}},\"header\":{\"fill\":{\"color\":\"#C8D4E3\"},\"line\":{\"color\":\"white\"}},\"type\":\"table\"}],\"barpolar\":[{\"marker\":{\"line\":{\"color\":\"#E5ECF6\",\"width\":0.5},\"pattern\":{\"fillmode\":\"overlay\",\"size\":10,\"solidity\":0.2}},\"type\":\"barpolar\"}],\"pie\":[{\"automargin\":true,\"type\":\"pie\"}]},\"layout\":{\"autotypenumbers\":\"strict\",\"colorway\":[\"#636efa\",\"#EF553B\",\"#00cc96\",\"#ab63fa\",\"#FFA15A\",\"#19d3f3\",\"#FF6692\",\"#B6E880\",\"#FF97FF\",\"#FECB52\"],\"font\":{\"color\":\"#2a3f5f\"},\"hovermode\":\"closest\",\"hoverlabel\":{\"align\":\"left\"},\"paper_bgcolor\":\"white\",\"plot_bgcolor\":\"#E5ECF6\",\"polar\":{\"bgcolor\":\"#E5ECF6\",\"angularaxis\":{\"gridcolor\":\"white\",\"linecolor\":\"white\",\"ticks\":\"\"},\"radialaxis\":{\"gridcolor\":\"white\",\"linecolor\":\"white\",\"ticks\":\"\"}},\"ternary\":{\"bgcolor\":\"#E5ECF6\",\"aaxis\":{\"gridcolor\":\"white\",\"linecolor\":\"white\",\"ticks\":\"\"},\"baxis\":{\"gridcolor\":\"white\",\"linecolor\":\"white\",\"ticks\":\"\"},\"caxis\":{\"gridcolor\":\"white\",\"linecolor\":\"white\",\"ticks\":\"\"}},\"coloraxis\":{\"colorbar\":{\"outlinewidth\":0,\"ticks\":\"\"}},\"colorscale\":{\"sequential\":[[0.0,\"#0d0887\"],[0.1111111111111111,\"#46039f\"],[0.2222222222222222,\"#7201a8\"],[0.3333333333333333,\"#9c179e\"],[0.4444444444444444,\"#bd3786\"],[0.5555555555555556,\"#d8576b\"],[0.6666666666666666,\"#ed7953\"],[0.7777777777777778,\"#fb9f3a\"],[0.8888888888888888,\"#fdca26\"],[1.0,\"#f0f921\"]],\"sequentialminus\":[[0.0,\"#0d0887\"],[0.1111111111111111,\"#46039f\"],[0.2222222222222222,\"#7201a8\"],[0.3333333333333333,\"#9c179e\"],[0.4444444444444444,\"#bd3786\"],[0.5555555555555556,\"#d8576b\"],[0.6666666666666666,\"#ed7953\"],[0.7777777777777778,\"#fb9f3a\"],[0.8888888888888888,\"#fdca26\"],[1.0,\"#f0f921\"]],\"diverging\":[[0,\"#8e0152\"],[0.1,\"#c51b7d\"],[0.2,\"#de77ae\"],[0.3,\"#f1b6da\"],[0.4,\"#fde0ef\"],[0.5,\"#f7f7f7\"],[0.6,\"#e6f5d0\"],[0.7,\"#b8e186\"],[0.8,\"#7fbc41\"],[0.9,\"#4d9221\"],[1,\"#276419\"]]},\"xaxis\":{\"gridcolor\":\"white\",\"linecolor\":\"white\",\"ticks\":\"\",\"title\":{\"standoff\":15},\"zerolinecolor\":\"white\",\"automargin\":true,\"zerolinewidth\":2},\"yaxis\":{\"gridcolor\":\"white\",\"linecolor\":\"white\",\"ticks\":\"\",\"title\":{\"standoff\":15},\"zerolinecolor\":\"white\",\"automargin\":true,\"zerolinewidth\":2},\"scene\":{\"xaxis\":{\"backgroundcolor\":\"#E5ECF6\",\"gridcolor\":\"white\",\"linecolor\":\"white\",\"showbackground\":true,\"ticks\":\"\",\"zerolinecolor\":\"white\",\"gridwidth\":2},\"yaxis\":{\"backgroundcolor\":\"#E5ECF6\",\"gridcolor\":\"white\",\"linecolor\":\"white\",\"showbackground\":true,\"ticks\":\"\",\"zerolinecolor\":\"white\",\"gridwidth\":2},\"zaxis\":{\"backgroundcolor\":\"#E5ECF6\",\"gridcolor\":\"white\",\"linecolor\":\"white\",\"showbackground\":true,\"ticks\":\"\",\"zerolinecolor\":\"white\",\"gridwidth\":2}},\"shapedefaults\":{\"line\":{\"color\":\"#2a3f5f\"}},\"annotationdefaults\":{\"arrowcolor\":\"#2a3f5f\",\"arrowhead\":0,\"arrowwidth\":1},\"geo\":{\"bgcolor\":\"white\",\"landcolor\":\"#E5ECF6\",\"subunitcolor\":\"white\",\"showland\":true,\"showlakes\":true,\"lakecolor\":\"white\"},\"title\":{\"x\":0.05},\"mapbox\":{\"style\":\"light\"}}},\"xaxis\":{\"anchor\":\"y\",\"domain\":[0.0,1.0]},\"yaxis\":{\"anchor\":\"x\",\"domain\":[0.7777777777777778,1.0],\"title\":{\"text\":\"State\"}},\"xaxis2\":{\"anchor\":\"y2\",\"domain\":[0.0,1.0]},\"yaxis2\":{\"anchor\":\"x2\",\"domain\":[0.3888888888888889,0.6111111111111112],\"title\":{\"text\":\"Cost\"}},\"xaxis3\":{\"anchor\":\"y3\",\"domain\":[0.0,1.0],\"title\":{\"text\":\"Time instant t\"}},\"yaxis3\":{\"anchor\":\"x3\",\"domain\":[0.0,0.22222222222222224],\"title\":{\"text\":\"Seed\"}},\"annotations\":[{\"font\":{\"size\":16},\"showarrow\":false,\"text\":\"Trajectory of States\",\"x\":0.5,\"xanchor\":\"center\",\"xref\":\"paper\",\"y\":1.0,\"yanchor\":\"bottom\",\"yref\":\"paper\"},{\"font\":{\"size\":16},\"showarrow\":false,\"text\":\"Trajectory of Cumulative Cost\",\"x\":0.5,\"xanchor\":\"center\",\"xref\":\"paper\",\"y\":0.6111111111111112,\"yanchor\":\"bottom\",\"yref\":\"paper\"},{\"font\":{\"size\":16},\"showarrow\":false,\"text\":\"Trajectory of Actions\",\"x\":0.5,\"xanchor\":\"center\",\"xref\":\"paper\",\"y\":0.22222222222222224,\"yanchor\":\"bottom\",\"yref\":\"paper\"}],\"title\":{\"text\":\"Trajectory for Policy \\\"Optimal\\\" with an average cumulative cost of 1341.9\"},\"height\":700,\"showlegend\":true},                        {\"responsive\": true}                    ).then(function(){\n",
              "                            \n",
              "var gd = document.getElementById('90aca786-a1bf-4ef1-b624-e345c8379742');\n",
              "var x = new MutationObserver(function (mutations, observer) {{\n",
              "        var display = window.getComputedStyle(gd).display;\n",
              "        if (!display || display === 'none') {{\n",
              "            console.log([gd, 'removed!']);\n",
              "            Plotly.purge(gd);\n",
              "            observer.disconnect();\n",
              "        }}\n",
              "}});\n",
              "\n",
              "// Listen for the removal of the full notebook cells\n",
              "var notebookContainer = gd.closest('#notebook-container');\n",
              "if (notebookContainer) {{\n",
              "    x.observe(notebookContainer, {childList: true});\n",
              "}}\n",
              "\n",
              "// Listen for the clearing of the current output cell\n",
              "var outputEl = gd.closest('.output');\n",
              "if (outputEl) {{\n",
              "    x.observe(outputEl, {childList: true});\n",
              "}}\n",
              "\n",
              "                        })                };                            </script>        </div>\n",
              "</body>\n",
              "</html>"
            ]
          },
          "metadata": {},
          "output_type": "display_data"
        }
      ],
      "source": [
        "fig_opt = plot_trajectory(states_list_opt, actions_list_opt, costs_list_opt, policy='Optimal')\n",
        "fig_opt.show()"
      ]
    },
    {
      "cell_type": "markdown",
      "metadata": {
        "id": "DkLGhlf0gRjz"
      },
      "source": [
        "#### Comparison with the \"Always Accept\" Policy"
      ]
    },
    {
      "cell_type": "code",
      "execution_count": null,
      "metadata": {
        "colab": {
          "base_uri": "https://localhost:8080/",
          "height": 717
        },
        "id": "fAZVNdRtgRjz",
        "outputId": "7047714a-fa27-4746-ad49-2eae7c1b4152"
      },
      "outputs": [
        {
          "data": {
            "text/html": [
              "<html>\n",
              "<head><meta charset=\"utf-8\" /></head>\n",
              "<body>\n",
              "    <div>            <script src=\"https://cdnjs.cloudflare.com/ajax/libs/mathjax/2.7.5/MathJax.js?config=TeX-AMS-MML_SVG\"></script><script type=\"text/javascript\">if (window.MathJax && window.MathJax.Hub && window.MathJax.Hub.Config) {window.MathJax.Hub.Config({SVG: {font: \"STIX-Web\"}});}</script>                <script type=\"text/javascript\">window.PlotlyConfig = {MathJaxConfig: 'local'};</script>\n",
              "        <script charset=\"utf-8\" src=\"https://cdn.plot.ly/plotly-2.24.1.min.js\"></script>                <div id=\"26b9789b-8c3d-43be-93ec-e20826fd0f12\" class=\"plotly-graph-div\" style=\"height:700px; width:100%;\"></div>            <script type=\"text/javascript\">                                    window.PLOTLYENV=window.PLOTLYENV || {};                                    if (document.getElementById(\"26b9789b-8c3d-43be-93ec-e20826fd0f12\")) {                    Plotly.newPlot(                        \"26b9789b-8c3d-43be-93ec-e20826fd0f12\",                        [{\"legendgroup\":\"Seed 0\",\"marker\":{\"color\":\"#4C78A8\"},\"mode\":\"lines\",\"name\":\"Seed 0\",\"showlegend\":true,\"x\":[0,1,2,3,4,5,6,7,8,9,10,11,12,13,14,15,16,17,18,19,20,21,22,23,24,25,26,27,28,29,30,31,32,33,34,35,36,37,38,39,40,41,42,43,44,45,46,47,48,49,50],\"y\":[0,1,2,3,4,5,6,7,8,9,9,10,10,10,10,10,10,10,10,10,10,10,10,10,10,10,10,10,10,10,10,10,10,10,10,10,10,10,10,10,10,10,10,10,10,10,10,10,10,10,10],\"type\":\"scatter\",\"xaxis\":\"x\",\"yaxis\":\"y\"},{\"legendgroup\":\"Seed 0\",\"marker\":{\"color\":\"#4C78A8\"},\"mode\":\"lines\",\"name\":\"Seed 0\",\"showlegend\":false,\"x\":[0,1,2,3,4,5,6,7,8,9,10,11,12,13,14,15,16,17,18,19,20,21,22,23,24,25,26,27,28,29,30,31,32,33,34,35,36,37,38,39,40,41,42,43,44,45,46,47,48,49],\"y\":[-1.0,-1.0,2.0,10.0,25.0,49.0,84.0,132.0,195.0,275.0,355.0,454.0,553.0,652.0,751.0,850.0,949.0,1048.0,1147.0,1246.0,1345.0,1444.0,1543.0,1642.0,1741.0,1840.0,1939.0,2038.0,2137.0,2236.0,2335.0,2434.0,2533.0,2632.0,2731.0,2830.0,2929.0,3028.0,3127.0,3226.0,3325.0,3424.0,3523.0,3622.0,3721.0,3820.0,3919.0,4018.0,4117.0,4216.0],\"type\":\"scatter\",\"xaxis\":\"x2\",\"yaxis\":\"y2\"},{\"legendgroup\":\"Seed 1\",\"marker\":{\"color\":\"#F58518\"},\"mode\":\"lines\",\"name\":\"Seed 1\",\"showlegend\":true,\"x\":[0,1,2,3,4,5,6,7,8,9,10,11,12,13,14,15,16,17,18,19,20,21,22,23,24,25,26,27,28,29,30,31,32,33,34,35,36,37,38,39,40,41,42,43,44,45,46,47,48,49,50],\"y\":[0,1,2,0,1,2,2,3,4,5,6,7,8,8,9,8,9,10,10,10,10,10,10,10,10,10,10,10,10,10,10,10,10,10,10,10,10,10,10,10,10,10,10,10,10,10,10,10,10,10,10],\"type\":\"scatter\",\"xaxis\":\"x\",\"yaxis\":\"y\"},{\"legendgroup\":\"Seed 1\",\"marker\":{\"color\":\"#F58518\"},\"mode\":\"lines\",\"name\":\"Seed 1\",\"showlegend\":false,\"x\":[0,1,2,3,4,5,6,7,8,9,10,11,12,13,14,15,16,17,18,19,20,21,22,23,24,25,26,27,28,29,30,31,32,33,34,35,36,37,38,39,40,41,42,43,44,45,46,47,48,49],\"y\":[-1.0,-1.0,2.0,1.0,1.0,4.0,7.0,15.0,30.0,54.0,89.0,137.0,200.0,263.0,343.0,406.0,486.0,585.0,684.0,783.0,882.0,981.0,1080.0,1179.0,1278.0,1377.0,1476.0,1575.0,1674.0,1773.0,1872.0,1971.0,2070.0,2169.0,2268.0,2367.0,2466.0,2565.0,2664.0,2763.0,2862.0,2961.0,3060.0,3159.0,3258.0,3357.0,3456.0,3555.0,3654.0,3753.0],\"type\":\"scatter\",\"xaxis\":\"x2\",\"yaxis\":\"y2\"},{\"legendgroup\":\"Seed 2\",\"marker\":{\"color\":\"#E45756\"},\"mode\":\"lines\",\"name\":\"Seed 2\",\"showlegend\":true,\"x\":[0,1,2,3,4,5,6,7,8,9,10,11,12,13,14,15,16,17,18,19,20,21,22,23,24,25,26,27,28,29,30,31,32,33,34,35,36,37,38,39,40,41,42,43,44,45,46,47,48,49,50],\"y\":[0,1,1,2,3,4,5,5,6,6,6,7,8,8,9,9,10,10,10,10,10,10,10,10,10,10,10,10,10,10,10,10,10,10,10,10,10,10,10,10,10,10,10,10,10,10,10,10,10,10,10],\"type\":\"scatter\",\"xaxis\":\"x\",\"yaxis\":\"y\"},{\"legendgroup\":\"Seed 2\",\"marker\":{\"color\":\"#E45756\"},\"mode\":\"lines\",\"name\":\"Seed 2\",\"showlegend\":false,\"x\":[0,1,2,3,4,5,6,7,8,9,10,11,12,13,14,15,16,17,18,19,20,21,22,23,24,25,26,27,28,29,30,31,32,33,34,35,36,37,38,39,40,41,42,43,44,45,46,47,48,49],\"y\":[-1.0,-1.0,-1.0,2.0,10.0,25.0,49.0,73.0,108.0,143.0,178.0,226.0,289.0,352.0,432.0,512.0,611.0,710.0,809.0,908.0,1007.0,1106.0,1205.0,1304.0,1403.0,1502.0,1601.0,1700.0,1799.0,1898.0,1997.0,2096.0,2195.0,2294.0,2393.0,2492.0,2591.0,2690.0,2789.0,2888.0,2987.0,3086.0,3185.0,3284.0,3383.0,3482.0,3581.0,3680.0,3779.0,3878.0],\"type\":\"scatter\",\"xaxis\":\"x2\",\"yaxis\":\"y2\"},{\"legendgroup\":\"Seed 3\",\"marker\":{\"color\":\"#72B7B2\"},\"mode\":\"lines\",\"name\":\"Seed 3\",\"showlegend\":true,\"x\":[0,1,2,3,4,5,6,7,8,9,10,11,12,13,14,15,16,17,18,19,20,21,22,23,24,25,26,27,28,29,30,31,32,33,34,35,36,37,38,39,40,41,42,43,44,45,46,47,48,49,50],\"y\":[0,1,2,3,4,5,6,6,6,6,7,6,7,8,8,9,10,10,10,10,10,10,10,10,10,10,10,10,10,10,10,10,10,10,10,10,10,10,10,10,10,10,10,10,10,10,10,10,10,10,10],\"type\":\"scatter\",\"xaxis\":\"x\",\"yaxis\":\"y\"},{\"legendgroup\":\"Seed 3\",\"marker\":{\"color\":\"#72B7B2\"},\"mode\":\"lines\",\"name\":\"Seed 3\",\"showlegend\":false,\"x\":[0,1,2,3,4,5,6,7,8,9,10,11,12,13,14,15,16,17,18,19,20,21,22,23,24,25,26,27,28,29,30,31,32,33,34,35,36,37,38,39,40,41,42,43,44,45,46,47,48,49],\"y\":[-1.0,-1.0,2.0,10.0,25.0,49.0,84.0,119.0,154.0,189.0,237.0,272.0,320.0,383.0,446.0,526.0,625.0,724.0,823.0,922.0,1021.0,1120.0,1219.0,1318.0,1417.0,1516.0,1615.0,1714.0,1813.0,1912.0,2011.0,2110.0,2209.0,2308.0,2407.0,2506.0,2605.0,2704.0,2803.0,2902.0,3001.0,3100.0,3199.0,3298.0,3397.0,3496.0,3595.0,3694.0,3793.0,3892.0],\"type\":\"scatter\",\"xaxis\":\"x2\",\"yaxis\":\"y2\"},{\"legendgroup\":\"Seed 4\",\"marker\":{\"color\":\"#54A24B\"},\"mode\":\"lines\",\"name\":\"Seed 4\",\"showlegend\":true,\"x\":[0,1,2,3,4,5,6,7,8,9,10,11,12,13,14,15,16,17,18,19,20,21,22,23,24,25,26,27,28,29,30,31,32,33,34,35,36,37,38,39,40,41,42,43,44,45,46,47,48,49,50],\"y\":[0,1,2,3,4,5,5,6,5,5,6,7,7,8,9,9,10,10,10,10,10,10,10,10,10,10,10,10,10,10,10,10,10,10,10,10,10,10,10,10,10,10,10,10,10,10,10,10,10,10,10],\"type\":\"scatter\",\"xaxis\":\"x\",\"yaxis\":\"y\"},{\"legendgroup\":\"Seed 4\",\"marker\":{\"color\":\"#54A24B\"},\"mode\":\"lines\",\"name\":\"Seed 4\",\"showlegend\":false,\"x\":[0,1,2,3,4,5,6,7,8,9,10,11,12,13,14,15,16,17,18,19,20,21,22,23,24,25,26,27,28,29,30,31,32,33,34,35,36,37,38,39,40,41,42,43,44,45,46,47,48,49],\"y\":[-1.0,-1.0,2.0,10.0,25.0,49.0,73.0,108.0,132.0,156.0,191.0,239.0,287.0,350.0,430.0,510.0,609.0,708.0,807.0,906.0,1005.0,1104.0,1203.0,1302.0,1401.0,1500.0,1599.0,1698.0,1797.0,1896.0,1995.0,2094.0,2193.0,2292.0,2391.0,2490.0,2589.0,2688.0,2787.0,2886.0,2985.0,3084.0,3183.0,3282.0,3381.0,3480.0,3579.0,3678.0,3777.0,3876.0],\"type\":\"scatter\",\"xaxis\":\"x2\",\"yaxis\":\"y2\"},{\"legendgroup\":\"Seed 5\",\"marker\":{\"color\":\"#EECA3B\"},\"mode\":\"lines\",\"name\":\"Seed 5\",\"showlegend\":true,\"x\":[0,1,2,3,4,5,6,7,8,9,10,11,12,13,14,15,16,17,18,19,20,21,22,23,24,25,26,27,28,29,30,31,32,33,34,35,36,37,38,39,40,41,42,43,44,45,46,47,48,49,50],\"y\":[0,1,2,3,4,5,6,7,8,8,8,8,9,10,10,10,10,10,10,10,10,10,10,10,10,10,10,10,10,10,10,10,10,10,10,10,10,10,10,10,10,10,10,10,10,10,10,10,10,10,10],\"type\":\"scatter\",\"xaxis\":\"x\",\"yaxis\":\"y\"},{\"legendgroup\":\"Seed 5\",\"marker\":{\"color\":\"#EECA3B\"},\"mode\":\"lines\",\"name\":\"Seed 5\",\"showlegend\":false,\"x\":[0,1,2,3,4,5,6,7,8,9,10,11,12,13,14,15,16,17,18,19,20,21,22,23,24,25,26,27,28,29,30,31,32,33,34,35,36,37,38,39,40,41,42,43,44,45,46,47,48,49],\"y\":[-1.0,-1.0,2.0,10.0,25.0,49.0,84.0,132.0,195.0,258.0,321.0,384.0,464.0,563.0,662.0,761.0,860.0,959.0,1058.0,1157.0,1256.0,1355.0,1454.0,1553.0,1652.0,1751.0,1850.0,1949.0,2048.0,2147.0,2246.0,2345.0,2444.0,2543.0,2642.0,2741.0,2840.0,2939.0,3038.0,3137.0,3236.0,3335.0,3434.0,3533.0,3632.0,3731.0,3830.0,3929.0,4028.0,4127.0],\"type\":\"scatter\",\"xaxis\":\"x2\",\"yaxis\":\"y2\"},{\"legendgroup\":\"Seed 6\",\"marker\":{\"color\":\"#B279A2\"},\"mode\":\"lines\",\"name\":\"Seed 6\",\"showlegend\":true,\"x\":[0,1,2,3,4,5,6,7,8,9,10,11,12,13,14,15,16,17,18,19,20,21,22,23,24,25,26,27,28,29,30,31,32,33,34,35,36,37,38,39,40,41,42,43,44,45,46,47,48,49,50],\"y\":[0,1,2,3,3,3,4,5,6,7,8,9,10,10,10,10,10,10,10,10,10,10,10,10,10,10,10,10,10,10,10,10,10,10,10,10,10,10,10,10,10,10,10,10,10,10,10,10,10,10,10],\"type\":\"scatter\",\"xaxis\":\"x\",\"yaxis\":\"y\"},{\"legendgroup\":\"Seed 6\",\"marker\":{\"color\":\"#B279A2\"},\"mode\":\"lines\",\"name\":\"Seed 6\",\"showlegend\":false,\"x\":[0,1,2,3,4,5,6,7,8,9,10,11,12,13,14,15,16,17,18,19,20,21,22,23,24,25,26,27,28,29,30,31,32,33,34,35,36,37,38,39,40,41,42,43,44,45,46,47,48,49],\"y\":[-1.0,-1.0,2.0,10.0,18.0,26.0,41.0,65.0,100.0,148.0,211.0,291.0,390.0,489.0,588.0,687.0,786.0,885.0,984.0,1083.0,1182.0,1281.0,1380.0,1479.0,1578.0,1677.0,1776.0,1875.0,1974.0,2073.0,2172.0,2271.0,2370.0,2469.0,2568.0,2667.0,2766.0,2865.0,2964.0,3063.0,3162.0,3261.0,3360.0,3459.0,3558.0,3657.0,3756.0,3855.0,3954.0,4053.0],\"type\":\"scatter\",\"xaxis\":\"x2\",\"yaxis\":\"y2\"},{\"legendgroup\":\"Seed 7\",\"marker\":{\"color\":\"#FF9DA6\"},\"mode\":\"lines\",\"name\":\"Seed 7\",\"showlegend\":true,\"x\":[0,1,2,3,4,5,6,7,8,9,10,11,12,13,14,15,16,17,18,19,20,21,22,23,24,25,26,27,28,29,30,31,32,33,34,35,36,37,38,39,40,41,42,43,44,45,46,47,48,49,50],\"y\":[0,1,2,3,4,5,6,7,7,7,8,9,10,10,10,10,10,10,10,10,10,10,10,10,10,10,10,10,10,10,10,10,10,10,10,10,10,10,10,10,10,10,10,10,10,10,10,10,10,10,10],\"type\":\"scatter\",\"xaxis\":\"x\",\"yaxis\":\"y\"},{\"legendgroup\":\"Seed 7\",\"marker\":{\"color\":\"#FF9DA6\"},\"mode\":\"lines\",\"name\":\"Seed 7\",\"showlegend\":false,\"x\":[0,1,2,3,4,5,6,7,8,9,10,11,12,13,14,15,16,17,18,19,20,21,22,23,24,25,26,27,28,29,30,31,32,33,34,35,36,37,38,39,40,41,42,43,44,45,46,47,48,49],\"y\":[-1.0,-1.0,2.0,10.0,25.0,49.0,84.0,132.0,180.0,228.0,291.0,371.0,470.0,569.0,668.0,767.0,866.0,965.0,1064.0,1163.0,1262.0,1361.0,1460.0,1559.0,1658.0,1757.0,1856.0,1955.0,2054.0,2153.0,2252.0,2351.0,2450.0,2549.0,2648.0,2747.0,2846.0,2945.0,3044.0,3143.0,3242.0,3341.0,3440.0,3539.0,3638.0,3737.0,3836.0,3935.0,4034.0,4133.0],\"type\":\"scatter\",\"xaxis\":\"x2\",\"yaxis\":\"y2\"},{\"legendgroup\":\"Seed 8\",\"marker\":{\"color\":\"#9D755D\"},\"mode\":\"lines\",\"name\":\"Seed 8\",\"showlegend\":true,\"x\":[0,1,2,3,4,5,6,7,8,9,10,11,12,13,14,15,16,17,18,19,20,21,22,23,24,25,26,27,28,29,30,31,32,33,34,35,36,37,38,39,40,41,42,43,44,45,46,47,48,49,50],\"y\":[0,1,2,3,4,5,4,5,6,7,8,9,10,10,10,10,10,10,10,10,10,10,10,10,10,10,10,10,10,10,10,10,10,10,10,10,10,10,10,10,10,10,10,10,10,10,10,10,10,10,10],\"type\":\"scatter\",\"xaxis\":\"x\",\"yaxis\":\"y\"},{\"legendgroup\":\"Seed 8\",\"marker\":{\"color\":\"#9D755D\"},\"mode\":\"lines\",\"name\":\"Seed 8\",\"showlegend\":false,\"x\":[0,1,2,3,4,5,6,7,8,9,10,11,12,13,14,15,16,17,18,19,20,21,22,23,24,25,26,27,28,29,30,31,32,33,34,35,36,37,38,39,40,41,42,43,44,45,46,47,48,49],\"y\":[-1.0,-1.0,2.0,10.0,25.0,49.0,64.0,88.0,123.0,171.0,234.0,314.0,413.0,512.0,611.0,710.0,809.0,908.0,1007.0,1106.0,1205.0,1304.0,1403.0,1502.0,1601.0,1700.0,1799.0,1898.0,1997.0,2096.0,2195.0,2294.0,2393.0,2492.0,2591.0,2690.0,2789.0,2888.0,2987.0,3086.0,3185.0,3284.0,3383.0,3482.0,3581.0,3680.0,3779.0,3878.0,3977.0,4076.0],\"type\":\"scatter\",\"xaxis\":\"x2\",\"yaxis\":\"y2\"},{\"legendgroup\":\"Seed 9\",\"marker\":{\"color\":\"#BAB0AC\"},\"mode\":\"lines\",\"name\":\"Seed 9\",\"showlegend\":true,\"x\":[0,1,2,3,4,5,6,7,8,9,10,11,12,13,14,15,16,17,18,19,20,21,22,23,24,25,26,27,28,29,30,31,32,33,34,35,36,37,38,39,40,41,42,43,44,45,46,47,48,49,50],\"y\":[0,0,1,2,2,2,3,4,5,5,6,6,7,8,7,8,9,10,10,10,10,10,10,10,10,10,10,10,10,10,10,10,10,10,10,10,10,10,10,10,10,10,10,10,10,10,10,10,10,10,10],\"type\":\"scatter\",\"xaxis\":\"x\",\"yaxis\":\"y\"},{\"legendgroup\":\"Seed 9\",\"marker\":{\"color\":\"#BAB0AC\"},\"mode\":\"lines\",\"name\":\"Seed 9\",\"showlegend\":false,\"x\":[0,1,2,3,4,5,6,7,8,9,10,11,12,13,14,15,16,17,18,19,20,21,22,23,24,25,26,27,28,29,30,31,32,33,34,35,36,37,38,39,40,41,42,43,44,45,46,47,48,49],\"y\":[-1.0,-2.0,-2.0,1.0,4.0,7.0,15.0,30.0,54.0,78.0,113.0,148.0,196.0,259.0,307.0,370.0,450.0,549.0,648.0,747.0,846.0,945.0,1044.0,1143.0,1242.0,1341.0,1440.0,1539.0,1638.0,1737.0,1836.0,1935.0,2034.0,2133.0,2232.0,2331.0,2430.0,2529.0,2628.0,2727.0,2826.0,2925.0,3024.0,3123.0,3222.0,3321.0,3420.0,3519.0,3618.0,3717.0],\"type\":\"scatter\",\"xaxis\":\"x2\",\"yaxis\":\"y2\"},{\"colorscale\":[[0.0,\"rgb(247,252,245)\"],[0.125,\"rgb(229,245,224)\"],[0.25,\"rgb(199,233,192)\"],[0.375,\"rgb(161,217,155)\"],[0.5,\"rgb(116,196,118)\"],[0.625,\"rgb(65,171,93)\"],[0.75,\"rgb(35,139,69)\"],[0.875,\"rgb(0,109,44)\"],[1.0,\"rgb(0,68,27)\"]],\"name\":\"Actions\",\"showscale\":false,\"x\":[0,1,2,3,4,5,6,7,8,9,10,11,12,13,14,15,16,17,18,19,20,21,22,23,24,25,26,27,28,29,30,31,32,33,34,35,36,37,38,39,40,41,42,43,44,45,46,47,48,49,0,1,2,3,4,5,6,7,8,9,10,11,12,13,14,15,16,17,18,19,20,21,22,23,24,25,26,27,28,29,30,31,32,33,34,35,36,37,38,39,40,41,42,43,44,45,46,47,48,49,0,1,2,3,4,5,6,7,8,9,10,11,12,13,14,15,16,17,18,19,20,21,22,23,24,25,26,27,28,29,30,31,32,33,34,35,36,37,38,39,40,41,42,43,44,45,46,47,48,49,0,1,2,3,4,5,6,7,8,9,10,11,12,13,14,15,16,17,18,19,20,21,22,23,24,25,26,27,28,29,30,31,32,33,34,35,36,37,38,39,40,41,42,43,44,45,46,47,48,49,0,1,2,3,4,5,6,7,8,9,10,11,12,13,14,15,16,17,18,19,20,21,22,23,24,25,26,27,28,29,30,31,32,33,34,35,36,37,38,39,40,41,42,43,44,45,46,47,48,49,0,1,2,3,4,5,6,7,8,9,10,11,12,13,14,15,16,17,18,19,20,21,22,23,24,25,26,27,28,29,30,31,32,33,34,35,36,37,38,39,40,41,42,43,44,45,46,47,48,49,0,1,2,3,4,5,6,7,8,9,10,11,12,13,14,15,16,17,18,19,20,21,22,23,24,25,26,27,28,29,30,31,32,33,34,35,36,37,38,39,40,41,42,43,44,45,46,47,48,49,0,1,2,3,4,5,6,7,8,9,10,11,12,13,14,15,16,17,18,19,20,21,22,23,24,25,26,27,28,29,30,31,32,33,34,35,36,37,38,39,40,41,42,43,44,45,46,47,48,49,0,1,2,3,4,5,6,7,8,9,10,11,12,13,14,15,16,17,18,19,20,21,22,23,24,25,26,27,28,29,30,31,32,33,34,35,36,37,38,39,40,41,42,43,44,45,46,47,48,49,0,1,2,3,4,5,6,7,8,9,10,11,12,13,14,15,16,17,18,19,20,21,22,23,24,25,26,27,28,29,30,31,32,33,34,35,36,37,38,39,40,41,42,43,44,45,46,47,48,49],\"xgap\":1,\"y\":[0,0,0,0,0,0,0,0,0,0,0,0,0,0,0,0,0,0,0,0,0,0,0,0,0,0,0,0,0,0,0,0,0,0,0,0,0,0,0,0,0,0,0,0,0,0,0,0,0,0,1,1,1,1,1,1,1,1,1,1,1,1,1,1,1,1,1,1,1,1,1,1,1,1,1,1,1,1,1,1,1,1,1,1,1,1,1,1,1,1,1,1,1,1,1,1,1,1,1,1,2,2,2,2,2,2,2,2,2,2,2,2,2,2,2,2,2,2,2,2,2,2,2,2,2,2,2,2,2,2,2,2,2,2,2,2,2,2,2,2,2,2,2,2,2,2,2,2,2,2,3,3,3,3,3,3,3,3,3,3,3,3,3,3,3,3,3,3,3,3,3,3,3,3,3,3,3,3,3,3,3,3,3,3,3,3,3,3,3,3,3,3,3,3,3,3,3,3,3,3,4,4,4,4,4,4,4,4,4,4,4,4,4,4,4,4,4,4,4,4,4,4,4,4,4,4,4,4,4,4,4,4,4,4,4,4,4,4,4,4,4,4,4,4,4,4,4,4,4,4,5,5,5,5,5,5,5,5,5,5,5,5,5,5,5,5,5,5,5,5,5,5,5,5,5,5,5,5,5,5,5,5,5,5,5,5,5,5,5,5,5,5,5,5,5,5,5,5,5,5,6,6,6,6,6,6,6,6,6,6,6,6,6,6,6,6,6,6,6,6,6,6,6,6,6,6,6,6,6,6,6,6,6,6,6,6,6,6,6,6,6,6,6,6,6,6,6,6,6,6,7,7,7,7,7,7,7,7,7,7,7,7,7,7,7,7,7,7,7,7,7,7,7,7,7,7,7,7,7,7,7,7,7,7,7,7,7,7,7,7,7,7,7,7,7,7,7,7,7,7,8,8,8,8,8,8,8,8,8,8,8,8,8,8,8,8,8,8,8,8,8,8,8,8,8,8,8,8,8,8,8,8,8,8,8,8,8,8,8,8,8,8,8,8,8,8,8,8,8,8,9,9,9,9,9,9,9,9,9,9,9,9,9,9,9,9,9,9,9,9,9,9,9,9,9,9,9,9,9,9,9,9,9,9,9,9,9,9,9,9,9,9,9,9,9,9,9,9,9,9],\"ygap\":1,\"z\":[1.0,1.0,1.0,1.0,1.0,1.0,1.0,1.0,1.0,1.0,1.0,1.0,1.0,1.0,1.0,1.0,1.0,1.0,1.0,1.0,1.0,1.0,1.0,1.0,1.0,1.0,1.0,1.0,1.0,1.0,1.0,1.0,1.0,1.0,1.0,1.0,1.0,1.0,1.0,1.0,1.0,1.0,1.0,1.0,1.0,1.0,1.0,1.0,1.0,1.0,1.0,1.0,1.0,1.0,1.0,1.0,1.0,1.0,1.0,1.0,1.0,1.0,1.0,1.0,1.0,1.0,1.0,1.0,1.0,1.0,1.0,1.0,1.0,1.0,1.0,1.0,1.0,1.0,1.0,1.0,1.0,1.0,1.0,1.0,1.0,1.0,1.0,1.0,1.0,1.0,1.0,1.0,1.0,1.0,1.0,1.0,1.0,1.0,1.0,1.0,1.0,1.0,1.0,1.0,1.0,1.0,1.0,1.0,1.0,1.0,1.0,1.0,1.0,1.0,1.0,1.0,1.0,1.0,1.0,1.0,1.0,1.0,1.0,1.0,1.0,1.0,1.0,1.0,1.0,1.0,1.0,1.0,1.0,1.0,1.0,1.0,1.0,1.0,1.0,1.0,1.0,1.0,1.0,1.0,1.0,1.0,1.0,1.0,1.0,1.0,1.0,1.0,1.0,1.0,1.0,1.0,1.0,1.0,1.0,1.0,1.0,1.0,1.0,1.0,1.0,1.0,1.0,1.0,1.0,1.0,1.0,1.0,1.0,1.0,1.0,1.0,1.0,1.0,1.0,1.0,1.0,1.0,1.0,1.0,1.0,1.0,1.0,1.0,1.0,1.0,1.0,1.0,1.0,1.0,1.0,1.0,1.0,1.0,1.0,1.0,1.0,1.0,1.0,1.0,1.0,1.0,1.0,1.0,1.0,1.0,1.0,1.0,1.0,1.0,1.0,1.0,1.0,1.0,1.0,1.0,1.0,1.0,1.0,1.0,1.0,1.0,1.0,1.0,1.0,1.0,1.0,1.0,1.0,1.0,1.0,1.0,1.0,1.0,1.0,1.0,1.0,1.0,1.0,1.0,1.0,1.0,1.0,1.0,1.0,1.0,1.0,1.0,1.0,1.0,1.0,1.0,1.0,1.0,1.0,1.0,1.0,1.0,1.0,1.0,1.0,1.0,1.0,1.0,1.0,1.0,1.0,1.0,1.0,1.0,1.0,1.0,1.0,1.0,1.0,1.0,1.0,1.0,1.0,1.0,1.0,1.0,1.0,1.0,1.0,1.0,1.0,1.0,1.0,1.0,1.0,1.0,1.0,1.0,1.0,1.0,1.0,1.0,1.0,1.0,1.0,1.0,1.0,1.0,1.0,1.0,1.0,1.0,1.0,1.0,1.0,1.0,1.0,1.0,1.0,1.0,1.0,1.0,1.0,1.0,1.0,1.0,1.0,1.0,1.0,1.0,1.0,1.0,1.0,1.0,1.0,1.0,1.0,1.0,1.0,1.0,1.0,1.0,1.0,1.0,1.0,1.0,1.0,1.0,1.0,1.0,1.0,1.0,1.0,1.0,1.0,1.0,1.0,1.0,1.0,1.0,1.0,1.0,1.0,1.0,1.0,1.0,1.0,1.0,1.0,1.0,1.0,1.0,1.0,1.0,1.0,1.0,1.0,1.0,1.0,1.0,1.0,1.0,1.0,1.0,1.0,1.0,1.0,1.0,1.0,1.0,1.0,1.0,1.0,1.0,1.0,1.0,1.0,1.0,1.0,1.0,1.0,1.0,1.0,1.0,1.0,1.0,1.0,1.0,1.0,1.0,1.0,1.0,1.0,1.0,1.0,1.0,1.0,1.0,1.0,1.0,1.0,1.0,1.0,1.0,1.0,1.0,1.0,1.0,1.0,1.0,1.0,1.0,1.0,1.0,1.0,1.0,1.0,1.0,1.0,1.0,1.0,1.0,1.0,1.0,1.0,1.0,1.0,1.0,1.0,1.0,1.0,1.0,1.0,1.0,1.0,1.0,1.0,1.0,1.0,1.0,1.0,1.0,1.0,1.0,1.0,1.0,1.0,1.0,1.0,1.0,1.0,1.0,1.0,1.0,1.0,1.0,1.0,1.0,1.0,1.0,1.0,1.0,1.0,1.0,1.0,1.0,1.0,1.0,1.0,1.0,1.0,1.0,1.0,1.0,1.0,1.0,1.0,1.0,1.0,1.0],\"zmax\":1,\"zmin\":0,\"type\":\"heatmap\",\"xaxis\":\"x3\",\"yaxis\":\"y3\"}],                        {\"template\":{\"data\":{\"histogram2dcontour\":[{\"type\":\"histogram2dcontour\",\"colorbar\":{\"outlinewidth\":0,\"ticks\":\"\"},\"colorscale\":[[0.0,\"#0d0887\"],[0.1111111111111111,\"#46039f\"],[0.2222222222222222,\"#7201a8\"],[0.3333333333333333,\"#9c179e\"],[0.4444444444444444,\"#bd3786\"],[0.5555555555555556,\"#d8576b\"],[0.6666666666666666,\"#ed7953\"],[0.7777777777777778,\"#fb9f3a\"],[0.8888888888888888,\"#fdca26\"],[1.0,\"#f0f921\"]]}],\"choropleth\":[{\"type\":\"choropleth\",\"colorbar\":{\"outlinewidth\":0,\"ticks\":\"\"}}],\"histogram2d\":[{\"type\":\"histogram2d\",\"colorbar\":{\"outlinewidth\":0,\"ticks\":\"\"},\"colorscale\":[[0.0,\"#0d0887\"],[0.1111111111111111,\"#46039f\"],[0.2222222222222222,\"#7201a8\"],[0.3333333333333333,\"#9c179e\"],[0.4444444444444444,\"#bd3786\"],[0.5555555555555556,\"#d8576b\"],[0.6666666666666666,\"#ed7953\"],[0.7777777777777778,\"#fb9f3a\"],[0.8888888888888888,\"#fdca26\"],[1.0,\"#f0f921\"]]}],\"heatmap\":[{\"type\":\"heatmap\",\"colorbar\":{\"outlinewidth\":0,\"ticks\":\"\"},\"colorscale\":[[0.0,\"#0d0887\"],[0.1111111111111111,\"#46039f\"],[0.2222222222222222,\"#7201a8\"],[0.3333333333333333,\"#9c179e\"],[0.4444444444444444,\"#bd3786\"],[0.5555555555555556,\"#d8576b\"],[0.6666666666666666,\"#ed7953\"],[0.7777777777777778,\"#fb9f3a\"],[0.8888888888888888,\"#fdca26\"],[1.0,\"#f0f921\"]]}],\"heatmapgl\":[{\"type\":\"heatmapgl\",\"colorbar\":{\"outlinewidth\":0,\"ticks\":\"\"},\"colorscale\":[[0.0,\"#0d0887\"],[0.1111111111111111,\"#46039f\"],[0.2222222222222222,\"#7201a8\"],[0.3333333333333333,\"#9c179e\"],[0.4444444444444444,\"#bd3786\"],[0.5555555555555556,\"#d8576b\"],[0.6666666666666666,\"#ed7953\"],[0.7777777777777778,\"#fb9f3a\"],[0.8888888888888888,\"#fdca26\"],[1.0,\"#f0f921\"]]}],\"contourcarpet\":[{\"type\":\"contourcarpet\",\"colorbar\":{\"outlinewidth\":0,\"ticks\":\"\"}}],\"contour\":[{\"type\":\"contour\",\"colorbar\":{\"outlinewidth\":0,\"ticks\":\"\"},\"colorscale\":[[0.0,\"#0d0887\"],[0.1111111111111111,\"#46039f\"],[0.2222222222222222,\"#7201a8\"],[0.3333333333333333,\"#9c179e\"],[0.4444444444444444,\"#bd3786\"],[0.5555555555555556,\"#d8576b\"],[0.6666666666666666,\"#ed7953\"],[0.7777777777777778,\"#fb9f3a\"],[0.8888888888888888,\"#fdca26\"],[1.0,\"#f0f921\"]]}],\"surface\":[{\"type\":\"surface\",\"colorbar\":{\"outlinewidth\":0,\"ticks\":\"\"},\"colorscale\":[[0.0,\"#0d0887\"],[0.1111111111111111,\"#46039f\"],[0.2222222222222222,\"#7201a8\"],[0.3333333333333333,\"#9c179e\"],[0.4444444444444444,\"#bd3786\"],[0.5555555555555556,\"#d8576b\"],[0.6666666666666666,\"#ed7953\"],[0.7777777777777778,\"#fb9f3a\"],[0.8888888888888888,\"#fdca26\"],[1.0,\"#f0f921\"]]}],\"mesh3d\":[{\"type\":\"mesh3d\",\"colorbar\":{\"outlinewidth\":0,\"ticks\":\"\"}}],\"scatter\":[{\"fillpattern\":{\"fillmode\":\"overlay\",\"size\":10,\"solidity\":0.2},\"type\":\"scatter\"}],\"parcoords\":[{\"type\":\"parcoords\",\"line\":{\"colorbar\":{\"outlinewidth\":0,\"ticks\":\"\"}}}],\"scatterpolargl\":[{\"type\":\"scatterpolargl\",\"marker\":{\"colorbar\":{\"outlinewidth\":0,\"ticks\":\"\"}}}],\"bar\":[{\"error_x\":{\"color\":\"#2a3f5f\"},\"error_y\":{\"color\":\"#2a3f5f\"},\"marker\":{\"line\":{\"color\":\"#E5ECF6\",\"width\":0.5},\"pattern\":{\"fillmode\":\"overlay\",\"size\":10,\"solidity\":0.2}},\"type\":\"bar\"}],\"scattergeo\":[{\"type\":\"scattergeo\",\"marker\":{\"colorbar\":{\"outlinewidth\":0,\"ticks\":\"\"}}}],\"scatterpolar\":[{\"type\":\"scatterpolar\",\"marker\":{\"colorbar\":{\"outlinewidth\":0,\"ticks\":\"\"}}}],\"histogram\":[{\"marker\":{\"pattern\":{\"fillmode\":\"overlay\",\"size\":10,\"solidity\":0.2}},\"type\":\"histogram\"}],\"scattergl\":[{\"type\":\"scattergl\",\"marker\":{\"colorbar\":{\"outlinewidth\":0,\"ticks\":\"\"}}}],\"scatter3d\":[{\"type\":\"scatter3d\",\"line\":{\"colorbar\":{\"outlinewidth\":0,\"ticks\":\"\"}},\"marker\":{\"colorbar\":{\"outlinewidth\":0,\"ticks\":\"\"}}}],\"scattermapbox\":[{\"type\":\"scattermapbox\",\"marker\":{\"colorbar\":{\"outlinewidth\":0,\"ticks\":\"\"}}}],\"scatterternary\":[{\"type\":\"scatterternary\",\"marker\":{\"colorbar\":{\"outlinewidth\":0,\"ticks\":\"\"}}}],\"scattercarpet\":[{\"type\":\"scattercarpet\",\"marker\":{\"colorbar\":{\"outlinewidth\":0,\"ticks\":\"\"}}}],\"carpet\":[{\"aaxis\":{\"endlinecolor\":\"#2a3f5f\",\"gridcolor\":\"white\",\"linecolor\":\"white\",\"minorgridcolor\":\"white\",\"startlinecolor\":\"#2a3f5f\"},\"baxis\":{\"endlinecolor\":\"#2a3f5f\",\"gridcolor\":\"white\",\"linecolor\":\"white\",\"minorgridcolor\":\"white\",\"startlinecolor\":\"#2a3f5f\"},\"type\":\"carpet\"}],\"table\":[{\"cells\":{\"fill\":{\"color\":\"#EBF0F8\"},\"line\":{\"color\":\"white\"}},\"header\":{\"fill\":{\"color\":\"#C8D4E3\"},\"line\":{\"color\":\"white\"}},\"type\":\"table\"}],\"barpolar\":[{\"marker\":{\"line\":{\"color\":\"#E5ECF6\",\"width\":0.5},\"pattern\":{\"fillmode\":\"overlay\",\"size\":10,\"solidity\":0.2}},\"type\":\"barpolar\"}],\"pie\":[{\"automargin\":true,\"type\":\"pie\"}]},\"layout\":{\"autotypenumbers\":\"strict\",\"colorway\":[\"#636efa\",\"#EF553B\",\"#00cc96\",\"#ab63fa\",\"#FFA15A\",\"#19d3f3\",\"#FF6692\",\"#B6E880\",\"#FF97FF\",\"#FECB52\"],\"font\":{\"color\":\"#2a3f5f\"},\"hovermode\":\"closest\",\"hoverlabel\":{\"align\":\"left\"},\"paper_bgcolor\":\"white\",\"plot_bgcolor\":\"#E5ECF6\",\"polar\":{\"bgcolor\":\"#E5ECF6\",\"angularaxis\":{\"gridcolor\":\"white\",\"linecolor\":\"white\",\"ticks\":\"\"},\"radialaxis\":{\"gridcolor\":\"white\",\"linecolor\":\"white\",\"ticks\":\"\"}},\"ternary\":{\"bgcolor\":\"#E5ECF6\",\"aaxis\":{\"gridcolor\":\"white\",\"linecolor\":\"white\",\"ticks\":\"\"},\"baxis\":{\"gridcolor\":\"white\",\"linecolor\":\"white\",\"ticks\":\"\"},\"caxis\":{\"gridcolor\":\"white\",\"linecolor\":\"white\",\"ticks\":\"\"}},\"coloraxis\":{\"colorbar\":{\"outlinewidth\":0,\"ticks\":\"\"}},\"colorscale\":{\"sequential\":[[0.0,\"#0d0887\"],[0.1111111111111111,\"#46039f\"],[0.2222222222222222,\"#7201a8\"],[0.3333333333333333,\"#9c179e\"],[0.4444444444444444,\"#bd3786\"],[0.5555555555555556,\"#d8576b\"],[0.6666666666666666,\"#ed7953\"],[0.7777777777777778,\"#fb9f3a\"],[0.8888888888888888,\"#fdca26\"],[1.0,\"#f0f921\"]],\"sequentialminus\":[[0.0,\"#0d0887\"],[0.1111111111111111,\"#46039f\"],[0.2222222222222222,\"#7201a8\"],[0.3333333333333333,\"#9c179e\"],[0.4444444444444444,\"#bd3786\"],[0.5555555555555556,\"#d8576b\"],[0.6666666666666666,\"#ed7953\"],[0.7777777777777778,\"#fb9f3a\"],[0.8888888888888888,\"#fdca26\"],[1.0,\"#f0f921\"]],\"diverging\":[[0,\"#8e0152\"],[0.1,\"#c51b7d\"],[0.2,\"#de77ae\"],[0.3,\"#f1b6da\"],[0.4,\"#fde0ef\"],[0.5,\"#f7f7f7\"],[0.6,\"#e6f5d0\"],[0.7,\"#b8e186\"],[0.8,\"#7fbc41\"],[0.9,\"#4d9221\"],[1,\"#276419\"]]},\"xaxis\":{\"gridcolor\":\"white\",\"linecolor\":\"white\",\"ticks\":\"\",\"title\":{\"standoff\":15},\"zerolinecolor\":\"white\",\"automargin\":true,\"zerolinewidth\":2},\"yaxis\":{\"gridcolor\":\"white\",\"linecolor\":\"white\",\"ticks\":\"\",\"title\":{\"standoff\":15},\"zerolinecolor\":\"white\",\"automargin\":true,\"zerolinewidth\":2},\"scene\":{\"xaxis\":{\"backgroundcolor\":\"#E5ECF6\",\"gridcolor\":\"white\",\"linecolor\":\"white\",\"showbackground\":true,\"ticks\":\"\",\"zerolinecolor\":\"white\",\"gridwidth\":2},\"yaxis\":{\"backgroundcolor\":\"#E5ECF6\",\"gridcolor\":\"white\",\"linecolor\":\"white\",\"showbackground\":true,\"ticks\":\"\",\"zerolinecolor\":\"white\",\"gridwidth\":2},\"zaxis\":{\"backgroundcolor\":\"#E5ECF6\",\"gridcolor\":\"white\",\"linecolor\":\"white\",\"showbackground\":true,\"ticks\":\"\",\"zerolinecolor\":\"white\",\"gridwidth\":2}},\"shapedefaults\":{\"line\":{\"color\":\"#2a3f5f\"}},\"annotationdefaults\":{\"arrowcolor\":\"#2a3f5f\",\"arrowhead\":0,\"arrowwidth\":1},\"geo\":{\"bgcolor\":\"white\",\"landcolor\":\"#E5ECF6\",\"subunitcolor\":\"white\",\"showland\":true,\"showlakes\":true,\"lakecolor\":\"white\"},\"title\":{\"x\":0.05},\"mapbox\":{\"style\":\"light\"}}},\"xaxis\":{\"anchor\":\"y\",\"domain\":[0.0,1.0]},\"yaxis\":{\"anchor\":\"x\",\"domain\":[0.7777777777777778,1.0],\"title\":{\"text\":\"State\"}},\"xaxis2\":{\"anchor\":\"y2\",\"domain\":[0.0,1.0]},\"yaxis2\":{\"anchor\":\"x2\",\"domain\":[0.3888888888888889,0.6111111111111112],\"title\":{\"text\":\"Cost\"}},\"xaxis3\":{\"anchor\":\"y3\",\"domain\":[0.0,1.0],\"title\":{\"text\":\"Time instant t\"}},\"yaxis3\":{\"anchor\":\"x3\",\"domain\":[0.0,0.22222222222222224],\"title\":{\"text\":\"Seed\"}},\"annotations\":[{\"font\":{\"size\":16},\"showarrow\":false,\"text\":\"Trajectory of States\",\"x\":0.5,\"xanchor\":\"center\",\"xref\":\"paper\",\"y\":1.0,\"yanchor\":\"bottom\",\"yref\":\"paper\"},{\"font\":{\"size\":16},\"showarrow\":false,\"text\":\"Trajectory of Cumulative Cost\",\"x\":0.5,\"xanchor\":\"center\",\"xref\":\"paper\",\"y\":0.6111111111111112,\"yanchor\":\"bottom\",\"yref\":\"paper\"},{\"font\":{\"size\":16},\"showarrow\":false,\"text\":\"Trajectory of Actions\",\"x\":0.5,\"xanchor\":\"center\",\"xref\":\"paper\",\"y\":0.22222222222222224,\"yanchor\":\"bottom\",\"yref\":\"paper\"}],\"title\":{\"text\":\"Trajectory for Policy \\\"Always accept\\\" with an average cumulative cost of 3972.1\"},\"height\":700,\"showlegend\":true},                        {\"responsive\": true}                    ).then(function(){\n",
              "                            \n",
              "var gd = document.getElementById('26b9789b-8c3d-43be-93ec-e20826fd0f12');\n",
              "var x = new MutationObserver(function (mutations, observer) {{\n",
              "        var display = window.getComputedStyle(gd).display;\n",
              "        if (!display || display === 'none') {{\n",
              "            console.log([gd, 'removed!']);\n",
              "            Plotly.purge(gd);\n",
              "            observer.disconnect();\n",
              "        }}\n",
              "}});\n",
              "\n",
              "// Listen for the removal of the full notebook cells\n",
              "var notebookContainer = gd.closest('#notebook-container');\n",
              "if (notebookContainer) {{\n",
              "    x.observe(notebookContainer, {childList: true});\n",
              "}}\n",
              "\n",
              "// Listen for the clearing of the current output cell\n",
              "var outputEl = gd.closest('.output');\n",
              "if (outputEl) {{\n",
              "    x.observe(outputEl, {childList: true});\n",
              "}}\n",
              "\n",
              "                        })                };                            </script>        </div>\n",
              "</body>\n",
              "</html>"
            ]
          },
          "metadata": {},
          "output_type": "display_data"
        }
      ],
      "source": [
        "fig_trj.show()"
      ]
    },
    {
      "cell_type": "markdown",
      "metadata": {
        "id": "pDhfXNXlgRjz"
      },
      "source": [
        "\n",
        "\n",
        "----------------------------\n",
        "\n",
        "----------------------------"
      ]
    },
    {
      "cell_type": "markdown",
      "metadata": {
        "id": "K0xyDEJ4gRjz"
      },
      "source": [
        "# Restless bandit\n",
        "\n",
        "> Objective: Extend the one queue system for an N-arms restless bandit."
      ]
    },
    {
      "cell_type": "markdown",
      "metadata": {
        "id": "ZI-luiz-gRjz"
      },
      "source": [
        "## Solving the problem"
      ]
    },
    {
      "cell_type": "markdown",
      "metadata": {
        "id": "ue5jmrligRjz"
      },
      "source": [
        "In this scenario, instead of just a single queue, we have N queues, where they are attached by a global budget that limit the number of queues that can accept, therefore, to a queue known its acceptance action it depends to known how many queues are also accepting.\n",
        "\n",
        "> Note: the possible number of combinations of N queues accepting or not is exponential in N, making the problem really intractable."
      ]
    },
    {
      "cell_type": "markdown",
      "metadata": {
        "id": "kVFu8BNigRjz"
      },
      "source": [
        "### Linear program with budget constraint\n",
        "\n",
        "We can solve the N-arms problem considering just one queue as before as the representative queue of the others. Therefore we can formulate the LP as the one queue system but with a new constraint regarding the budget constraints that the queues shall respect."
      ]
    },
    {
      "cell_type": "markdown",
      "metadata": {
        "id": "F9BfXdJXgRjz"
      },
      "source": [
        "#### Formulation of the LP\n",
        "\n",
        "To implement the projection policy, first we have to solve the following Linear Program:"
      ]
    },
    {
      "cell_type": "markdown",
      "metadata": {
        "id": "Et2QFl_agRjz"
      },
      "source": [
        "$$\n",
        "\\begin{aligned}\n",
        "& \\min_{y \\geq 0} \\sum_{t=0}^{T-1} \\sum_{s,a} C_s^a y_{a,s}(t) \\\\\n",
        "& \\text{subject to:}  \\\\\n",
        "& \\quad \\quad (a) \\quad \\; y_{s,0}(t) + y_{s,1}(t) = m_s(t) \\quad \\quad \\forall t \\in [0, T-1], \\quad \\forall s \\\\\n",
        "& \\quad \\quad (b) \\quad \\; m_s(t) = \\sum_{s',a} y_{s',a}(t-1) p_{s',s}^a \\quad \\forall t \\in [1, T-1], \\quad \\forall s \\\\\n",
        "& \\quad \\quad (c) \\quad \\; m_s(0) = m_s^0 \\quad \\quad \\forall s \\\\\n",
        "& \\quad \\quad (d) \\quad \\; \\sum_s y_{s,1}(t) \\leq \\alpha, \\quad \\forall t \\in [0, T-1]\n",
        "\\end{aligned}\n",
        "$$"
      ]
    },
    {
      "cell_type": "markdown",
      "metadata": {
        "id": "0IStvnmRgRjz"
      },
      "source": [
        "> Note: It's very similar to the previous LP, but here we have a budget constraint (d) w.r.t $\\alpha$."
      ]
    },
    {
      "cell_type": "markdown",
      "metadata": {
        "id": "ZVW0xSfdgRjz"
      },
      "source": [
        "### Solving with CVXPY\n",
        "\n",
        "Let's solve this LP problem with the additional budget constraint.\n",
        "\n",
        "> Note: we can leverage the same function we defined before for solving the LP, but now we just need to change some parameters"
      ]
    },
    {
      "cell_type": "code",
      "execution_count": null,
      "metadata": {
        "id": "pxuSuurXgRjz"
      },
      "outputs": [],
      "source": [
        "result_budget = solve_lp(K, T, q, gamma, empty_init=False, geq_than=1e-6, sum_up_to_one=False, budget=budget)"
      ]
    },
    {
      "cell_type": "markdown",
      "metadata": {
        "id": "Il6j94EBgRjz"
      },
      "source": [
        "Parameters used:\n",
        "- `empty_init=False`: Previously we initiate the queue empty, now we initiate with a uniform distribution mass between states.\n",
        "- `geq_than=1e-6`:  Previously we defined a non-negativity constraint where `y` should be equal or greater than $0$, now it's $1e-6$\n",
        "- `sum_up_to_one=False`: Previously we defined a constraint where `y` should not be greater than $1$, now we remove this constraint.\n",
        "- `budget=.5`: This is our $\\alpha$ budget parameter constraint."
      ]
    },
    {
      "cell_type": "markdown",
      "metadata": {
        "id": "9mwdYsl_gRj0"
      },
      "source": [
        "### Getting the policy\n",
        "\n",
        "Let's create a variable to store our policy $y_s^a(t)$."
      ]
    },
    {
      "cell_type": "code",
      "execution_count": null,
      "metadata": {
        "id": "-fbsZZKGgRj0"
      },
      "outputs": [],
      "source": [
        "pi_budget = np.zeros((K+1,T,2))\n",
        "pi_budget[:,:,0] = result_budget['y0']\n",
        "pi_budget[:,:,1] = result_budget['y1']"
      ]
    },
    {
      "cell_type": "markdown",
      "metadata": {
        "id": "Is-c8oFkgRj0"
      },
      "source": [
        "## Projection operator\n",
        "\n",
        "The projection operator converts the LP problem back to the original N-arms problem."
      ]
    },
    {
      "cell_type": "markdown",
      "metadata": {
        "id": "OF2rfUsjgRj0"
      },
      "source": [
        "### Formulation of the Quadratic Programming\n",
        "\n",
        "The formulation is given by:"
      ]
    },
    {
      "cell_type": "markdown",
      "metadata": {
        "id": "ZXe-GCnJgRj0"
      },
      "source": [
        "$$\n",
        "\\begin{aligned}\n",
        "& \\min_{z \\geq 0} \\sum_{s,a} (z_{s,a} - y_{s,a})^2 \\\\\n",
        "& \\text{subject to:}  \\\\\n",
        "& \\quad \\quad (a) \\quad \\; \\sum_a z_{s,a} = M_s \\quad \\quad \\forall s \\\\\n",
        "& \\quad \\quad (b) \\quad \\; \\sum_s z_{s,1} \\leq \\alpha\n",
        "\\end{aligned}\n",
        "$$"
      ]
    },
    {
      "cell_type": "markdown",
      "metadata": {
        "id": "_pV5LnsugRj0"
      },
      "source": [
        "where:\n",
        "- the squared difference $(z_{s,a} - y_{s,a})^2$ guarantess to $z$ approvimates $y$.\n",
        "- (a) Guarantees that fractions of arms/queues accepting and rejecting is correct\n",
        "- (b) Guarantees that the budget is being respected"
      ]
    },
    {
      "cell_type": "markdown",
      "metadata": {
        "id": "LaE_caElgRj0"
      },
      "source": [
        "### Implementation\n",
        "\n",
        "> Note: we again uses CVXPY to solve this quadratic programming."
      ]
    },
    {
      "cell_type": "code",
      "execution_count": null,
      "metadata": {
        "id": "aDuWvAtqgRj0"
      },
      "outputs": [],
      "source": [
        "def projec(M,y,alpha,K):\n",
        "  # Variables\n",
        "  z = cp.Variable((K+1, 2))\n",
        "  constr = []\n",
        "\n",
        "  # (a) \\sum_a z_{s,a} = M_s \\forall s\n",
        "  for s in range(K+1):\n",
        "    constr += [z[s,0] + z[s,1] == M[s]]\n",
        "\n",
        "  # (b) \\sum_s z_{s,1} \\leq \\alpha.\n",
        "  for s in range(K+1):\n",
        "    constr += [sum(z[:,1]) <= alpha]\n",
        "\n",
        "  # z \\geq 0\n",
        "  for s in range(K+1):\n",
        "    for a in range(2):\n",
        "      constr += [z[s,a] >= 0]\n",
        "\n",
        "  # Cost function\n",
        "  Cost = 0\n",
        "  for s in range(K+1):\n",
        "    for a in range(2):\n",
        "      Cost += cp.power((z[s,a] - y[s,a]), 2)\n",
        "\n",
        "  problem = cp.Problem(cp.Minimize(Cost), constr)\n",
        "  result = problem.solve(verbose=False)\n",
        "  return(z.value)"
      ]
    },
    {
      "cell_type": "markdown",
      "metadata": {
        "id": "zoFdwIyYgRj0"
      },
      "source": [
        "## Projection algorithm\n",
        "\n",
        "At each iteration, the algorithm projects and updates the solution."
      ]
    },
    {
      "cell_type": "code",
      "execution_count": null,
      "metadata": {
        "id": "1OgoIPQkgRj0"
      },
      "outputs": [],
      "source": [
        "def get_M_hat(alpha, N=10):\n",
        "  # Variables\n",
        "  y_round = np.zeros((K+1,2))\n",
        "  M = np.ones((K+1))\n",
        "  M = M/(K+1)\n",
        "  M_hat = np.zeros((K+1,T))\n",
        "  M_hat[:,0] = M\n",
        "  for t in range(T-1):\n",
        "    # Projection step\n",
        "    y = projec(M_hat[:,t], pi_budget[:,t,:], alpha, K)\n",
        "    # rounding step\n",
        "    y_round[:,1] = np.floor(N * y[:,1]) / N\n",
        "    y_round[:,0] = M - y_round[:,1]\n",
        "    # Simulation\n",
        "    for k in range(K+1):\n",
        "      up_to_for_a1 = (1/N) * np.floor(N*y_round[k,1])\n",
        "      up_to_for_a0 = M_hat[k,t] - up_to_for_a1\n",
        "      for s in range(int(N*up_to_for_a1)):\n",
        "        s_ = simulate_next_state(s,1,q,K)\n",
        "        M_hat[s_,t+1] += 1/N\n",
        "      for s in range(int(N*up_to_for_a0)):\n",
        "        s_ = simulate_next_state(s,0,q,K)\n",
        "        M_hat[s_,t+1] += 1/N\n",
        "  return M_hat"
      ]
    },
    {
      "cell_type": "markdown",
      "metadata": {
        "id": "3kjBkLIQgRj0"
      },
      "source": [
        "## Asymptotically Optimal\n",
        "\n",
        "When the number of arms $N$ goes to infinity, the optimal policy for the representative queue approximates the N-arms solution."
      ]
    },
    {
      "cell_type": "code",
      "execution_count": null,
      "metadata": {
        "id": "cQ35yxmDgRj0"
      },
      "outputs": [],
      "source": [
        "N_values = [10 * i for i in range(1, 11)]\n",
        "m_sol = np.round(result_budget['m'], 1)\n",
        "norm_values = []\n",
        "for N in N_values:\n",
        "  M_hat = get_M_hat(budget, N)\n",
        "  M_sol = np.round(M_hat, 1)\n",
        "  norm = np.linalg.norm(M_sol - m_sol)\n",
        "  norm_values.append(norm)"
      ]
    },
    {
      "cell_type": "markdown",
      "metadata": {
        "id": "Xhx789sXgRj0"
      },
      "source": [
        "> Note: we are using the Frobenius norm of the differences of the matrix to express the divergence between the two solutions for each value of $N$."
      ]
    },
    {
      "cell_type": "markdown",
      "metadata": {
        "id": "yiF3WcVkgRj0"
      },
      "source": [
        "### Plotting the norm of the difference\n",
        "\n",
        "Let's compare the norm of the difference between the two mass matrix $\\hat{M}$ and $m$ as the number of queues $N$ increases"
      ]
    },
    {
      "cell_type": "code",
      "execution_count": null,
      "metadata": {
        "colab": {
          "base_uri": "https://localhost:8080/",
          "height": 542
        },
        "id": "hUik4iRtgRj0",
        "outputId": "0e7e241d-7851-4e68-9b06-95531737a187"
      },
      "outputs": [
        {
          "data": {
            "text/html": [
              "<html>\n",
              "<head><meta charset=\"utf-8\" /></head>\n",
              "<body>\n",
              "    <div>            <script src=\"https://cdnjs.cloudflare.com/ajax/libs/mathjax/2.7.5/MathJax.js?config=TeX-AMS-MML_SVG\"></script><script type=\"text/javascript\">if (window.MathJax && window.MathJax.Hub && window.MathJax.Hub.Config) {window.MathJax.Hub.Config({SVG: {font: \"STIX-Web\"}});}</script>                <script type=\"text/javascript\">window.PlotlyConfig = {MathJaxConfig: 'local'};</script>\n",
              "        <script charset=\"utf-8\" src=\"https://cdn.plot.ly/plotly-2.24.1.min.js\"></script>                <div id=\"bbaf2134-daab-4ad2-9580-d2f5fd915732\" class=\"plotly-graph-div\" style=\"height:525px; width:100%;\"></div>            <script type=\"text/javascript\">                                    window.PLOTLYENV=window.PLOTLYENV || {};                                    if (document.getElementById(\"bbaf2134-daab-4ad2-9580-d2f5fd915732\")) {                    Plotly.newPlot(                        \"bbaf2134-daab-4ad2-9580-d2f5fd915732\",                        [{\"x\":[10,20,30,40,50,60,70,80,90,100],\"y\":[18.870082140785716,8.632496741962894,5.075431016179809,2.8442925306655784,2.5632011235952596,2.3579652245103198,2.4698178070456938,2.149418526020468,1.8520259177452134,1.8520259177452134],\"type\":\"bar\"}],                        {\"template\":{\"data\":{\"histogram2dcontour\":[{\"type\":\"histogram2dcontour\",\"colorbar\":{\"outlinewidth\":0,\"ticks\":\"\"},\"colorscale\":[[0.0,\"#0d0887\"],[0.1111111111111111,\"#46039f\"],[0.2222222222222222,\"#7201a8\"],[0.3333333333333333,\"#9c179e\"],[0.4444444444444444,\"#bd3786\"],[0.5555555555555556,\"#d8576b\"],[0.6666666666666666,\"#ed7953\"],[0.7777777777777778,\"#fb9f3a\"],[0.8888888888888888,\"#fdca26\"],[1.0,\"#f0f921\"]]}],\"choropleth\":[{\"type\":\"choropleth\",\"colorbar\":{\"outlinewidth\":0,\"ticks\":\"\"}}],\"histogram2d\":[{\"type\":\"histogram2d\",\"colorbar\":{\"outlinewidth\":0,\"ticks\":\"\"},\"colorscale\":[[0.0,\"#0d0887\"],[0.1111111111111111,\"#46039f\"],[0.2222222222222222,\"#7201a8\"],[0.3333333333333333,\"#9c179e\"],[0.4444444444444444,\"#bd3786\"],[0.5555555555555556,\"#d8576b\"],[0.6666666666666666,\"#ed7953\"],[0.7777777777777778,\"#fb9f3a\"],[0.8888888888888888,\"#fdca26\"],[1.0,\"#f0f921\"]]}],\"heatmap\":[{\"type\":\"heatmap\",\"colorbar\":{\"outlinewidth\":0,\"ticks\":\"\"},\"colorscale\":[[0.0,\"#0d0887\"],[0.1111111111111111,\"#46039f\"],[0.2222222222222222,\"#7201a8\"],[0.3333333333333333,\"#9c179e\"],[0.4444444444444444,\"#bd3786\"],[0.5555555555555556,\"#d8576b\"],[0.6666666666666666,\"#ed7953\"],[0.7777777777777778,\"#fb9f3a\"],[0.8888888888888888,\"#fdca26\"],[1.0,\"#f0f921\"]]}],\"heatmapgl\":[{\"type\":\"heatmapgl\",\"colorbar\":{\"outlinewidth\":0,\"ticks\":\"\"},\"colorscale\":[[0.0,\"#0d0887\"],[0.1111111111111111,\"#46039f\"],[0.2222222222222222,\"#7201a8\"],[0.3333333333333333,\"#9c179e\"],[0.4444444444444444,\"#bd3786\"],[0.5555555555555556,\"#d8576b\"],[0.6666666666666666,\"#ed7953\"],[0.7777777777777778,\"#fb9f3a\"],[0.8888888888888888,\"#fdca26\"],[1.0,\"#f0f921\"]]}],\"contourcarpet\":[{\"type\":\"contourcarpet\",\"colorbar\":{\"outlinewidth\":0,\"ticks\":\"\"}}],\"contour\":[{\"type\":\"contour\",\"colorbar\":{\"outlinewidth\":0,\"ticks\":\"\"},\"colorscale\":[[0.0,\"#0d0887\"],[0.1111111111111111,\"#46039f\"],[0.2222222222222222,\"#7201a8\"],[0.3333333333333333,\"#9c179e\"],[0.4444444444444444,\"#bd3786\"],[0.5555555555555556,\"#d8576b\"],[0.6666666666666666,\"#ed7953\"],[0.7777777777777778,\"#fb9f3a\"],[0.8888888888888888,\"#fdca26\"],[1.0,\"#f0f921\"]]}],\"surface\":[{\"type\":\"surface\",\"colorbar\":{\"outlinewidth\":0,\"ticks\":\"\"},\"colorscale\":[[0.0,\"#0d0887\"],[0.1111111111111111,\"#46039f\"],[0.2222222222222222,\"#7201a8\"],[0.3333333333333333,\"#9c179e\"],[0.4444444444444444,\"#bd3786\"],[0.5555555555555556,\"#d8576b\"],[0.6666666666666666,\"#ed7953\"],[0.7777777777777778,\"#fb9f3a\"],[0.8888888888888888,\"#fdca26\"],[1.0,\"#f0f921\"]]}],\"mesh3d\":[{\"type\":\"mesh3d\",\"colorbar\":{\"outlinewidth\":0,\"ticks\":\"\"}}],\"scatter\":[{\"fillpattern\":{\"fillmode\":\"overlay\",\"size\":10,\"solidity\":0.2},\"type\":\"scatter\"}],\"parcoords\":[{\"type\":\"parcoords\",\"line\":{\"colorbar\":{\"outlinewidth\":0,\"ticks\":\"\"}}}],\"scatterpolargl\":[{\"type\":\"scatterpolargl\",\"marker\":{\"colorbar\":{\"outlinewidth\":0,\"ticks\":\"\"}}}],\"bar\":[{\"error_x\":{\"color\":\"#2a3f5f\"},\"error_y\":{\"color\":\"#2a3f5f\"},\"marker\":{\"line\":{\"color\":\"#E5ECF6\",\"width\":0.5},\"pattern\":{\"fillmode\":\"overlay\",\"size\":10,\"solidity\":0.2}},\"type\":\"bar\"}],\"scattergeo\":[{\"type\":\"scattergeo\",\"marker\":{\"colorbar\":{\"outlinewidth\":0,\"ticks\":\"\"}}}],\"scatterpolar\":[{\"type\":\"scatterpolar\",\"marker\":{\"colorbar\":{\"outlinewidth\":0,\"ticks\":\"\"}}}],\"histogram\":[{\"marker\":{\"pattern\":{\"fillmode\":\"overlay\",\"size\":10,\"solidity\":0.2}},\"type\":\"histogram\"}],\"scattergl\":[{\"type\":\"scattergl\",\"marker\":{\"colorbar\":{\"outlinewidth\":0,\"ticks\":\"\"}}}],\"scatter3d\":[{\"type\":\"scatter3d\",\"line\":{\"colorbar\":{\"outlinewidth\":0,\"ticks\":\"\"}},\"marker\":{\"colorbar\":{\"outlinewidth\":0,\"ticks\":\"\"}}}],\"scattermapbox\":[{\"type\":\"scattermapbox\",\"marker\":{\"colorbar\":{\"outlinewidth\":0,\"ticks\":\"\"}}}],\"scatterternary\":[{\"type\":\"scatterternary\",\"marker\":{\"colorbar\":{\"outlinewidth\":0,\"ticks\":\"\"}}}],\"scattercarpet\":[{\"type\":\"scattercarpet\",\"marker\":{\"colorbar\":{\"outlinewidth\":0,\"ticks\":\"\"}}}],\"carpet\":[{\"aaxis\":{\"endlinecolor\":\"#2a3f5f\",\"gridcolor\":\"white\",\"linecolor\":\"white\",\"minorgridcolor\":\"white\",\"startlinecolor\":\"#2a3f5f\"},\"baxis\":{\"endlinecolor\":\"#2a3f5f\",\"gridcolor\":\"white\",\"linecolor\":\"white\",\"minorgridcolor\":\"white\",\"startlinecolor\":\"#2a3f5f\"},\"type\":\"carpet\"}],\"table\":[{\"cells\":{\"fill\":{\"color\":\"#EBF0F8\"},\"line\":{\"color\":\"white\"}},\"header\":{\"fill\":{\"color\":\"#C8D4E3\"},\"line\":{\"color\":\"white\"}},\"type\":\"table\"}],\"barpolar\":[{\"marker\":{\"line\":{\"color\":\"#E5ECF6\",\"width\":0.5},\"pattern\":{\"fillmode\":\"overlay\",\"size\":10,\"solidity\":0.2}},\"type\":\"barpolar\"}],\"pie\":[{\"automargin\":true,\"type\":\"pie\"}]},\"layout\":{\"autotypenumbers\":\"strict\",\"colorway\":[\"#636efa\",\"#EF553B\",\"#00cc96\",\"#ab63fa\",\"#FFA15A\",\"#19d3f3\",\"#FF6692\",\"#B6E880\",\"#FF97FF\",\"#FECB52\"],\"font\":{\"color\":\"#2a3f5f\"},\"hovermode\":\"closest\",\"hoverlabel\":{\"align\":\"left\"},\"paper_bgcolor\":\"white\",\"plot_bgcolor\":\"#E5ECF6\",\"polar\":{\"bgcolor\":\"#E5ECF6\",\"angularaxis\":{\"gridcolor\":\"white\",\"linecolor\":\"white\",\"ticks\":\"\"},\"radialaxis\":{\"gridcolor\":\"white\",\"linecolor\":\"white\",\"ticks\":\"\"}},\"ternary\":{\"bgcolor\":\"#E5ECF6\",\"aaxis\":{\"gridcolor\":\"white\",\"linecolor\":\"white\",\"ticks\":\"\"},\"baxis\":{\"gridcolor\":\"white\",\"linecolor\":\"white\",\"ticks\":\"\"},\"caxis\":{\"gridcolor\":\"white\",\"linecolor\":\"white\",\"ticks\":\"\"}},\"coloraxis\":{\"colorbar\":{\"outlinewidth\":0,\"ticks\":\"\"}},\"colorscale\":{\"sequential\":[[0.0,\"#0d0887\"],[0.1111111111111111,\"#46039f\"],[0.2222222222222222,\"#7201a8\"],[0.3333333333333333,\"#9c179e\"],[0.4444444444444444,\"#bd3786\"],[0.5555555555555556,\"#d8576b\"],[0.6666666666666666,\"#ed7953\"],[0.7777777777777778,\"#fb9f3a\"],[0.8888888888888888,\"#fdca26\"],[1.0,\"#f0f921\"]],\"sequentialminus\":[[0.0,\"#0d0887\"],[0.1111111111111111,\"#46039f\"],[0.2222222222222222,\"#7201a8\"],[0.3333333333333333,\"#9c179e\"],[0.4444444444444444,\"#bd3786\"],[0.5555555555555556,\"#d8576b\"],[0.6666666666666666,\"#ed7953\"],[0.7777777777777778,\"#fb9f3a\"],[0.8888888888888888,\"#fdca26\"],[1.0,\"#f0f921\"]],\"diverging\":[[0,\"#8e0152\"],[0.1,\"#c51b7d\"],[0.2,\"#de77ae\"],[0.3,\"#f1b6da\"],[0.4,\"#fde0ef\"],[0.5,\"#f7f7f7\"],[0.6,\"#e6f5d0\"],[0.7,\"#b8e186\"],[0.8,\"#7fbc41\"],[0.9,\"#4d9221\"],[1,\"#276419\"]]},\"xaxis\":{\"gridcolor\":\"white\",\"linecolor\":\"white\",\"ticks\":\"\",\"title\":{\"standoff\":15},\"zerolinecolor\":\"white\",\"automargin\":true,\"zerolinewidth\":2},\"yaxis\":{\"gridcolor\":\"white\",\"linecolor\":\"white\",\"ticks\":\"\",\"title\":{\"standoff\":15},\"zerolinecolor\":\"white\",\"automargin\":true,\"zerolinewidth\":2},\"scene\":{\"xaxis\":{\"backgroundcolor\":\"#E5ECF6\",\"gridcolor\":\"white\",\"linecolor\":\"white\",\"showbackground\":true,\"ticks\":\"\",\"zerolinecolor\":\"white\",\"gridwidth\":2},\"yaxis\":{\"backgroundcolor\":\"#E5ECF6\",\"gridcolor\":\"white\",\"linecolor\":\"white\",\"showbackground\":true,\"ticks\":\"\",\"zerolinecolor\":\"white\",\"gridwidth\":2},\"zaxis\":{\"backgroundcolor\":\"#E5ECF6\",\"gridcolor\":\"white\",\"linecolor\":\"white\",\"showbackground\":true,\"ticks\":\"\",\"zerolinecolor\":\"white\",\"gridwidth\":2}},\"shapedefaults\":{\"line\":{\"color\":\"#2a3f5f\"}},\"annotationdefaults\":{\"arrowcolor\":\"#2a3f5f\",\"arrowhead\":0,\"arrowwidth\":1},\"geo\":{\"bgcolor\":\"white\",\"landcolor\":\"#E5ECF6\",\"subunitcolor\":\"white\",\"showland\":true,\"showlakes\":true,\"lakecolor\":\"white\"},\"title\":{\"x\":0.05},\"mapbox\":{\"style\":\"light\"}}},\"xaxis\":{\"title\":{\"text\":\"Number of Arms (N)\"}},\"yaxis\":{\"title\":{\"text\":\"Norm Value\"}},\"title\":{\"text\":\"Decaying Norm as N Increases\"}},                        {\"responsive\": true}                    ).then(function(){\n",
              "                            \n",
              "var gd = document.getElementById('bbaf2134-daab-4ad2-9580-d2f5fd915732');\n",
              "var x = new MutationObserver(function (mutations, observer) {{\n",
              "        var display = window.getComputedStyle(gd).display;\n",
              "        if (!display || display === 'none') {{\n",
              "            console.log([gd, 'removed!']);\n",
              "            Plotly.purge(gd);\n",
              "            observer.disconnect();\n",
              "        }}\n",
              "}});\n",
              "\n",
              "// Listen for the removal of the full notebook cells\n",
              "var notebookContainer = gd.closest('#notebook-container');\n",
              "if (notebookContainer) {{\n",
              "    x.observe(notebookContainer, {childList: true});\n",
              "}}\n",
              "\n",
              "// Listen for the clearing of the current output cell\n",
              "var outputEl = gd.closest('.output');\n",
              "if (outputEl) {{\n",
              "    x.observe(outputEl, {childList: true});\n",
              "}}\n",
              "\n",
              "                        })                };                            </script>        </div>\n",
              "</body>\n",
              "</html>"
            ]
          },
          "metadata": {},
          "output_type": "display_data"
        }
      ],
      "source": [
        "fig = go.Figure(data=[go.Bar(x=N_values, y=norm_values)])\n",
        "\n",
        "# Set the labels and title\n",
        "fig.update_layout(\n",
        "  xaxis_title='Number of Arms (N)',\n",
        "  yaxis_title='Norm Value',\n",
        "  title='Decaying Norm as N Increases'\n",
        ")\n",
        "\n",
        "# Show the plot\n",
        "fig.show()"
      ]
    }
  ],
  "metadata": {
    "colab": {
      "provenance": [],
      "toc_visible": true
    },
    "kernelspec": {
      "display_name": "base",
      "language": "python",
      "name": "python3"
    },
    "language_info": {
      "codemirror_mode": {
        "name": "ipython",
        "version": 3
      },
      "file_extension": ".py",
      "mimetype": "text/x-python",
      "name": "python",
      "nbconvert_exporter": "python",
      "pygments_lexer": "ipython3",
      "version": "3.11.6"
    }
  },
  "nbformat": 4,
  "nbformat_minor": 0
}

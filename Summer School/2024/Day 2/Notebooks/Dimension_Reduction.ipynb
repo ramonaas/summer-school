{
 "cells": [
  {
   "cell_type": "markdown",
   "metadata": {},
   "source": [
    "<CENTER>\n",
    "<p><font size=\"7\"><b>IMT Summer School 2024</b></font></p>\n",
    "<p><font size=\"5\">Dynamic resource allocation problems in communication networks</font></p>\n",
    "<p><font size=\"5\"><b>June 25-27: </b>Day 2 - <i>IMPROVING THE RESOLUTION OF MARKOV DECISION PROCESSES</i></font></p>\n",
    "</CENTER>\n",
    "\n",
    "**Usefull links:**\n",
    "\n",
    "- Summer school [website](https://sites.google.com/view/alexandre-reiffers/courses/dynamic-resource-allocation-problems-in-communication-networks).\n",
    "- It was organized by the team of the [RAMONaaS project](https://sites.google.com/view/ramonaas/home) at IMT Atlantique in Brest, France.\n",
    "- For a brief introduction to Numpy you can have look [here](https://github.com/brain-bzh/introduction-to-ai/blob/main/session1/lab/TP0.ipynb), and for a more thorough overview [here](https://www.w3schools.com/python/numpy/default.asp).\n",
    "- One the best (and easiest) ways to solve convex problems is using the [CVXPY library](https://www.cvxpy.org/).\n",
    "\n",
    "\n",
    "**About:**\n",
    "\n",
    "- This lab is about the resolution of Markov Decision Processes (MDPs).\n",
    "- The objective is the resolution of large scale MDPs.\n",
    "- In this order, some tips are proposed for dimension reduction in a particular case of load balancing problem.\n",
    "\n",
    "\n",
    "**The lab is divided in 3 sections:**\n",
    "\n",
    "- In the first section, you [model a load balancing problem](#load_balancing) as an MDP.\n",
    "- Then you use the resolution technique to [solve it](#load_balancing_resolution).\n",
    "- Finaly you will evaluate the relevance of [reducing the dimension of the problem](#load_balancing_dimension_reduction).\n",
    "\n",
    "\n",
    "<RIGHT>\n",
    "<div style=\"text-align: right\">\n",
    "<img\n",
    "src=\"https://www.imt-atlantique.fr/sites/default/files/Images/Ecole/charte-graphique/IMT_Atlantique_logo_RVB_Baseline_400x272.jpg\"\n",
    "width=\"100\" height=\"68\">\n",
    "</div>\n",
    "</RIGHT>\n",
    "\n",
    "\n",
    "----------------------------\n",
    "----------------------------"
   ]
  },
  {
   "cell_type": "code",
   "execution_count": 83,
   "metadata": {},
   "outputs": [],
   "source": [
    "import math\n",
    "import time\n",
    "import torch\n",
    "import itertools\n",
    "import plotly.graph_objects as go\n",
    "import numpy as np\n",
    "import matplotlib.pyplot as plt\n",
    "import plotly.subplots as ps\n",
    "import ipywidgets as widgets\n",
    "from IPython.display import display"
   ]
  },
  {
   "cell_type": "markdown",
   "metadata": {},
   "source": [
    "# **<a id=\"load_balancing\">A Load Balancing Problem</a>**\n",
    "\n",
    "Let us take a practical case of MDP, which consists in modeling a load balancing problem.\n",
    "\n",
    "<div style=\"text-align: center\">\n",
    "  <figure>\n",
    "    <img src=\"https://i.ibb.co/prmNRfT/load-balancing.jpg\" alt=\"Load Balancing Problem\">\n",
    "    <figcaption>Figure 1: A Load Balancing Problem</figcaption>\n",
    "  </figure>\n",
    "</div>\n",
    "\n",
    "- A load balancer receives one job at a time and transmits it to one of the $Q$ queues of sizes $B_1$, $\\ldots$, $B_Q$.\n",
    "- The queue cannot be overloaded; instead, an extra job is loss.\n",
    "- After ths transmission, each queue $q$ process each existing job at rate $\\lambda_q$.\n",
    "- Let $\\text{cost}_\\text{loss}$ and $\\text{cost}_\\text{delay}$ respectively represent the cost charged for losing a job and retaining a job in a queue, these cost being discounted at rate $\\gamma$.\n",
    "\n",
    "\n",
    "**Research Question:** *What is the optimal load balancing policy?*"
   ]
  },
  {
   "cell_type": "markdown",
   "metadata": {},
   "source": [
    "# **<a id=\"mdp_for_load_balancing\">MDP for the Load Balancing Problem</a>**\n",
    "\n",
    "Lets use tensor objetcs to define the parameters of the load balancing problem."
   ]
  },
  {
   "cell_type": "markdown",
   "metadata": {},
   "source": [
    "## **<a id=\"mdp_for_load_balancing_states_and_actions\">The State and Action Spaces</a>**\n",
    "\n",
    "An action is the selection of a queue. Let's say it is an integer number in $\\left\\{0, 1, \\ldots, Q-1\\right\\}$, where $a=q-1$ means the job is sent to queue $q$.\n",
    "\n",
    "A state is any tensor representing $s = \\left(s_q\\right)_{q=0}^{Q-1}$."
   ]
  },
  {
   "cell_type": "markdown",
   "metadata": {},
   "source": [
    "### Function implementation of States and Actions\n",
    "\n",
    "Objective:\n",
    "- Construct the state space for the load balancing problem.\n",
    "\n",
    "Args:\n",
    "- number_queues (optional, int): number of queues. Defaults to 4.\n",
    "- buffers_size (optional, tensor3): buffer size (maximum value) of each queue. Defaults to 3 for each queue.\n",
    "\n",
    "Returns:\n",
    "- The list of states.\n",
    "- The updated number of queues (in case it does not match the tensor of buffers size).\n",
    "- The tensor of buffers size in case it was not entered."
   ]
  },
  {
   "cell_type": "code",
   "execution_count": 84,
   "metadata": {},
   "outputs": [],
   "source": [
    "def state_space_construction(number_queues:int=4, buffers_size:torch.Tensor=None) -> list:\n",
    "    \n",
    "    if buffers_size == None:\n",
    "        buffers_size = 3*torch.ones([number_queues],dtype=int)\n",
    "    combinations = itertools.product(*[range(B + 1) for B in buffers_size])\n",
    "    state_space = [torch.tensor(combination) for combination in combinations]\n",
    "    updated_number_queues = buffers_size.numel()\n",
    "    return state_space, updated_number_queues, buffers_size"
   ]
  },
  {
   "cell_type": "markdown",
   "metadata": {},
   "source": [
    "### Example of state space"
   ]
  },
  {
   "cell_type": "code",
   "execution_count": 85,
   "metadata": {},
   "outputs": [
    {
     "name": "stdout",
     "output_type": "stream",
     "text": [
      "State space with B = tensor([2, 1, 3])\n",
      "\n",
      "tensor([0, 0, 0])   tensor([0, 0, 1])   tensor([0, 0, 2])   tensor([0, 0, 3])   tensor([0, 1, 0])   tensor([0, 1, 1])   tensor([0, 1, 2])\n",
      "tensor([0, 1, 3])   tensor([1, 0, 0])   tensor([1, 0, 1])   tensor([1, 0, 2])   tensor([1, 0, 3])   tensor([1, 1, 0])   tensor([1, 1, 1])\n",
      "tensor([1, 1, 2])   tensor([1, 1, 3])   tensor([2, 0, 0])   tensor([2, 0, 1])   tensor([2, 0, 2])   tensor([2, 0, 3])   tensor([2, 1, 0])\n",
      "tensor([2, 1, 1])   tensor([2, 1, 2])   tensor([2, 1, 3])\n",
      "\n",
      "24 states.\n"
     ]
    }
   ],
   "source": [
    "bs = torch.tensor([2,1,3])  # Replace by a one-dimension tensor of ints\n",
    "print(f\"State space with B = {bs}\")\n",
    "SP = state_space_construction(buffers_size=bs)[0]\n",
    "for s_idx in range(len(SP)):\n",
    "    if s_idx % 7 == 0: print()\n",
    "    else: print(\"   \", end=\"\")\n",
    "    print(SP[s_idx], end=\"\")\n",
    "\n",
    "print(f\"\\n\\n{len(SP)} states.\")"
   ]
  },
  {
   "cell_type": "code",
   "execution_count": 86,
   "metadata": {},
   "outputs": [
    {
     "data": {
      "application/vnd.plotly.v1+json": {
       "config": {
        "plotlyServerURL": "https://plot.ly"
       },
       "data": [
        {
         "colorbar": {
          "tickmode": "array",
          "ticktext": [
           "0.00",
           "0.25",
           "0.50",
           "0.75",
           "1.00"
          ],
          "tickvals": [
           0,
           0.25,
           0.5,
           0.75,
           1
          ],
          "title": {
           "side": "right",
           "text": "Queue occupancy"
          }
         },
         "colorscale": [
          [
           0,
           "rgb(247,251,255)"
          ],
          [
           0.125,
           "rgb(222,235,247)"
          ],
          [
           0.25,
           "rgb(198,219,239)"
          ],
          [
           0.375,
           "rgb(158,202,225)"
          ],
          [
           0.5,
           "rgb(107,174,214)"
          ],
          [
           0.625,
           "rgb(66,146,198)"
          ],
          [
           0.75,
           "rgb(33,113,181)"
          ],
          [
           0.875,
           "rgb(8,81,156)"
          ],
          [
           1,
           "rgb(8,48,107)"
          ]
         ],
         "hoverongaps": false,
         "showscale": true,
         "type": "heatmap",
         "x": [
          0,
          1,
          2,
          3,
          4,
          5,
          6,
          7,
          8,
          9,
          10,
          11,
          12,
          13,
          14,
          15,
          16,
          17,
          18,
          19,
          20,
          21,
          22,
          23
         ],
         "xgap": 1,
         "y": [
          0,
          1,
          2
         ],
         "ygap": 1,
         "z": [
          [
           0,
           0,
           0,
           0,
           0,
           0,
           0,
           0,
           0.5,
           0.5,
           0.5,
           0.5,
           0.5,
           0.5,
           0.5,
           0.5,
           1,
           1,
           1,
           1,
           1,
           1,
           1,
           1
          ],
          [
           0,
           0,
           0,
           0,
           1,
           1,
           1,
           1,
           0,
           0,
           0,
           0,
           1,
           1,
           1,
           1,
           0,
           0,
           0,
           0,
           1,
           1,
           1,
           1
          ],
          [
           0,
           0.3333333432674408,
           0.6666666865348816,
           1,
           0,
           0.3333333432674408,
           0.6666666865348816,
           1,
           0,
           0.3333333432674408,
           0.6666666865348816,
           1,
           0,
           0.3333333432674408,
           0.6666666865348816,
           1,
           0,
           0.3333333432674408,
           0.6666666865348816,
           1,
           0,
           0.3333333432674408,
           0.6666666865348816,
           1
          ]
         ],
         "zmax": 1,
         "zmin": 0
        }
       ],
       "layout": {
        "template": {
         "data": {
          "bar": [
           {
            "error_x": {
             "color": "#2a3f5f"
            },
            "error_y": {
             "color": "#2a3f5f"
            },
            "marker": {
             "line": {
              "color": "#E5ECF6",
              "width": 0.5
             },
             "pattern": {
              "fillmode": "overlay",
              "size": 10,
              "solidity": 0.2
             }
            },
            "type": "bar"
           }
          ],
          "barpolar": [
           {
            "marker": {
             "line": {
              "color": "#E5ECF6",
              "width": 0.5
             },
             "pattern": {
              "fillmode": "overlay",
              "size": 10,
              "solidity": 0.2
             }
            },
            "type": "barpolar"
           }
          ],
          "carpet": [
           {
            "aaxis": {
             "endlinecolor": "#2a3f5f",
             "gridcolor": "white",
             "linecolor": "white",
             "minorgridcolor": "white",
             "startlinecolor": "#2a3f5f"
            },
            "baxis": {
             "endlinecolor": "#2a3f5f",
             "gridcolor": "white",
             "linecolor": "white",
             "minorgridcolor": "white",
             "startlinecolor": "#2a3f5f"
            },
            "type": "carpet"
           }
          ],
          "choropleth": [
           {
            "colorbar": {
             "outlinewidth": 0,
             "ticks": ""
            },
            "type": "choropleth"
           }
          ],
          "contour": [
           {
            "colorbar": {
             "outlinewidth": 0,
             "ticks": ""
            },
            "colorscale": [
             [
              0,
              "#0d0887"
             ],
             [
              0.1111111111111111,
              "#46039f"
             ],
             [
              0.2222222222222222,
              "#7201a8"
             ],
             [
              0.3333333333333333,
              "#9c179e"
             ],
             [
              0.4444444444444444,
              "#bd3786"
             ],
             [
              0.5555555555555556,
              "#d8576b"
             ],
             [
              0.6666666666666666,
              "#ed7953"
             ],
             [
              0.7777777777777778,
              "#fb9f3a"
             ],
             [
              0.8888888888888888,
              "#fdca26"
             ],
             [
              1,
              "#f0f921"
             ]
            ],
            "type": "contour"
           }
          ],
          "contourcarpet": [
           {
            "colorbar": {
             "outlinewidth": 0,
             "ticks": ""
            },
            "type": "contourcarpet"
           }
          ],
          "heatmap": [
           {
            "colorbar": {
             "outlinewidth": 0,
             "ticks": ""
            },
            "colorscale": [
             [
              0,
              "#0d0887"
             ],
             [
              0.1111111111111111,
              "#46039f"
             ],
             [
              0.2222222222222222,
              "#7201a8"
             ],
             [
              0.3333333333333333,
              "#9c179e"
             ],
             [
              0.4444444444444444,
              "#bd3786"
             ],
             [
              0.5555555555555556,
              "#d8576b"
             ],
             [
              0.6666666666666666,
              "#ed7953"
             ],
             [
              0.7777777777777778,
              "#fb9f3a"
             ],
             [
              0.8888888888888888,
              "#fdca26"
             ],
             [
              1,
              "#f0f921"
             ]
            ],
            "type": "heatmap"
           }
          ],
          "heatmapgl": [
           {
            "colorbar": {
             "outlinewidth": 0,
             "ticks": ""
            },
            "colorscale": [
             [
              0,
              "#0d0887"
             ],
             [
              0.1111111111111111,
              "#46039f"
             ],
             [
              0.2222222222222222,
              "#7201a8"
             ],
             [
              0.3333333333333333,
              "#9c179e"
             ],
             [
              0.4444444444444444,
              "#bd3786"
             ],
             [
              0.5555555555555556,
              "#d8576b"
             ],
             [
              0.6666666666666666,
              "#ed7953"
             ],
             [
              0.7777777777777778,
              "#fb9f3a"
             ],
             [
              0.8888888888888888,
              "#fdca26"
             ],
             [
              1,
              "#f0f921"
             ]
            ],
            "type": "heatmapgl"
           }
          ],
          "histogram": [
           {
            "marker": {
             "pattern": {
              "fillmode": "overlay",
              "size": 10,
              "solidity": 0.2
             }
            },
            "type": "histogram"
           }
          ],
          "histogram2d": [
           {
            "colorbar": {
             "outlinewidth": 0,
             "ticks": ""
            },
            "colorscale": [
             [
              0,
              "#0d0887"
             ],
             [
              0.1111111111111111,
              "#46039f"
             ],
             [
              0.2222222222222222,
              "#7201a8"
             ],
             [
              0.3333333333333333,
              "#9c179e"
             ],
             [
              0.4444444444444444,
              "#bd3786"
             ],
             [
              0.5555555555555556,
              "#d8576b"
             ],
             [
              0.6666666666666666,
              "#ed7953"
             ],
             [
              0.7777777777777778,
              "#fb9f3a"
             ],
             [
              0.8888888888888888,
              "#fdca26"
             ],
             [
              1,
              "#f0f921"
             ]
            ],
            "type": "histogram2d"
           }
          ],
          "histogram2dcontour": [
           {
            "colorbar": {
             "outlinewidth": 0,
             "ticks": ""
            },
            "colorscale": [
             [
              0,
              "#0d0887"
             ],
             [
              0.1111111111111111,
              "#46039f"
             ],
             [
              0.2222222222222222,
              "#7201a8"
             ],
             [
              0.3333333333333333,
              "#9c179e"
             ],
             [
              0.4444444444444444,
              "#bd3786"
             ],
             [
              0.5555555555555556,
              "#d8576b"
             ],
             [
              0.6666666666666666,
              "#ed7953"
             ],
             [
              0.7777777777777778,
              "#fb9f3a"
             ],
             [
              0.8888888888888888,
              "#fdca26"
             ],
             [
              1,
              "#f0f921"
             ]
            ],
            "type": "histogram2dcontour"
           }
          ],
          "mesh3d": [
           {
            "colorbar": {
             "outlinewidth": 0,
             "ticks": ""
            },
            "type": "mesh3d"
           }
          ],
          "parcoords": [
           {
            "line": {
             "colorbar": {
              "outlinewidth": 0,
              "ticks": ""
             }
            },
            "type": "parcoords"
           }
          ],
          "pie": [
           {
            "automargin": true,
            "type": "pie"
           }
          ],
          "scatter": [
           {
            "fillpattern": {
             "fillmode": "overlay",
             "size": 10,
             "solidity": 0.2
            },
            "type": "scatter"
           }
          ],
          "scatter3d": [
           {
            "line": {
             "colorbar": {
              "outlinewidth": 0,
              "ticks": ""
             }
            },
            "marker": {
             "colorbar": {
              "outlinewidth": 0,
              "ticks": ""
             }
            },
            "type": "scatter3d"
           }
          ],
          "scattercarpet": [
           {
            "marker": {
             "colorbar": {
              "outlinewidth": 0,
              "ticks": ""
             }
            },
            "type": "scattercarpet"
           }
          ],
          "scattergeo": [
           {
            "marker": {
             "colorbar": {
              "outlinewidth": 0,
              "ticks": ""
             }
            },
            "type": "scattergeo"
           }
          ],
          "scattergl": [
           {
            "marker": {
             "colorbar": {
              "outlinewidth": 0,
              "ticks": ""
             }
            },
            "type": "scattergl"
           }
          ],
          "scattermapbox": [
           {
            "marker": {
             "colorbar": {
              "outlinewidth": 0,
              "ticks": ""
             }
            },
            "type": "scattermapbox"
           }
          ],
          "scatterpolar": [
           {
            "marker": {
             "colorbar": {
              "outlinewidth": 0,
              "ticks": ""
             }
            },
            "type": "scatterpolar"
           }
          ],
          "scatterpolargl": [
           {
            "marker": {
             "colorbar": {
              "outlinewidth": 0,
              "ticks": ""
             }
            },
            "type": "scatterpolargl"
           }
          ],
          "scatterternary": [
           {
            "marker": {
             "colorbar": {
              "outlinewidth": 0,
              "ticks": ""
             }
            },
            "type": "scatterternary"
           }
          ],
          "surface": [
           {
            "colorbar": {
             "outlinewidth": 0,
             "ticks": ""
            },
            "colorscale": [
             [
              0,
              "#0d0887"
             ],
             [
              0.1111111111111111,
              "#46039f"
             ],
             [
              0.2222222222222222,
              "#7201a8"
             ],
             [
              0.3333333333333333,
              "#9c179e"
             ],
             [
              0.4444444444444444,
              "#bd3786"
             ],
             [
              0.5555555555555556,
              "#d8576b"
             ],
             [
              0.6666666666666666,
              "#ed7953"
             ],
             [
              0.7777777777777778,
              "#fb9f3a"
             ],
             [
              0.8888888888888888,
              "#fdca26"
             ],
             [
              1,
              "#f0f921"
             ]
            ],
            "type": "surface"
           }
          ],
          "table": [
           {
            "cells": {
             "fill": {
              "color": "#EBF0F8"
             },
             "line": {
              "color": "white"
             }
            },
            "header": {
             "fill": {
              "color": "#C8D4E3"
             },
             "line": {
              "color": "white"
             }
            },
            "type": "table"
           }
          ]
         },
         "layout": {
          "annotationdefaults": {
           "arrowcolor": "#2a3f5f",
           "arrowhead": 0,
           "arrowwidth": 1
          },
          "autotypenumbers": "strict",
          "coloraxis": {
           "colorbar": {
            "outlinewidth": 0,
            "ticks": ""
           }
          },
          "colorscale": {
           "diverging": [
            [
             0,
             "#8e0152"
            ],
            [
             0.1,
             "#c51b7d"
            ],
            [
             0.2,
             "#de77ae"
            ],
            [
             0.3,
             "#f1b6da"
            ],
            [
             0.4,
             "#fde0ef"
            ],
            [
             0.5,
             "#f7f7f7"
            ],
            [
             0.6,
             "#e6f5d0"
            ],
            [
             0.7,
             "#b8e186"
            ],
            [
             0.8,
             "#7fbc41"
            ],
            [
             0.9,
             "#4d9221"
            ],
            [
             1,
             "#276419"
            ]
           ],
           "sequential": [
            [
             0,
             "#0d0887"
            ],
            [
             0.1111111111111111,
             "#46039f"
            ],
            [
             0.2222222222222222,
             "#7201a8"
            ],
            [
             0.3333333333333333,
             "#9c179e"
            ],
            [
             0.4444444444444444,
             "#bd3786"
            ],
            [
             0.5555555555555556,
             "#d8576b"
            ],
            [
             0.6666666666666666,
             "#ed7953"
            ],
            [
             0.7777777777777778,
             "#fb9f3a"
            ],
            [
             0.8888888888888888,
             "#fdca26"
            ],
            [
             1,
             "#f0f921"
            ]
           ],
           "sequentialminus": [
            [
             0,
             "#0d0887"
            ],
            [
             0.1111111111111111,
             "#46039f"
            ],
            [
             0.2222222222222222,
             "#7201a8"
            ],
            [
             0.3333333333333333,
             "#9c179e"
            ],
            [
             0.4444444444444444,
             "#bd3786"
            ],
            [
             0.5555555555555556,
             "#d8576b"
            ],
            [
             0.6666666666666666,
             "#ed7953"
            ],
            [
             0.7777777777777778,
             "#fb9f3a"
            ],
            [
             0.8888888888888888,
             "#fdca26"
            ],
            [
             1,
             "#f0f921"
            ]
           ]
          },
          "colorway": [
           "#636efa",
           "#EF553B",
           "#00cc96",
           "#ab63fa",
           "#FFA15A",
           "#19d3f3",
           "#FF6692",
           "#B6E880",
           "#FF97FF",
           "#FECB52"
          ],
          "font": {
           "color": "#2a3f5f"
          },
          "geo": {
           "bgcolor": "white",
           "lakecolor": "white",
           "landcolor": "#E5ECF6",
           "showlakes": true,
           "showland": true,
           "subunitcolor": "white"
          },
          "hoverlabel": {
           "align": "left"
          },
          "hovermode": "closest",
          "mapbox": {
           "style": "light"
          },
          "paper_bgcolor": "white",
          "plot_bgcolor": "#E5ECF6",
          "polar": {
           "angularaxis": {
            "gridcolor": "white",
            "linecolor": "white",
            "ticks": ""
           },
           "bgcolor": "#E5ECF6",
           "radialaxis": {
            "gridcolor": "white",
            "linecolor": "white",
            "ticks": ""
           }
          },
          "scene": {
           "xaxis": {
            "backgroundcolor": "#E5ECF6",
            "gridcolor": "white",
            "gridwidth": 2,
            "linecolor": "white",
            "showbackground": true,
            "ticks": "",
            "zerolinecolor": "white"
           },
           "yaxis": {
            "backgroundcolor": "#E5ECF6",
            "gridcolor": "white",
            "gridwidth": 2,
            "linecolor": "white",
            "showbackground": true,
            "ticks": "",
            "zerolinecolor": "white"
           },
           "zaxis": {
            "backgroundcolor": "#E5ECF6",
            "gridcolor": "white",
            "gridwidth": 2,
            "linecolor": "white",
            "showbackground": true,
            "ticks": "",
            "zerolinecolor": "white"
           }
          },
          "shapedefaults": {
           "line": {
            "color": "#2a3f5f"
           }
          },
          "ternary": {
           "aaxis": {
            "gridcolor": "white",
            "linecolor": "white",
            "ticks": ""
           },
           "baxis": {
            "gridcolor": "white",
            "linecolor": "white",
            "ticks": ""
           },
           "bgcolor": "#E5ECF6",
           "caxis": {
            "gridcolor": "white",
            "linecolor": "white",
            "ticks": ""
           }
          },
          "title": {
           "x": 0.05
          },
          "xaxis": {
           "automargin": true,
           "gridcolor": "white",
           "linecolor": "white",
           "ticks": "",
           "title": {
            "standoff": 15
           },
           "zerolinecolor": "white",
           "zerolinewidth": 2
          },
          "yaxis": {
           "automargin": true,
           "gridcolor": "white",
           "linecolor": "white",
           "ticks": "",
           "title": {
            "standoff": 15
           },
           "zerolinecolor": "white",
           "zerolinewidth": 2
          }
         }
        },
        "title": {
         "text": "The state space"
        },
        "xaxis": {
         "tickmode": "array",
         "ticktext": [
          1,
          2,
          3,
          4,
          5,
          6,
          7,
          8,
          9,
          10,
          11,
          12,
          13,
          14,
          15,
          16,
          17,
          18,
          19,
          20,
          21,
          22,
          23,
          24
         ],
         "tickvals": [
          0,
          1,
          2,
          3,
          4,
          5,
          6,
          7,
          8,
          9,
          10,
          11,
          12,
          13,
          14,
          15,
          16,
          17,
          18,
          19,
          20,
          21,
          22,
          23
         ],
         "title": {
          "text": "State index"
         }
        },
        "yaxis": {
         "tickmode": "array",
         "ticktext": [
          1,
          2,
          3
         ],
         "tickvals": [
          0,
          1,
          2
         ],
         "title": {
          "text": "Queue index"
         }
        }
       }
      }
     },
     "metadata": {},
     "output_type": "display_data"
    }
   ],
   "source": [
    "num_state = len(SP)\n",
    "num_queues = SP[0].size(0)\n",
    "NSP = [state/bs for state in SP]\n",
    "data = np.stack([tensor.numpy() for tensor in NSP], axis=1)\n",
    "\n",
    "# Create the heatmap\n",
    "fig = go.Figure(data=go.Heatmap(\n",
    "    z=data,\n",
    "    x=np.arange(num_state),\n",
    "    y=np.arange(num_queues),\n",
    "    colorscale='blues',\n",
    "    showscale=True,\n",
    "    colorbar=dict(\n",
    "        title='Queue occupancy',\n",
    "        titleside='right',\n",
    "        tickmode='array',\n",
    "        tickvals=np.linspace(0, 1, 5),\n",
    "        ticktext=[f'{v:.2f}' for v in np.linspace(0, 1, 5)]\n",
    "    ),\n",
    "    zmin=0,\n",
    "    zmax=1\n",
    "))\n",
    "\n",
    "# Add cells bounds\n",
    "fig.update_traces(\n",
    "    hoverongaps=False,\n",
    "    xgap=1,  # Set the gap between cells\n",
    "    ygap=1\n",
    ")\n",
    "\n",
    "# Update the axis\n",
    "fig.update_layout(\n",
    "    xaxis=dict(\n",
    "        tickmode='array',\n",
    "        tickvals=np.arange(num_state),\n",
    "        ticktext=np.arange(1,num_state+1)\n",
    "    ),\n",
    "    yaxis=dict(\n",
    "        tickmode='array',\n",
    "        tickvals=np.arange(num_queues),\n",
    "        ticktext=np.arange(1,num_queues+1)\n",
    "    ),\n",
    "    title='The state space',\n",
    "    xaxis_title='State index',\n",
    "    yaxis_title='Queue index'\n",
    ")\n",
    "\n",
    "# Plot the figure\n",
    "fig.show()\n"
   ]
  },
  {
   "cell_type": "markdown",
   "metadata": {},
   "source": [
    "## **<a id=\"mdp_for_load_balancing_transitions\">The Transitions</a>**\n",
    "\n",
    "Let us examine the two stages of transition dynamics: \n",
    "\n",
    "1. The deterministic stage in which the job is transmitted to the selected queue or loss according to the buffer availability. The result of this transisition is given by the function  **next()**.\n",
    "2. The probabilistic stage in which a non-predictable number of jobs are proceeded. The probability at which a transition happens in this stage is given by the function **probability()**.\n",
    "\n",
    "We first implement these two functions (*next()* and *probability()*) and use them to define the transition function (**transition_function()**), then we implement a function, **transition_dynamics()**, that returns a tensor reprsenting the transition dynamics."
   ]
  },
  {
   "cell_type": "markdown",
   "metadata": {},
   "source": [
    "### **<a id=\"mdp_for_load_balancing_transition_stage1\">First Stage Transition at each period: The Deterministic Transition</a>** (the **next()** function)\n",
    "\n",
    "Objective:\n",
    "- Finds the state that results from performing a given action.\n",
    "    \n",
    "Args:\n",
    "- state (tensor): the state in which the action is performed.\n",
    "- action (int): the action performed.\n",
    "- buffers_size (tensor): the maximum size of each queue.\n",
    "\n",
    "Returns:\n",
    "- The resulting state."
   ]
  },
  {
   "cell_type": "code",
   "execution_count": 87,
   "metadata": {},
   "outputs": [],
   "source": [
    "def next(state:torch.Tensor, action:int, buffers_size:torch.Tensor) -> torch.Tensor:\n",
    "    if action==0 or action>buffers_size.numel(): return state\n",
    "    if state[action-1]>=buffers_size[action-1]: return state\n",
    "    next_state = state.clone()\n",
    "    next_state[action-1] = state[action-1] + 1\n",
    "    return next_state"
   ]
  },
  {
   "cell_type": "markdown",
   "metadata": {},
   "source": [
    "#### Example of deterministic transition"
   ]
  },
  {
   "cell_type": "code",
   "execution_count": 88,
   "metadata": {},
   "outputs": [
    {
     "name": "stdout",
     "output_type": "stream",
     "text": [
      "Deterministic transition with B = tensor([2, 1, 3]) and a = 3\n",
      "\n",
      "s = [0 0 0] --->  s' = [0 0 1]    |    s = [0 0 1] --->  s' = [0 0 2]    |    s = [0 0 2] --->  s' = [0 0 3]    |    s = [0 0 3] --->  s' = [0 0 3]    | \n",
      "s = [0 1 0] --->  s' = [0 1 1]    |    s = [0 1 1] --->  s' = [0 1 2]    |    s = [0 1 2] --->  s' = [0 1 3]    |    s = [0 1 3] --->  s' = [0 1 3]    | \n",
      "s = [1 0 0] --->  s' = [1 0 1]    |    s = [1 0 1] --->  s' = [1 0 2]    |    s = [1 0 2] --->  s' = [1 0 3]    |    s = [1 0 3] --->  s' = [1 0 3]    | \n",
      "s = [1 1 0] --->  s' = [1 1 1]    |    s = [1 1 1] --->  s' = [1 1 2]    |    s = [1 1 2] --->  s' = [1 1 3]    |    s = [1 1 3] --->  s' = [1 1 3]    | \n",
      "s = [2 0 0] --->  s' = [2 0 1]    |    s = [2 0 1] --->  s' = [2 0 2]    |    s = [2 0 2] --->  s' = [2 0 3]    |    s = [2 0 3] --->  s' = [2 0 3]    | \n",
      "s = [2 1 0] --->  s' = [2 1 1]    |    s = [2 1 1] --->  s' = [2 1 2]    |    s = [2 1 2] --->  s' = [2 1 3]    |    s = [2 1 3] --->  s' = [2 1 3]    | "
     ]
    }
   ],
   "source": [
    "bs = torch.tensor([2,1,3])\n",
    "a = 3  # Replace a by any suitable action\n",
    "print(f\"Deterministic transition with B = {bs} and a = {a}\")\n",
    "state_space = state_space_construction(buffers_size=bs)[0]\n",
    "for s_idx in range(len(state_space)):\n",
    "    if s_idx % 4 == 0: print()\n",
    "    else: print(\"   \", end=\"\")\n",
    "    state = state_space[s_idx]\n",
    "    state_prime = next(state=state,action=a, buffers_size=bs)\n",
    "    print(f\"s = {state.numpy()} --->  s' = {state_prime.numpy()}    | \", end=\"\")"
   ]
  },
  {
   "cell_type": "code",
   "execution_count": 89,
   "metadata": {},
   "outputs": [
    {
     "data": {
      "application/vnd.jupyter.widget-view+json": {
       "model_id": "e679193195484928a0c43d6cd43c2389",
       "version_major": 2,
       "version_minor": 0
      },
      "text/plain": [
       "interactive(children=(IntSlider(value=0, description='Action', max=3), Output()), _dom_classes=('widget-intera…"
      ]
     },
     "metadata": {},
     "output_type": "display_data"
    },
    {
     "data": {
      "application/vnd.jupyter.widget-view+json": {
       "model_id": "fee622af3af946e5970b024c487144ce",
       "version_major": 2,
       "version_minor": 0
      },
      "text/plain": [
       "FigureWidget({\n",
       "    'data': [{'colorbar': {'title': {'side': 'right', 'text': 'Initial queue occupancy'}},\n",
       "              'colorscale': [[0.0, 'rgb(247,251,255)'], [0.125,\n",
       "                             'rgb(222,235,247)'], [0.25, 'rgb(198,219,239)'],\n",
       "                             [0.375, 'rgb(158,202,225)'], [0.5,\n",
       "                             'rgb(107,174,214)'], [0.625, 'rgb(66,146,198)'],\n",
       "                             [0.75, 'rgb(33,113,181)'], [0.875, 'rgb(8,81,156)'],\n",
       "                             [1.0, 'rgb(8,48,107)']],\n",
       "              'hoverongaps': False,\n",
       "              'showscale': True,\n",
       "              'type': 'heatmap',\n",
       "              'uid': 'a8066f19-0d5e-4e5e-832d-598488770192',\n",
       "              'x': array([ 0,  1,  2,  3,  4,  5,  6,  7,  8,  9, 10, 11, 12, 13, 14, 15, 16, 17,\n",
       "                          18, 19, 20, 21, 22, 23]),\n",
       "              'xaxis': 'x',\n",
       "              'xgap': 1,\n",
       "              'y': array([0, 1, 2]),\n",
       "              'yaxis': 'y',\n",
       "              'ygap': 1,\n",
       "              'z': array([[0.        , 0.        , 0.        , 0.        , 0.        ,\n",
       "                           0.        , 0.        , 0.        , 0.5       , 0.5       ,\n",
       "                           0.5       , 0.5       , 0.5       , 0.5       , 0.5       ,\n",
       "                           0.5       , 1.        , 1.        , 1.        , 1.        ,\n",
       "                           1.        , 1.        , 1.        , 1.        ],\n",
       "                          [0.        , 0.        , 0.        , 0.        , 1.        ,\n",
       "                           1.        , 1.        , 1.        , 0.        , 0.        ,\n",
       "                           0.        , 0.        , 1.        , 1.        , 1.        ,\n",
       "                           1.        , 0.        , 0.        , 0.        , 0.        ,\n",
       "                           1.        , 1.        , 1.        , 1.        ],\n",
       "                          [0.        , 0.33333334, 0.6666667 , 1.        , 0.        ,\n",
       "                           0.33333334, 0.6666667 , 1.        , 0.        , 0.33333334,\n",
       "                           0.6666667 , 1.        , 0.        , 0.33333334, 0.6666667 ,\n",
       "                           1.        , 0.        , 0.33333334, 0.6666667 , 1.        ,\n",
       "                           0.        , 0.33333334, 0.6666667 , 1.        ]], dtype=float32),\n",
       "              'zmax': 1,\n",
       "              'zmin': 0},\n",
       "             {'colorscale': [[0.0, 'rgb(247,252,245)'], [0.125,\n",
       "                             'rgb(229,245,224)'], [0.25, 'rgb(199,233,192)'],\n",
       "                             [0.375, 'rgb(161,217,155)'], [0.5,\n",
       "                             'rgb(116,196,118)'], [0.625, 'rgb(65,171,93)'], [0.75,\n",
       "                             'rgb(35,139,69)'], [0.875, 'rgb(0,109,44)'], [1.0,\n",
       "                             'rgb(0,68,27)']],\n",
       "              'hoverongaps': False,\n",
       "              'showscale': False,\n",
       "              'type': 'heatmap',\n",
       "              'uid': '85a2e287-bd40-49e1-a79d-0b5216f4326f',\n",
       "              'x': array([ 0,  1,  2,  3,  4,  5,  6,  7,  8,  9, 10, 11, 12, 13, 14, 15, 16, 17,\n",
       "                          18, 19, 20, 21, 22, 23]),\n",
       "              'xaxis': 'x2',\n",
       "              'xgap': 1,\n",
       "              'y': array([0, 1, 2]),\n",
       "              'yaxis': 'y2',\n",
       "              'ygap': 1,\n",
       "              'z': array([[0., 0., 0., 0., 0., 0., 0., 0., 0., 0., 0., 0., 0., 0., 0., 0., 0.,\n",
       "                           0., 0., 0., 0., 0., 0., 0.],\n",
       "                          [0., 0., 0., 0., 0., 0., 0., 0., 0., 0., 0., 0., 0., 0., 0., 0., 0.,\n",
       "                           0., 0., 0., 0., 0., 0., 0.],\n",
       "                          [0., 0., 0., 0., 0., 0., 0., 0., 0., 0., 0., 0., 0., 0., 0., 0., 0.,\n",
       "                           0., 0., 0., 0., 0., 0., 0.]]),\n",
       "              'zmax': 1,\n",
       "              'zmin': 0}],\n",
       "    'layout': {'annotations': [{'font': {'size': 16},\n",
       "                                'showarrow': False,\n",
       "                                'text': 'Initial state',\n",
       "                                'x': 0.5,\n",
       "                                'xanchor': 'center',\n",
       "                                'xref': 'paper',\n",
       "                                'y': 1.0,\n",
       "                                'yanchor': 'bottom',\n",
       "                                'yref': 'paper'},\n",
       "                               {'font': {'size': 16},\n",
       "                                'showarrow': False,\n",
       "                                'text': ('Difference between initial and' ... 'es, dark for different values)'),\n",
       "                                'x': 0.5,\n",
       "                                'xanchor': 'center',\n",
       "                                'xref': 'paper',\n",
       "                                'y': 0.45,\n",
       "                                'yanchor': 'bottom',\n",
       "                                'yref': 'paper'}],\n",
       "               'height': 500,\n",
       "               'template': '...',\n",
       "               'title': {'text': 'First stage: deterministic transition'},\n",
       "               'xaxis': {'anchor': 'y',\n",
       "                         'domain': [0.0, 1.0],\n",
       "                         'matches': 'x2',\n",
       "                         'showticklabels': False,\n",
       "                         'ticktext': [0, 1, 2, 3, 4, 5, 6, 7, 8, 9, 10, 11, 12,\n",
       "                                      13, 14, 15, 16, 17, 18, 19, 20, 21, 22, 23],\n",
       "                         'tickvals': array([ 0,  1,  2,  3,  4,  5,  6,  7,  8,  9, 10, 11, 12, 13, 14, 15, 16, 17,\n",
       "                                            18, 19, 20, 21, 22, 23]),\n",
       "                         'title': {'text': 'State index'}},\n",
       "               'xaxis2': {'anchor': 'y2',\n",
       "                          'domain': [0.0, 1.0],\n",
       "                          'tickmode': 'array',\n",
       "                          'ticktext': [1, 2, 3, 4, 5, 6, 7, 8, 9, 10, 11, 12, 13,\n",
       "                                       14, 15, 16, 17, 18, 19, 20, 21, 22, 23, 24],\n",
       "                          'tickvals': array([ 0,  1,  2,  3,  4,  5,  6,  7,  8,  9, 10, 11, 12, 13, 14, 15, 16, 17,\n",
       "                                             18, 19, 20, 21, 22, 23]),\n",
       "                          'title': {'text': 'State index'}},\n",
       "               'yaxis': {'anchor': 'x',\n",
       "                         'domain': [0.55, 1.0],\n",
       "                         'ticktext': [1, 2, 3],\n",
       "                         'tickvals': array([0, 1, 2]),\n",
       "                         'title': {'text': 'Queue index'}},\n",
       "               'yaxis2': {'anchor': 'x2',\n",
       "                          'domain': [0.0, 0.45],\n",
       "                          'ticktext': [1, 2, 3],\n",
       "                          'tickvals': array([0, 1, 2]),\n",
       "                          'title': {'text': 'Queue index'}}}\n",
       "})"
      ]
     },
     "metadata": {},
     "output_type": "display_data"
    },
    {
     "data": {
      "application/vnd.jupyter.widget-view+json": {
       "model_id": "d1008c26060048ccbf4072375a0fef7e",
       "version_major": 2,
       "version_minor": 0
      },
      "text/plain": [
       "IntSlider(value=0, description='Action', max=3)"
      ]
     },
     "metadata": {},
     "output_type": "display_data"
    }
   ],
   "source": [
    "# Visualizing the first stage transition\n",
    "bs = torch.tensor([2, 1, 3])\n",
    "SP = state_space_construction(buffers_size=bs)[0]\n",
    "\n",
    "# Parameters\n",
    "num_states = len(SP)\n",
    "num_queues = bs.size(0)\n",
    "\n",
    "# Normalize the state space\n",
    "NSP = [state.float() / bs for state in SP]\n",
    "\n",
    "# Convert in data for visualization\n",
    "data_nsp = np.stack([ns.numpy() for ns in NSP], axis=1)\n",
    "\n",
    "# Create the plot regions\n",
    "fig = ps.make_subplots(\n",
    "    rows=2, cols=1,\n",
    "    row_heights=[0.1, 0.1],\n",
    "    shared_xaxes=True,\n",
    "    vertical_spacing=0.1,\n",
    "    subplot_titles=(\"Initial state\", \"Difference between initial and intermediate state (light for equal values, dark for different values)\")\n",
    ")\n",
    "\n",
    "# Add the heatmap for the normalized initial states\n",
    "heatmap_nsp1 = go.Heatmap(\n",
    "    z=data_nsp,\n",
    "    x=np.arange(num_states),\n",
    "    y=np.arange(num_queues),\n",
    "    colorscale='blues',\n",
    "    showscale=True,\n",
    "    colorbar=dict(\n",
    "        title='Initial queue occupancy',\n",
    "        titleside='right'\n",
    "    ),\n",
    "    zmin=0,\n",
    "    zmax=1\n",
    ")\n",
    "fig.add_trace(heatmap_nsp1, row=1, col=1)\n",
    "\n",
    "# Add a heatmap for the difference between the initial and intermediate states\n",
    "initial_diff = np.zeros((num_queues, num_states))\n",
    "heatmap_diff = go.Heatmap(\n",
    "    z=initial_diff,\n",
    "    x=np.arange(num_states),\n",
    "    y=np.arange(num_queues),\n",
    "    colorscale='greens',\n",
    "    showscale=False,  \n",
    "    zmin=0,\n",
    "    zmax=1\n",
    ")\n",
    "fig.add_trace(heatmap_diff, row=2, col=1)\n",
    "\n",
    "# Cells borders\n",
    "fig.update_traces(\n",
    "    hoverongaps=False,\n",
    "    xgap=1,  # Set the gap between cells\n",
    "    ygap=1\n",
    ")\n",
    "\n",
    "# Axes\n",
    "fig.update_layout(\n",
    "    title='First stage: deterministic transition',\n",
    "    xaxis=dict(\n",
    "        title='State index',\n",
    "        tickvals=np.arange(num_states),\n",
    "        ticktext=[str(i) for i in range(num_states)]\n",
    "    ),\n",
    "    yaxis=dict(\n",
    "        title='Queue index',\n",
    "        tickvals=np.arange(num_queues),\n",
    "        ticktext=[str(i+1) for i in range(num_queues)]\n",
    "    ),\n",
    "    height=500\n",
    ")\n",
    "fig.update_yaxes(\n",
    "    title='Queue index',\n",
    "    tickvals=np.arange(num_queues),\n",
    "    ticktext=[str(i+1) for i in range(num_queues)],\n",
    "    row=2, col=1\n",
    ")\n",
    "fig.update_xaxes(\n",
    "    title='State index',\n",
    "    tickmode='array',\n",
    "    tickvals=np.arange(num_states),\n",
    "    ticktext=[str(i+1) for i in range(num_states)],\n",
    "    row=2, col=1\n",
    ")\n",
    "\n",
    "# Cursor to select the action\n",
    "slider_1 = widgets.IntSlider(min=0, max=num_queues, step=1, value=0, description='Action')\n",
    "\n",
    "# Prepare the dynamic update of the figure\n",
    "fig_widget = go.FigureWidget(fig)\n",
    "\n",
    "def update_heatmap1(a):\n",
    "    list_diff = [next(SP[s], a, bs) - SP[s] for s in range(num_states)]\n",
    "    data_diff = torch.stack(list_diff).numpy()\n",
    "    with fig_widget.batch_update():\n",
    "        fig_widget.data[1].z = data_diff.T \n",
    "\n",
    "widgets.interact(update_heatmap1, a=slider_1)\n",
    "\n",
    "# Afficher la figure widget et le curseur\n",
    "display(fig_widget, slider_1)\n"
   ]
  },
  {
   "cell_type": "markdown",
   "metadata": {},
   "source": [
    "### **<a id=\"mdp_for_load_balancing_transition_stage2\">Second Stage Transition at each period: The Probabilistic Transition</a>** (the **probability()** function)"
   ]
  },
  {
   "cell_type": "markdown",
   "metadata": {},
   "source": [
    "Objective:\n",
    "- Compute the transition probability from one state to another in the second stage of the transition dynamics.\n",
    "\n",
    "Args:\n",
    "- intermediate_state (tensor): state resulting from the first stage transition.\n",
    "- final_state (tensor): any existing state.\n",
    "- service_rates (tensor): service rate for each queue.\n",
    "\n",
    "Returns:\n",
    "- The probability of transition from intermediate_state to final_state in the second stage."
   ]
  },
  {
   "cell_type": "code",
   "execution_count": 90,
   "metadata": {},
   "outputs": [],
   "source": [
    "def probability(intermediate_state:torch.Tensor, final_state:torch.Tensor, service_rates:torch.Tensor) -> float:\n",
    "    nb_queues = service_rates.numel()\n",
    "    proba = 1.0\n",
    "    for queue in range(nb_queues):\n",
    "        max_to_process = intermediate_state[queue]\n",
    "        unprocessed = final_state[queue]\n",
    "        if max_to_process < unprocessed: return 0.0\n",
    "        processed = max_to_process - unprocessed\n",
    "        sr = service_rates[queue]\n",
    "        proba *= math.comb(max_to_process,unprocessed) * sr**processed * (1-sr)**unprocessed\n",
    "    return proba"
   ]
  },
  {
   "cell_type": "markdown",
   "metadata": {},
   "source": [
    "### **<a>The overall transition (first and second stages) at each period</a>** (the **transition_function()** and **transition_dynamics()** functions)\n",
    "\n",
    "\n",
    "1. We can now define the transition function (**transition_function()**), that retunrs the probability of each transition from one state to any state given an action.\n",
    "2. It may also be intersting to avoid this calculation all the time and, instead, generate a tensor that capture the transition dynamics and use it whenever it is necessary. This tensor is generated by the function **transition_dynamics()**."
   ]
  },
  {
   "cell_type": "markdown",
   "metadata": {},
   "source": [
    "#### The Transition Function\n",
    "\n",
    "Objective:\n",
    "- Compute the probability of transition to a given state.\n",
    "\n",
    "Args:\n",
    "- state1 (tensor): state at which the action is performed.\n",
    "- state2 (tensor): state to which the transition probability is to evaluate.\n",
    "- action (int): decision taken in state1 before the transition.\n",
    "- buffers_size (tensor): the maximum size of each queue.\n",
    "- service_rates (tensor): service rate for each queue.\n",
    "\n",
    "Returns:\n",
    "- Probability of transition to *sate2* when action *action* was taken in *state1*."
   ]
  },
  {
   "cell_type": "code",
   "execution_count": 91,
   "metadata": {},
   "outputs": [],
   "source": [
    "def transition_function(state1:torch.Tensor, action:int, state2:torch.Tensor, buffers_size:torch.Tensor, service_rates:torch.Tensor) -> float:\n",
    "    intermediate_state = next(state=state1,action=action,buffers_size=buffers_size)\n",
    "    return probability(intermediate_state=intermediate_state,final_state=state2,service_rates=service_rates)"
   ]
  },
  {
   "cell_type": "markdown",
   "metadata": {},
   "source": [
    "#### The Transition Dynamics\n",
    "\n",
    "Objective:\n",
    "- Compute the tensor that captures transition dynamics. The states are referred to by their indices.\n",
    "\n",
    "Args:\n",
    "- state_space (list): list of states.\n",
    "- buffers_size (tensor): the maximum size of each queue.\n",
    "- service_rates (tensor): service rate for each queue.\n",
    "\n",
    "Returns:\n",
    "- The tensor of transition matrices.\n",
    "- The time to get it."
   ]
  },
  {
   "cell_type": "code",
   "execution_count": 92,
   "metadata": {},
   "outputs": [],
   "source": [
    "def transition_dynamics(state_space:list, buffers_size:torch.Tensor, service_rates:torch.Tensor) -> torch.Tensor:\n",
    "    begin = time.time()\n",
    "    nb_states = len(state_space)\n",
    "    nb_actions = buffers_size.numel() + 1\n",
    "    nb_steps = nb_states**2 * nb_actions\n",
    "    step = 0\n",
    "    TD = torch.zeros([nb_states,nb_actions,nb_states],dtype=float)\n",
    "    for s_idx1, state1 in enumerate(state_space):\n",
    "        for a in range(nb_actions):\n",
    "            for s_idx2, state2 in enumerate(state_space):\n",
    "                step += 1\n",
    "                print(f\"Fetching the transition dynamics   .....   step {step}/{nb_steps} ({step/nb_steps:.2%})\", end=\"\\r\")\n",
    "                TD[s_idx1,a,s_idx2] = transition_function(state1=state1, action=a, state2=state2, buffers_size=buffers_size, service_rates=service_rates)\n",
    "    end = time.time()\n",
    "    print(\" \"*150,end=\"\\r\")\n",
    "    return TD, end - begin"
   ]
  },
  {
   "cell_type": "markdown",
   "metadata": {},
   "source": [
    "## **<a id=\"mdp_for_load_balancing_costs\">The Costs</a>**\n",
    "\n",
    "1. We can now define the cost function (**cost_function()**), that retunrs the cost for taking an action in a given state.\n",
    "2. It may also be intersting to avoid this calculation all the time and, instead, generate a tensor that capture the possible costs and use it whenever it is necessary. This tensor is generated by the function **cost_matrix()**."
   ]
  },
  {
   "cell_type": "markdown",
   "metadata": {},
   "source": [
    "### **<a id=\"mdp_for_load_balancing_cost_function\">The Cost Function</a>**\n",
    "\n",
    "- The cost is linear in the number of loss and unprocessed jobs, i.e., \n",
    "\n",
    "    `Total cost` = `cost per loss job` × `loss jobs` + `cost per unproceeded job` × `number of unproceeded jobs`\n",
    "    \n",
    "    \n",
    "    The loss happens in the deterministic stage of the transition, that results in an intermediate state; The number of unproceeded jobs relies on the difference between the intermediate state and the final state of the period.\n",
    "- The number of loss jobs is returned by the function **loss()**.\n",
    "- The number of unprocessed jobs is random, its mathematical expectation is added to *loss()* the mathematical expectation of the total cost of period is returned by the function **cost()**.\n",
    "- In a queue of service rate $\\lambda_q$ and containing $s_q$ jobs in the intermediate state, in expectation, $\\lambda_q s_q$ jobs will be proceeded and $\\left(1-\\lambda_q\\right) s_q$ jobs will remain in the queue."
   ]
  },
  {
   "cell_type": "markdown",
   "metadata": {},
   "source": [
    "#### Loss\n",
    "\n",
    "Objective:\n",
    "- Finds the loss that results from performing a given action.\n",
    "\n",
    "Args:\n",
    "- state (tensor): the state in which the action is performed.\n",
    "- action (int): the action performed.\n",
    "- buffers_size (tensor): the maximum size of each queue.\n",
    "\n",
    "Returns:\n",
    "- The resulting loss."
   ]
  },
  {
   "cell_type": "code",
   "execution_count": 93,
   "metadata": {},
   "outputs": [],
   "source": [
    "def loss(state:torch.Tensor, action:int, buffers_size:torch.Tensor) -> float:\n",
    "    if action==0: return 1\n",
    "    if state[action-1]>=buffers_size[action-1]: return 1\n",
    "    return 0"
   ]
  },
  {
   "cell_type": "markdown",
   "metadata": {},
   "source": [
    "#### Cost\n",
    "\n",
    "Objective:\n",
    "- Computes the cost charged for taking some action in some state.\n",
    "\n",
    "Args:\n",
    "- state (tensor): the state in which the action is performed.\n",
    "- action (int): the action performed.\n",
    "- buffers_size (tensor): the maximum size of each queue.\n",
    "- service_rates (tensor): service rate of each queue.\n",
    "\n",
    "Returns:\n",
    "- The cost."
   ]
  },
  {
   "cell_type": "code",
   "execution_count": 94,
   "metadata": {},
   "outputs": [],
   "source": [
    "def cost_function(state:torch.tensor, action:int, buffers_size:torch.tensor, service_rates:torch.tensor, cost_loss:float=2.0, cost_delay:float=1.0) -> float:\n",
    "    jobs_loss = loss(state=state, action=action, buffers_size=buffers_size)\n",
    "    intermediate_state = next(state=state, action=action, buffers_size=buffers_size)\n",
    "    jobs_unproceeded = torch.dot(1-service_rates.to(float), intermediate_state.to(float)).item()\n",
    "    return cost_loss*jobs_loss + cost_delay*jobs_unproceeded"
   ]
  },
  {
   "cell_type": "markdown",
   "metadata": {},
   "source": [
    "#### Examples of loss and total cost"
   ]
  },
  {
   "cell_type": "markdown",
   "metadata": {},
   "source": [
    "##### Example of loss"
   ]
  },
  {
   "cell_type": "code",
   "execution_count": 95,
   "metadata": {},
   "outputs": [
    {
     "name": "stdout",
     "output_type": "stream",
     "text": [
      "Cost with B = tensor([2, 1, 3]) and a = 0\n",
      "\n",
      "s = [0 0 0] --->  loss = 1    |    s = [0 0 1] --->  loss = 1    |    s = [0 0 2] --->  loss = 1    |    s = [0 0 3] --->  loss = 1    | \n",
      "s = [0 1 0] --->  loss = 1    |    s = [0 1 1] --->  loss = 1    |    s = [0 1 2] --->  loss = 1    |    s = [0 1 3] --->  loss = 1    | \n",
      "s = [1 0 0] --->  loss = 1    |    s = [1 0 1] --->  loss = 1    |    s = [1 0 2] --->  loss = 1    |    s = [1 0 3] --->  loss = 1    | \n",
      "s = [1 1 0] --->  loss = 1    |    s = [1 1 1] --->  loss = 1    |    s = [1 1 2] --->  loss = 1    |    s = [1 1 3] --->  loss = 1    | \n",
      "s = [2 0 0] --->  loss = 1    |    s = [2 0 1] --->  loss = 1    |    s = [2 0 2] --->  loss = 1    |    s = [2 0 3] --->  loss = 1    | \n",
      "s = [2 1 0] --->  loss = 1    |    s = [2 1 1] --->  loss = 1    |    s = [2 1 2] --->  loss = 1    |    s = [2 1 3] --->  loss = 1    | "
     ]
    }
   ],
   "source": [
    "bs = torch.tensor([2,1,3])\n",
    "a = 0  # Replace a by any suitable action\n",
    "print(f\"Cost with B = {bs} and a = {a}\")\n",
    "state_space = state_space_construction(buffers_size=bs)[0]\n",
    "for s_idx in range(len(state_space)):\n",
    "    if s_idx % 4 == 0: print()\n",
    "    else: print(\"   \", end=\"\")\n",
    "    state = state_space[s_idx]\n",
    "    jobs_loss = loss(state=state,action=a, buffers_size=bs)\n",
    "    print(f\"s = {state.numpy()} --->  loss = {jobs_loss}    | \", end=\"\")"
   ]
  },
  {
   "cell_type": "markdown",
   "metadata": {},
   "source": [
    "##### Example of cost"
   ]
  },
  {
   "cell_type": "code",
   "execution_count": 96,
   "metadata": {},
   "outputs": [
    {
     "name": "stdout",
     "output_type": "stream",
     "text": [
      "Number of jobs loss with B = [2 1 3], sr = [0.7733791  0.4721961  0.50632375] and a = 0\n",
      "\n",
      "s = [0 0 0] --->  cost = 2.0000    |    s = [0 0 1] --->  cost = 2.4937    |    s = [0 0 2] --->  cost = 2.9874    |    s = [0 0 3] --->  cost = 3.4810    | \n",
      "s = [0 1 0] --->  cost = 2.5278    |    s = [0 1 1] --->  cost = 3.0215    |    s = [0 1 2] --->  cost = 3.5152    |    s = [0 1 3] --->  cost = 4.0088    | \n",
      "s = [1 0 0] --->  cost = 2.2266    |    s = [1 0 1] --->  cost = 2.7203    |    s = [1 0 2] --->  cost = 3.2140    |    s = [1 0 3] --->  cost = 3.7076    | \n",
      "s = [1 1 0] --->  cost = 2.7544    |    s = [1 1 1] --->  cost = 3.2481    |    s = [1 1 2] --->  cost = 3.7418    |    s = [1 1 3] --->  cost = 4.2355    | \n",
      "s = [2 0 0] --->  cost = 2.4532    |    s = [2 0 1] --->  cost = 2.9469    |    s = [2 0 2] --->  cost = 3.4406    |    s = [2 0 3] --->  cost = 3.9343    | \n",
      "s = [2 1 0] --->  cost = 2.9810    |    s = [2 1 1] --->  cost = 3.4747    |    s = [2 1 2] --->  cost = 3.9684    |    s = [2 1 3] --->  cost = 4.4621    | "
     ]
    }
   ],
   "source": [
    "bs = torch.tensor([2,1,3])\n",
    "sr = torch.rand((3))\n",
    "a = 0  # Replace a by any suitable action\n",
    "print(f\"Number of jobs loss with B = {bs.numpy()}, sr = {sr.numpy()} and a = {a}\")\n",
    "state_space = state_space_construction(buffers_size=bs)[0]\n",
    "for s_idx in range(len(state_space)):\n",
    "    if s_idx % 4 == 0: print()\n",
    "    else: print(\"   \", end=\"\")\n",
    "    state = state_space[s_idx]\n",
    "    cost = cost_function(state=state, action=a, buffers_size=bs, service_rates=sr)\n",
    "    print(f\"s = {state.numpy()} --->  cost = {cost:.4f}    | \", end=\"\")"
   ]
  },
  {
   "cell_type": "markdown",
   "metadata": {},
   "source": [
    "### **<a id=\"mdp_for_load_balancing_cost_matrix\">The Cost Matrix</a>**\n",
    "\n",
    "Objective:\n",
    "- Compute the cost matrix. The states are referred to by their indices.\n",
    "\n",
    "Args:\n",
    "- state_space (list): list of states.\n",
    "- buffers_size (tensor): the maximum size of each queue.\n",
    "- service_rates (tensor): service rate for each queue.\n",
    "\n",
    "Returns:\n",
    "- The cost matrix.\n",
    "- The time to get it."
   ]
  },
  {
   "cell_type": "code",
   "execution_count": 97,
   "metadata": {},
   "outputs": [],
   "source": [
    "def cost_matrix(state_space:list, buffers_size:torch.Tensor, service_rates:torch.Tensor, cost_loss:float=2.0, cost_delay:float=1.0) -> torch.Tensor:\n",
    "    begin = time.time()\n",
    "    nb_states = len(state_space)\n",
    "    nb_actions = buffers_size.numel() + 1\n",
    "    nb_steps = nb_states*nb_actions\n",
    "    step = 0\n",
    "    CM = torch.zeros([nb_states,nb_actions],dtype=float)\n",
    "    for s_idx, state in enumerate(state_space):\n",
    "        for a in range(nb_actions):\n",
    "            step += 1\n",
    "            print(f\"Fetching the cost matrix   .....   step {step}/{nb_steps} ({step/nb_steps:.2%})\", end=\"\\r\")\n",
    "            CM[s_idx,a] = cost_function(state=state, action=a, buffers_size=buffers_size, service_rates=service_rates, cost_loss=cost_loss, cost_delay=cost_delay)\n",
    "    end = time.time()\n",
    "    return CM, end - begin"
   ]
  },
  {
   "cell_type": "markdown",
   "metadata": {},
   "source": [
    "#### Example of cost matrix"
   ]
  },
  {
   "cell_type": "code",
   "execution_count": 98,
   "metadata": {},
   "outputs": [
    {
     "name": "stdout",
     "output_type": "stream",
     "text": [
      "Cost matrix with B = [2 1 3], service rate = [0.60475546 0.30605632 0.39700103] and a = 1\n",
      "\n",
      "Cost matrixe cost matrix   .....   step 96/96 (100.00%)\n",
      "[[2.         0.39524454 0.69394368 0.60299897]\n",
      " [2.60299897 0.99824351 1.29694265 1.20599794]\n",
      " [3.20599794 1.60124248 1.89994162 1.80899692]\n",
      " [3.80899692 2.20424145 2.5029406  3.80899692]\n",
      " [2.69394368 1.08918822 2.69394368 1.29694265]\n",
      " [3.29694265 1.69218719 3.29694265 1.89994162]\n",
      " [3.89994162 2.29518616 3.89994162 2.5029406 ]\n",
      " [4.5029406  2.89818513 4.5029406  4.5029406 ]\n",
      " [2.39524454 0.79048908 1.08918822 0.99824351]\n",
      " [2.99824351 1.39348805 1.69218719 1.60124248]\n",
      " [3.60124248 1.99648702 2.29518616 2.20424145]\n",
      " [4.20424145 2.59948599 2.89818513 4.20424145]\n",
      " [3.08918822 1.48443276 3.08918822 1.69218719]\n",
      " [3.69218719 2.08743173 3.69218719 2.29518616]\n",
      " [4.29518616 2.6904307  4.29518616 2.89818513]\n",
      " [4.89818513 3.29342967 4.89818513 4.89818513]\n",
      " [2.79048908 2.79048908 1.48443276 1.39348805]\n",
      " [3.39348805 3.39348805 2.08743173 1.99648702]\n",
      " [3.99648702 3.99648702 2.6904307  2.59948599]\n",
      " [4.59948599 4.59948599 3.29342967 4.59948599]\n",
      " [3.48443276 3.48443276 3.48443276 2.08743173]\n",
      " [4.08743173 4.08743173 4.08743173 2.6904307 ]\n",
      " [4.6904307  4.6904307  4.6904307  3.29342967]\n",
      " [5.29342967 5.29342967 5.29342967 5.29342967]]\n",
      "Elapse time = 0.00639653205871582\n"
     ]
    }
   ],
   "source": [
    "bs = torch.tensor([2,1,3])\n",
    "sr = torch.rand((3))\n",
    "a = 1  # Replace a by any suitable action\n",
    "print(f\"Cost matrix with B = {bs.numpy()}, service rate = {sr.numpy()} and a = {a}\\n\")\n",
    "CM, time_ = cost_matrix(state_space=state_space, buffers_size=bs, service_rates=sr)\n",
    "print(\"Cost matrix\")\n",
    "print(CM.numpy())\n",
    "print(f\"Elapse time = {time_}\")"
   ]
  },
  {
   "cell_type": "code",
   "execution_count": 99,
   "metadata": {},
   "outputs": [
    {
     "data": {
      "application/vnd.jupyter.widget-view+json": {
       "model_id": "9814e59b961d4127a31e8c203324a7e4",
       "version_major": 2,
       "version_minor": 0
      },
      "text/plain": [
       "interactive(children=(IntSlider(value=0, description='Action', max=3), Output()), _dom_classes=('widget-intera…"
      ]
     },
     "metadata": {},
     "output_type": "display_data"
    },
    {
     "data": {
      "application/vnd.jupyter.widget-view+json": {
       "model_id": "4c11db07f9fb416990a870e304ca732d",
       "version_major": 2,
       "version_minor": 0
      },
      "text/plain": [
       "FigureWidget({\n",
       "    'data': [{'colorbar': {'title': {'side': 'right', 'text': 'Queue occupancy'}},\n",
       "              'colorscale': [[0.0, 'rgb(247,251,255)'], [0.125,\n",
       "                             'rgb(222,235,247)'], [0.25, 'rgb(198,219,239)'],\n",
       "                             [0.375, 'rgb(158,202,225)'], [0.5,\n",
       "                             'rgb(107,174,214)'], [0.625, 'rgb(66,146,198)'],\n",
       "                             [0.75, 'rgb(33,113,181)'], [0.875, 'rgb(8,81,156)'],\n",
       "                             [1.0, 'rgb(8,48,107)']],\n",
       "              'hoverongaps': False,\n",
       "              'showscale': True,\n",
       "              'type': 'heatmap',\n",
       "              'uid': '90bf164e-a2ef-4f0b-ade6-5e7d94f8635b',\n",
       "              'x': array([ 0,  1,  2,  3,  4,  5,  6,  7,  8,  9, 10, 11, 12, 13, 14, 15, 16, 17,\n",
       "                          18, 19, 20, 21, 22, 23]),\n",
       "              'xaxis': 'x',\n",
       "              'xgap': 1,\n",
       "              'y': array([0, 1, 2]),\n",
       "              'yaxis': 'y',\n",
       "              'ygap': 1,\n",
       "              'z': array([[0.        , 0.        , 0.        , 0.        , 0.        ,\n",
       "                           0.        , 0.        , 0.        , 0.5       , 0.5       ,\n",
       "                           0.5       , 0.5       , 0.5       , 0.5       , 0.5       ,\n",
       "                           0.5       , 1.        , 1.        , 1.        , 1.        ,\n",
       "                           1.        , 1.        , 1.        , 1.        ],\n",
       "                          [0.        , 0.        , 0.        , 0.        , 1.        ,\n",
       "                           1.        , 1.        , 1.        , 0.        , 0.        ,\n",
       "                           0.        , 0.        , 1.        , 1.        , 1.        ,\n",
       "                           1.        , 0.        , 0.        , 0.        , 0.        ,\n",
       "                           1.        , 1.        , 1.        , 1.        ],\n",
       "                          [0.        , 0.33333334, 0.6666667 , 1.        , 0.        ,\n",
       "                           0.33333334, 0.6666667 , 1.        , 0.        , 0.33333334,\n",
       "                           0.6666667 , 1.        , 0.        , 0.33333334, 0.6666667 ,\n",
       "                           1.        , 0.        , 0.33333334, 0.6666667 , 1.        ,\n",
       "                           0.        , 0.33333334, 0.6666667 , 1.        ]], dtype=float32),\n",
       "              'zmax': 1,\n",
       "              'zmin': 0},\n",
       "             {'colorscale': [[0.0, 'rgb(255,245,240)'], [0.125,\n",
       "                             'rgb(254,224,210)'], [0.25, 'rgb(252,187,161)'],\n",
       "                             [0.375, 'rgb(252,146,114)'], [0.5, 'rgb(251,106,74)'],\n",
       "                             [0.625, 'rgb(239,59,44)'], [0.75, 'rgb(203,24,29)'],\n",
       "                             [0.875, 'rgb(165,15,21)'], [1.0, 'rgb(103,0,13)']],\n",
       "              'hoverongaps': False,\n",
       "              'showscale': False,\n",
       "              'type': 'heatmap',\n",
       "              'uid': 'b06a3046-7fb3-44ca-aca7-67662c8c95c6',\n",
       "              'x': array([ 0,  1,  2,  3,  4,  5,  6,  7,  8,  9, 10, 11, 12, 13, 14, 15, 16, 17,\n",
       "                          18, 19, 20, 21, 22, 23]),\n",
       "              'xaxis': 'x2',\n",
       "              'xgap': 1,\n",
       "              'y': [Loss],\n",
       "              'yaxis': 'y2',\n",
       "              'ygap': 1,\n",
       "              'z': array([[1, 1, 1, 1, 1, 1, 1, 1, 1, 1, 1, 1, 1, 1, 1, 1, 1, 1, 1, 1, 1, 1, 1,\n",
       "                           1]]),\n",
       "              'zmax': 1,\n",
       "              'zmin': 0},\n",
       "             {'colorscale': [[0.0, 'rgb(255,245,240)'], [0.125,\n",
       "                             'rgb(254,224,210)'], [0.25, 'rgb(252,187,161)'],\n",
       "                             [0.375, 'rgb(252,146,114)'], [0.5, 'rgb(251,106,74)'],\n",
       "                             [0.625, 'rgb(239,59,44)'], [0.75, 'rgb(203,24,29)'],\n",
       "                             [0.875, 'rgb(165,15,21)'], [1.0, 'rgb(103,0,13)']],\n",
       "              'hoverongaps': False,\n",
       "              'showscale': False,\n",
       "              'type': 'heatmap',\n",
       "              'uid': 'fd279fa1-f217-4b59-8753-512f2101d0f1',\n",
       "              'x': array([ 0,  1,  2,  3,  4,  5,  6,  7,  8,  9, 10, 11, 12, 13, 14, 15, 16, 17,\n",
       "                          18, 19, 20, 21, 22, 23]),\n",
       "              'xaxis': 'x3',\n",
       "              'xgap': 1,\n",
       "              'y': [Cost],\n",
       "              'yaxis': 'y3',\n",
       "              'ygap': 1,\n",
       "              'z': array([[2.        , 2.60299897, 3.20599794, 3.80899692, 2.69394368,\n",
       "                           3.29694265, 3.89994162, 4.5029406 , 2.39524454, 2.99824351,\n",
       "                           3.60124248, 4.20424145, 3.08918822, 3.69218719, 4.29518616,\n",
       "                           4.89818513, 2.79048908, 3.39348805, 3.99648702, 4.59948599,\n",
       "                           3.48443276, 4.08743173, 4.6904307 , 5.29342967]]),\n",
       "              'zmax': 5.293429672718048,\n",
       "              'zmin': -5.293429672718048}],\n",
       "    'layout': {'annotations': [{'font': {'size': 16},\n",
       "                                'showarrow': False,\n",
       "                                'text': 'States',\n",
       "                                'x': 0.5,\n",
       "                                'xanchor': 'center',\n",
       "                                'xref': 'paper',\n",
       "                                'y': 1.0,\n",
       "                                'yanchor': 'bottom',\n",
       "                                'yref': 'paper'},\n",
       "                               {'font': {'size': 16},\n",
       "                                'showarrow': False,\n",
       "                                'text': 'Loss (first stage)',\n",
       "                                'x': 0.5,\n",
       "                                'xanchor': 'center',\n",
       "                                'xref': 'paper',\n",
       "                                'y': 0.42000000000000004,\n",
       "                                'yanchor': 'bottom',\n",
       "                                'yref': 'paper'},\n",
       "                               {'font': {'size': 16},\n",
       "                                'showarrow': False,\n",
       "                                'text': 'Total cost',\n",
       "                                'x': 0.5,\n",
       "                                'xanchor': 'center',\n",
       "                                'xref': 'paper',\n",
       "                                'y': 0.16000000000000003,\n",
       "                                'yanchor': 'bottom',\n",
       "                                'yref': 'paper'}],\n",
       "               'height': 500,\n",
       "               'template': '...',\n",
       "               'title': {'text': 'Cost'},\n",
       "               'xaxis': {'anchor': 'y',\n",
       "                         'domain': [0.0, 1.0],\n",
       "                         'matches': 'x3',\n",
       "                         'showticklabels': False,\n",
       "                         'tickmode': 'array',\n",
       "                         'ticktext': [0, 1, 2, 3, 4, 5, 6, 7, 8, 9, 10, 11, 12,\n",
       "                                      13, 14, 15, 16, 17, 18, 19, 20, 21, 22, 23],\n",
       "                         'tickvals': array([ 0,  1,  2,  3,  4,  5,  6,  7,  8,  9, 10, 11, 12, 13, 14, 15, 16, 17,\n",
       "                                            18, 19, 20, 21, 22, 23])},\n",
       "               'xaxis2': {'anchor': 'y2',\n",
       "                          'domain': [0.0, 1.0],\n",
       "                          'matches': 'x3',\n",
       "                          'showticklabels': False,\n",
       "                          'tickmode': 'array',\n",
       "                          'ticktext': [0, 1, 2, 3, 4, 5, 6, 7, 8, 9, 10, 11, 12,\n",
       "                                       13, 14, 15, 16, 17, 18, 19, 20, 21, 22, 23],\n",
       "                          'tickvals': array([ 0,  1,  2,  3,  4,  5,  6,  7,  8,  9, 10, 11, 12, 13, 14, 15, 16, 17,\n",
       "                                             18, 19, 20, 21, 22, 23])},\n",
       "               'xaxis3': {'anchor': 'y3',\n",
       "                          'domain': [0.0, 1.0],\n",
       "                          'tickmode': 'array',\n",
       "                          'ticktext': [1, 2, 3, 4, 5, 6, 7, 8, 9, 10, 11, 12, 13,\n",
       "                                       14, 15, 16, 17, 18, 19, 20, 21, 22, 23, 24],\n",
       "                          'tickvals': array([ 0,  1,  2,  3,  4,  5,  6,  7,  8,  9, 10, 11, 12, 13, 14, 15, 16, 17,\n",
       "                                             18, 19, 20, 21, 22, 23]),\n",
       "                          'title': {'text': 'State'}},\n",
       "               'yaxis': {'anchor': 'x',\n",
       "                         'domain': [0.52, 1.0],\n",
       "                         'tickmode': 'array',\n",
       "                         'ticktext': [1, 2, 3],\n",
       "                         'tickvals': array([0, 1, 2]),\n",
       "                         'title': {'text': 'Queue'}},\n",
       "               'yaxis2': {'anchor': 'x2', 'domain': [0.26, 0.42000000000000004]},\n",
       "               'yaxis3': {'anchor': 'x3', 'domain': [0.0, 0.16000000000000003]}}\n",
       "})"
      ]
     },
     "metadata": {},
     "output_type": "display_data"
    },
    {
     "data": {
      "application/vnd.jupyter.widget-view+json": {
       "model_id": "da1e96f92d004a408549649831eaa330",
       "version_major": 2,
       "version_minor": 0
      },
      "text/plain": [
       "IntSlider(value=0, description='Action', max=3)"
      ]
     },
     "metadata": {},
     "output_type": "display_data"
    }
   ],
   "source": [
    "# Visualizing the first stage transition\n",
    "bs = torch.tensor([2, 1, 3])\n",
    "SP = state_space_construction(buffers_size=bs)[0]\n",
    "\n",
    "# Parameters\n",
    "num_states = len(SP)\n",
    "num_queues = bs.size(0)\n",
    "\n",
    "# Normalize the state space\n",
    "NSP = [state.float() / bs for state in SP]\n",
    "\n",
    "# Convert in data for visualization\n",
    "data_nsp = np.stack([ns.numpy() for ns in NSP], axis=1)\n",
    "\n",
    "# Create the plot regions\n",
    "fig = ps.make_subplots(\n",
    "    rows=3, cols=1,\n",
    "    row_heights=[0.3, 0.1, 0.1],\n",
    "    shared_xaxes=True,\n",
    "    vertical_spacing=0.1,\n",
    "    subplot_titles=(\"States\", \"Loss (first stage)\", \"Total cost\")\n",
    ")\n",
    "\n",
    "# Heatmap for the normalized initial states\n",
    "heatmap_nsp = go.Heatmap(\n",
    "    z=data_nsp,\n",
    "    x=np.arange(num_states),\n",
    "    y=np.arange(num_queues),\n",
    "    colorscale='blues',\n",
    "    showscale=True,\n",
    "    colorbar=dict(\n",
    "        title='Queue occupancy',\n",
    "        titleside='right'\n",
    "    ),\n",
    "    zmin=0,\n",
    "    zmax=1\n",
    ")\n",
    "fig.add_trace(heatmap_nsp, row=1, col=1)\n",
    "\n",
    "# Heatmap for the loss\n",
    "initial_loss = np.zeros((num_states))\n",
    "heatmap_loss = go.Heatmap(\n",
    "    z=initial_loss,\n",
    "    x=np.arange(num_states),\n",
    "    y=[\"Loss\"],\n",
    "    colorscale='reds',\n",
    "    showscale=False,  \n",
    "    zmin=0,\n",
    "    zmax=1\n",
    ")\n",
    "fig.add_trace(heatmap_loss, row=2, col=1)\n",
    "\n",
    "# Heatmap for the total cost\n",
    "initial_total_cost = np.zeros((num_states))\n",
    "heatmap_total_cost = go.Heatmap(\n",
    "    z=initial_total_cost,\n",
    "    x=np.arange(num_states),\n",
    "    y=[\"Cost\"],\n",
    "    colorscale='reds',\n",
    "    showscale=False,  \n",
    "    zmin=0,\n",
    "    zmax=1\n",
    ")\n",
    "fig.add_trace(heatmap_total_cost, row=3, col=1)\n",
    "\n",
    "# Cells borders\n",
    "fig.update_traces(\n",
    "    hoverongaps=False,\n",
    "    xgap=1,  # Set the gap between cells\n",
    "    ygap=1\n",
    ")\n",
    "\n",
    "# Axes\n",
    "fig.update_layout(\n",
    "    title='Cost',\n",
    "    height=500,\n",
    "    xaxis=dict(\n",
    "        # title='State',\n",
    "        tickmode='array',\n",
    "        tickvals=np.arange(num_states),\n",
    "        ticktext=[str(i) for i in range(num_states)]\n",
    "    ),\n",
    "    xaxis2=dict(\n",
    "        # title='State',\n",
    "        tickmode='array',\n",
    "        tickvals=np.arange(num_states),\n",
    "        ticktext=[str(i) for i in range(num_states)]\n",
    "    ),\n",
    "    xaxis3=dict(\n",
    "        title='State',\n",
    "        tickmode='array',\n",
    "        tickvals=np.arange(num_states),\n",
    "        ticktext=[str(i+1) for i in range(num_states)]\n",
    "    ),\n",
    "    yaxis1=dict(\n",
    "        title='Queue',\n",
    "        tickmode='array',\n",
    "        tickvals=np.arange(num_queues),\n",
    "        ticktext=[str(i+1) for i in range(num_queues)]\n",
    "    )\n",
    ")\n",
    "\n",
    "# Cursor to select the action\n",
    "slider_2 = widgets.IntSlider(min=0, max=num_queues, step=1, value=0, description='Action')\n",
    "\n",
    "# Prepare the dynamic update of the figure\n",
    "fig_widget = go.FigureWidget(fig)\n",
    "\n",
    "def update_heatmap2(a):\n",
    "    # loss_ = np.array([loss(state,a,bs) for state in SP])\n",
    "    loss_ = np.stack([loss(state,a,bs) for state in SP])\n",
    "    cost = CM[:,a].numpy()\n",
    "    with fig_widget.batch_update():\n",
    "        fig_widget.data[1].z = loss_.reshape(1, -1)  \n",
    "        fig_widget.data[2].z = cost.reshape(1, -1)  \n",
    "        fig_widget.data[2].zmin = -np.max(np.abs(cost))\n",
    "        fig_widget.data[2].zmax = np.max(np.abs(cost))\n",
    "\n",
    "widgets.interact(update_heatmap2, a=slider_2)\n",
    "\n",
    "# Plot the widget and the cursor\n",
    "display(fig_widget, slider_2)"
   ]
  },
  {
   "cell_type": "code",
   "execution_count": null,
   "metadata": {},
   "outputs": [],
   "source": []
  },
  {
   "cell_type": "markdown",
   "metadata": {},
   "source": [
    "# **<a id=\"load_balancing_resolution\">Resolution of the Load Balancing Problem</a>**\n",
    "\n",
    "Now, let us implement the value iteration algorithm and apply it for the load balancing problem."
   ]
  },
  {
   "cell_type": "markdown",
   "metadata": {},
   "source": [
    "## **<a>Value of a Policy</a>**\n",
    "\n",
    "Objective:\n",
    "- Use the value iteration algorithm to determine the value of a deterministic policy.\n",
    "\n",
    "Args:\n",
    "- transition_dynamics` (torch.Tensor): Transition probability matrix of size (|S|, |A|, |S|).\n",
    "- reward_matrix (torch.Tensor): Reward matrix of size (|S|, |A|).\n",
    "- policy (torch.Tensor): Deterministic policy of size (|S|), where policy[s] is the action taken in state s.\n",
    "- discount_factor (float): Discount factor (0 <= discount_factor < 1).\n",
    "- precision (float): Maximum bound of the error in norm infinite.\n",
    "\n",
    "Returns:\n",
    "- torch.Tensor: Value function V of size (|S|)"
   ]
  },
  {
   "cell_type": "code",
   "execution_count": 100,
   "metadata": {},
   "outputs": [],
   "source": [
    "def valueP(transition_dynamics:torch.Tensor, cost_matrix:torch.Tensor, policy:torch.Tensor, discount_factor:float=0.9, precision:float=1e-16) -> torch.Tensor:\n",
    "    num_states = transition_dynamics.size(0)\n",
    "    error_bound = discount_factor*precision / (1-discount_factor)  # Convergence criterion: $\\left\\|V_{n+1} - V_n\\right\\|_\\infty \\leqslant \\epsilon \\frac{\\gamma}{1-\\gamma}$\n",
    "    step = 0\n",
    "    error_ = \"#NA\"\n",
    "    \n",
    "    policy = policy.to(int)\n",
    "    reward_vector = cost_matrix[torch.arange(num_states), policy]  # Reward corresponding to each state according to the policy applied\n",
    "    transition_matrix = transition_dynamics[torch.arange(num_states), policy]  # Transition probability distribution corresponding to each state\n",
    "    current_value = reward_vector.clone()  # Initialization of the value function\n",
    "\n",
    "    while True:\n",
    "        step += 1\n",
    "        print(f\"Fetching the value of the policy.  Step {step}:  current bound of the error = {error_}\", end=\"\\r\")\n",
    "        new_value = reward_vector + discount_factor * torch.sum(transition_matrix * current_value, dim=1)  # Updated version of the value function\n",
    "\n",
    "        error_ = torch.max(torch.abs(new_value - current_value)).item()  # Maximum difference between both versions of the value functon\n",
    "        print(\" \"*130, end=\"\\r\")\n",
    "\n",
    "        if error_ <= error_bound: break\n",
    "        current_value = new_value.clone()\n",
    "    return new_value"
   ]
  },
  {
   "cell_type": "markdown",
   "metadata": {},
   "source": [
    "## **<a>Optimal Solution of an MDP</a>**\n",
    "\n",
    "Objective:\n",
    "- Finds the optimal solution of an MDP in the sens of maximization.\n",
    "- The numbers of states and actions are implicitly given in the dynamics.\n",
    "- For S states and A actions, the state and action spaces are respectively {0, ..., S} and {0, ..., A}.\n",
    "\n",
    "Args:\n",
    "- transition_dynamics (tensor of floats, size (S,A,S)): position [s1,a,s2] represents the probability of transitioning to state s2 when action a\n",
    "- was taken in state s1.\n",
    "- reward_matrix (tensor of floats, size (S,A)): position [s,a] represents the reward induced by action a in state s.\n",
    "- discount_factor (float, optional). Defaults to 0.9.\n",
    "- precision (float, optional). Defaults to 1e-16.\n",
    "\n",
    "Returns:\n",
    "- A policy (tensor int, size S).\n",
    "- Avalue function (tensor of floats, size S).\n",
    "- An upper bound of the difference between the returned and the optimal value functions.\n",
    "- The duration the computation."
   ]
  },
  {
   "cell_type": "code",
   "execution_count": 101,
   "metadata": {},
   "outputs": [],
   "source": [
    "def solutionMDP(transition_dynamics:torch.Tensor, cost_matrix:torch.Tensor, discount_factor:float=0.9, precision:float=1e-16) -> list:\n",
    "    start_time = time.time()\n",
    "    number_states = cost_matrix.size(0)\n",
    "    cost_matrix = cost_matrix.to(float)\n",
    "    error_bound = discount_factor*precision / (1-discount_factor)  # Convergence criterion: $\\left\\|V_{n+1} - V_n\\right\\|_\\infty \\leqslant \\epsilon \\frac{\\gamma}{1-\\gamma}$\n",
    "    \n",
    "    current_value = torch.min(cost_matrix,dim=1)[0]  # Initialization of the value function as to correspond to the one-shot optimal policy\n",
    "    \n",
    "    # Iterations\n",
    "    new_value = torch.zeros([number_states], dtype=float)\n",
    "    policy = torch.zeros([number_states], dtype=int)\n",
    "    error_ = \"not evaluated\"\n",
    "    step = 0\n",
    "    while True:\n",
    "        step += 1\n",
    "        for s in range(number_states):\n",
    "            print(f\"Solving a small max MDP.  Step {step}:  current bound of the error = {error_}, current state = {s}\", end=\"\\r\")\n",
    "            Q = cost_matrix[s] + discount_factor*torch.matmul(transition_dynamics[s],current_value)\n",
    "            new_value[s] = torch.min(Q)\n",
    "            policy[s] = torch.argmin(Q)\n",
    "        error_ = torch.max(torch.abs(new_value - current_value)).item()  # Maximum difference between both versions of the value functon\n",
    "        if error_ <= error_bound: break\n",
    "        current_value = new_value.clone()\n",
    "    end_time = time.time()\n",
    "    duration = end_time - start_time\n",
    "    print(\" \"*170, end=\"\\r\")\n",
    "    \n",
    "    return policy, new_value, error_bound, duration"
   ]
  },
  {
   "cell_type": "markdown",
   "metadata": {},
   "source": [
    "## **<a>Optimal Solution of the Load Balancing Problem</a>**\n",
    "\n",
    "Some variables use in the following cell are still used in the following other cells:\n",
    "- `sr`, `bs` and `SP` are respectively the tensor of service rates, the tensor of buffer sizes and the list of states\n",
    "- `TD` and `TD_time` are the tensor of transition dynamics and the time taken to get it\n",
    "- `CM` `CM_time` are the reward matrix and the time taken to get it\n",
    "- `GP`, `GV`, `B` and `GRT` are the optimal policy, the optimal value function of the load BALANCING PROBLEM, the bound of the error and the time to get this optimal solution."
   ]
  },
  {
   "cell_type": "code",
   "execution_count": 102,
   "metadata": {},
   "outputs": [
    {
     "name": "stdout",
     "output_type": "stream",
     "text": [
      "Resolution of a load balancing problem\n",
      "\n",
      "\n",
      "Parameters:\n",
      "Service rates = [0.76737386 0.21253014 0.356205  ]\n",
      "Buffers size =  [2 3 4]\n",
      "\n",
      "\n"
     ]
    }
   ],
   "source": [
    "# Trying on the load balancing problem\n",
    "\n",
    "print(\"Resolution of a load balancing problem\\n\\n\")\n",
    "\n",
    "# Get the parameters\n",
    "sr = torch.rand((3))  # Service rates\n",
    "bs = torch.tensor([2,3,4])  # Buffers size\n",
    "SP = state_space_construction(buffers_size=bs)[0]\n",
    "print(\"Parameters:\")\n",
    "print(f\"Service rates = {sr.numpy()}\")\n",
    "print(f\"Buffers size =  {bs.numpy()}\")\n",
    "print(\"\\n\")"
   ]
  },
  {
   "cell_type": "code",
   "execution_count": 103,
   "metadata": {},
   "outputs": [
    {
     "name": "stdout",
     "output_type": "stream",
     "text": [
      "                                                                                                                                                                          \r"
     ]
    }
   ],
   "source": [
    "# Solve the problem\n",
    "TD, TD_time = transition_dynamics(state_space=SP, buffers_size=bs, service_rates=sr)\n",
    "CM, CM_time = cost_matrix(state_space=SP, buffers_size=bs, service_rates=sr)\n",
    "GP,GV,B,GRT = solutionMDP(transition_dynamics=TD, cost_matrix=CM)"
   ]
  },
  {
   "cell_type": "code",
   "execution_count": 104,
   "metadata": {},
   "outputs": [
    {
     "name": "stdout",
     "output_type": "stream",
     "text": [
      "Solution found\n",
      "\n",
      "s = [0 0 0]  -->  a = 1, v = 3.1     |    s = [0 0 1]  -->  a = 1, v = 4.6     |    s = [0 0 2]  -->  a = 1, v = 6.2     |    s = [0 0 3]  -->  a = 1, v = 7.7     | \n",
      "s = [0 0 4]  -->  a = 1, v = 9.2     |    s = [0 1 0]  -->  a = 1, v = 5.8     |    s = [0 1 1]  -->  a = 1, v = 7.3     |    s = [0 1 2]  -->  a = 1, v = 8.9     | \n",
      "s = [0 1 3]  -->  a = 1, v = 10.4    |    s = [0 1 4]  -->  a = 1, v = 11.9    |    s = [0 2 0]  -->  a = 1, v = 8.5     |    s = [0 2 1]  -->  a = 1, v = 10.0    | \n",
      "s = [0 2 2]  -->  a = 1, v = 11.6    |    s = [0 2 3]  -->  a = 1, v = 13.1    |    s = [0 2 4]  -->  a = 1, v = 14.6    |    s = [0 3 0]  -->  a = 1, v = 11.2    | \n",
      "s = [0 3 1]  -->  a = 1, v = 12.7    |    s = [0 3 2]  -->  a = 1, v = 14.3    |    s = [0 3 3]  -->  a = 1, v = 15.8    |    s = [0 3 4]  -->  a = 1, v = 17.3    | \n",
      "s = [1 0 0]  -->  a = 1, v = 3.5     |    s = [1 0 1]  -->  a = 1, v = 5.0     |    s = [1 0 2]  -->  a = 1, v = 6.5     |    s = [1 0 3]  -->  a = 1, v = 8.1     | \n",
      "s = [1 0 4]  -->  a = 1, v = 9.6     |    s = [1 1 0]  -->  a = 1, v = 6.2     |    s = [1 1 1]  -->  a = 1, v = 7.7     |    s = [1 1 2]  -->  a = 1, v = 9.2     | \n",
      "s = [1 1 3]  -->  a = 1, v = 10.8    |    s = [1 1 4]  -->  a = 1, v = 12.3    |    s = [1 2 0]  -->  a = 1, v = 8.9     |    s = [1 2 1]  -->  a = 1, v = 10.4    | \n",
      "s = [1 2 2]  -->  a = 1, v = 11.9    |    s = [1 2 3]  -->  a = 1, v = 13.5    |    s = [1 2 4]  -->  a = 1, v = 15.0    |    s = [1 3 0]  -->  a = 1, v = 11.6    | \n",
      "s = [1 3 1]  -->  a = 1, v = 13.1    |    s = [1 3 2]  -->  a = 1, v = 14.6    |    s = [1 3 3]  -->  a = 1, v = 16.2    |    s = [1 3 4]  -->  a = 1, v = 17.7    | \n",
      "s = [2 0 0]  -->  a = 3, v = 5.0     |    s = [2 0 1]  -->  a = 3, v = 6.5     |    s = [2 0 2]  -->  a = 3, v = 8.1     |    s = [2 0 3]  -->  a = 3, v = 9.6     | \n",
      "s = [2 0 4]  -->  a = 0, v = 11.6    |    s = [2 1 0]  -->  a = 3, v = 7.7     |    s = [2 1 1]  -->  a = 3, v = 9.2     |    s = [2 1 2]  -->  a = 3, v = 10.8    | \n",
      "s = [2 1 3]  -->  a = 3, v = 12.3    |    s = [2 1 4]  -->  a = 0, v = 14.3    |    s = [2 2 0]  -->  a = 3, v = 10.4    |    s = [2 2 1]  -->  a = 3, v = 11.9    | \n",
      "s = [2 2 2]  -->  a = 3, v = 13.5    |    s = [2 2 3]  -->  a = 3, v = 15.0    |    s = [2 2 4]  -->  a = 0, v = 17.0    |    s = [2 3 0]  -->  a = 3, v = 13.1    | \n",
      "s = [2 3 1]  -->  a = 3, v = 14.6    |    s = [2 3 2]  -->  a = 3, v = 16.2    |    s = [2 3 3]  -->  a = 3, v = 17.7    |    s = [2 3 4]  -->  a = 0, v = 19.7    | \n",
      "\n",
      "\n",
      "Elapse time in seconds:\n",
      "\n",
      "Transition dynamics:  1.311\n",
      "Cost matrix:          0.009\n",
      "MDP resolution:       0.628\n",
      "-----------------------------------\n",
      "Total:                1.947\n"
     ]
    }
   ],
   "source": [
    "# Print the solution\n",
    "print(\"Solution found\")\n",
    "for s_idx in range(len(SP)):\n",
    "    s, a, v = SP[s_idx].numpy(), GP[s_idx].item(), GV[s_idx].item()\n",
    "    if s_idx % 4 == 0: print()\n",
    "    else: print(\"   \", end=\"\")\n",
    "    print(f\"s = {s}  -->  a = {a}, v = {v:<4.1f}    | \", end=\"\")\n",
    "print(\"\\n\\n\")\n",
    "print(\"Elapse time in seconds:\\n\")\n",
    "print(f\"Transition dynamics: {TD_time:>6.3f}\")\n",
    "print(f\"Cost matrix:         {CM_time:>6.3f}\")\n",
    "print(f\"MDP resolution:      {GRT:>6.3f}\")\n",
    "print(\"-----------------------------------\")\n",
    "print(f\"Total:               {GRT+TD_time+CM_time:>6.3f}\")"
   ]
  },
  {
   "cell_type": "markdown",
   "metadata": {},
   "source": [
    "# **<a id=\"load_balancing_dimension_reduction\">Dimension Reduction for the Load Balancing Problem</a>**\n",
    "\n",
    "- Now, examine the resolution of the same load balancing problem through state abstraction. \n",
    "- The clustering method is based on optimal action: i.e., \n",
    "    $$\n",
    "        \\phi\\left(s\\right) = \\phi\\left(s'\\right)\n",
    "        \\qquad\\Longleftrightarrow\\qquad\n",
    "        \\displaystyle \\argmax_{a\\in\\mathcal{A}} R_s^a = \\argmax_{a\\in\\mathcal{A}} R_{s'}^a\n",
    "    $$ \n",
    "    That is, two states are in the same class if they admit the same same one-shot optimal action. \n",
    "    The clustering is performed by the `cost_based_clustering()` function.\n",
    "- Weighting model: **uniform distribution** in each class."
   ]
  },
  {
   "cell_type": "markdown",
   "metadata": {},
   "source": [
    "## **<a>Clustering Based on Cost</a>**"
   ]
  },
  {
   "cell_type": "markdown",
   "metadata": {},
   "source": [
    "### The `cost_based_clustering()` Function\n",
    "\n",
    "Objective:\n",
    "- Bulids classes on the basis of optimal actions from the cost matrix. This may not be the optimal policy of the process.\n",
    "\n",
    "Args:\n",
    "- cost_matrix (tensor): the cost matrix. cost_matrix[s,a] is the cost for taking action a in state s.\n",
    "\n",
    "Returns:\n",
    "- The number of classes: nb_classes.\n",
    "- The list of states indices in each class: states_in_classes.\n",
    "- The class index corresponding to each states: classes."
   ]
  },
  {
   "cell_type": "code",
   "execution_count": 105,
   "metadata": {},
   "outputs": [],
   "source": [
    "def cost_based_clustering(cost_matrix:torch.Tensor) -> torch.Tensor:\n",
    "    nb_states = cost_matrix.size(0)\n",
    "    where_optimal_cost = torch.argmin(cost_matrix,dim=1)  # Optimal action for each state\n",
    "    possible_optimal_actions = where_optimal_cost.unique()  # Set of optimal actions\n",
    "    nb_classes = possible_optimal_actions.size(0)  # Number of actions that are optimal for at least one state\n",
    "    states_in_classes = [torch.where(where_optimal_cost==possible_optimal_actions[op_a_idx])[0] for op_a_idx in range(nb_classes)]  # States for which each action is optimal\n",
    "    classes = [(possible_optimal_actions==where_optimal_cost[s_idx]).nonzero(as_tuple=False).item() for s_idx in range(nb_states)]  # Actions that are optimal for each state\n",
    "    return nb_classes, states_in_classes, classes"
   ]
  },
  {
   "cell_type": "markdown",
   "metadata": {},
   "source": [
    "### Cost Based Clustering for the Load Balancing Problem\n",
    "\n",
    "Here we define variables that will be used thoughout the notebook:\n",
    "- `NC` is the number of classes\n",
    "- `SIC` is the list of state indexes per class (`SIC[c_*idx]` is the list of indexes of the states that are in class of index `c_idx`)\n",
    "- `C`: is the list that gives the class index for each state (`C[s_idx]` is the class index of the state of index `s_idx`)"
   ]
  },
  {
   "cell_type": "code",
   "execution_count": 106,
   "metadata": {},
   "outputs": [
    {
     "name": "stdout",
     "output_type": "stream",
     "text": [
      "Classification for the above problem\n",
      "\n",
      "\n",
      "Number of classes: 4\n",
      "\n",
      "Indices of the states in each class:\n",
      "\n",
      "c_0 = [59]\n",
      "c_1 = [ 0  1  2  3  4  5  6  7  8  9 10 11 12 13 14 15 16 17 18 19 20 21 22 23\n",
      " 24 25 26 27 28 29 30 31 32 33 34 35 36 37 38 39]\n",
      "c_2 = [44 49 54]\n",
      "c_3 = [40 41 42 43 45 46 47 48 50 51 52 53 55 56 57 58]\n",
      "\n",
      "Class index for each state\n",
      "\n",
      "  0: [0 0 0] --> c_1    |      1: [0 0 1] --> c_1    |      2: [0 0 2] --> c_1    |      3: [0 0 3] --> c_1    |      4: [0 0 4] --> c_1    |      5: [0 1 0] --> c_1    | \n",
      "  6: [0 1 1] --> c_1    |      7: [0 1 2] --> c_1    |      8: [0 1 3] --> c_1    |      9: [0 1 4] --> c_1    |     10: [0 2 0] --> c_1    |     11: [0 2 1] --> c_1    | \n",
      " 12: [0 2 2] --> c_1    |     13: [0 2 3] --> c_1    |     14: [0 2 4] --> c_1    |     15: [0 3 0] --> c_1    |     16: [0 3 1] --> c_1    |     17: [0 3 2] --> c_1    | \n",
      " 18: [0 3 3] --> c_1    |     19: [0 3 4] --> c_1    |     20: [1 0 0] --> c_1    |     21: [1 0 1] --> c_1    |     22: [1 0 2] --> c_1    |     23: [1 0 3] --> c_1    | \n",
      " 24: [1 0 4] --> c_1    |     25: [1 1 0] --> c_1    |     26: [1 1 1] --> c_1    |     27: [1 1 2] --> c_1    |     28: [1 1 3] --> c_1    |     29: [1 1 4] --> c_1    | \n",
      " 30: [1 2 0] --> c_1    |     31: [1 2 1] --> c_1    |     32: [1 2 2] --> c_1    |     33: [1 2 3] --> c_1    |     34: [1 2 4] --> c_1    |     35: [1 3 0] --> c_1    | \n",
      " 36: [1 3 1] --> c_1    |     37: [1 3 2] --> c_1    |     38: [1 3 3] --> c_1    |     39: [1 3 4] --> c_1    |     40: [2 0 0] --> c_3    |     41: [2 0 1] --> c_3    | \n",
      " 42: [2 0 2] --> c_3    |     43: [2 0 3] --> c_3    |     44: [2 0 4] --> c_2    |     45: [2 1 0] --> c_3    |     46: [2 1 1] --> c_3    |     47: [2 1 2] --> c_3    | \n",
      " 48: [2 1 3] --> c_3    |     49: [2 1 4] --> c_2    |     50: [2 2 0] --> c_3    |     51: [2 2 1] --> c_3    |     52: [2 2 2] --> c_3    |     53: [2 2 3] --> c_3    | \n",
      " 54: [2 2 4] --> c_2    |     55: [2 3 0] --> c_3    |     56: [2 3 1] --> c_3    |     57: [2 3 2] --> c_3    |     58: [2 3 3] --> c_3    |     59: [2 3 4] --> c_0    | "
     ]
    }
   ],
   "source": [
    "print(\"Classification for the above problem\\n\\n\")\n",
    "NC, SIC, C = cost_based_clustering(CM)\n",
    "\n",
    "print(f\"Number of classes: {NC}\\n\")\n",
    "\n",
    "print(\"Indices of the states in each class:\\n\")\n",
    "for c_idx in range(NC): print(f\"c_{c_idx} = {SIC[c_idx].numpy()}\")\n",
    "\n",
    "print(\"\\nClass index for each state\")\n",
    "for s_idx in range(len(SP)):\n",
    "    s = SP[s_idx].numpy()\n",
    "    if s_idx % 6 == 0: print()\n",
    "    else: print(\"   \", end=\"\")\n",
    "    print(f\"{s_idx:>3}: {s} --> c_{C[s_idx]}    | \", end=\"\")"
   ]
  },
  {
   "cell_type": "markdown",
   "metadata": {},
   "source": [
    "## **<a>Abstract dynamics</a>**\n",
    "\n",
    "Once the clustering done, the we infer dynamics on the cluster from the dynamics of the ground problem.\n",
    "This is performed by the `abstract_dynamics()` function."
   ]
  },
  {
   "cell_type": "markdown",
   "metadata": {},
   "source": [
    "### The `abstract_dynamics()` Function\n",
    "\n",
    "Objective:\n",
    "- Bulids the transition dynamics and the reward matrix of the abstract MDP for a load balancing problem..\n",
    "\n",
    "Args:\n",
    "- nb_actions (int): number of actions (= number of queues + 1)\n",
    "- nb_classes (int): number of classes\n",
    "- states_in_classes (list): list of state indexes per class\n",
    "- state_space (list): list of states\n",
    "- buffers_size (tensor)\n",
    "- service_rates (tensor)\n",
    "- cost_loss (float)\n",
    "- cost_delay (float)\n",
    "\n",
    "Returns:\n",
    "- The tensor of abstract transition dynamics\n",
    "- The tensor of abstract cost matrix\n",
    "- The time taken to build it"
   ]
  },
  {
   "cell_type": "code",
   "execution_count": 107,
   "metadata": {},
   "outputs": [],
   "source": [
    "def abstract_dynamics(nb_actions:int, nb_classes:int, \n",
    "                      states_in_classes:list, state_space:list, \n",
    "                      buffers_size:torch.Tensor, service_rates:torch.Tensor, cost_loss, cost_delay) -> torch.Tensor:\n",
    "    time1 = time.time()\n",
    "    ATD = torch.zeros([nb_classes,nb_actions,nb_classes],dtype=float); ACM = torch.zeros([nb_classes,nb_actions],dtype=float)\n",
    "    nb_steps = nb_classes*nb_classes\n",
    "    step = 0\n",
    "    for c_idx1, a in itertools.product(range(nb_classes),range(nb_actions)):\n",
    "        step += 1\n",
    "        print(f\"Fetching the abstract dynamics   .....   step {step}/{nb_steps} ({step/nb_steps:.2%})\", end=\"\\r\")\n",
    "        cost = 0\n",
    "        for s_idx1 in states_in_classes[c_idx1]:\n",
    "            s = state_space[s_idx1]\n",
    "            cost += cost_function(state=s, action=a, buffers_size=buffers_size, service_rates=service_rates, cost_loss=cost_loss, cost_delay=cost_delay)\n",
    "        ACM[c_idx1,a] = cost / states_in_classes[c_idx1].size(0)\n",
    "        for c_idx2 in range(nb_classes):\n",
    "            proba = 0\n",
    "            for s_idx1, s_idx2 in itertools.product(states_in_classes[c_idx1],states_in_classes[c_idx2]):\n",
    "                proba += transition_function(state1=state_space[s_idx1], action=a, state2=state_space[s_idx2], buffers_size=buffers_size, service_rates=service_rates)\n",
    "            ATD[c_idx1,a,c_idx2] = proba / states_in_classes[c_idx1].size(0)\n",
    "    time2 = time.time()\n",
    "    print(\" \"*170, end=\"\\r\")\n",
    "    return ATD, ACM, time2-time1"
   ]
  },
  {
   "cell_type": "markdown",
   "metadata": {},
   "source": [
    "### Getting the abstract dynamics (illustration)\n",
    "\n",
    "For the current exemple, let us get the abstract transition dynamics, tensor `ATD`, and the abstract cost matrix, `ACM`."
   ]
  },
  {
   "cell_type": "code",
   "execution_count": 108,
   "metadata": {},
   "outputs": [
    {
     "name": "stdout",
     "output_type": "stream",
     "text": [
      "Abstract dynamics for the above problem:\n",
      "\n",
      "Abstract transition dynamics:                                                                                                                                             \n",
      "tensor([[[4.5395e-03, 9.4589e-01, 4.7567e-03, 4.4819e-02],\n",
      "         [4.5395e-03, 9.4589e-01, 4.7567e-03, 4.4819e-02],\n",
      "         [4.5395e-03, 9.4589e-01, 4.7567e-03, 4.4819e-02],\n",
      "         [4.5395e-03, 9.4589e-01, 4.7567e-03, 4.4819e-02]],\n",
      "\n",
      "        [[0.0000e+00, 1.0000e+00, 0.0000e+00, 0.0000e+00],\n",
      "         [1.1349e-04, 9.7294e-01, 8.1614e-04, 2.6128e-02],\n",
      "         [0.0000e+00, 1.0000e+00, 0.0000e+00, 0.0000e+00],\n",
      "         [0.0000e+00, 1.0000e+00, 0.0000e+00, 0.0000e+00]],\n",
      "\n",
      "        [[0.0000e+00, 9.4588e-01, 9.2962e-03, 4.4819e-02],\n",
      "         [0.0000e+00, 9.4588e-01, 9.2962e-03, 4.4819e-02],\n",
      "         [1.5132e-03, 9.4588e-01, 7.7831e-03, 4.4819e-02],\n",
      "         [0.0000e+00, 9.4588e-01, 9.2962e-03, 4.4819e-02]],\n",
      "\n",
      "        [[0.0000e+00, 9.4589e-01, 0.0000e+00, 5.4115e-02],\n",
      "         [0.0000e+00, 9.4589e-01, 0.0000e+00, 5.4115e-02],\n",
      "         [0.0000e+00, 9.4589e-01, 0.0000e+00, 5.4115e-02],\n",
      "         [2.8372e-04, 9.4588e-01, 2.0403e-03, 5.1791e-02]]],\n",
      "       dtype=torch.float64)\n",
      "\n",
      "Abstract cost matrix:\n",
      "tensor([[6.4028, 6.4028, 6.4028, 6.4028],\n",
      "        [3.5851, 2.8177, 3.4257, 3.3001],\n",
      "        [4.8279, 4.8279, 4.6154, 4.8279],\n",
      "        [3.6121, 3.6121, 3.4528, 3.2559]], dtype=torch.float64)\n",
      "\n",
      "Elapse time: 1.188694953918457\n"
     ]
    }
   ],
   "source": [
    "print(\"Abstract dynamics for the above problem:\\n\")\n",
    "nb_actions = bs.size(0)+1\n",
    "ATD, ACM, AD_time = abstract_dynamics(\n",
    "    nb_actions=nb_actions, nb_classes=NC, states_in_classes=SIC, state_space=SP, buffers_size=bs, service_rates=sr, cost_loss=1, cost_delay=1\n",
    ")\n",
    "\n",
    "print(\"Abstract transition dynamics:\"); print(ATD); print()\n",
    "print(\"Abstract cost matrix:\"); print(ACM); print()\n",
    "print(f\"Elapse time: {AD_time}\")"
   ]
  },
  {
   "cell_type": "markdown",
   "metadata": {},
   "source": [
    "## **<a>Solving through the Abstraction</a>**"
   ]
  },
  {
   "cell_type": "markdown",
   "metadata": {},
   "source": [
    "### Resolution of the abstract problem\n",
    "\n",
    "We save the abstract problem given by the dynamics `ATD` and `ACM` and the time `ART` it takes."
   ]
  },
  {
   "cell_type": "code",
   "execution_count": 109,
   "metadata": {},
   "outputs": [
    {
     "name": "stdout",
     "output_type": "stream",
     "text": [
      "Solution of the abstract problem:                                                                                                                                         \n",
      "\n",
      "c_0  -->  a = 0\n",
      "[59]\n",
      "\n",
      "c_1  -->  a = 1\n",
      "[ 0  1  2  3  4  5  6  7  8  9 10 11 12 13 14 15 16 17 18 19 20 21 22 23\n",
      " 24 25 26 27 28 29 30 31 32 33 34 35 36 37 38 39]\n",
      "\n",
      "c_2  -->  a = 2\n",
      "[44 49 54]\n",
      "\n",
      "c_3  -->  a = 3\n",
      "[40 41 42 43 45 46 47 48 50 51 52 53 55 56 57 58]\n",
      "\n",
      "\n",
      "\n",
      "Elapse time in seconds:  0.051\n"
     ]
    }
   ],
   "source": [
    "AP, AV, _, ART = solutionMDP(ATD,ACM)\n",
    "\n",
    "print(\"Solution of the abstract problem:\\n\")\n",
    "for c_idx in range(NC):\n",
    "    c, a = SIC[c_idx].numpy(), AP[c_idx].item()\n",
    "    print(f\"c_{c_idx}  -->  a = {a}\\n{c}\\n\")\n",
    "print(\"\\n\")\n",
    "print(f\"Elapse time in seconds: {ART:>6.3f}\")"
   ]
  },
  {
   "cell_type": "markdown",
   "metadata": {},
   "source": [
    "### Evaluation of the abstraction\n",
    "\n",
    "Now, we evaluate the abstraction from the perspectives of: the duration of the resolution, the policy and the function. Run the following four cells.\n",
    "\n",
    "In the one nex to this one, `AP` and `EP` are respectively the optimal policy of the abstract MDP and its constant extrapolation."
   ]
  },
  {
   "cell_type": "code",
   "execution_count": 110,
   "metadata": {},
   "outputs": [
    {
     "name": "stdout",
     "output_type": "stream",
     "text": [
      "EVALUATION OF THE ABSTRACTION\n",
      "\n",
      "\n"
     ]
    }
   ],
   "source": [
    "print(\"EVALUATION OF THE ABSTRACTION\\n\\n\")\n",
    "time1 = time.time()\n",
    "EP = AP[C]\n",
    "time2 = time.time()\n",
    "Ext_time = time2 - time1"
   ]
  },
  {
   "cell_type": "code",
   "execution_count": 111,
   "metadata": {},
   "outputs": [
    {
     "name": "stdout",
     "output_type": "stream",
     "text": [
      "1. Duration of the resolution\n",
      "\n",
      "Cost matrix:          0.009 sec\n",
      "\n",
      "Direct resolution (cost matrix is used for both direct and undirect resolutions)\n",
      "Transition dynamics:  1.311 sec\n",
      "MDP resolution:       0.628 sec\n",
      "-----------------------------------\n",
      "Total Direct:         1.939 sec\n",
      "\n",
      "Resolution through abstracton\n",
      "Abstraction:          1.189 sec\n",
      "Resolution:           0.051 sec\n",
      "Extrapolation:        0.000 sec\n",
      "-----------------------------------\n",
      "Total Undirect:       1.240 sec\n",
      "\n",
      "Time saved:           0.699 sec,  i.e.,  36.05% of the direct time\n",
      "\n",
      "\n"
     ]
    }
   ],
   "source": [
    "# Elapse time\n",
    "print(\"1. Duration of the resolution\\n\")\n",
    "\n",
    "print(f\"Cost matrix:         {CM_time:>6.3f} sec\\n\")\n",
    "\n",
    "print(\"Direct resolution (cost matrix is used for both direct and undirect resolutions)\")\n",
    "print(f\"Transition dynamics: {TD_time:>6.3f} sec\")\n",
    "print(f\"MDP resolution:      {GRT:>6.3f} sec\")\n",
    "direct_time = GRT+TD_time\n",
    "print(\"-----------------------------------\")\n",
    "print(f\"Total Direct:        {direct_time:>6.3f} sec\\n\")\n",
    "\n",
    "print(\"Resolution through abstracton\")\n",
    "print(f\"Abstraction:         {AD_time:>6.3f} sec\")\n",
    "print(f\"Resolution:          {ART:>6.3f} sec\")\n",
    "print(f\"Extrapolation:       {Ext_time:>6.3f} sec\")\n",
    "undirect_time = AD_time+ART+Ext_time\n",
    "print(\"-----------------------------------\")\n",
    "print(f\"Total Undirect:      {undirect_time:>6.3f} sec\\n\")\n",
    "\n",
    "saved_time = direct_time - undirect_time\n",
    "print(f\"Time saved:          {saved_time:>6.3f} sec,  i.e.,  {saved_time/direct_time:.2%} of the direct time\\n\\n\")"
   ]
  },
  {
   "cell_type": "code",
   "execution_count": 112,
   "metadata": {},
   "outputs": [
    {
     "name": "stdout",
     "output_type": "stream",
     "text": [
      "2. Difference between the policies\n",
      "\n",
      "Optimal policy\n",
      "tensor([1, 1, 1, 1, 1, 1, 1, 1, 1, 1, 1, 1, 1, 1, 1, 1, 1, 1, 1, 1, 1, 1, 1, 1,\n",
      "        1, 1, 1, 1, 1, 1, 1, 1, 1, 1, 1, 1, 1, 1, 1, 1, 3, 3, 3, 3, 0, 3, 3, 3,\n",
      "        3, 0, 3, 3, 3, 3, 0, 3, 3, 3, 3, 0])\n",
      "\n",
      "Extrapolation of the abstract solution\n",
      "tensor([1, 1, 1, 1, 1, 1, 1, 1, 1, 1, 1, 1, 1, 1, 1, 1, 1, 1, 1, 1, 1, 1, 1, 1,\n",
      "        1, 1, 1, 1, 1, 1, 1, 1, 1, 1, 1, 1, 1, 1, 1, 1, 3, 3, 3, 3, 2, 3, 3, 3,\n",
      "        3, 2, 3, 3, 3, 3, 2, 3, 3, 3, 3, 0])\n",
      "\n",
      "Both policies coincide at 95.00%\n",
      "They differ at states of indices [44 49 54], which are\n",
      "[[2, 0, 4], [2, 1, 4], [2, 2, 4]]\n",
      "\n",
      "\n"
     ]
    }
   ],
   "source": [
    "# Difference between the policies\n",
    "print(\"2. Difference between the policies\\n\")\n",
    "print(\"Optimal policy\"); print(GP); print()\n",
    "EP = AP[C]\n",
    "print(\"Extrapolation of the abstract solution\"); print(EP); print()\n",
    "\n",
    "DeltaP = GP - EP\n",
    "s_idxs_of_coincidence = torch.where(DeltaP==0)[0]; s_idxs_of_difference = torch.where(DeltaP!=0)[0]\n",
    "coincidence_ration = s_idxs_of_coincidence.size(0)/DeltaP.size(0)\n",
    "states_of_difference = [SP[s_idx].tolist() for s_idx in s_idxs_of_difference]\n",
    "print(f\"Both policies coincide at {coincidence_ration:.2%}\")\n",
    "\n",
    "print(f\"They differ at states of indices {s_idxs_of_difference.numpy()}, which are\")\n",
    "print(states_of_difference); print(\"\\n\")"
   ]
  },
  {
   "cell_type": "code",
   "execution_count": 113,
   "metadata": {},
   "outputs": [
    {
     "name": "stdout",
     "output_type": "stream",
     "text": [
      "3. Difference between the value functions\n",
      "\n",
      "Optimal value function                                                                                                            \n",
      "tensor([ 3.0925,  4.6232,  6.1539,  7.6846,  9.2155,  5.7960,  7.3267,  8.8574,\n",
      "        10.3881, 11.9190,  8.4995, 10.0302, 11.5609, 13.0916, 14.6225, 11.2030,\n",
      "        12.7337, 14.2644, 15.7952, 17.3260,  3.4585,  4.9892,  6.5199,  8.0507,\n",
      "         9.5856,  6.1620,  7.6927,  9.2234, 10.7542, 12.2891,  8.8655, 10.3962,\n",
      "        11.9269, 13.4577, 14.9926, 11.5690, 13.0997, 14.6304, 16.1612, 17.6961,\n",
      "         4.9892,  6.5199,  8.0507,  9.5856, 11.5856,  7.6927,  9.2234, 10.7542,\n",
      "        12.2891, 14.2891, 10.3962, 11.9269, 13.4577, 14.9926, 16.9926, 13.0997,\n",
      "        14.6304, 16.1612, 17.6961, 19.6961], dtype=torch.float64)\n",
      "\n",
      "Extrapolated value function\n",
      "tensor([ 3.0925,  4.6232,  6.1539,  7.6846,  9.2158,  5.7960,  7.3267,  8.8574,\n",
      "        10.3881, 11.9193,  8.4995, 10.0302, 11.5609, 13.0917, 14.6228, 11.2030,\n",
      "        12.7337, 14.2644, 15.7952, 17.3263,  3.4585,  4.9892,  6.5199,  8.0508,\n",
      "         9.5921,  6.1620,  7.6927,  9.2234, 10.7543, 12.2956,  8.8655, 10.3962,\n",
      "        11.9269, 13.4578, 14.9991, 11.5690, 13.0997, 14.6304, 16.1613, 17.6996,\n",
      "         4.9892,  6.5199,  8.0508,  9.5921, 12.2956,  7.6927,  9.2234, 10.7543,\n",
      "        12.2956, 14.9991, 10.3962, 11.9269, 13.4578, 14.9991, 17.6996, 13.0997,\n",
      "        14.6304, 16.1613, 17.6996, 19.6996], dtype=torch.float64)\n",
      "\n",
      "Maximum difference = 0.7099634155238181\n",
      "\n",
      "Relative differences in absolute values\n",
      "tensor([3.9629e-09, 7.9465e-09, 5.3104e-08, 9.0560e-07, 2.9778e-05, 2.1144e-09,\n",
      "        5.0143e-09, 3.6895e-08, 6.6991e-07, 2.3023e-05, 1.4418e-09, 3.6622e-09,\n",
      "        2.8256e-08, 5.3113e-07, 1.8739e-05, 1.0923e-09, 2.8584e-09, 2.2125e-08,\n",
      "        4.0096e-07, 1.2531e-05, 5.2361e-09, 2.3849e-08, 3.6877e-07, 1.1875e-05,\n",
      "        6.7348e-04, 2.9388e-09, 1.5468e-08, 2.6067e-07, 8.8898e-06, 5.2531e-04,\n",
      "        2.0424e-09, 1.1441e-08, 2.0142e-07, 7.0933e-06, 4.2950e-04, 1.5552e-09,\n",
      "        8.7866e-09, 1.4932e-07, 4.6586e-06, 1.9476e-04, 2.3849e-08, 3.6877e-07,\n",
      "        1.1875e-05, 6.7348e-04, 6.1280e-02, 1.5468e-08, 2.6067e-07, 8.8898e-06,\n",
      "        5.2531e-04, 4.9684e-02, 1.1441e-08, 2.0142e-07, 7.0933e-06, 4.2950e-04,\n",
      "        4.1604e-02, 8.7866e-09, 1.4932e-07, 4.6586e-06, 1.9476e-04, 1.7498e-04],\n",
      "       dtype=torch.float64)\n",
      "\n",
      "About the relative difference:  mean = 0.26%;  max = 6.13%\n",
      "\n",
      "Considering the crital ceil of relative difference is 10.00%:\n",
      "Number of safe states:  60  (100.00%)\n",
      "Unsafe states indices: [].   The corresponding states are\n",
      "[]\n"
     ]
    }
   ],
   "source": [
    "# Difference between the value functions\n",
    "print(\"3. Difference between the value functions\\n\")\n",
    "EV = valueP(transition_dynamics=TD, cost_matrix=CM, policy=EP)\n",
    "print(\"Optimal value function\"); print(GV); print()\n",
    "print(\"Extrapolated value function\"); print(EV); print()\n",
    "\n",
    "max_difference = torch.max(torch.abs(EV - GV))\n",
    "print(f\"Maximum difference = {max_difference}\\n\")\n",
    "\n",
    "relative_differences = torch.zeros([EV.size(0)],dtype=float)\n",
    "for s_idx in range(EV.size(0)):\n",
    "    if GV[s_idx]==0: relative_differences[s_idx] = (0 if EV[s_idx]==0 else math.inf)\n",
    "    else: relative_differences[s_idx] = (EV[s_idx] - GV[s_idx]) / GV[s_idx]\n",
    "relative_differences = torch.abs(relative_differences)\n",
    "print(\"Relative differences in absolute values\"); print(relative_differences); print()\n",
    "\n",
    "avrg_relative_difference, max_relative_difference = relative_differences.mean().item(), relative_differences.max().item()\n",
    "print(f\"About the relative difference:  mean = {avrg_relative_difference:.2%};  max = {max_relative_difference:.2%}\\n\")\n",
    "\n",
    "critical_ceil = 0.1\n",
    "print(f\"Considering the crital ceil of relative difference is {critical_ceil:.2%}:\")\n",
    "s_idxs_of_critical_difference = torch.where(relative_differences>critical_ceil)[0]\n",
    "safe_s_idxs = torch.where(relative_differences<=critical_ceil)[0]\n",
    "print(f\"Number of safe states:  {safe_s_idxs.size(0)}  ({safe_s_idxs.size(0)/len(SP):.2%})\")\n",
    "print(f\"Unsafe states indices: {s_idxs_of_critical_difference.numpy()}.   The corresponding states are\")\n",
    "states_of_critical_difference = [SP[s_idx].tolist() for s_idx in s_idxs_of_critical_difference]\n",
    "print(states_of_critical_difference)"
   ]
  }
 ],
 "metadata": {
  "kernelspec": {
   "display_name": "ML",
   "language": "python",
   "name": "python3"
  },
  "language_info": {
   "codemirror_mode": {
    "name": "ipython",
    "version": 3
   },
   "file_extension": ".py",
   "mimetype": "text/x-python",
   "name": "python",
   "nbconvert_exporter": "python",
   "pygments_lexer": "ipython3",
   "version": "3.11.3"
  }
 },
 "nbformat": 4,
 "nbformat_minor": 2
}
